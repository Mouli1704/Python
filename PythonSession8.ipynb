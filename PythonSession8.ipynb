{
 "cells": [
  {
   "cell_type": "code",
   "execution_count": 1,
   "id": "c46fa965",
   "metadata": {},
   "outputs": [],
   "source": [
    "# PyPi Repository\n",
    "\n",
    "import numpy as np"
   ]
  },
  {
   "cell_type": "code",
   "execution_count": 3,
   "id": "64a25ad7",
   "metadata": {},
   "outputs": [
    {
     "data": {
      "text/plain": [
       "'1.26.4'"
      ]
     },
     "execution_count": 3,
     "metadata": {},
     "output_type": "execute_result"
    }
   ],
   "source": [
    "np.__version__"
   ]
  },
  {
   "cell_type": "code",
   "execution_count": 4,
   "id": "49aa4d18",
   "metadata": {},
   "outputs": [],
   "source": [
    "student_marks = [42, 49, 12, 20, 30]"
   ]
  },
  {
   "cell_type": "code",
   "execution_count": 5,
   "id": "7cedc94d",
   "metadata": {},
   "outputs": [
    {
     "data": {
      "text/plain": [
       "list"
      ]
     },
     "execution_count": 5,
     "metadata": {},
     "output_type": "execute_result"
    }
   ],
   "source": [
    "type(student_marks)"
   ]
  },
  {
   "cell_type": "code",
   "execution_count": 6,
   "id": "3519231d",
   "metadata": {},
   "outputs": [],
   "source": [
    "student_marks_np = np.array([42, 49, 12, 20, 30])"
   ]
  },
  {
   "cell_type": "code",
   "execution_count": 7,
   "id": "f09ca323",
   "metadata": {},
   "outputs": [
    {
     "data": {
      "text/plain": [
       "numpy.ndarray"
      ]
     },
     "execution_count": 7,
     "metadata": {},
     "output_type": "execute_result"
    }
   ],
   "source": [
    "type(student_marks_np)"
   ]
  },
  {
   "cell_type": "markdown",
   "id": "e4fb92a8",
   "metadata": {},
   "source": [
    "nd --> n-dimensional"
   ]
  },
  {
   "cell_type": "code",
   "execution_count": 8,
   "id": "af422eb9",
   "metadata": {},
   "outputs": [
    {
     "name": "stdout",
     "output_type": "stream",
     "text": [
      "[42, 49, 12, 20, 30]\n"
     ]
    }
   ],
   "source": [
    "print(student_marks)"
   ]
  },
  {
   "cell_type": "code",
   "execution_count": 9,
   "id": "57903b91",
   "metadata": {},
   "outputs": [
    {
     "name": "stdout",
     "output_type": "stream",
     "text": [
      "[42 49 12 20 30]\n"
     ]
    }
   ],
   "source": [
    "print(student_marks_np)"
   ]
  },
  {
   "cell_type": "code",
   "execution_count": 10,
   "id": "a9590313",
   "metadata": {},
   "outputs": [
    {
     "data": {
      "text/plain": [
       "array([42, 49, 12, 20, 30])"
      ]
     },
     "execution_count": 10,
     "metadata": {},
     "output_type": "execute_result"
    }
   ],
   "source": [
    "student_marks_np"
   ]
  },
  {
   "cell_type": "code",
   "execution_count": 11,
   "id": "7ae2f4fb",
   "metadata": {},
   "outputs": [
    {
     "data": {
      "text/plain": [
       "[42, 49, 12, 20, 30]"
      ]
     },
     "execution_count": 11,
     "metadata": {},
     "output_type": "execute_result"
    }
   ],
   "source": [
    "student_marks"
   ]
  },
  {
   "cell_type": "markdown",
   "id": "ce7dc6a8",
   "metadata": {},
   "source": [
    "## Indexing in Numpy"
   ]
  },
  {
   "cell_type": "code",
   "execution_count": 12,
   "id": "2dc96be7",
   "metadata": {},
   "outputs": [
    {
     "data": {
      "text/plain": [
       "42"
      ]
     },
     "execution_count": 12,
     "metadata": {},
     "output_type": "execute_result"
    }
   ],
   "source": [
    "student_marks_np[0]"
   ]
  },
  {
   "cell_type": "code",
   "execution_count": 13,
   "id": "e5d3d3e7",
   "metadata": {},
   "outputs": [
    {
     "data": {
      "text/plain": [
       "array([42, 49, 12])"
      ]
     },
     "execution_count": 13,
     "metadata": {},
     "output_type": "execute_result"
    }
   ],
   "source": [
    "student_marks_np[:3]"
   ]
  },
  {
   "cell_type": "code",
   "execution_count": 14,
   "id": "aa36d611",
   "metadata": {},
   "outputs": [
    {
     "data": {
      "text/plain": [
       "array([12, 20])"
      ]
     },
     "execution_count": 14,
     "metadata": {},
     "output_type": "execute_result"
    }
   ],
   "source": [
    "student_marks_np[2:4]"
   ]
  },
  {
   "cell_type": "code",
   "execution_count": 15,
   "id": "64e6e83b",
   "metadata": {},
   "outputs": [
    {
     "data": {
      "text/plain": [
       "array([42, 12, 30])"
      ]
     },
     "execution_count": 15,
     "metadata": {},
     "output_type": "execute_result"
    }
   ],
   "source": [
    "student_marks_np[::2]"
   ]
  },
  {
   "cell_type": "code",
   "execution_count": 16,
   "id": "84a34866",
   "metadata": {},
   "outputs": [
    {
     "data": {
      "text/plain": [
       "array([30, 20, 12, 49, 42])"
      ]
     },
     "execution_count": 16,
     "metadata": {},
     "output_type": "execute_result"
    }
   ],
   "source": [
    "student_marks_np[::-1]"
   ]
  },
  {
   "cell_type": "markdown",
   "id": "7ba0b4c4",
   "metadata": {},
   "source": [
    "## Numpy Operations"
   ]
  },
  {
   "cell_type": "code",
   "execution_count": 17,
   "id": "65ab6c80",
   "metadata": {},
   "outputs": [
    {
     "name": "stdout",
     "output_type": "stream",
     "text": [
      "30.6\n"
     ]
    }
   ],
   "source": [
    "length = len(student_marks)\n",
    "sum_student_marks = sum(student_marks)\n",
    "\n",
    "average = sum_student_marks / length\n",
    "\n",
    "print(average)"
   ]
  },
  {
   "cell_type": "code",
   "execution_count": 18,
   "id": "3cd8cb71",
   "metadata": {},
   "outputs": [
    {
     "data": {
      "text/plain": [
       "30.6"
      ]
     },
     "execution_count": 18,
     "metadata": {},
     "output_type": "execute_result"
    }
   ],
   "source": [
    "np.mean(student_marks_np)"
   ]
  },
  {
   "cell_type": "code",
   "execution_count": 19,
   "id": "ed8cd186",
   "metadata": {},
   "outputs": [
    {
     "data": {
      "text/plain": [
       "153"
      ]
     },
     "execution_count": 19,
     "metadata": {},
     "output_type": "execute_result"
    }
   ],
   "source": [
    "sum(student_marks_np)"
   ]
  },
  {
   "cell_type": "code",
   "execution_count": 20,
   "id": "82ce2826",
   "metadata": {},
   "outputs": [
    {
     "data": {
      "text/plain": [
       "153"
      ]
     },
     "execution_count": 20,
     "metadata": {},
     "output_type": "execute_result"
    }
   ],
   "source": [
    "np.sum(student_marks_np)"
   ]
  },
  {
   "cell_type": "code",
   "execution_count": 22,
   "id": "2f6bf09c",
   "metadata": {},
   "outputs": [
    {
     "name": "stdout",
     "output_type": "stream",
     "text": [
      "[42 49 12 20 30]\n"
     ]
    },
    {
     "data": {
      "text/plain": [
       "array([ 42,  91, 103, 123, 153])"
      ]
     },
     "execution_count": 22,
     "metadata": {},
     "output_type": "execute_result"
    }
   ],
   "source": [
    "# Cumulative Summation\n",
    "\n",
    "print(student_marks_np)\n",
    "\n",
    "np.cumsum(student_marks_np)"
   ]
  },
  {
   "cell_type": "code",
   "execution_count": 23,
   "id": "3b4f3e57",
   "metadata": {},
   "outputs": [
    {
     "data": {
      "text/plain": [
       "array([ 2.71828183,  7.3890561 , 20.08553692, 54.59815003])"
      ]
     },
     "execution_count": 23,
     "metadata": {},
     "output_type": "execute_result"
    }
   ],
   "source": [
    "# Exponents and Logs\n",
    "\n",
    "np.exp([1,2,3,4])"
   ]
  },
  {
   "cell_type": "code",
   "execution_count": 25,
   "id": "696b8a3b",
   "metadata": {},
   "outputs": [
    {
     "data": {
      "text/plain": [
       "array([1., 2., 3., 4.])"
      ]
     },
     "execution_count": 25,
     "metadata": {},
     "output_type": "execute_result"
    }
   ],
   "source": [
    "np.log([ 2.71828183,  7.3890561 , 20.08553692, 54.59815003])"
   ]
  },
  {
   "cell_type": "markdown",
   "id": "d7e894d1",
   "metadata": {},
   "source": [
    "## Multi Dimensional Array"
   ]
  },
  {
   "cell_type": "code",
   "execution_count": 27,
   "id": "3ee6b4f2",
   "metadata": {},
   "outputs": [
    {
     "data": {
      "text/plain": [
       "array(['Sachin', 'Rahul'], dtype='<U6')"
      ]
     },
     "execution_count": 27,
     "metadata": {},
     "output_type": "execute_result"
    }
   ],
   "source": [
    "# Unicode String in Bytes\n",
    "np.array([\"Sachin\", \"Rahul\"])"
   ]
  },
  {
   "cell_type": "code",
   "execution_count": 28,
   "id": "edd2ed2b",
   "metadata": {},
   "outputs": [],
   "source": [
    "student_marks = np.array([[20,30,40], [10,20,30], [40,50,45]])"
   ]
  },
  {
   "cell_type": "code",
   "execution_count": 29,
   "id": "4753bd9c",
   "metadata": {},
   "outputs": [
    {
     "data": {
      "text/plain": [
       "array([[20, 30, 40],\n",
       "       [10, 20, 30],\n",
       "       [40, 50, 45]])"
      ]
     },
     "execution_count": 29,
     "metadata": {},
     "output_type": "execute_result"
    }
   ],
   "source": [
    "student_marks"
   ]
  },
  {
   "cell_type": "code",
   "execution_count": 35,
   "id": "8745e3ad",
   "metadata": {},
   "outputs": [
    {
     "data": {
      "text/plain": [
       "array([50, 45])"
      ]
     },
     "execution_count": 35,
     "metadata": {},
     "output_type": "execute_result"
    }
   ],
   "source": [
    "student_marks[student_marks>40]"
   ]
  },
  {
   "cell_type": "code",
   "execution_count": 31,
   "id": "fc826bde",
   "metadata": {},
   "outputs": [
    {
     "data": {
      "text/plain": [
       "array([[False, False, False],\n",
       "       [False, False, False],\n",
       "       [False,  True,  True]])"
      ]
     },
     "execution_count": 31,
     "metadata": {},
     "output_type": "execute_result"
    }
   ],
   "source": [
    "student_marks>40"
   ]
  },
  {
   "cell_type": "code",
   "execution_count": 36,
   "id": "6cab1d7f",
   "metadata": {},
   "outputs": [
    {
     "data": {
      "text/plain": [
       "array([40, 40, 50, 45])"
      ]
     },
     "execution_count": 36,
     "metadata": {},
     "output_type": "execute_result"
    }
   ],
   "source": [
    "student_marks[student_marks > np.mean(student_marks)]"
   ]
  },
  {
   "cell_type": "code",
   "execution_count": 39,
   "id": "0a3c7ba1",
   "metadata": {},
   "outputs": [
    {
     "data": {
      "text/plain": [
       "array([30, 30])"
      ]
     },
     "execution_count": 39,
     "metadata": {},
     "output_type": "execute_result"
    }
   ],
   "source": [
    "student_marks[(student_marks > 20) & (student_marks < 40)]"
   ]
  },
  {
   "cell_type": "code",
   "execution_count": 41,
   "id": "d79fd61c",
   "metadata": {},
   "outputs": [
    {
     "data": {
      "text/plain": [
       "array([50, 45])"
      ]
     },
     "execution_count": 41,
     "metadata": {},
     "output_type": "execute_result"
    }
   ],
   "source": [
    "student_marks[(student_marks < 10) | (student_marks > 40)]"
   ]
  },
  {
   "cell_type": "markdown",
   "id": "433f1e7a",
   "metadata": {},
   "source": [
    "## Advanced Indexing"
   ]
  },
  {
   "cell_type": "code",
   "execution_count": 42,
   "id": "a1e23e26",
   "metadata": {},
   "outputs": [],
   "source": [
    "student_data = np.array([\n",
    "    [18, 85, 88, 92],  # Student 1\n",
    "    [20, 75, 85, 80],  # Student 2\n",
    "    [19, 95, 90, 94],  # Student 3\n",
    "    [21, 78, 85, 88],  # Student 4\n",
    "    [22, 82, 88, 87]   # Student 5\n",
    "])"
   ]
  },
  {
   "cell_type": "code",
   "execution_count": 43,
   "id": "16643730",
   "metadata": {},
   "outputs": [
    {
     "data": {
      "text/plain": [
       "array([18, 20, 19, 21, 22])"
      ]
     },
     "execution_count": 43,
     "metadata": {},
     "output_type": "execute_result"
    }
   ],
   "source": [
    "# Give me all rows of 1st Column\n",
    "student_data[:, 0]"
   ]
  },
  {
   "cell_type": "code",
   "execution_count": 45,
   "id": "ffa99afe",
   "metadata": {},
   "outputs": [
    {
     "data": {
      "text/plain": [
       "array([92, 80, 94, 88, 87])"
      ]
     },
     "execution_count": 45,
     "metadata": {},
     "output_type": "execute_result"
    }
   ],
   "source": [
    "# Give me all rows of 4th Column \n",
    "student_data[:, 3]"
   ]
  },
  {
   "cell_type": "code",
   "execution_count": 47,
   "id": "c34668c7",
   "metadata": {},
   "outputs": [
    {
     "data": {
      "text/plain": [
       "array([18, 85, 88, 92])"
      ]
     },
     "execution_count": 47,
     "metadata": {},
     "output_type": "execute_result"
    }
   ],
   "source": [
    "# Give me first row of all the columns\n",
    "student_data[0, :]"
   ]
  },
  {
   "cell_type": "code",
   "execution_count": 50,
   "id": "20d82b85",
   "metadata": {},
   "outputs": [
    {
     "data": {
      "text/plain": [
       "array([[18, 85, 88, 92],\n",
       "       [20, 75, 85, 80],\n",
       "       [19, 95, 90, 94],\n",
       "       [21, 78, 85, 88],\n",
       "       [22, 82, 88, 87]])"
      ]
     },
     "execution_count": 50,
     "metadata": {},
     "output_type": "execute_result"
    }
   ],
   "source": [
    "student_data"
   ]
  },
  {
   "cell_type": "code",
   "execution_count": 52,
   "id": "931521dc",
   "metadata": {},
   "outputs": [
    {
     "data": {
      "text/plain": [
       "array([[18, 85, 88],\n",
       "       [20, 75, 85],\n",
       "       [19, 95, 90],\n",
       "       [21, 78, 85],\n",
       "       [22, 82, 88]])"
      ]
     },
     "execution_count": 52,
     "metadata": {},
     "output_type": "execute_result"
    }
   ],
   "source": [
    "# Give me all rows of 1st to 3rd column\n",
    "student_data[:, 0:3]"
   ]
  },
  {
   "cell_type": "code",
   "execution_count": 54,
   "id": "0947b222",
   "metadata": {},
   "outputs": [
    {
     "data": {
      "text/plain": [
       "array([[18, 85, 88, 92],\n",
       "       [20, 75, 85, 80]])"
      ]
     },
     "execution_count": 54,
     "metadata": {},
     "output_type": "execute_result"
    }
   ],
   "source": [
    "# Give me first row of all the columns\n",
    "student_data[:2, :]"
   ]
  },
  {
   "cell_type": "code",
   "execution_count": 56,
   "id": "34c23e84",
   "metadata": {},
   "outputs": [
    {
     "data": {
      "text/plain": [
       "92"
      ]
     },
     "execution_count": 56,
     "metadata": {},
     "output_type": "execute_result"
    }
   ],
   "source": [
    "# Getting first row and last column\n",
    "student_data[0, 3]"
   ]
  },
  {
   "cell_type": "code",
   "execution_count": 62,
   "id": "a9586ace",
   "metadata": {},
   "outputs": [],
   "source": [
    "a = student_marks[:,:1]"
   ]
  },
  {
   "cell_type": "code",
   "execution_count": 66,
   "id": "f8217e54",
   "metadata": {},
   "outputs": [
    {
     "data": {
      "text/plain": [
       "array([[20],\n",
       "       [10],\n",
       "       [40]])"
      ]
     },
     "execution_count": 66,
     "metadata": {},
     "output_type": "execute_result"
    }
   ],
   "source": [
    "a"
   ]
  },
  {
   "cell_type": "code",
   "execution_count": 63,
   "id": "54c22e93",
   "metadata": {},
   "outputs": [],
   "source": [
    "b = student_marks[:,0]"
   ]
  },
  {
   "cell_type": "code",
   "execution_count": 67,
   "id": "94a51b95",
   "metadata": {},
   "outputs": [
    {
     "data": {
      "text/plain": [
       "array([20, 10, 40])"
      ]
     },
     "execution_count": 67,
     "metadata": {},
     "output_type": "execute_result"
    }
   ],
   "source": [
    "b"
   ]
  },
  {
   "cell_type": "code",
   "execution_count": 64,
   "id": "6d53f99d",
   "metadata": {},
   "outputs": [
    {
     "data": {
      "text/plain": [
       "(3, 1)"
      ]
     },
     "execution_count": 64,
     "metadata": {},
     "output_type": "execute_result"
    }
   ],
   "source": [
    "a.shape"
   ]
  },
  {
   "cell_type": "code",
   "execution_count": 65,
   "id": "5311becf",
   "metadata": {},
   "outputs": [
    {
     "data": {
      "text/plain": [
       "(3,)"
      ]
     },
     "execution_count": 65,
     "metadata": {},
     "output_type": "execute_result"
    }
   ],
   "source": [
    "b.shape"
   ]
  },
  {
   "cell_type": "code",
   "execution_count": 69,
   "id": "fcfafac3",
   "metadata": {},
   "outputs": [],
   "source": [
    "student_data = np.array([\n",
    "    [18, 85, 88, 92],  # Student 1\n",
    "    [20, 75, 85, 80],  # Student 2\n",
    "    [19, 95, 90, 94],  # Student 3\n",
    "    [21, 78, 85, 88],  # Student 4\n",
    "    [22, 82, 88, 87]   # Student 5\n",
    "])"
   ]
  },
  {
   "cell_type": "code",
   "execution_count": 70,
   "id": "5a723459",
   "metadata": {},
   "outputs": [
    {
     "data": {
      "text/plain": [
       "array([['Grade C', 'Grade A', 'Grade A', 'Grade A'],\n",
       "       ['Grade C', 'Grade A', 'Grade A', 'Grade A'],\n",
       "       ['Grade C', 'Grade A', 'Grade A', 'Grade A'],\n",
       "       ['Grade C', 'Grade A', 'Grade A', 'Grade A'],\n",
       "       ['Grade C', 'Grade A', 'Grade A', 'Grade A']], dtype='<U7')"
      ]
     },
     "execution_count": 70,
     "metadata": {},
     "output_type": "execute_result"
    }
   ],
   "source": [
    "np.where(student_data < 70, \"Grade C\", \"Grade A\")"
   ]
  },
  {
   "cell_type": "code",
   "execution_count": 71,
   "id": "5a893075",
   "metadata": {},
   "outputs": [
    {
     "data": {
      "text/plain": [
       "array([['Grade C', 'Grade B', 'Grade B', 'Grade A'],\n",
       "       ['Grade C', 'Grade B', 'Grade B', 'Grade B'],\n",
       "       ['Grade C', 'Grade A', 'Grade A', 'Grade A'],\n",
       "       ['Grade C', 'Grade B', 'Grade B', 'Grade B'],\n",
       "       ['Grade C', 'Grade B', 'Grade B', 'Grade B']], dtype='<U7')"
      ]
     },
     "execution_count": 71,
     "metadata": {},
     "output_type": "execute_result"
    }
   ],
   "source": [
    "np.where(student_data < 90, np.where(student_data>70, \"Grade B\", \"Grade C\"), \"Grade A\")"
   ]
  },
  {
   "cell_type": "code",
   "execution_count": 72,
   "id": "01dfe307",
   "metadata": {},
   "outputs": [],
   "source": [
    "student_data = np.array([\n",
    "    [18, 85, 88, 92],  # Student 1\n",
    "    [20, 75, 85, 80],  # Student 2\n",
    "    [19, 95, 90, 94],  # Student 3\n",
    "    [21, 78, 85, 88],  # Student 4\n",
    "    [22, 82, 88, 87]   # Student 5\n",
    "])"
   ]
  },
  {
   "cell_type": "code",
   "execution_count": 74,
   "id": "383fdf3e",
   "metadata": {},
   "outputs": [],
   "source": [
    "conditions = [\n",
    "    (student_data >= 90),\n",
    "    (student_data >=70) & (student_data <90),\n",
    "    (student_data >=50) & (student_data <70),\n",
    "    (student_data <50)\n",
    "]\n",
    "\n",
    "output = [\n",
    "    \"Grade A\",\n",
    "    \"Grade B\",\n",
    "    \"Grade C\",\n",
    "    \"Grade D\"\n",
    "]"
   ]
  },
  {
   "cell_type": "code",
   "execution_count": 75,
   "id": "310eb03d",
   "metadata": {},
   "outputs": [
    {
     "data": {
      "text/plain": [
       "array([['Grade D', 'Grade B', 'Grade B', 'Grade A'],\n",
       "       ['Grade D', 'Grade B', 'Grade B', 'Grade B'],\n",
       "       ['Grade D', 'Grade A', 'Grade A', 'Grade A'],\n",
       "       ['Grade D', 'Grade B', 'Grade B', 'Grade B'],\n",
       "       ['Grade D', 'Grade B', 'Grade B', 'Grade B']], dtype='<U7')"
      ]
     },
     "execution_count": 75,
     "metadata": {},
     "output_type": "execute_result"
    }
   ],
   "source": [
    "np.select(conditions, output)"
   ]
  },
  {
   "cell_type": "markdown",
   "id": "bc9d0970",
   "metadata": {},
   "source": [
    "# Reshaping Numpy Arrays"
   ]
  },
  {
   "cell_type": "code",
   "execution_count": 79,
   "id": "a115ad28",
   "metadata": {},
   "outputs": [
    {
     "data": {
      "text/plain": [
       "[1, 2, 3, 4, 5, 6, 7, 8, 9, 10, 11, 12]"
      ]
     },
     "execution_count": 79,
     "metadata": {},
     "output_type": "execute_result"
    }
   ],
   "source": [
    "list(range(1,13))"
   ]
  },
  {
   "cell_type": "code",
   "execution_count": 81,
   "id": "b35c76cb",
   "metadata": {},
   "outputs": [],
   "source": [
    "array1d = np.arange(1,13)"
   ]
  },
  {
   "cell_type": "code",
   "execution_count": 89,
   "id": "1e79e430",
   "metadata": {},
   "outputs": [
    {
     "data": {
      "text/plain": [
       "array([[ 1,  2,  3,  4,  5,  6,  7,  8,  9, 10, 11, 12]])"
      ]
     },
     "execution_count": 89,
     "metadata": {},
     "output_type": "execute_result"
    }
   ],
   "source": [
    "array1d.reshape(1,12)"
   ]
  },
  {
   "cell_type": "code",
   "execution_count": 90,
   "id": "ddcb7b1c",
   "metadata": {},
   "outputs": [
    {
     "data": {
      "text/plain": [
       "array([[ 1],\n",
       "       [ 2],\n",
       "       [ 3],\n",
       "       [ 4],\n",
       "       [ 5],\n",
       "       [ 6],\n",
       "       [ 7],\n",
       "       [ 8],\n",
       "       [ 9],\n",
       "       [10],\n",
       "       [11],\n",
       "       [12]])"
      ]
     },
     "execution_count": 90,
     "metadata": {},
     "output_type": "execute_result"
    }
   ],
   "source": [
    "array1d.reshape(12,1)"
   ]
  },
  {
   "cell_type": "code",
   "execution_count": 91,
   "id": "1e2e0333",
   "metadata": {},
   "outputs": [
    {
     "data": {
      "text/plain": [
       "array([[ 1,  2,  3,  4,  5,  6],\n",
       "       [ 7,  8,  9, 10, 11, 12]])"
      ]
     },
     "execution_count": 91,
     "metadata": {},
     "output_type": "execute_result"
    }
   ],
   "source": [
    "array1d.reshape(2,6)"
   ]
  },
  {
   "cell_type": "code",
   "execution_count": 100,
   "id": "6160d5e6",
   "metadata": {},
   "outputs": [],
   "source": [
    "array_2d = array1d.reshape(6,2)"
   ]
  },
  {
   "cell_type": "code",
   "execution_count": 99,
   "id": "0e2e6546",
   "metadata": {},
   "outputs": [
    {
     "data": {
      "text/plain": [
       "array([[10, 20],\n",
       "       [30, 40]])"
      ]
     },
     "execution_count": 99,
     "metadata": {},
     "output_type": "execute_result"
    }
   ],
   "source": [
    "np.reshape([10,20,30,40], (2,2))"
   ]
  },
  {
   "cell_type": "code",
   "execution_count": 101,
   "id": "00d0b02a",
   "metadata": {},
   "outputs": [
    {
     "data": {
      "text/plain": [
       "array([[ 1,  2],\n",
       "       [ 3,  4],\n",
       "       [ 5,  6],\n",
       "       [ 7,  8],\n",
       "       [ 9, 10],\n",
       "       [11, 12]])"
      ]
     },
     "execution_count": 101,
     "metadata": {},
     "output_type": "execute_result"
    }
   ],
   "source": [
    "array_2d"
   ]
  },
  {
   "cell_type": "markdown",
   "id": "940b81e1",
   "metadata": {},
   "source": [
    "### Flattening of array"
   ]
  },
  {
   "cell_type": "code",
   "execution_count": 102,
   "id": "802967d5",
   "metadata": {},
   "outputs": [
    {
     "data": {
      "text/plain": [
       "array([[ 1,  2,  3,  4,  5,  6,  7,  8,  9, 10, 11, 12]])"
      ]
     },
     "execution_count": 102,
     "metadata": {},
     "output_type": "execute_result"
    }
   ],
   "source": [
    "array_2d.reshape(1,-1)"
   ]
  },
  {
   "cell_type": "code",
   "execution_count": 104,
   "id": "c850aadd",
   "metadata": {},
   "outputs": [
    {
     "data": {
      "text/plain": [
       "array([[ 1],\n",
       "       [ 2],\n",
       "       [ 3],\n",
       "       [ 4],\n",
       "       [ 5],\n",
       "       [ 6],\n",
       "       [ 7],\n",
       "       [ 8],\n",
       "       [ 9],\n",
       "       [10],\n",
       "       [11],\n",
       "       [12]])"
      ]
     },
     "execution_count": 104,
     "metadata": {},
     "output_type": "execute_result"
    }
   ],
   "source": [
    "array_2d.reshape(-1,1)"
   ]
  },
  {
   "cell_type": "code",
   "execution_count": null,
   "id": "468b0ac1",
   "metadata": {},
   "outputs": [],
   "source": [
    "# Xray images - person1.dcm (Dicom), raw, tiff"
   ]
  },
  {
   "cell_type": "code",
   "execution_count": 116,
   "id": "acbfa307",
   "metadata": {},
   "outputs": [
    {
     "data": {
      "text/plain": [
       "array([[[ 5,  2],\n",
       "        [ 3,  4]],\n",
       "\n",
       "       [[ 5,  6],\n",
       "        [ 7,  8]],\n",
       "\n",
       "       [[ 9, 20],\n",
       "        [11, 12]]])"
      ]
     },
     "execution_count": 116,
     "metadata": {},
     "output_type": "execute_result"
    }
   ],
   "source": [
    "array_2d.reshape(3,2,2) #First Dimension, Second Dimension, Third Dimension\n",
    "\n",
    "# First Dimension = Batch, Depth\n",
    "# Second Dimension = Rows\n",
    "# Third Dimension = Columns"
   ]
  },
  {
   "cell_type": "code",
   "execution_count": 107,
   "id": "64152579",
   "metadata": {},
   "outputs": [
    {
     "ename": "ValueError",
     "evalue": "cannot reshape array of size 12 into shape (5,3)",
     "output_type": "error",
     "traceback": [
      "\u001b[1;31m---------------------------------------------------------------------------\u001b[0m",
      "\u001b[1;31mValueError\u001b[0m                                Traceback (most recent call last)",
      "Cell \u001b[1;32mIn[107], line 1\u001b[0m\n\u001b[1;32m----> 1\u001b[0m array_2d\u001b[38;5;241m.\u001b[39mreshape(\u001b[38;5;241m5\u001b[39m,\u001b[38;5;241m3\u001b[39m)\n",
      "\u001b[1;31mValueError\u001b[0m: cannot reshape array of size 12 into shape (5,3)"
     ]
    }
   ],
   "source": [
    "array_2d.reshape(5,3)"
   ]
  },
  {
   "cell_type": "code",
   "execution_count": 112,
   "id": "43bd21f6",
   "metadata": {},
   "outputs": [
    {
     "data": {
      "text/plain": [
       "array([[ 5,  2],\n",
       "       [ 3,  4],\n",
       "       [ 5,  6],\n",
       "       [ 7,  8],\n",
       "       [ 9, 10],\n",
       "       [11, 12]])"
      ]
     },
     "execution_count": 112,
     "metadata": {},
     "output_type": "execute_result"
    }
   ],
   "source": [
    "array_2d"
   ]
  },
  {
   "cell_type": "code",
   "execution_count": 114,
   "id": "797750c0",
   "metadata": {},
   "outputs": [],
   "source": [
    "array_2d[4,1] = 20"
   ]
  },
  {
   "cell_type": "code",
   "execution_count": 115,
   "id": "b91c6a43",
   "metadata": {},
   "outputs": [
    {
     "data": {
      "text/plain": [
       "array([[ 5,  2],\n",
       "       [ 3,  4],\n",
       "       [ 5,  6],\n",
       "       [ 7,  8],\n",
       "       [ 9, 20],\n",
       "       [11, 12]])"
      ]
     },
     "execution_count": 115,
     "metadata": {},
     "output_type": "execute_result"
    }
   ],
   "source": [
    "array_2d"
   ]
  },
  {
   "cell_type": "code",
   "execution_count": 117,
   "id": "e988b9d9",
   "metadata": {},
   "outputs": [],
   "source": [
    "array_3d = array_2d.reshape(3,2,2)"
   ]
  },
  {
   "cell_type": "code",
   "execution_count": 118,
   "id": "ec88d4cd",
   "metadata": {},
   "outputs": [
    {
     "data": {
      "text/plain": [
       "array([[[ 5,  2],\n",
       "        [ 3,  4]],\n",
       "\n",
       "       [[ 5,  6],\n",
       "        [ 7,  8]],\n",
       "\n",
       "       [[ 9, 20],\n",
       "        [11, 12]]])"
      ]
     },
     "execution_count": 118,
     "metadata": {},
     "output_type": "execute_result"
    }
   ],
   "source": [
    "array_3d"
   ]
  },
  {
   "cell_type": "code",
   "execution_count": 124,
   "id": "5c75ce2c",
   "metadata": {},
   "outputs": [],
   "source": [
    "#Multi index concept\n",
    "array_3d[2][0][1]=30"
   ]
  },
  {
   "cell_type": "code",
   "execution_count": 125,
   "id": "145187fb",
   "metadata": {},
   "outputs": [
    {
     "data": {
      "text/plain": [
       "array([[[ 5,  2],\n",
       "        [ 3,  4]],\n",
       "\n",
       "       [[ 5,  6],\n",
       "        [ 7,  8]],\n",
       "\n",
       "       [[ 9, 30],\n",
       "        [11, 12]]])"
      ]
     },
     "execution_count": 125,
     "metadata": {},
     "output_type": "execute_result"
    }
   ],
   "source": [
    "array_3d"
   ]
  },
  {
   "cell_type": "code",
   "execution_count": 126,
   "id": "263ab91f",
   "metadata": {},
   "outputs": [
    {
     "data": {
      "text/plain": [
       "30"
      ]
     },
     "execution_count": 126,
     "metadata": {},
     "output_type": "execute_result"
    }
   ],
   "source": [
    "#Single index(Slicing)\n",
    "array_3d[2,0,1]"
   ]
  },
  {
   "cell_type": "code",
   "execution_count": 127,
   "id": "1761820b",
   "metadata": {},
   "outputs": [
    {
     "data": {
      "text/plain": [
       "array([[0.60776448, 0.3541954 ],\n",
       "       [0.91706075, 0.62746055]])"
      ]
     },
     "execution_count": 127,
     "metadata": {},
     "output_type": "execute_result"
    }
   ],
   "source": [
    "# Range of 0-1\n",
    "np.random.random((2,2))"
   ]
  },
  {
   "cell_type": "code",
   "execution_count": 151,
   "id": "2dbb52e5",
   "metadata": {},
   "outputs": [
    {
     "data": {
      "text/plain": [
       "array([[26, 64, 28],\n",
       "       [99, 35, 76],\n",
       "       [76, 92, 63],\n",
       "       [22, 50, 42]])"
      ]
     },
     "execution_count": 151,
     "metadata": {},
     "output_type": "execute_result"
    }
   ],
   "source": [
    "# Range of 10,100\n",
    "np.random.randint(10,100, (4,3))"
   ]
  },
  {
   "cell_type": "code",
   "execution_count": 152,
   "id": "d9473aa0",
   "metadata": {},
   "outputs": [
    {
     "data": {
      "text/plain": [
       "array([[0., 0., 0.],\n",
       "       [0., 0., 0.],\n",
       "       [0., 0., 0.],\n",
       "       [0., 0., 0.]])"
      ]
     },
     "execution_count": 152,
     "metadata": {},
     "output_type": "execute_result"
    }
   ],
   "source": [
    "np.zeros((4,3))"
   ]
  },
  {
   "cell_type": "code",
   "execution_count": 153,
   "id": "d0a017fa",
   "metadata": {},
   "outputs": [
    {
     "data": {
      "text/plain": [
       "array([[1., 1., 1.],\n",
       "       [1., 1., 1.],\n",
       "       [1., 1., 1.],\n",
       "       [1., 1., 1.]])"
      ]
     },
     "execution_count": 153,
     "metadata": {},
     "output_type": "execute_result"
    }
   ],
   "source": [
    "np.ones((4,3))"
   ]
  },
  {
   "cell_type": "code",
   "execution_count": 161,
   "id": "42a8583c",
   "metadata": {},
   "outputs": [
    {
     "data": {
      "text/plain": [
       "array([[5., 5., 5.],\n",
       "       [5., 5., 5.],\n",
       "       [5., 5., 5.],\n",
       "       [5., 5., 5.]])"
      ]
     },
     "execution_count": 161,
     "metadata": {},
     "output_type": "execute_result"
    }
   ],
   "source": [
    "np.full((4,3), 5.)"
   ]
  },
  {
   "cell_type": "code",
   "execution_count": 156,
   "id": "f388421e",
   "metadata": {},
   "outputs": [],
   "source": [
    "array_3 = np.full((4,3), 3)\n",
    "array_4 = np.full((4,3), 4)"
   ]
  },
  {
   "cell_type": "code",
   "execution_count": 159,
   "id": "d9963a79",
   "metadata": {},
   "outputs": [
    {
     "data": {
      "text/plain": [
       "array([[3, 3, 3],\n",
       "       [3, 3, 3],\n",
       "       [3, 3, 3],\n",
       "       [3, 3, 3]])"
      ]
     },
     "execution_count": 159,
     "metadata": {},
     "output_type": "execute_result"
    }
   ],
   "source": [
    "array_3"
   ]
  },
  {
   "cell_type": "code",
   "execution_count": 160,
   "id": "9f96778f",
   "metadata": {},
   "outputs": [
    {
     "data": {
      "text/plain": [
       "array([[4, 4, 4],\n",
       "       [4, 4, 4],\n",
       "       [4, 4, 4],\n",
       "       [4, 4, 4]])"
      ]
     },
     "execution_count": 160,
     "metadata": {},
     "output_type": "execute_result"
    }
   ],
   "source": [
    "array_4"
   ]
  },
  {
   "cell_type": "code",
   "execution_count": 158,
   "id": "6e641503",
   "metadata": {},
   "outputs": [
    {
     "data": {
      "text/plain": [
       "array([[7, 7, 7],\n",
       "       [7, 7, 7],\n",
       "       [7, 7, 7],\n",
       "       [7, 7, 7]])"
      ]
     },
     "execution_count": 158,
     "metadata": {},
     "output_type": "execute_result"
    }
   ],
   "source": [
    "np.add(array_3, array_4)"
   ]
  },
  {
   "cell_type": "code",
   "execution_count": 162,
   "id": "86012894",
   "metadata": {},
   "outputs": [
    {
     "data": {
      "text/plain": [
       "array([[-1, -1, -1],\n",
       "       [-1, -1, -1],\n",
       "       [-1, -1, -1],\n",
       "       [-1, -1, -1]])"
      ]
     },
     "execution_count": 162,
     "metadata": {},
     "output_type": "execute_result"
    }
   ],
   "source": [
    "np.subtract(array_3, array_4)"
   ]
  },
  {
   "cell_type": "code",
   "execution_count": 164,
   "id": "5679f67d",
   "metadata": {},
   "outputs": [
    {
     "data": {
      "text/plain": [
       "array([[12, 12, 12],\n",
       "       [12, 12, 12],\n",
       "       [12, 12, 12],\n",
       "       [12, 12, 12]])"
      ]
     },
     "execution_count": 164,
     "metadata": {},
     "output_type": "execute_result"
    }
   ],
   "source": [
    "np.multiply(array_3, array_4)"
   ]
  },
  {
   "cell_type": "code",
   "execution_count": 166,
   "id": "c323dec7",
   "metadata": {},
   "outputs": [
    {
     "data": {
      "text/plain": [
       "array([[36, 36, 36, 36],\n",
       "       [36, 36, 36, 36],\n",
       "       [36, 36, 36, 36],\n",
       "       [36, 36, 36, 36]])"
      ]
     },
     "execution_count": 166,
     "metadata": {},
     "output_type": "execute_result"
    }
   ],
   "source": [
    "np.dot(array_3, array_4.reshape(3,4))"
   ]
  },
  {
   "cell_type": "code",
   "execution_count": 168,
   "id": "4abec8a1",
   "metadata": {},
   "outputs": [
    {
     "data": {
      "text/plain": [
       "array([ True, False, False,  True, False])"
      ]
     },
     "execution_count": 168,
     "metadata": {},
     "output_type": "execute_result"
    }
   ],
   "source": [
    "a = [1,2,3,4,5]\n",
    "b = [1,4,5,4,7]\n",
    "\n",
    "np.equal(a,b)"
   ]
  },
  {
   "cell_type": "code",
   "execution_count": 171,
   "id": "380dbcbd",
   "metadata": {},
   "outputs": [
    {
     "data": {
      "text/plain": [
       "True"
      ]
     },
     "execution_count": 171,
     "metadata": {},
     "output_type": "execute_result"
    }
   ],
   "source": [
    "a = [1,2,3,4,5]\n",
    "b = [1,2,3,4,5]\n",
    "np.array_equal(a,b)"
   ]
  },
  {
   "cell_type": "code",
   "execution_count": null,
   "id": "31de88c1",
   "metadata": {},
   "outputs": [],
   "source": []
  }
 ],
 "metadata": {
  "kernelspec": {
   "display_name": "Python [conda env:intellipat]",
   "language": "python",
   "name": "conda-env-intellipat-py"
  },
  "language_info": {
   "codemirror_mode": {
    "name": "ipython",
    "version": 3
   },
   "file_extension": ".py",
   "mimetype": "text/x-python",
   "name": "python",
   "nbconvert_exporter": "python",
   "pygments_lexer": "ipython3",
   "version": "3.11.8"
  }
 },
 "nbformat": 4,
 "nbformat_minor": 5
}
