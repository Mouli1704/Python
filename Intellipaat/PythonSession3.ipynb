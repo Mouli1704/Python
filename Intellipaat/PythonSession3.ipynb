{
 "cells": [
  {
   "cell_type": "markdown",
   "id": "3e2ddbc6",
   "metadata": {},
   "source": [
    "# Sets"
   ]
  },
  {
   "cell_type": "code",
   "execution_count": 1,
   "id": "619acaac",
   "metadata": {},
   "outputs": [],
   "source": [
    "A = {1,8,4,7,6}\n",
    "B = {1,2,3,4,5,6}"
   ]
  },
  {
   "cell_type": "code",
   "execution_count": 2,
   "id": "fac9e0e2",
   "metadata": {},
   "outputs": [
    {
     "data": {
      "text/plain": [
       "(set, set)"
      ]
     },
     "execution_count": 2,
     "metadata": {},
     "output_type": "execute_result"
    }
   ],
   "source": [
    "type(A), type(B)"
   ]
  },
  {
   "cell_type": "markdown",
   "id": "43b51909",
   "metadata": {},
   "source": [
    "If we just write variables with a comma, python automatically considers it as a tuple"
   ]
  },
  {
   "cell_type": "code",
   "execution_count": 4,
   "id": "7cb82450",
   "metadata": {},
   "outputs": [
    {
     "data": {
      "text/plain": [
       "(1, 2, 3, 4, 5)"
      ]
     },
     "execution_count": 4,
     "metadata": {},
     "output_type": "execute_result"
    }
   ],
   "source": [
    "1,2,3,4,5"
   ]
  },
  {
   "cell_type": "markdown",
   "id": "c9287ec6",
   "metadata": {},
   "source": [
    "## Set Operations"
   ]
  },
  {
   "cell_type": "code",
   "execution_count": 8,
   "id": "bebe4746",
   "metadata": {},
   "outputs": [
    {
     "data": {
      "text/plain": [
       "{1, 2, 3, 4, 5, 6, 7, 8}"
      ]
     },
     "execution_count": 8,
     "metadata": {},
     "output_type": "execute_result"
    }
   ],
   "source": [
    "A.union(B)"
   ]
  },
  {
   "cell_type": "code",
   "execution_count": 9,
   "id": "b2f6bc1a",
   "metadata": {},
   "outputs": [
    {
     "data": {
      "text/plain": [
       "{1, 4, 6, 7, 8}"
      ]
     },
     "execution_count": 9,
     "metadata": {},
     "output_type": "execute_result"
    }
   ],
   "source": [
    "A"
   ]
  },
  {
   "cell_type": "code",
   "execution_count": 10,
   "id": "7e300e2b",
   "metadata": {},
   "outputs": [
    {
     "data": {
      "text/plain": [
       "{1, 4, 6}"
      ]
     },
     "execution_count": 10,
     "metadata": {},
     "output_type": "execute_result"
    }
   ],
   "source": [
    "A.intersection(B)"
   ]
  },
  {
   "cell_type": "code",
   "execution_count": 11,
   "id": "5e5b2165",
   "metadata": {},
   "outputs": [
    {
     "data": {
      "text/plain": [
       "{7, 8}"
      ]
     },
     "execution_count": 11,
     "metadata": {},
     "output_type": "execute_result"
    }
   ],
   "source": [
    "A.difference(B)"
   ]
  },
  {
   "cell_type": "code",
   "execution_count": 12,
   "id": "571c239f",
   "metadata": {},
   "outputs": [
    {
     "data": {
      "text/plain": [
       "{2, 3, 5}"
      ]
     },
     "execution_count": 12,
     "metadata": {},
     "output_type": "execute_result"
    }
   ],
   "source": [
    "B.difference(A)"
   ]
  },
  {
   "cell_type": "code",
   "execution_count": 13,
   "id": "73295fd1",
   "metadata": {},
   "outputs": [],
   "source": [
    "A.add(10)"
   ]
  },
  {
   "cell_type": "code",
   "execution_count": 14,
   "id": "57e8a9b6",
   "metadata": {},
   "outputs": [
    {
     "data": {
      "text/plain": [
       "{1, 4, 6, 7, 8, 10}"
      ]
     },
     "execution_count": 14,
     "metadata": {},
     "output_type": "execute_result"
    }
   ],
   "source": [
    "A"
   ]
  },
  {
   "cell_type": "code",
   "execution_count": 15,
   "id": "14c2b1e0",
   "metadata": {},
   "outputs": [],
   "source": [
    "A.clear()"
   ]
  },
  {
   "cell_type": "code",
   "execution_count": 16,
   "id": "651241f2",
   "metadata": {},
   "outputs": [
    {
     "data": {
      "text/plain": [
       "set()"
      ]
     },
     "execution_count": 16,
     "metadata": {},
     "output_type": "execute_result"
    }
   ],
   "source": [
    "A"
   ]
  },
  {
   "cell_type": "code",
   "execution_count": 18,
   "id": "ba89d00a",
   "metadata": {},
   "outputs": [],
   "source": [
    "del A"
   ]
  },
  {
   "cell_type": "code",
   "execution_count": 20,
   "id": "a36ac464",
   "metadata": {},
   "outputs": [
    {
     "ename": "NameError",
     "evalue": "name 'A' is not defined",
     "output_type": "error",
     "traceback": [
      "\u001b[1;31m---------------------------------------------------------------------------\u001b[0m",
      "\u001b[1;31mNameError\u001b[0m                                 Traceback (most recent call last)",
      "Cell \u001b[1;32mIn[20], line 1\u001b[0m\n\u001b[1;32m----> 1\u001b[0m \u001b[43mA\u001b[49m\n",
      "\u001b[1;31mNameError\u001b[0m: name 'A' is not defined"
     ]
    }
   ],
   "source": [
    "A"
   ]
  },
  {
   "cell_type": "code",
   "execution_count": 21,
   "id": "d6d22007",
   "metadata": {},
   "outputs": [],
   "source": [
    "A = {1,8,4,7,6}"
   ]
  },
  {
   "cell_type": "code",
   "execution_count": 22,
   "id": "c34f7658",
   "metadata": {},
   "outputs": [
    {
     "data": {
      "text/plain": [
       "5"
      ]
     },
     "execution_count": 22,
     "metadata": {},
     "output_type": "execute_result"
    }
   ],
   "source": [
    "len(A)"
   ]
  },
  {
   "cell_type": "code",
   "execution_count": 23,
   "id": "a6522fff",
   "metadata": {},
   "outputs": [],
   "source": [
    "A.remove(8)"
   ]
  },
  {
   "cell_type": "code",
   "execution_count": 24,
   "id": "a98df50e",
   "metadata": {},
   "outputs": [
    {
     "data": {
      "text/plain": [
       "{1, 4, 6, 7}"
      ]
     },
     "execution_count": 24,
     "metadata": {},
     "output_type": "execute_result"
    }
   ],
   "source": [
    "A"
   ]
  },
  {
   "cell_type": "code",
   "execution_count": 25,
   "id": "08abd239",
   "metadata": {},
   "outputs": [
    {
     "data": {
      "text/plain": [
       "1"
      ]
     },
     "execution_count": 25,
     "metadata": {},
     "output_type": "execute_result"
    }
   ],
   "source": [
    "A.pop() #in sets popping happens from the beginnning"
   ]
  },
  {
   "cell_type": "code",
   "execution_count": 26,
   "id": "1ed4f78b",
   "metadata": {},
   "outputs": [
    {
     "data": {
      "text/plain": [
       "{4, 6, 7}"
      ]
     },
     "execution_count": 26,
     "metadata": {},
     "output_type": "execute_result"
    }
   ],
   "source": [
    "A"
   ]
  },
  {
   "cell_type": "code",
   "execution_count": 22,
   "id": "001fde42",
   "metadata": {},
   "outputs": [
    {
     "ename": "TypeError",
     "evalue": "set.pop() takes no arguments (1 given)",
     "output_type": "error",
     "traceback": [
      "\u001b[1;31m---------------------------------------------------------------------------\u001b[0m",
      "\u001b[1;31mTypeError\u001b[0m                                 Traceback (most recent call last)",
      "Cell \u001b[1;32mIn[22], line 1\u001b[0m\n\u001b[1;32m----> 1\u001b[0m A\u001b[38;5;241m.\u001b[39mpop(\u001b[38;5;241m2\u001b[39m)\n",
      "\u001b[1;31mTypeError\u001b[0m: set.pop() takes no arguments (1 given)"
     ]
    }
   ],
   "source": [
    "#We cannot use pop in sets using indexes\n",
    "A.pop(2)"
   ]
  },
  {
   "cell_type": "code",
   "execution_count": 23,
   "id": "8518a05b",
   "metadata": {},
   "outputs": [
    {
     "ename": "AttributeError",
     "evalue": "'set' object has no attribute 'index'",
     "output_type": "error",
     "traceback": [
      "\u001b[1;31m---------------------------------------------------------------------------\u001b[0m",
      "\u001b[1;31mAttributeError\u001b[0m                            Traceback (most recent call last)",
      "Cell \u001b[1;32mIn[23], line 1\u001b[0m\n\u001b[1;32m----> 1\u001b[0m A\u001b[38;5;241m.\u001b[39mindex(\u001b[38;5;241m6\u001b[39m)\n",
      "\u001b[1;31mAttributeError\u001b[0m: 'set' object has no attribute 'index'"
     ]
    }
   ],
   "source": [
    "A.index(6)"
   ]
  },
  {
   "cell_type": "code",
   "execution_count": 26,
   "id": "f9951222",
   "metadata": {},
   "outputs": [],
   "source": [
    "A.discard(6)"
   ]
  },
  {
   "cell_type": "code",
   "execution_count": 27,
   "id": "70398b0c",
   "metadata": {},
   "outputs": [
    {
     "data": {
      "text/plain": [
       "{4, 7}"
      ]
     },
     "execution_count": 27,
     "metadata": {},
     "output_type": "execute_result"
    }
   ],
   "source": [
    "A"
   ]
  },
  {
   "cell_type": "markdown",
   "id": "e8f51c52",
   "metadata": {},
   "source": [
    "### remove vs discard\n",
    "\n",
    "remove - find the value and delete the value. If the value doesn't exists, throw error\n",
    "discard - find the value and delete the value. If the value doesn't exists, avoid. Don't throw any error!!"
   ]
  },
  {
   "cell_type": "code",
   "execution_count": 28,
   "id": "20a8a413",
   "metadata": {},
   "outputs": [
    {
     "ename": "KeyError",
     "evalue": "6",
     "output_type": "error",
     "traceback": [
      "\u001b[1;31m---------------------------------------------------------------------------\u001b[0m",
      "\u001b[1;31mKeyError\u001b[0m                                  Traceback (most recent call last)",
      "Cell \u001b[1;32mIn[28], line 1\u001b[0m\n\u001b[1;32m----> 1\u001b[0m A\u001b[38;5;241m.\u001b[39mremove(\u001b[38;5;241m6\u001b[39m)\n",
      "\u001b[1;31mKeyError\u001b[0m: 6"
     ]
    }
   ],
   "source": [
    "A.remove(6)"
   ]
  },
  {
   "cell_type": "code",
   "execution_count": 29,
   "id": "8c31ead6",
   "metadata": {},
   "outputs": [],
   "source": [
    "A.discard(6)"
   ]
  },
  {
   "cell_type": "code",
   "execution_count": 27,
   "id": "b34de6ec",
   "metadata": {},
   "outputs": [],
   "source": [
    "C = {\"A\", \"a\", \"D\", \"d\", \"C\", \"c\"}"
   ]
  },
  {
   "cell_type": "code",
   "execution_count": 28,
   "id": "d6f53b68",
   "metadata": {},
   "outputs": [
    {
     "data": {
      "text/plain": [
       "{'A', 'C', 'D', 'a', 'c', 'd'}"
      ]
     },
     "execution_count": 28,
     "metadata": {},
     "output_type": "execute_result"
    }
   ],
   "source": [
    "C"
   ]
  },
  {
   "cell_type": "markdown",
   "id": "91506bb6",
   "metadata": {},
   "source": [
    "### Guideline for using Data Structures\n",
    "1. For every general purpose we use lists\n",
    "2. For storing information which should not be deleted, we use tuples\n",
    "3. For default sorting, duplicates removal, union, intersection etc, we use Sets\n",
    "4. If u want to store keys and values, we use Dictionaries"
   ]
  },
  {
   "cell_type": "code",
   "execution_count": 29,
   "id": "c324d9f7",
   "metadata": {},
   "outputs": [],
   "source": [
    "A = {1, 1.2, 3, \"sachin\"}"
   ]
  },
  {
   "cell_type": "code",
   "execution_count": 30,
   "id": "f5ee592f",
   "metadata": {},
   "outputs": [
    {
     "data": {
      "text/plain": [
       "{1, 1.2, 3, 'sachin'}"
      ]
     },
     "execution_count": 30,
     "metadata": {},
     "output_type": "execute_result"
    }
   ],
   "source": [
    "#The sort is happening because of ASCII\n",
    "A"
   ]
  },
  {
   "cell_type": "code",
   "execution_count": 31,
   "id": "281dcbd2",
   "metadata": {},
   "outputs": [
    {
     "ename": "TypeError",
     "evalue": "unhashable type: 'list'",
     "output_type": "error",
     "traceback": [
      "\u001b[1;31m---------------------------------------------------------------------------\u001b[0m",
      "\u001b[1;31mTypeError\u001b[0m                                 Traceback (most recent call last)",
      "Cell \u001b[1;32mIn[31], line 1\u001b[0m\n\u001b[1;32m----> 1\u001b[0m A \u001b[38;5;241m=\u001b[39m {[\u001b[38;5;241m1\u001b[39m,\u001b[38;5;241m2\u001b[39m,\u001b[38;5;241m3\u001b[39m], [\u001b[38;5;241m4\u001b[39m,\u001b[38;5;241m5\u001b[39m,\u001b[38;5;241m6\u001b[39m]}\n",
      "\u001b[1;31mTypeError\u001b[0m: unhashable type: 'list'"
     ]
    }
   ],
   "source": [
    "A = {[1,2,3], [4,5,6]}"
   ]
  },
  {
   "cell_type": "markdown",
   "id": "326c33f8",
   "metadata": {},
   "source": [
    "1. set()\n",
    "2. list()\n",
    "3. tuple()\n",
    "4. dict()"
   ]
  },
  {
   "cell_type": "code",
   "execution_count": 38,
   "id": "3d35903b",
   "metadata": {},
   "outputs": [
    {
     "ename": "TypeError",
     "evalue": "set expected at most 1 argument, got 5",
     "output_type": "error",
     "traceback": [
      "\u001b[1;31m---------------------------------------------------------------------------\u001b[0m",
      "\u001b[1;31mTypeError\u001b[0m                                 Traceback (most recent call last)",
      "Cell \u001b[1;32mIn[38], line 1\u001b[0m\n\u001b[1;32m----> 1\u001b[0m \u001b[38;5;28mset\u001b[39m(\u001b[38;5;241m1\u001b[39m,\u001b[38;5;241m2\u001b[39m,\u001b[38;5;241m3\u001b[39m,\u001b[38;5;241m4\u001b[39m,\u001b[38;5;241m5\u001b[39m)\n",
      "\u001b[1;31mTypeError\u001b[0m: set expected at most 1 argument, got 5"
     ]
    }
   ],
   "source": [
    "set(1,2,3,4,5)"
   ]
  },
  {
   "cell_type": "code",
   "execution_count": 39,
   "id": "2106f6b2",
   "metadata": {},
   "outputs": [
    {
     "data": {
      "text/plain": [
       "{1, 2, 3, 4, 5}"
      ]
     },
     "execution_count": 39,
     "metadata": {},
     "output_type": "execute_result"
    }
   ],
   "source": [
    "set([1,2,3,4,5])"
   ]
  },
  {
   "cell_type": "code",
   "execution_count": 40,
   "id": "e90019d6",
   "metadata": {},
   "outputs": [
    {
     "data": {
      "text/plain": [
       "{1, 2, 3, 4, 5}"
      ]
     },
     "execution_count": 40,
     "metadata": {},
     "output_type": "execute_result"
    }
   ],
   "source": [
    "set({1,2,3,4,5})"
   ]
  },
  {
   "cell_type": "code",
   "execution_count": 41,
   "id": "697b1f46",
   "metadata": {},
   "outputs": [
    {
     "data": {
      "text/plain": [
       "{'a', 'h', 'i', 'm', 'n', 's', 'u'}"
      ]
     },
     "execution_count": 41,
     "metadata": {},
     "output_type": "execute_result"
    }
   ],
   "source": [
    "set(\"himanshu\")"
   ]
  },
  {
   "cell_type": "code",
   "execution_count": 42,
   "id": "665e6413",
   "metadata": {},
   "outputs": [
    {
     "data": {
      "text/plain": [
       "['h', 'i', 'm', 'a', 'n', 's', 'h', 'u']"
      ]
     },
     "execution_count": 42,
     "metadata": {},
     "output_type": "execute_result"
    }
   ],
   "source": [
    "list(\"himanshu\")"
   ]
  },
  {
   "cell_type": "code",
   "execution_count": 45,
   "id": "03aebedd",
   "metadata": {},
   "outputs": [
    {
     "data": {
      "text/plain": [
       "['a', 'b']"
      ]
     },
     "execution_count": 45,
     "metadata": {},
     "output_type": "execute_result"
    }
   ],
   "source": [
    "list({\"a\":100, \"b\":300})"
   ]
  },
  {
   "cell_type": "markdown",
   "id": "668a6122",
   "metadata": {},
   "source": [
    "# Strings"
   ]
  },
  {
   "cell_type": "code",
   "execution_count": 46,
   "id": "6fb09fc2",
   "metadata": {},
   "outputs": [],
   "source": [
    "name = \"Himanshu\""
   ]
  },
  {
   "cell_type": "code",
   "execution_count": 47,
   "id": "b615a494",
   "metadata": {},
   "outputs": [],
   "source": [
    "name_again = 'Himanshu'"
   ]
  },
  {
   "cell_type": "code",
   "execution_count": 48,
   "id": "932c8e9d",
   "metadata": {},
   "outputs": [],
   "source": [
    "name_again_and_again = '''Himanshu'''"
   ]
  },
  {
   "cell_type": "code",
   "execution_count": 49,
   "id": "6372a3b7",
   "metadata": {},
   "outputs": [
    {
     "name": "stdout",
     "output_type": "stream",
     "text": [
      "Himanshu Himanshu Himanshu\n"
     ]
    }
   ],
   "source": [
    "print(name, name_again, name_again_and_again)"
   ]
  },
  {
   "cell_type": "code",
   "execution_count": 50,
   "id": "74d982e1",
   "metadata": {},
   "outputs": [
    {
     "data": {
      "text/plain": [
       "'H'"
      ]
     },
     "execution_count": 50,
     "metadata": {},
     "output_type": "execute_result"
    }
   ],
   "source": [
    "name[0]"
   ]
  },
  {
   "cell_type": "code",
   "execution_count": 51,
   "id": "5236b17e",
   "metadata": {},
   "outputs": [
    {
     "data": {
      "text/plain": [
       "'i'"
      ]
     },
     "execution_count": 51,
     "metadata": {},
     "output_type": "execute_result"
    }
   ],
   "source": [
    "name[1]"
   ]
  },
  {
   "cell_type": "markdown",
   "id": "8f7c8fec",
   "metadata": {},
   "source": [
    "### String Operations"
   ]
  },
  {
   "cell_type": "code",
   "execution_count": 52,
   "id": "50dd6378",
   "metadata": {},
   "outputs": [
    {
     "data": {
      "text/plain": [
       "8"
      ]
     },
     "execution_count": 52,
     "metadata": {},
     "output_type": "execute_result"
    }
   ],
   "source": [
    "len(name)"
   ]
  },
  {
   "cell_type": "code",
   "execution_count": 53,
   "id": "0265dacd",
   "metadata": {},
   "outputs": [],
   "source": [
    "name = \"Aakash\""
   ]
  },
  {
   "cell_type": "code",
   "execution_count": 54,
   "id": "35331551",
   "metadata": {},
   "outputs": [
    {
     "data": {
      "text/plain": [
       "6"
      ]
     },
     "execution_count": 54,
     "metadata": {},
     "output_type": "execute_result"
    }
   ],
   "source": [
    "len(name)"
   ]
  },
  {
   "cell_type": "code",
   "execution_count": 55,
   "id": "aac6bab1",
   "metadata": {},
   "outputs": [
    {
     "data": {
      "text/plain": [
       "1"
      ]
     },
     "execution_count": 55,
     "metadata": {},
     "output_type": "execute_result"
    }
   ],
   "source": [
    "name.count(\"A\")"
   ]
  },
  {
   "cell_type": "code",
   "execution_count": 56,
   "id": "52b36660",
   "metadata": {},
   "outputs": [
    {
     "data": {
      "text/plain": [
       "2"
      ]
     },
     "execution_count": 56,
     "metadata": {},
     "output_type": "execute_result"
    }
   ],
   "source": [
    "name.count(\"a\")"
   ]
  },
  {
   "cell_type": "code",
   "execution_count": 57,
   "id": "432892f7",
   "metadata": {},
   "outputs": [
    {
     "data": {
      "text/plain": [
       "3"
      ]
     },
     "execution_count": 57,
     "metadata": {},
     "output_type": "execute_result"
    }
   ],
   "source": [
    "name.count(\"A\")+name.count(\"a\")"
   ]
  },
  {
   "cell_type": "code",
   "execution_count": 59,
   "id": "a2c34939",
   "metadata": {},
   "outputs": [],
   "source": [
    "n = name.lower()"
   ]
  },
  {
   "cell_type": "code",
   "execution_count": 60,
   "id": "5a4ff73e",
   "metadata": {},
   "outputs": [
    {
     "data": {
      "text/plain": [
       "3"
      ]
     },
     "execution_count": 60,
     "metadata": {},
     "output_type": "execute_result"
    }
   ],
   "source": [
    "n.count(\"a\")"
   ]
  },
  {
   "cell_type": "code",
   "execution_count": 62,
   "id": "a28390f3",
   "metadata": {},
   "outputs": [
    {
     "data": {
      "text/plain": [
       "'AAKASH'"
      ]
     },
     "execution_count": 62,
     "metadata": {},
     "output_type": "execute_result"
    }
   ],
   "source": [
    "name.upper()"
   ]
  },
  {
   "cell_type": "code",
   "execution_count": 63,
   "id": "ff96957d",
   "metadata": {},
   "outputs": [],
   "source": [
    "complete_name = \"Himanshu Singh\""
   ]
  },
  {
   "cell_type": "code",
   "execution_count": 64,
   "id": "f2e251d4",
   "metadata": {},
   "outputs": [
    {
     "data": {
      "text/plain": [
       "['Himanshu', 'Singh']"
      ]
     },
     "execution_count": 64,
     "metadata": {},
     "output_type": "execute_result"
    }
   ],
   "source": [
    "complete_name.split(\" \")"
   ]
  },
  {
   "cell_type": "code",
   "execution_count": 68,
   "id": "74b171fc",
   "metadata": {},
   "outputs": [],
   "source": [
    "a = complete_name.split(\" \")"
   ]
  },
  {
   "cell_type": "code",
   "execution_count": 65,
   "id": "ea002985",
   "metadata": {},
   "outputs": [],
   "source": [
    "first_name = complete_name.split(\" \")[0]\n",
    "last_name = complete_name.split(\" \")[1]"
   ]
  },
  {
   "cell_type": "code",
   "execution_count": 69,
   "id": "3e3f529e",
   "metadata": {},
   "outputs": [],
   "source": [
    "first_name = a[0]\n",
    "last_name = a[1]"
   ]
  },
  {
   "cell_type": "code",
   "execution_count": 70,
   "id": "221e6f57",
   "metadata": {},
   "outputs": [
    {
     "data": {
      "text/plain": [
       "'Himanshu'"
      ]
     },
     "execution_count": 70,
     "metadata": {},
     "output_type": "execute_result"
    }
   ],
   "source": [
    "first_name"
   ]
  },
  {
   "cell_type": "code",
   "execution_count": 71,
   "id": "8cc2800f",
   "metadata": {},
   "outputs": [
    {
     "data": {
      "text/plain": [
       "'Singh'"
      ]
     },
     "execution_count": 71,
     "metadata": {},
     "output_type": "execute_result"
    }
   ],
   "source": [
    "last_name"
   ]
  },
  {
   "cell_type": "code",
   "execution_count": 72,
   "id": "834a0909",
   "metadata": {},
   "outputs": [],
   "source": [
    "complete_name = \"Himanshu//Singh\"\n",
    "\n",
    "complete_name.split(\"//\")"
   ]
  },
  {
   "cell_type": "code",
   "execution_count": 78,
   "id": "929a074a",
   "metadata": {},
   "outputs": [
    {
     "data": {
      "text/plain": [
       "8"
      ]
     },
     "execution_count": 78,
     "metadata": {},
     "output_type": "execute_result"
    }
   ],
   "source": [
    "complete_name.find(\"/\")"
   ]
  },
  {
   "cell_type": "code",
   "execution_count": 81,
   "id": "510b32da",
   "metadata": {},
   "outputs": [],
   "source": [
    "new_name = first_name+\" \"+last_name"
   ]
  },
  {
   "cell_type": "code",
   "execution_count": 82,
   "id": "2995aacd",
   "metadata": {},
   "outputs": [
    {
     "data": {
      "text/plain": [
       "'Himanshu Singh'"
      ]
     },
     "execution_count": 82,
     "metadata": {},
     "output_type": "execute_result"
    }
   ],
   "source": [
    "new_name"
   ]
  },
  {
   "cell_type": "code",
   "execution_count": 83,
   "id": "e3ad2d92",
   "metadata": {},
   "outputs": [
    {
     "data": {
      "text/plain": [
       "'Himanshu Pandey'"
      ]
     },
     "execution_count": 83,
     "metadata": {},
     "output_type": "execute_result"
    }
   ],
   "source": [
    "new_name.replace(\"Singh\", \"Pandey\")"
   ]
  },
  {
   "cell_type": "code",
   "execution_count": 86,
   "id": "8816c5b6",
   "metadata": {},
   "outputs": [
    {
     "data": {
      "text/plain": [
       "'Chitranshu'"
      ]
     },
     "execution_count": 86,
     "metadata": {},
     "output_type": "execute_result"
    }
   ],
   "source": [
    "\"Chitra\"+\"nshu\""
   ]
  },
  {
   "cell_type": "code",
   "execution_count": 91,
   "id": "7a0f3663",
   "metadata": {},
   "outputs": [
    {
     "data": {
      "text/plain": [
       "'Himanshu Singh'"
      ]
     },
     "execution_count": 91,
     "metadata": {},
     "output_type": "execute_result"
    }
   ],
   "source": [
    "new_name"
   ]
  },
  {
   "cell_type": "code",
   "execution_count": 88,
   "id": "00c7a8dd",
   "metadata": {},
   "outputs": [
    {
     "data": {
      "text/plain": [
       "9"
      ]
     },
     "execution_count": 88,
     "metadata": {},
     "output_type": "execute_result"
    }
   ],
   "source": [
    "new_name.index(\"S\")"
   ]
  },
  {
   "cell_type": "code",
   "execution_count": 93,
   "id": "9b0ee4f1",
   "metadata": {},
   "outputs": [
    {
     "ename": "TypeError",
     "evalue": "'str' object does not support item assignment",
     "output_type": "error",
     "traceback": [
      "\u001b[1;31m---------------------------------------------------------------------------\u001b[0m",
      "\u001b[1;31mTypeError\u001b[0m                                 Traceback (most recent call last)",
      "Cell \u001b[1;32mIn[93], line 2\u001b[0m\n\u001b[0;32m      1\u001b[0m \u001b[38;5;66;03m#Direct replacement is not possible\u001b[39;00m\n\u001b[1;32m----> 2\u001b[0m new_name[\u001b[38;5;241m8\u001b[39m]\u001b[38;5;241m=\u001b[39m\u001b[38;5;124m\"\u001b[39m\u001b[38;5;124m/\u001b[39m\u001b[38;5;124m\"\u001b[39m\n",
      "\u001b[1;31mTypeError\u001b[0m: 'str' object does not support item assignment"
     ]
    }
   ],
   "source": [
    "# Direct replacement is not possible\n",
    "# We can use index to read, but not write\n",
    "new_name[8]=\"/\""
   ]
  },
  {
   "cell_type": "code",
   "execution_count": 94,
   "id": "ca6e0b19",
   "metadata": {},
   "outputs": [
    {
     "data": {
      "text/plain": [
       "'Himanshu/Singh'"
      ]
     },
     "execution_count": 94,
     "metadata": {},
     "output_type": "execute_result"
    }
   ],
   "source": [
    "new_name.replace(\" \",\"/\")"
   ]
  },
  {
   "cell_type": "code",
   "execution_count": 98,
   "id": "1c1f0cd7",
   "metadata": {},
   "outputs": [
    {
     "name": "stdout",
     "output_type": "stream",
     "text": [
      "MY NAME IS Krish\n"
     ]
    }
   ],
   "source": [
    "names = \"MY NAME IS GOPAL\"\n",
    "names = names.replace(\"GOPAL\", \"Krish\")\n",
    "print(names)\n"
   ]
  },
  {
   "cell_type": "code",
   "execution_count": 97,
   "id": "df0fc535",
   "metadata": {},
   "outputs": [
    {
     "data": {
      "text/plain": [
       "'MY NAME IS GOPAL'"
      ]
     },
     "execution_count": 97,
     "metadata": {},
     "output_type": "execute_result"
    }
   ],
   "source": [
    "names"
   ]
  },
  {
   "cell_type": "code",
   "execution_count": 107,
   "id": "52a41184",
   "metadata": {},
   "outputs": [
    {
     "name": "stdout",
     "output_type": "stream",
     "text": [
      "['H', 'i', 'm', 'a', 'n', 's', 'h', 'u', ' ', 'S', 'i', 'n', 'g', 'h']\n",
      "['H', 'i', 'm', 'a', 'n', 's', 'h', 'u', '/', 'S', 'i', 'n', 'g', 'h']\n",
      "Himanshu/Singh\n"
     ]
    }
   ],
   "source": [
    "temp = list(new_name)\n",
    "print(temp)\n",
    "\n",
    "temp[8] = \"/\"\n",
    "print(temp)\n",
    "\n",
    "name = \"\"\n",
    "for i in temp:\n",
    "    name = name + i\n",
    "\n",
    "print(name)"
   ]
  },
  {
   "cell_type": "code",
   "execution_count": 108,
   "id": "8f4212f7",
   "metadata": {},
   "outputs": [],
   "source": [
    "name = [\"Arnav\", \"Singh\", \"Randhawa\"]"
   ]
  },
  {
   "cell_type": "code",
   "execution_count": 109,
   "id": "3c7a8ab5",
   "metadata": {},
   "outputs": [
    {
     "data": {
      "text/plain": [
       "'Arnav Singh Randhawa'"
      ]
     },
     "execution_count": 109,
     "metadata": {},
     "output_type": "execute_result"
    }
   ],
   "source": [
    "name[0]+\" \"+name[1]+\" \"+name[2]"
   ]
  },
  {
   "cell_type": "code",
   "execution_count": 112,
   "id": "725de372",
   "metadata": {},
   "outputs": [
    {
     "name": "stdout",
     "output_type": "stream",
     "text": [
      "Arnav Singh Randhawa \n"
     ]
    }
   ],
   "source": [
    "full_name = \"\"\n",
    "for n in name:\n",
    "    full_name = full_name + n + \" \"\n",
    "    \n",
    "print(full_name)"
   ]
  },
  {
   "cell_type": "code",
   "execution_count": 113,
   "id": "e5679037",
   "metadata": {},
   "outputs": [
    {
     "data": {
      "text/plain": [
       "'Arnav Singh Randhawa'"
      ]
     },
     "execution_count": 113,
     "metadata": {},
     "output_type": "execute_result"
    }
   ],
   "source": [
    "\" \".join(name)"
   ]
  },
  {
   "cell_type": "code",
   "execution_count": 114,
   "id": "8d6b9fd2",
   "metadata": {},
   "outputs": [
    {
     "ename": "SyntaxError",
     "evalue": "unterminated string literal (detected at line 1) (2696139769.py, line 1)",
     "output_type": "error",
     "traceback": [
      "\u001b[1;36m  Cell \u001b[1;32mIn[114], line 1\u001b[1;36m\u001b[0m\n\u001b[1;33m    text = 'India's mangoes are famous'\u001b[0m\n\u001b[1;37m                                      ^\u001b[0m\n\u001b[1;31mSyntaxError\u001b[0m\u001b[1;31m:\u001b[0m unterminated string literal (detected at line 1)\n"
     ]
    }
   ],
   "source": [
    "text = 'India's mangoes are famous'"
   ]
  },
  {
   "cell_type": "code",
   "execution_count": 126,
   "id": "e919417f",
   "metadata": {},
   "outputs": [],
   "source": [
    "text = \"India's mangoes are \\n famous\""
   ]
  },
  {
   "cell_type": "code",
   "execution_count": 127,
   "id": "7c9fe670",
   "metadata": {},
   "outputs": [
    {
     "data": {
      "text/plain": [
       "\"India's mangoes are \\n famous\""
      ]
     },
     "execution_count": 127,
     "metadata": {},
     "output_type": "execute_result"
    }
   ],
   "source": [
    "text"
   ]
  },
  {
   "cell_type": "code",
   "execution_count": 132,
   "id": "0da4d868",
   "metadata": {},
   "outputs": [],
   "source": [
    "text2 = 'My name is\\n\"Himanshu\"'"
   ]
  },
  {
   "cell_type": "code",
   "execution_count": 133,
   "id": "8c75a2f3",
   "metadata": {},
   "outputs": [
    {
     "data": {
      "text/plain": [
       "'My name is\\n\"Himanshu\"'"
      ]
     },
     "execution_count": 133,
     "metadata": {},
     "output_type": "execute_result"
    }
   ],
   "source": [
    "text2"
   ]
  },
  {
   "cell_type": "code",
   "execution_count": 137,
   "id": "953267dc",
   "metadata": {},
   "outputs": [
    {
     "name": "stdout",
     "output_type": "stream",
     "text": [
      "India's mangoes \n",
      " are famous\n"
     ]
    }
   ],
   "source": [
    "# Escape sequences\n",
    "# Escape characters work perfectly with print() statement\n",
    "# https://www.w3schools.com/python/gloss_python_escape_characters.asp\n",
    "text = 'India\\'s mangoes \\n are famous'\n",
    "print(text)"
   ]
  },
  {
   "cell_type": "code",
   "execution_count": 139,
   "id": "3f987cd3",
   "metadata": {},
   "outputs": [
    {
     "data": {
      "text/plain": [
       "'My name is himanshu'"
      ]
     },
     "execution_count": 139,
     "metadata": {},
     "output_type": "execute_result"
    }
   ],
   "source": [
    "text = \"my NAme iS Himanshu\"\n",
    "text.capitalize()"
   ]
  },
  {
   "cell_type": "code",
   "execution_count": 142,
   "id": "195c9fb6",
   "metadata": {},
   "outputs": [
    {
     "data": {
      "text/plain": [
       "'ś'"
      ]
     },
     "execution_count": 142,
     "metadata": {},
     "output_type": "execute_result"
    }
   ],
   "source": [
    "\"Ś\".casefold()"
   ]
  },
  {
   "cell_type": "code",
   "execution_count": 143,
   "id": "9e59a2fa",
   "metadata": {},
   "outputs": [
    {
     "data": {
      "text/plain": [
       "'ś'"
      ]
     },
     "execution_count": 143,
     "metadata": {},
     "output_type": "execute_result"
    }
   ],
   "source": [
    "\"Ś\".lower()"
   ]
  },
  {
   "cell_type": "code",
   "execution_count": 146,
   "id": "b19c2e54",
   "metadata": {},
   "outputs": [
    {
     "data": {
      "text/plain": [
       "'straße'"
      ]
     },
     "execution_count": 146,
     "metadata": {},
     "output_type": "execute_result"
    }
   ],
   "source": [
    "word = \"Straße\"\n",
    "word.lower()"
   ]
  },
  {
   "cell_type": "code",
   "execution_count": 147,
   "id": "b35067f2",
   "metadata": {},
   "outputs": [
    {
     "data": {
      "text/plain": [
       "'strasse'"
      ]
     },
     "execution_count": 147,
     "metadata": {},
     "output_type": "execute_result"
    }
   ],
   "source": [
    "word.casefold()"
   ]
  },
  {
   "cell_type": "code",
   "execution_count": 148,
   "id": "1681fab8",
   "metadata": {},
   "outputs": [
    {
     "data": {
      "text/plain": [
       "'Straße'"
      ]
     },
     "execution_count": 148,
     "metadata": {},
     "output_type": "execute_result"
    }
   ],
   "source": [
    "word"
   ]
  },
  {
   "cell_type": "markdown",
   "id": "343a3b62",
   "metadata": {},
   "source": [
    "# Slicing"
   ]
  },
  {
   "cell_type": "code",
   "execution_count": 150,
   "id": "655b1215",
   "metadata": {},
   "outputs": [
    {
     "data": {
      "text/plain": [
       "[1,\n",
       " 2,\n",
       " 3,\n",
       " 4,\n",
       " 5,\n",
       " 6,\n",
       " 7,\n",
       " 8,\n",
       " 9,\n",
       " 10,\n",
       " 11,\n",
       " 12,\n",
       " 13,\n",
       " 14,\n",
       " 15,\n",
       " 16,\n",
       " 17,\n",
       " 18,\n",
       " 19,\n",
       " 20,\n",
       " 21,\n",
       " 22,\n",
       " 23,\n",
       " 24,\n",
       " 25,\n",
       " 26,\n",
       " 27,\n",
       " 28,\n",
       " 29,\n",
       " 30,\n",
       " 31,\n",
       " 32,\n",
       " 33,\n",
       " 34,\n",
       " 35,\n",
       " 36,\n",
       " 37,\n",
       " 38,\n",
       " 39,\n",
       " 40,\n",
       " 41,\n",
       " 42,\n",
       " 43,\n",
       " 44,\n",
       " 45,\n",
       " 46,\n",
       " 47,\n",
       " 48,\n",
       " 49]"
      ]
     },
     "execution_count": 150,
     "metadata": {},
     "output_type": "execute_result"
    }
   ],
   "source": [
    "temp = list(range(1,50))\n",
    "temp"
   ]
  },
  {
   "cell_type": "code",
   "execution_count": 151,
   "id": "4d2ba905",
   "metadata": {},
   "outputs": [
    {
     "data": {
      "text/plain": [
       "[1, 2, 3, 4, 5]"
      ]
     },
     "execution_count": 151,
     "metadata": {},
     "output_type": "execute_result"
    }
   ],
   "source": [
    "temp[0:5]"
   ]
  },
  {
   "cell_type": "code",
   "execution_count": 152,
   "id": "55729e96",
   "metadata": {},
   "outputs": [
    {
     "data": {
      "text/plain": [
       "[1, 2, 3, 4, 5]"
      ]
     },
     "execution_count": 152,
     "metadata": {},
     "output_type": "execute_result"
    }
   ],
   "source": [
    "temp[:5]"
   ]
  },
  {
   "cell_type": "code",
   "execution_count": 153,
   "id": "59dda394",
   "metadata": {},
   "outputs": [
    {
     "data": {
      "text/plain": [
       "[2, 4, 6, 8, 10]"
      ]
     },
     "execution_count": 153,
     "metadata": {},
     "output_type": "execute_result"
    }
   ],
   "source": [
    "temp[1:10:2]"
   ]
  },
  {
   "cell_type": "markdown",
   "id": "05c6e08c",
   "metadata": {},
   "source": [
    "# Conditional Statements"
   ]
  },
  {
   "cell_type": "code",
   "execution_count": 154,
   "id": "5fe01199",
   "metadata": {},
   "outputs": [],
   "source": [
    "marks = [20, 40, 60, 80, 100, 10, 30, 50, 70, 90]\n",
    "failing_criteria = 30"
   ]
  },
  {
   "cell_type": "code",
   "execution_count": 163,
   "id": "11b56513",
   "metadata": {},
   "outputs": [
    {
     "name": "stdout",
     "output_type": "stream",
     "text": [
      "fail\n",
      "pass\n",
      "pass\n",
      "pass\n",
      "pass\n",
      "fail\n",
      "fail\n",
      "pass\n",
      "pass\n",
      "pass\n",
      "Total number of students failed: 3\n",
      "Total number of students passed: 7\n"
     ]
    }
   ],
   "source": [
    "fail = 0\n",
    "for m in marks:\n",
    "    if m <= failing_criteria:\n",
    "        fail += 1\n",
    "        print(\"fail\")\n",
    "    else:\n",
    "        print(\"pass\")\n",
    "\n",
    "print(f\"Total number of students failed: {fail}\")\n",
    "print(f\"Total number of students passed: {len(marks) - fail}\")"
   ]
  },
  {
   "cell_type": "code",
   "execution_count": 160,
   "id": "713ce519",
   "metadata": {},
   "outputs": [],
   "source": [
    "marks = [20, 40, 60, 80, 100, 10, 30, 50, 70, 90]\n",
    "failing_criteria = 30\n",
    "grade_D = 50\n",
    "grade_C = 70\n",
    "grade_B = 85"
   ]
  },
  {
   "cell_type": "code",
   "execution_count": 167,
   "id": "70d79fce",
   "metadata": {},
   "outputs": [
    {
     "name": "stdout",
     "output_type": "stream",
     "text": [
      "Total number of students failed: 3\n",
      "Total number of students having D Grade: 2\n",
      "Total number of students having C Grade: 2\n",
      "Total number of students having B Grade: 1\n",
      "Total number of students having A Grade: 2\n"
     ]
    }
   ],
   "source": [
    "#Creating counters\n",
    "fail = 0\n",
    "d = 0\n",
    "c = 0\n",
    "b = 0\n",
    "a = 0\n",
    "for m in marks:\n",
    "    if m <= failing_criteria:\n",
    "        fail += 1\n",
    "    elif m>failing_criteria and m <= grade_D:\n",
    "        d += 1\n",
    "    elif m>grade_D and m <= grade_C:\n",
    "        c += 1\n",
    "    elif m>grade_C and m <= grade_B:\n",
    "        b += 1\n",
    "    else:\n",
    "        a += 1\n",
    "        \n",
    "print(f\"Total number of students failed: {fail}\")\n",
    "print(f\"Total number of students having D Grade: {d}\")\n",
    "print(f\"Total number of students having C Grade: {c}\")\n",
    "print(f\"Total number of students having B Grade: {b}\")\n",
    "# print(f\"Total number of students having A Grade: {a}\")\n",
    "print(f\"Total number of students having A Grade: {len(marks)-fail-d-c-b}\")"
   ]
  },
  {
   "cell_type": "code",
   "execution_count": 189,
   "id": "b25b73cf",
   "metadata": {},
   "outputs": [],
   "source": [
    "# Nested Dictionaries\n",
    "\n",
    "classes_information = {\n",
    "    \"Section A\": {\n",
    "        \"student_info\": {\"1\":\"Mahak\", \"2\":\"Vipin\", \"3\":\"Saurav\"},\n",
    "        \"student_marks\": {\"1\":20, \"2\":99, \"3\": 45}\n",
    "    },\n",
    "    \"Section B\": {\n",
    "        \"student_info\": {\"4\":\"Sachin\", \"5\":\"Rahul\", \"6\":\"Sehwag\"},\n",
    "        \"student_marks\": {\"4\":90, \"5\":87, \"6\": 77}\n",
    "    }\n",
    "}"
   ]
  },
  {
   "cell_type": "markdown",
   "id": "125ae269",
   "metadata": {},
   "source": [
    "1. How many students pass or fail in each sections?\n",
    "2. What is the name of those students?"
   ]
  },
  {
   "cell_type": "code",
   "execution_count": 190,
   "id": "8ba9ef02",
   "metadata": {},
   "outputs": [
    {
     "name": "stdout",
     "output_type": "stream",
     "text": [
      "{'student_info': {'1': 'Mahak', '2': 'Vipin', '3': 'Saurav'}, 'student_marks': {'1': 20, '2': 99, '3': 45}}\n",
      "{'student_info': {'4': 'Sachin', '5': 'Rahul', '6': 'Sehwag'}, 'student_marks': {'4': 90, '5': 87, '6': 77}}\n"
     ]
    }
   ],
   "source": [
    "# Number of students failed in Section A, Section B\n",
    "\n",
    "sectionA = classes_information[\"Section A\"]\n",
    "sectionB = classes_information[\"Section B\"]\n",
    "print(sectionA)\n",
    "print(sectionB)"
   ]
  },
  {
   "cell_type": "code",
   "execution_count": 194,
   "id": "388cb07e",
   "metadata": {},
   "outputs": [
    {
     "name": "stdout",
     "output_type": "stream",
     "text": [
      "{'1': 20, '2': 99, '3': 45}\n",
      "The student who failed is Mahak\n"
     ]
    }
   ],
   "source": [
    "all_marks = sectionA[\"student_marks\"]\n",
    "all_students = sectionA[\"student_info\"]\n",
    "print(all_marks)\n",
    "for k in all_marks.keys():\n",
    "    if all_marks[k] <= 30:\n",
    "        print(f\"The student who failed is {all_students[k]}\")"
   ]
  },
  {
   "cell_type": "code",
   "execution_count": 191,
   "id": "b803a342",
   "metadata": {},
   "outputs": [
    {
     "name": "stdout",
     "output_type": "stream",
     "text": [
      "Total number of students failed in Section A: 1\n",
      "Total number of students passed in Section A: 2\n"
     ]
    }
   ],
   "source": [
    "all_marks = sectionA[\"student_marks\"].values()\n",
    "fail = 0\n",
    "for m in all_marks:\n",
    "    if m <= 30:\n",
    "        fail += 1\n",
    "\n",
    "print(f\"Total number of students failed in Section A: {fail}\")\n",
    "print(f\"Total number of students passed in Section A: {len(all_marks) - fail}\")"
   ]
  },
  {
   "cell_type": "code",
   "execution_count": 192,
   "id": "702afa08",
   "metadata": {},
   "outputs": [
    {
     "name": "stdout",
     "output_type": "stream",
     "text": [
      "Total number of students failed in Section B: 0\n",
      "Total number of students passed in Section B: 3\n"
     ]
    }
   ],
   "source": [
    "all_marks = sectionB[\"student_marks\"].values()\n",
    "fail = 0\n",
    "for m in all_marks:\n",
    "    if m <= 30:\n",
    "        fail += 1\n",
    "\n",
    "print(f\"Total number of students failed in Section B: {fail}\")\n",
    "print(f\"Total number of students passed in Section B: {len(all_marks) - fail}\")"
   ]
  },
  {
   "cell_type": "code",
   "execution_count": 193,
   "id": "05a33088",
   "metadata": {},
   "outputs": [
    {
     "name": "stdout",
     "output_type": "stream",
     "text": [
      "{'1': 20, '2': 99, '3': 45}\n",
      "The student who failed is Mahak\n"
     ]
    }
   ],
   "source": [
    "all_marks = sectionA[\"student_marks\"]\n",
    "all_students = sectionA[\"student_info\"]\n",
    "print(all_marks)\n",
    "for k in all_marks.keys():\n",
    "    if all_marks[k] <= 30:\n",
    "        print(f\"The student who failed is {all_students[k]}\")"
   ]
  },
  {
   "cell_type": "code",
   "execution_count": null,
   "id": "08aa2882",
   "metadata": {},
   "outputs": [],
   "source": []
  }
 ],
 "metadata": {
  "kernelspec": {
   "display_name": "Python 3 (ipykernel)",
   "language": "python",
   "name": "python3"
  },
  "language_info": {
   "codemirror_mode": {
    "name": "ipython",
    "version": 3
   },
   "file_extension": ".py",
   "mimetype": "text/x-python",
   "name": "python",
   "nbconvert_exporter": "python",
   "pygments_lexer": "ipython3",
   "version": "3.10.9"
  }
 },
 "nbformat": 4,
 "nbformat_minor": 5
}
