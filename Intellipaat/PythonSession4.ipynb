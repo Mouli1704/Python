{
 "cells": [
  {
   "cell_type": "markdown",
   "id": "e8cb37b4",
   "metadata": {},
   "source": [
    "# Shorthand Notation of If/else"
   ]
  },
  {
   "cell_type": "code",
   "execution_count": 2,
   "id": "fcba4564",
   "metadata": {},
   "outputs": [
    {
     "name": "stdout",
     "output_type": "stream",
     "text": [
      "fail\n",
      "pass\n",
      "pass\n",
      "pass\n",
      "pass\n",
      "fail\n",
      "fail\n",
      "pass\n",
      "pass\n",
      "pass\n"
     ]
    }
   ],
   "source": [
    "marks = [20, 40, 60, 80, 100, 10, 30, 50, 70, 90]\n",
    "failing_criteria = 30\n",
    "\n",
    "for m in marks:\n",
    "    if m <= failing_criteria:\n",
    "        print(\"fail\")\n",
    "    else:\n",
    "        print(\"pass\")"
   ]
  },
  {
   "cell_type": "code",
   "execution_count": 6,
   "id": "84a318b6",
   "metadata": {},
   "outputs": [
    {
     "name": "stdout",
     "output_type": "stream",
     "text": [
      "20 FAIL\n",
      "40 PASS\n",
      "60 PASS\n",
      "80 PASS\n",
      "100 PASS\n",
      "10 FAIL\n",
      "30 PASS\n",
      "50 PASS\n",
      "70 PASS\n",
      "90 PASS\n"
     ]
    }
   ],
   "source": [
    "# Shorthand Notation\n",
    "\n",
    "marks = [20, 40, 60, 80, 100, 10, 30, 50, 70, 90]\n",
    "failing_criteria = 30\n",
    "for m in marks:\n",
    "    status = \"fail\" if m <= failing_criteria else \"pass\"\n",
    "    status_marks = f\"{m} FAIL\" if m<failing_criteria else f\"{m} PASS\"\n",
    "    print(status_marks)"
   ]
  },
  {
   "cell_type": "code",
   "execution_count": 9,
   "id": "a71518ba",
   "metadata": {},
   "outputs": [
    {
     "name": "stdout",
     "output_type": "stream",
     "text": [
      "fail\n",
      "fail\n",
      "Pass\n",
      "Pass\n",
      "Pass\n",
      "fail\n",
      "fail\n",
      "grade D\n",
      "Pass\n",
      "Pass\n"
     ]
    }
   ],
   "source": [
    "marks = [20, 40, 60, 80, 100, 10, 30, 50, 70, 90]\n",
    "failing_criteria = 40\n",
    "grade_D = 50\n",
    "\n",
    "for m in marks:\n",
    "    status = \"fail\" if m <= failing_criteria else \"grade D\" if m > failing_criteria and m <=grade_D else \"Pass\"\n",
    "    print(status)"
   ]
  },
  {
   "cell_type": "code",
   "execution_count": 11,
   "id": "85227ba6",
   "metadata": {},
   "outputs": [],
   "source": [
    "status = \"fail\" if  m <= failing_criteria else \"Grade D\" if m > 30 and m <=50 else \"Pass\""
   ]
  },
  {
   "cell_type": "markdown",
   "id": "0f8c0655",
   "metadata": {},
   "source": [
    "# Short Hand Notation of For Loop\n",
    "#### Comprehension"
   ]
  },
  {
   "cell_type": "code",
   "execution_count": 1,
   "id": "90a8bc4f",
   "metadata": {},
   "outputs": [
    {
     "name": "stdout",
     "output_type": "stream",
     "text": [
      "20\n",
      "40\n",
      "60\n",
      "80\n",
      "100\n",
      "10\n",
      "30\n",
      "50\n",
      "70\n",
      "90\n"
     ]
    }
   ],
   "source": [
    "marks = [20, 40, 60, 80, 100, 10, 30, 50, 70, 90]\n",
    "\n",
    "# Earlier Approach\n",
    "\n",
    "for m in marks:\n",
    "    print(m)"
   ]
  },
  {
   "cell_type": "code",
   "execution_count": 2,
   "id": "a2372994",
   "metadata": {},
   "outputs": [
    {
     "name": "stdout",
     "output_type": "stream",
     "text": [
      "20\n",
      "40\n",
      "60\n",
      "80\n",
      "100\n",
      "10\n",
      "30\n",
      "50\n",
      "70\n",
      "90\n"
     ]
    }
   ],
   "source": [
    "for m in marks: print(m)"
   ]
  },
  {
   "cell_type": "code",
   "execution_count": 4,
   "id": "c5c3324a",
   "metadata": {},
   "outputs": [],
   "source": [
    "status = [\"fail\" if m <= 30 else \"pass\" for m in marks]"
   ]
  },
  {
   "cell_type": "code",
   "execution_count": 5,
   "id": "5f2bd2fa",
   "metadata": {},
   "outputs": [
    {
     "name": "stdout",
     "output_type": "stream",
     "text": [
      "['fail', 'pass', 'pass', 'pass', 'pass', 'fail', 'fail', 'pass', 'pass', 'pass']\n"
     ]
    }
   ],
   "source": [
    "print(status)"
   ]
  },
  {
   "cell_type": "code",
   "execution_count": 22,
   "id": "08f8e3fa",
   "metadata": {},
   "outputs": [
    {
     "name": "stdout",
     "output_type": "stream",
     "text": [
      "fail\n",
      "pass\n",
      "pass\n",
      "pass\n",
      "pass\n",
      "fail\n",
      "fail\n",
      "pass\n",
      "pass\n",
      "pass\n"
     ]
    }
   ],
   "source": [
    "for s in status: print(s)"
   ]
  },
  {
   "cell_type": "markdown",
   "id": "da9262b4",
   "metadata": {},
   "source": [
    "# Advanced Looping"
   ]
  },
  {
   "cell_type": "code",
   "execution_count": 6,
   "id": "1a55d6d7",
   "metadata": {},
   "outputs": [
    {
     "name": "stdout",
     "output_type": "stream",
     "text": [
      "The Student failed and he got: 9\n",
      "The Student failed and he got: 5\n"
     ]
    }
   ],
   "source": [
    "# Break Keyword\n",
    "\n",
    "marks = [9, 5, 20, 40, 60, 80, 100, 50, 70, 90]\n",
    "\n",
    "# Is there any student who got less than 10 marks?\n",
    "\n",
    "number_of_students = 0\n",
    "for m in marks:\n",
    "    if number_of_students == 2:\n",
    "        break\n",
    "    if m < 10:\n",
    "        number_of_students += 1\n",
    "        print(f\"The Student failed and he got: {m}\")\n",
    "    else:\n",
    "        print(m)"
   ]
  },
  {
   "cell_type": "code",
   "execution_count": 35,
   "id": "66cbc146",
   "metadata": {},
   "outputs": [
    {
     "name": "stdout",
     "output_type": "stream",
     "text": [
      "The marks I got is: 9\n",
      "Highest marks I can get is: 100\n",
      "Percentage that I got is: 9%\n",
      "The marks I got is: 5\n",
      "Highest marks I can get is: 100\n",
      "Percentage that I got is: 5%\n"
     ]
    }
   ],
   "source": [
    "# Continue Keyword\n",
    "\n",
    "marks = [9, 5, 20, 40, 60, 80, 100, 50, 70, 90]\n",
    "for m in marks:\n",
    "    if m > 10:\n",
    "        continue\n",
    "    print(f\"The marks I got is: {m}\")\n",
    "    print(f\"Highest marks I can get is: {100}\")\n",
    "    print(f\"Percentage that I got is: {m}%\")"
   ]
  },
  {
   "cell_type": "code",
   "execution_count": 38,
   "id": "a9a6d4fb",
   "metadata": {},
   "outputs": [
    {
     "name": "stdout",
     "output_type": "stream",
     "text": [
      "13.333333333333334\n",
      "120\n",
      "1\n",
      "43\n",
      "37\n",
      "20.0\n",
      "180\n",
      "0\n",
      "63\n",
      "57\n",
      "26.666666666666668\n",
      "240\n",
      "2\n",
      "83\n",
      "77\n",
      "33.333333333333336\n",
      "300\n",
      "1\n",
      "103\n",
      "97\n",
      "16.666666666666668\n",
      "150\n",
      "2\n",
      "53\n",
      "47\n",
      "23.333333333333332\n",
      "210\n",
      "1\n",
      "73\n",
      "67\n",
      "30.0\n",
      "270\n",
      "0\n",
      "93\n",
      "87\n",
      "13.333333333333334\n",
      "120\n",
      "1\n",
      "43\n",
      "37\n"
     ]
    }
   ],
   "source": [
    "marks = [9, 5, 20, 40, 60, 80, 100, 50, 70, 90, 9, 5, 20, 40, 60, 80, 100, 50, 70, 90, 9, 5, 20, 40, 60, 80, 100, 50, 70, 90]\n",
    "\n",
    "count_students = 0\n",
    "for m in marks:\n",
    "    count_students += 1\n",
    "    if count_students == 15:\n",
    "        break\n",
    "    \n",
    "    if m < 30:\n",
    "        continue\n",
    "        \n",
    "    print(m/3)\n",
    "    print(m*3)\n",
    "    print(m%3)\n",
    "    print(m+3)\n",
    "    print(m-3)\n",
    "\n",
    "    "
   ]
  },
  {
   "cell_type": "code",
   "execution_count": null,
   "id": "b0c3302c",
   "metadata": {},
   "outputs": [],
   "source": [
    "assignments = [\"complete\", \"incomplete\",\"complete\", \"incomplete\",\"complete\", \"incomplete\",\"complete\", \"incomplete\"]\n",
    "\n",
    "for a in assignments:\n",
    "    if a == \"incomplete\":\n",
    "        continue\n",
    "    \n",
    "    #process the assignment - code logic"
   ]
  },
  {
   "cell_type": "markdown",
   "id": "3576e652",
   "metadata": {},
   "source": [
    "# While Loops"
   ]
  },
  {
   "cell_type": "code",
   "execution_count": null,
   "id": "1e5f353d",
   "metadata": {},
   "outputs": [],
   "source": [
    "c = 0\n",
    "while marks[c] > 30:\n",
    "    c += 1\n",
    "    if marks[c] <= 50:\n",
    "        print(\"Grade D\")\n",
    "    elif marks[c] <= 70:\n",
    "        print(\"Grade C\")\n",
    "    elif marks[c] <= 80:\n",
    "        print(\"Grade B\")\n",
    "    else:\n",
    "        print(\"Grade A\")"
   ]
  },
  {
   "cell_type": "code",
   "execution_count": null,
   "id": "4d805e4c",
   "metadata": {},
   "outputs": [],
   "source": [
    "c = 0\n",
    "while True:\n",
    "    if c == 1000:\n",
    "        break\n",
    "    c += 1\n",
    "    if marks[c] <= 50:\n",
    "        print(\"Grade D\")\n",
    "    elif marks[c] <= 70:\n",
    "        print(\"Grade C\")\n",
    "    elif marks[c] <= 80:\n",
    "        print(\"Grade B\")\n",
    "    else:\n",
    "        print(\"Grade A\")"
   ]
  },
  {
   "cell_type": "code",
   "execution_count": 44,
   "id": "1cb1bc45",
   "metadata": {},
   "outputs": [
    {
     "name": "stdout",
     "output_type": "stream",
     "text": [
      "Call Parent-Teacher Meeting\n",
      "Copyright of DPS. 2012-2024\n",
      "Call Parent-Teacher Meeting\n",
      "Copyright of DPS. 2012-2024\n",
      "Call Parent-Teacher Meeting\n",
      "Copyright of DPS. 2012-2024\n",
      "Give them award!!\n",
      "Copyright of DPS. 2012-2024\n",
      "Call Parent-Teacher Meeting\n",
      "Copyright of DPS. 2012-2024\n",
      "Call Parent-Teacher Meeting\n",
      "Copyright of DPS. 2012-2024\n",
      "Call Parent-Teacher Meeting\n",
      "Copyright of DPS. 2012-2024\n",
      "Call Parent-Teacher Meeting\n",
      "Copyright of DPS. 2012-2024\n",
      "Call Parent-Teacher Meeting\n",
      "Copyright of DPS. 2012-2024\n",
      "Give them award!!\n",
      "Copyright of DPS. 2012-2024\n",
      "Call Parent-Teacher Meeting\n",
      "Copyright of DPS. 2012-2024\n",
      "Call Parent-Teacher Meeting\n",
      "Copyright of DPS. 2012-2024\n",
      "Call Parent-Teacher Meeting\n",
      "Copyright of DPS. 2012-2024\n",
      "Call Parent-Teacher Meeting\n",
      "Copyright of DPS. 2012-2024\n",
      "Call Parent-Teacher Meeting\n",
      "Copyright of DPS. 2012-2024\n",
      "Give them award!!\n",
      "Copyright of DPS. 2012-2024\n",
      "Call Parent-Teacher Meeting\n",
      "Copyright of DPS. 2012-2024\n"
     ]
    }
   ],
   "source": [
    "marks = [9, 5, 20, 40, 60, 80, 100, 50, 70, 90, 9, 5, 20, 40, 60, 80, 100, 50, 70, 90, 9, 5, 20, 40, 60, 80, 100, 50, 70, 90]\n",
    "\n",
    "c = 0\n",
    "while True:\n",
    "    if c == 29:\n",
    "        break\n",
    "    c += 1\n",
    "    if marks[c] <= 50:\n",
    "        print(\"Call Parent-Teacher Meeting\")\n",
    "    elif marks[c] <= 90:\n",
    "        continue\n",
    "    else:\n",
    "        print(\"Give them award!!\")  \n",
    "        \n",
    "    print(\"Copyright of DPS. 2012-2024\")"
   ]
  },
  {
   "cell_type": "code",
   "execution_count": 7,
   "id": "478a22e8",
   "metadata": {},
   "outputs": [
    {
     "name": "stdout",
     "output_type": "stream",
     "text": [
      "printing is not a python key word\n"
     ]
    }
   ],
   "source": [
    "try:\n",
    "    printing(\"sachin\")\n",
    "except:\n",
    "    print(\"printing is not a python key word\")"
   ]
  },
  {
   "cell_type": "code",
   "execution_count": 9,
   "id": "521a3a3d",
   "metadata": {},
   "outputs": [],
   "source": [
    "list1 = [1,2,3,4,5]\n",
    "\n",
    "list2  = list1"
   ]
  },
  {
   "cell_type": "code",
   "execution_count": 10,
   "id": "3783f91e",
   "metadata": {},
   "outputs": [
    {
     "data": {
      "text/plain": [
       "[1, 2, 3, 4, 5]"
      ]
     },
     "execution_count": 10,
     "metadata": {},
     "output_type": "execute_result"
    }
   ],
   "source": [
    "list2"
   ]
  },
  {
   "cell_type": "markdown",
   "id": "393f05e1",
   "metadata": {},
   "source": [
    "1. Functions\n",
    "2. Lambda Functions"
   ]
  },
  {
   "cell_type": "code",
   "execution_count": null,
   "id": "30412f87",
   "metadata": {},
   "outputs": [],
   "source": [
    "batting = True\n",
    "event = \"bowled\"\n",
    "shot = \"straight_drive\"\n",
    "while batting:\n",
    "    if event == \"bowled\":\n",
    "        #batting = False\n",
    "        break\n",
    "    if event == \"wide_ball\":\n",
    "        pass\n",
    "    if event == \"normal_ball\":\n",
    "        if shot == \"straight_drive\":\n",
    "            continue\n",
    "        if shot == \"flick\":\n",
    "            continue\n",
    "        if shot == \"cover_drive\":\n",
    "            continue"
   ]
  },
  {
   "cell_type": "markdown",
   "id": "50001e43",
   "metadata": {},
   "source": [
    "# Functions"
   ]
  },
  {
   "cell_type": "code",
   "execution_count": 48,
   "id": "8b24ac74",
   "metadata": {},
   "outputs": [],
   "source": [
    "students_info = {\"Himanshu\":\"absent\", \"Vipin\":\"absent\", \"Shubham\":\"absent\", \"Srikar\":\"absent\", \"Shweta\":\"absent\"}"
   ]
  },
  {
   "cell_type": "code",
   "execution_count": 61,
   "id": "4ec3da6b",
   "metadata": {},
   "outputs": [
    {
     "data": {
      "text/plain": [
       "{'Himanshu': 'absent',\n",
       " 'Vipin': 'absent',\n",
       " 'Shubham': 'absent',\n",
       " 'Srikar': 'present',\n",
       " 'Shweta': 'absent'}"
      ]
     },
     "execution_count": 61,
     "metadata": {},
     "output_type": "execute_result"
    }
   ],
   "source": [
    "students_info[\"Srikar\"] = \"present\"\n",
    "students_info"
   ]
  },
  {
   "cell_type": "code",
   "execution_count": 54,
   "id": "588fc85f",
   "metadata": {},
   "outputs": [],
   "source": [
    "# Encapsulation\n",
    "def student_attendance(name, attendance):\n",
    "    students_info[name]=attendance\n",
    "    print(\"Success\")"
   ]
  },
  {
   "cell_type": "code",
   "execution_count": 55,
   "id": "883f1627",
   "metadata": {},
   "outputs": [
    {
     "name": "stdout",
     "output_type": "stream",
     "text": [
      "Success\n"
     ]
    },
    {
     "data": {
      "text/plain": [
       "{'Himanshu': 'absent',\n",
       " 'Vipin': 'absent',\n",
       " 'Shubham': 'present',\n",
       " 'Srikar': 'absent',\n",
       " 'Shweta': 'absent'}"
      ]
     },
     "execution_count": 55,
     "metadata": {},
     "output_type": "execute_result"
    }
   ],
   "source": [
    "student_attendance(\"Himanshu\", \"absent\")\n",
    "students_info"
   ]
  },
  {
   "cell_type": "code",
   "execution_count": 56,
   "id": "b6ecdda9",
   "metadata": {},
   "outputs": [
    {
     "name": "stdout",
     "output_type": "stream",
     "text": [
      "Success\n"
     ]
    },
    {
     "data": {
      "text/plain": [
       "{'Himanshu': 'absent',\n",
       " 'Vipin': 'absent',\n",
       " 'Shubham': 'absent',\n",
       " 'Srikar': 'absent',\n",
       " 'Shweta': 'absent'}"
      ]
     },
     "execution_count": 56,
     "metadata": {},
     "output_type": "execute_result"
    }
   ],
   "source": [
    "student_attendance(\"Shubham\", \"absent\")\n",
    "students_info"
   ]
  },
  {
   "cell_type": "code",
   "execution_count": 57,
   "id": "5f9e5ba9",
   "metadata": {},
   "outputs": [],
   "source": [
    "def multiplication_table(number):\n",
    "    for i in range(1,11):\n",
    "        print(f\"{number} x {i} = {number * i}\")"
   ]
  },
  {
   "cell_type": "code",
   "execution_count": 58,
   "id": "d216ce23",
   "metadata": {},
   "outputs": [
    {
     "name": "stdout",
     "output_type": "stream",
     "text": [
      "2 x 1 = 2\n",
      "2 x 2 = 4\n",
      "2 x 3 = 6\n",
      "2 x 4 = 8\n",
      "2 x 5 = 10\n",
      "2 x 6 = 12\n",
      "2 x 7 = 14\n",
      "2 x 8 = 16\n",
      "2 x 9 = 18\n",
      "2 x 10 = 20\n"
     ]
    }
   ],
   "source": [
    "multiplication_table(2)"
   ]
  },
  {
   "cell_type": "code",
   "execution_count": 59,
   "id": "5052bb3d",
   "metadata": {},
   "outputs": [
    {
     "name": "stdout",
     "output_type": "stream",
     "text": [
      "19 x 1 = 19\n",
      "19 x 2 = 38\n",
      "19 x 3 = 57\n",
      "19 x 4 = 76\n",
      "19 x 5 = 95\n",
      "19 x 6 = 114\n",
      "19 x 7 = 133\n",
      "19 x 8 = 152\n",
      "19 x 9 = 171\n",
      "19 x 10 = 190\n"
     ]
    }
   ],
   "source": [
    "multiplication_table(19)"
   ]
  },
  {
   "cell_type": "code",
   "execution_count": 60,
   "id": "d72ec6fe",
   "metadata": {},
   "outputs": [
    {
     "name": "stdout",
     "output_type": "stream",
     "text": [
      "240 x 1 = 240\n",
      "240 x 2 = 480\n",
      "240 x 3 = 720\n",
      "240 x 4 = 960\n",
      "240 x 5 = 1200\n",
      "240 x 6 = 1440\n",
      "240 x 7 = 1680\n",
      "240 x 8 = 1920\n",
      "240 x 9 = 2160\n",
      "240 x 10 = 2400\n"
     ]
    }
   ],
   "source": [
    "multiplication_table(240)"
   ]
  },
  {
   "cell_type": "code",
   "execution_count": 67,
   "id": "6d8d8bfb",
   "metadata": {},
   "outputs": [],
   "source": [
    "def student_attendance(name, attendance):\n",
    "    students_info[name]=attendance\n",
    "    return(\"Success\")\n",
    "    \n",
    "a = student_attendance(\"Shubham\", \"absent\")"
   ]
  },
  {
   "cell_type": "code",
   "execution_count": 68,
   "id": "e2b8a4c0",
   "metadata": {},
   "outputs": [
    {
     "data": {
      "text/plain": [
       "'Success'"
      ]
     },
     "execution_count": 68,
     "metadata": {},
     "output_type": "execute_result"
    }
   ],
   "source": [
    "a"
   ]
  },
  {
   "cell_type": "code",
   "execution_count": 69,
   "id": "4915dcb5",
   "metadata": {},
   "outputs": [],
   "source": [
    "students_info = {\n",
    "    'Alex_1': 9, 'Alex_2': 5, 'Alex_3': 20, 'Alex_4': 40, 'Alex_5': 60,\n",
    "    'Alex_6': 80, 'Alex_7': 100, 'Alex_8': 50, 'Alex_9': 70, 'Alex_10': 90,\n",
    "    'Alex_11': 9, 'Alex_12': 5, 'Alex_13': 20, 'Alex_14': 40, 'Alex_15': 60,\n",
    "    'Alex_16': 80, 'Alex_17': 100, 'Alex_18': 50, 'Alex_19': 70, 'Alex_20': 90,\n",
    "    'Alex_21': 9, 'Alex_22': 5, 'Alex_23': 20, 'Alex_24': 40, 'Alex_25': 60,\n",
    "    'Alex_26': 80, 'Alex_27': 100, 'Alex_28': 50, 'Alex_29': 70, 'Alex_30': 90\n",
    "}"
   ]
  },
  {
   "cell_type": "code",
   "execution_count": 73,
   "id": "d1c25e41",
   "metadata": {},
   "outputs": [],
   "source": [
    "def get_marks(name):\n",
    "    marks = students_info[name]\n",
    "    if marks < 30:\n",
    "        grade = \"fail\"\n",
    "    elif marks < 50:\n",
    "        grade = \"D\"\n",
    "    elif marks < 70:\n",
    "        grade = \"C\"\n",
    "    elif marks < 80:\n",
    "        grade = \"B\"\n",
    "    else:\n",
    "        grade = \"A\"\n",
    "    \n",
    "    return(marks, grade)"
   ]
  },
  {
   "cell_type": "code",
   "execution_count": 74,
   "id": "1830f149",
   "metadata": {},
   "outputs": [
    {
     "data": {
      "text/plain": [
       "(70, 'B')"
      ]
     },
     "execution_count": 74,
     "metadata": {},
     "output_type": "execute_result"
    }
   ],
   "source": [
    "get_marks(\"Alex_19\")"
   ]
  },
  {
   "cell_type": "code",
   "execution_count": 75,
   "id": "21ccea80",
   "metadata": {},
   "outputs": [
    {
     "data": {
      "text/plain": [
       "(90, 'A')"
      ]
     },
     "execution_count": 75,
     "metadata": {},
     "output_type": "execute_result"
    }
   ],
   "source": [
    "get_marks(\"Alex_30\")"
   ]
  },
  {
   "cell_type": "code",
   "execution_count": 76,
   "id": "126fe7fe",
   "metadata": {},
   "outputs": [
    {
     "data": {
      "text/plain": [
       "(5, 'fail')"
      ]
     },
     "execution_count": 76,
     "metadata": {},
     "output_type": "execute_result"
    }
   ],
   "source": [
    "info = get_marks(\"Alex_2\")\n",
    "info"
   ]
  },
  {
   "cell_type": "code",
   "execution_count": 79,
   "id": "acb2bcd6",
   "metadata": {},
   "outputs": [
    {
     "name": "stdout",
     "output_type": "stream",
     "text": [
      "90\n",
      "A\n"
     ]
    }
   ],
   "source": [
    "# Unpacking\n",
    "\n",
    "m, g = get_marks(\"Alex_10\")\n",
    "\n",
    "print(m)\n",
    "print(g)"
   ]
  },
  {
   "cell_type": "code",
   "execution_count": 84,
   "id": "64680af4",
   "metadata": {},
   "outputs": [],
   "source": [
    "def get_marks(name):\n",
    "    temp1 = students_info[name]\n",
    "    if marks < 30:\n",
    "        temp2 = \"fail\"\n",
    "    elif marks < 50:\n",
    "        temp2 = \"D\"\n",
    "    elif marks < 70:\n",
    "        temp2 = \"C\"\n",
    "    elif marks < 80:\n",
    "        temp2 = \"B\"\n",
    "    else:\n",
    "        temp2 = \"A\"\n",
    "    print(temp1, temp2)\n",
    "    return(temp1, temp2)"
   ]
  },
  {
   "cell_type": "code",
   "execution_count": 85,
   "id": "b97440da",
   "metadata": {},
   "outputs": [
    {
     "name": "stdout",
     "output_type": "stream",
     "text": [
      "90 A\n"
     ]
    }
   ],
   "source": [
    "m, g = get_marks(\"Alex_10\")"
   ]
  },
  {
   "cell_type": "code",
   "execution_count": 82,
   "id": "588d2fed",
   "metadata": {},
   "outputs": [
    {
     "name": "stdout",
     "output_type": "stream",
     "text": [
      "90 A\n"
     ]
    }
   ],
   "source": [
    "print(m,g)"
   ]
  },
  {
   "cell_type": "code",
   "execution_count": 83,
   "id": "64d17c65",
   "metadata": {},
   "outputs": [
    {
     "ename": "NameError",
     "evalue": "name 'temp1' is not defined",
     "output_type": "error",
     "traceback": [
      "\u001b[1;31m---------------------------------------------------------------------------\u001b[0m",
      "\u001b[1;31mNameError\u001b[0m                                 Traceback (most recent call last)",
      "\u001b[1;32m~\\AppData\\Local\\Temp/ipykernel_24736/2149560419.py\u001b[0m in \u001b[0;36m<module>\u001b[1;34m\u001b[0m\n\u001b[1;32m----> 1\u001b[1;33m \u001b[0mprint\u001b[0m\u001b[1;33m(\u001b[0m\u001b[0mtemp1\u001b[0m\u001b[1;33m,\u001b[0m \u001b[0mtemp2\u001b[0m\u001b[1;33m)\u001b[0m\u001b[1;33m\u001b[0m\u001b[1;33m\u001b[0m\u001b[0m\n\u001b[0m",
      "\u001b[1;31mNameError\u001b[0m: name 'temp1' is not defined"
     ]
    }
   ],
   "source": [
    "print(temp1, temp2)"
   ]
  },
  {
   "cell_type": "markdown",
   "id": "860d57be",
   "metadata": {},
   "source": [
    "# Local and Global Variables"
   ]
  },
  {
   "cell_type": "code",
   "execution_count": 86,
   "id": "0e710da1",
   "metadata": {},
   "outputs": [
    {
     "name": "stdout",
     "output_type": "stream",
     "text": [
      "Sachin 42\n"
     ]
    }
   ],
   "source": [
    "#Global Variables\n",
    "name = \"Himanshu\"\n",
    "age = 34\n",
    "\n",
    "def test_variables():\n",
    "    #Local Variables\n",
    "    name = \"Sachin\"\n",
    "    age = 42\n",
    "    print(name, age)\n",
    "\n",
    "test_variables()"
   ]
  },
  {
   "cell_type": "code",
   "execution_count": 87,
   "id": "145a1a2d",
   "metadata": {},
   "outputs": [
    {
     "name": "stdout",
     "output_type": "stream",
     "text": [
      "Himanshu 34\n"
     ]
    }
   ],
   "source": [
    "print(name, age)"
   ]
  },
  {
   "cell_type": "code",
   "execution_count": 96,
   "id": "bcb58b32",
   "metadata": {},
   "outputs": [],
   "source": [
    "name = \"Himanshu\"\n",
    "age = 34\n",
    "\n",
    "def test_variables():\n",
    "    global name\n",
    "    global age\n",
    "    age = 30\n",
    "    print(name, age)\n",
    "    \n",
    "def test_variables_with_params(name, age):\n",
    "    age = 65\n",
    "    print(name, age)"
   ]
  },
  {
   "cell_type": "code",
   "execution_count": 97,
   "id": "4d1fa55c",
   "metadata": {},
   "outputs": [
    {
     "name": "stdout",
     "output_type": "stream",
     "text": [
      "Himanshu 30\n"
     ]
    }
   ],
   "source": [
    "test_variables()"
   ]
  },
  {
   "cell_type": "code",
   "execution_count": 98,
   "id": "d538f530",
   "metadata": {},
   "outputs": [
    {
     "name": "stdout",
     "output_type": "stream",
     "text": [
      "Himanshu 65\n"
     ]
    }
   ],
   "source": [
    "test_variables_with_params(name=name, age=age)"
   ]
  },
  {
   "cell_type": "code",
   "execution_count": 99,
   "id": "619d3a13",
   "metadata": {},
   "outputs": [
    {
     "name": "stdout",
     "output_type": "stream",
     "text": [
      "Himanshu 30\n"
     ]
    }
   ],
   "source": [
    "print(name,age)"
   ]
  },
  {
   "cell_type": "code",
   "execution_count": null,
   "id": "224508f6",
   "metadata": {},
   "outputs": [],
   "source": [
    "status = False\n",
    "\n",
    "if status == False:\n",
    "    checks_db_status()\n",
    "else:\n",
    "    insert_to_db()"
   ]
  },
  {
   "cell_type": "code",
   "execution_count": 107,
   "id": "39a17564",
   "metadata": {},
   "outputs": [],
   "source": [
    "def get_marks(name):\n",
    "    marks = students_info[name]\n",
    "    if marks < 30:\n",
    "        grade = \"fail\"\n",
    "        return(marks, grade)\n",
    "    if marks < 50:\n",
    "        grade = \"D\"\n",
    "        return(marks, grade)\n",
    "    if marks < 70:\n",
    "        grade = \"C\"\n",
    "        return(marks, grade)\n",
    "    if marks < 80:\n",
    "        grade = \"B\"\n",
    "        return(marks, grade)\n",
    "    else:\n",
    "        grade = \"A\"\n",
    "        return(marks, grade)\n",
    "    print(\"Your grade is bad\")\n",
    "    print(\"Your name is I dont know what\")"
   ]
  },
  {
   "cell_type": "code",
   "execution_count": 108,
   "id": "3455c9af",
   "metadata": {},
   "outputs": [
    {
     "data": {
      "text/plain": [
       "(90, 'A')"
      ]
     },
     "execution_count": 108,
     "metadata": {},
     "output_type": "execute_result"
    }
   ],
   "source": [
    "get_marks(\"Alex_10\")"
   ]
  },
  {
   "cell_type": "code",
   "execution_count": 106,
   "id": "031f001a",
   "metadata": {},
   "outputs": [
    {
     "name": "stdout",
     "output_type": "stream",
     "text": [
      "90 A\n",
      "Your grade is bad\n",
      "Your name is I dont know what\n"
     ]
    }
   ],
   "source": [
    "def get_marks(name):\n",
    "    marks = students_info[name]\n",
    "    if marks < 30:\n",
    "        grade = \"fail\"\n",
    "        print(marks, grade)\n",
    "    if marks < 50:\n",
    "        grade = \"D\"\n",
    "        print(marks, grade)\n",
    "    if marks < 70:\n",
    "        grade = \"C\"\n",
    "        print(marks, grade)\n",
    "    if marks < 80:\n",
    "        grade = \"B\"\n",
    "        print(marks, grade)\n",
    "    if marks > 80:\n",
    "        grade = \"A\"\n",
    "        print(marks, grade)\n",
    "    print(\"Your grade is bad\")\n",
    "    print(\"Your name is I dont know what\")\n",
    "        \n",
    "get_marks(\"Alex_10\")"
   ]
  },
  {
   "cell_type": "code",
   "execution_count": null,
   "id": "4ab63c03",
   "metadata": {},
   "outputs": [],
   "source": []
  }
 ],
 "metadata": {
  "kernelspec": {
   "display_name": "Python 3 (ipykernel)",
   "language": "python",
   "name": "python3"
  },
  "language_info": {
   "codemirror_mode": {
    "name": "ipython",
    "version": 3
   },
   "file_extension": ".py",
   "mimetype": "text/x-python",
   "name": "python",
   "nbconvert_exporter": "python",
   "pygments_lexer": "ipython3",
   "version": "3.10.9"
  }
 },
 "nbformat": 4,
 "nbformat_minor": 5
}
