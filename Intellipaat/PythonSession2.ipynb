{
 "cells": [
  {
   "cell_type": "markdown",
   "id": "3e4e19ed",
   "metadata": {},
   "source": [
    "# Python Data Structures"
   ]
  },
  {
   "cell_type": "markdown",
   "id": "76dc2ba6",
   "metadata": {},
   "source": [
    "1. Strings\n",
    "2. Lists\n",
    "3. Tuples\n",
    "4. Dictionaries\n",
    "5. Sets"
   ]
  },
  {
   "cell_type": "markdown",
   "id": "9d66ca4e",
   "metadata": {},
   "source": [
    "## Lists"
   ]
  },
  {
   "cell_type": "code",
   "execution_count": 1,
   "id": "2ac807ee",
   "metadata": {},
   "outputs": [],
   "source": [
    "names = [\"Himanshu\", \"Vipin\", \"Shubham\", \"Tiwin\"]"
   ]
  },
  {
   "cell_type": "code",
   "execution_count": 2,
   "id": "05ca4e13",
   "metadata": {},
   "outputs": [
    {
     "data": {
      "text/plain": [
       "list"
      ]
     },
     "execution_count": 2,
     "metadata": {},
     "output_type": "execute_result"
    }
   ],
   "source": [
    "type(names)"
   ]
  },
  {
   "cell_type": "code",
   "execution_count": 3,
   "id": "e4d7a7db",
   "metadata": {},
   "outputs": [
    {
     "data": {
      "text/plain": [
       "list"
      ]
     },
     "execution_count": 3,
     "metadata": {},
     "output_type": "execute_result"
    }
   ],
   "source": [
    "info = [\"Himanshu\", \"present\", 10, 3, 2024]\n",
    "type(info)"
   ]
  },
  {
   "cell_type": "code",
   "execution_count": 4,
   "id": "225db345",
   "metadata": {},
   "outputs": [
    {
     "data": {
      "text/plain": [
       "list"
      ]
     },
     "execution_count": 4,
     "metadata": {},
     "output_type": "execute_result"
    }
   ],
   "source": [
    "info2 = [[\"Himanshu\", \"present\", 10, 3, 2024], [\"Vipin\", \"present\", 10, 3, 2024], [\"Shubham\", \"present\", 10, 3, 2024]]\n",
    "type(info2)"
   ]
  },
  {
   "cell_type": "code",
   "execution_count": 5,
   "id": "20e71d38",
   "metadata": {},
   "outputs": [
    {
     "name": "stdout",
     "output_type": "stream",
     "text": [
      "['Himanshu', 'present', 10, 3, 2024]\n"
     ]
    }
   ],
   "source": [
    "print(info)"
   ]
  },
  {
   "cell_type": "code",
   "execution_count": 6,
   "id": "41790579",
   "metadata": {},
   "outputs": [
    {
     "name": "stdout",
     "output_type": "stream",
     "text": [
      "[['Himanshu', 'present', 10, 3, 2024], ['Vipin', 'present', 10, 3, 2024], ['Shubham', 'present', 10, 3, 2024]]\n"
     ]
    }
   ],
   "source": [
    "print(info2)"
   ]
  },
  {
   "cell_type": "code",
   "execution_count": 7,
   "id": "c6131789",
   "metadata": {},
   "outputs": [],
   "source": [
    "info3 = [info]"
   ]
  },
  {
   "cell_type": "code",
   "execution_count": 8,
   "id": "67c518f5",
   "metadata": {},
   "outputs": [
    {
     "data": {
      "text/plain": [
       "[['Himanshu', 'present', 10, 3, 2024]]"
      ]
     },
     "execution_count": 8,
     "metadata": {},
     "output_type": "execute_result"
    }
   ],
   "source": [
    "info3"
   ]
  },
  {
   "cell_type": "code",
   "execution_count": 9,
   "id": "eccc73da",
   "metadata": {},
   "outputs": [],
   "source": [
    "info4 = [[\"Himanshu\", \"present\", 10, 3, 2024], [\"Vipin\", \"present\", 10, 3], [\"Shubham\", \"present\", 10]]"
   ]
  },
  {
   "cell_type": "code",
   "execution_count": 10,
   "id": "c1e1e993",
   "metadata": {},
   "outputs": [
    {
     "name": "stdout",
     "output_type": "stream",
     "text": [
      "[['Himanshu', 'present', 10, 3, 2024], ['Vipin', 'present', 10, 3], ['Shubham', 'present', 10]]\n"
     ]
    }
   ],
   "source": [
    "print(info4)"
   ]
  },
  {
   "cell_type": "markdown",
   "id": "c55440ff",
   "metadata": {},
   "source": [
    "### Indexing"
   ]
  },
  {
   "cell_type": "code",
   "execution_count": 11,
   "id": "427b905c",
   "metadata": {},
   "outputs": [
    {
     "data": {
      "text/plain": [
       "list"
      ]
     },
     "execution_count": 11,
     "metadata": {},
     "output_type": "execute_result"
    }
   ],
   "source": [
    "info = [\"Himanshu\", \"present\", 10, 3, 2024]\n",
    "type(info)"
   ]
  },
  {
   "cell_type": "code",
   "execution_count": 12,
   "id": "4bc96f08",
   "metadata": {},
   "outputs": [
    {
     "data": {
      "text/plain": [
       "str"
      ]
     },
     "execution_count": 12,
     "metadata": {},
     "output_type": "execute_result"
    }
   ],
   "source": [
    "info[0]\n",
    "type(info[0])"
   ]
  },
  {
   "cell_type": "code",
   "execution_count": 13,
   "id": "c83c60f4",
   "metadata": {},
   "outputs": [
    {
     "data": {
      "text/plain": [
       "'present'"
      ]
     },
     "execution_count": 13,
     "metadata": {},
     "output_type": "execute_result"
    }
   ],
   "source": [
    "info[1]"
   ]
  },
  {
   "cell_type": "code",
   "execution_count": 20,
   "id": "13aacc35",
   "metadata": {},
   "outputs": [
    {
     "data": {
      "text/plain": [
       "int"
      ]
     },
     "execution_count": 20,
     "metadata": {},
     "output_type": "execute_result"
    }
   ],
   "source": [
    "info[4]\n",
    "type(info[4])"
   ]
  },
  {
   "cell_type": "code",
   "execution_count": 17,
   "id": "775b627c",
   "metadata": {},
   "outputs": [
    {
     "ename": "IndexError",
     "evalue": "list index out of range",
     "output_type": "error",
     "traceback": [
      "\u001b[1;31m---------------------------------------------------------------------------\u001b[0m",
      "\u001b[1;31mIndexError\u001b[0m                                Traceback (most recent call last)",
      "\u001b[1;32m~\\AppData\\Local\\Temp/ipykernel_23052/869729542.py\u001b[0m in \u001b[0;36m<module>\u001b[1;34m\u001b[0m\n\u001b[1;32m----> 1\u001b[1;33m \u001b[0minfo\u001b[0m\u001b[1;33m[\u001b[0m\u001b[1;36m5\u001b[0m\u001b[1;33m]\u001b[0m\u001b[1;33m\u001b[0m\u001b[1;33m\u001b[0m\u001b[0m\n\u001b[0m",
      "\u001b[1;31mIndexError\u001b[0m: list index out of range"
     ]
    }
   ],
   "source": [
    "info[5]"
   ]
  },
  {
   "cell_type": "code",
   "execution_count": 24,
   "id": "8d50f966",
   "metadata": {},
   "outputs": [
    {
     "data": {
      "text/plain": [
       "'Vipin'"
      ]
     },
     "execution_count": 24,
     "metadata": {},
     "output_type": "execute_result"
    }
   ],
   "source": [
    "info4 = [[\"Himanshu\", \"present\", 10, 3, 2024], [\"Vipin\", \"present\", 10, 3], [\"Shubham\", \"present\", 10]]\n",
    "info4[1][0]"
   ]
  },
  {
   "cell_type": "code",
   "execution_count": 23,
   "id": "4ec444b0",
   "metadata": {},
   "outputs": [
    {
     "name": "stdout",
     "output_type": "stream",
     "text": [
      "['Himanshu', 'present', 10, 3, 2024]\n",
      "Himanshu\n"
     ]
    }
   ],
   "source": [
    "a = info4[0]\n",
    "print(a)\n",
    "b = a[0]\n",
    "print(b)"
   ]
  },
  {
   "cell_type": "code",
   "execution_count": 25,
   "id": "5f3c3c86",
   "metadata": {},
   "outputs": [
    {
     "data": {
      "text/plain": [
       "5"
      ]
     },
     "execution_count": 25,
     "metadata": {},
     "output_type": "execute_result"
    }
   ],
   "source": [
    "len(info)"
   ]
  },
  {
   "cell_type": "code",
   "execution_count": 27,
   "id": "443208ab",
   "metadata": {},
   "outputs": [
    {
     "data": {
      "text/plain": [
       "3"
      ]
     },
     "execution_count": 27,
     "metadata": {},
     "output_type": "execute_result"
    }
   ],
   "source": [
    "len(info2)"
   ]
  },
  {
   "cell_type": "code",
   "execution_count": 31,
   "id": "66c34bee",
   "metadata": {},
   "outputs": [
    {
     "data": {
      "text/plain": [
       "3"
      ]
     },
     "execution_count": 31,
     "metadata": {},
     "output_type": "execute_result"
    }
   ],
   "source": [
    "len(info4)"
   ]
  },
  {
   "cell_type": "markdown",
   "id": "d4297446",
   "metadata": {},
   "source": [
    "Whatever is the length of the list, upper limit of index will be len() - 1"
   ]
  },
  {
   "cell_type": "markdown",
   "id": "04cef991",
   "metadata": {},
   "source": [
    "Index always starts with 0"
   ]
  },
  {
   "cell_type": "markdown",
   "id": "1ec6e2d0",
   "metadata": {},
   "source": [
    "### List Methods"
   ]
  },
  {
   "cell_type": "code",
   "execution_count": 32,
   "id": "75a9659c",
   "metadata": {},
   "outputs": [],
   "source": [
    "names = [\"Himanshu\", \"Vipin\", \"Shubham\", \"Tiwin\"]"
   ]
  },
  {
   "cell_type": "code",
   "execution_count": 33,
   "id": "cc9e5d43",
   "metadata": {},
   "outputs": [],
   "source": [
    "names.append(\"Khushbu\")"
   ]
  },
  {
   "cell_type": "code",
   "execution_count": 34,
   "id": "49129d60",
   "metadata": {},
   "outputs": [
    {
     "data": {
      "text/plain": [
       "['Himanshu', 'Vipin', 'Shubham', 'Tiwin', 'Khushbu']"
      ]
     },
     "execution_count": 34,
     "metadata": {},
     "output_type": "execute_result"
    }
   ],
   "source": [
    "names"
   ]
  },
  {
   "cell_type": "code",
   "execution_count": 35,
   "id": "3e81225d",
   "metadata": {},
   "outputs": [
    {
     "data": {
      "text/plain": [
       "2"
      ]
     },
     "execution_count": 35,
     "metadata": {},
     "output_type": "execute_result"
    }
   ],
   "source": [
    "names.index('Shubham')"
   ]
  },
  {
   "cell_type": "code",
   "execution_count": 36,
   "id": "6da79c3d",
   "metadata": {},
   "outputs": [],
   "source": [
    "names.insert(2, \"Rahul\")"
   ]
  },
  {
   "cell_type": "code",
   "execution_count": 37,
   "id": "bff47b48",
   "metadata": {},
   "outputs": [
    {
     "data": {
      "text/plain": [
       "['Himanshu', 'Vipin', 'Rahul', 'Shubham', 'Tiwin', 'Khushbu']"
      ]
     },
     "execution_count": 37,
     "metadata": {},
     "output_type": "execute_result"
    }
   ],
   "source": [
    "names"
   ]
  },
  {
   "cell_type": "code",
   "execution_count": 38,
   "id": "649e94ff",
   "metadata": {},
   "outputs": [],
   "source": [
    "names.append(\"Himanshu\")"
   ]
  },
  {
   "cell_type": "code",
   "execution_count": 39,
   "id": "8272c978",
   "metadata": {},
   "outputs": [
    {
     "data": {
      "text/plain": [
       "['Himanshu', 'Vipin', 'Rahul', 'Shubham', 'Tiwin', 'Khushbu', 'Himanshu']"
      ]
     },
     "execution_count": 39,
     "metadata": {},
     "output_type": "execute_result"
    }
   ],
   "source": [
    "names"
   ]
  },
  {
   "cell_type": "code",
   "execution_count": 40,
   "id": "b609c4d8",
   "metadata": {},
   "outputs": [
    {
     "data": {
      "text/plain": [
       "0"
      ]
     },
     "execution_count": 40,
     "metadata": {},
     "output_type": "execute_result"
    }
   ],
   "source": [
    "names.index('Himanshu')"
   ]
  },
  {
   "cell_type": "code",
   "execution_count": 41,
   "id": "c8fd4599",
   "metadata": {},
   "outputs": [],
   "source": [
    "#Gives Ascending order\n",
    "names.sort()"
   ]
  },
  {
   "cell_type": "code",
   "execution_count": 42,
   "id": "4ee36d7d",
   "metadata": {},
   "outputs": [
    {
     "data": {
      "text/plain": [
       "['Himanshu', 'Himanshu', 'Khushbu', 'Rahul', 'Shubham', 'Tiwin', 'Vipin']"
      ]
     },
     "execution_count": 42,
     "metadata": {},
     "output_type": "execute_result"
    }
   ],
   "source": [
    "names"
   ]
  },
  {
   "cell_type": "code",
   "execution_count": 43,
   "id": "fe5c3fc6",
   "metadata": {},
   "outputs": [],
   "source": [
    "#For Descending order, first sort in ascending and then reverse\n",
    "names.reverse()"
   ]
  },
  {
   "cell_type": "code",
   "execution_count": 44,
   "id": "24e522b1",
   "metadata": {},
   "outputs": [
    {
     "data": {
      "text/plain": [
       "['Vipin', 'Tiwin', 'Shubham', 'Rahul', 'Khushbu', 'Himanshu', 'Himanshu']"
      ]
     },
     "execution_count": 44,
     "metadata": {},
     "output_type": "execute_result"
    }
   ],
   "source": [
    "names"
   ]
  },
  {
   "cell_type": "code",
   "execution_count": 45,
   "id": "7ff5e4f4",
   "metadata": {},
   "outputs": [],
   "source": [
    "x = [1, 9, 2, 8, 3, 7]"
   ]
  },
  {
   "cell_type": "code",
   "execution_count": 46,
   "id": "4db98861",
   "metadata": {},
   "outputs": [],
   "source": [
    "x.sort()"
   ]
  },
  {
   "cell_type": "code",
   "execution_count": 47,
   "id": "7a0a1c80",
   "metadata": {},
   "outputs": [
    {
     "data": {
      "text/plain": [
       "[1, 2, 3, 7, 8, 9]"
      ]
     },
     "execution_count": 47,
     "metadata": {},
     "output_type": "execute_result"
    }
   ],
   "source": [
    "x"
   ]
  },
  {
   "cell_type": "code",
   "execution_count": 48,
   "id": "38971313",
   "metadata": {},
   "outputs": [],
   "source": [
    "x.reverse()"
   ]
  },
  {
   "cell_type": "code",
   "execution_count": 49,
   "id": "778425e6",
   "metadata": {},
   "outputs": [
    {
     "data": {
      "text/plain": [
       "[9, 8, 7, 3, 2, 1]"
      ]
     },
     "execution_count": 49,
     "metadata": {},
     "output_type": "execute_result"
    }
   ],
   "source": [
    "x"
   ]
  },
  {
   "cell_type": "code",
   "execution_count": 50,
   "id": "d52a487c",
   "metadata": {},
   "outputs": [],
   "source": [
    "info = [\"Himanshu\", \"present\", 10, 3, 2024]"
   ]
  },
  {
   "cell_type": "code",
   "execution_count": 51,
   "id": "892ea2b9",
   "metadata": {},
   "outputs": [
    {
     "ename": "TypeError",
     "evalue": "'<' not supported between instances of 'int' and 'str'",
     "output_type": "error",
     "traceback": [
      "\u001b[1;31m---------------------------------------------------------------------------\u001b[0m",
      "\u001b[1;31mTypeError\u001b[0m                                 Traceback (most recent call last)",
      "\u001b[1;32m~\\AppData\\Local\\Temp/ipykernel_23052/1862202059.py\u001b[0m in \u001b[0;36m<module>\u001b[1;34m\u001b[0m\n\u001b[1;32m----> 1\u001b[1;33m \u001b[0minfo\u001b[0m\u001b[1;33m.\u001b[0m\u001b[0msort\u001b[0m\u001b[1;33m(\u001b[0m\u001b[1;33m)\u001b[0m\u001b[1;33m\u001b[0m\u001b[1;33m\u001b[0m\u001b[0m\n\u001b[0m",
      "\u001b[1;31mTypeError\u001b[0m: '<' not supported between instances of 'int' and 'str'"
     ]
    }
   ],
   "source": [
    "info.sort()"
   ]
  },
  {
   "cell_type": "code",
   "execution_count": 18,
   "id": "3255548d",
   "metadata": {},
   "outputs": [],
   "source": [
    "a = [\"Sachin\", \"Saurav\", \"Rahul\"]\n",
    "b = [\"Virat\", \"Rohit\", \"Bumrah\"]"
   ]
  },
  {
   "cell_type": "code",
   "execution_count": 19,
   "id": "ad3b6bf7",
   "metadata": {},
   "outputs": [
    {
     "name": "stdout",
     "output_type": "stream",
     "text": [
      "['Sachin', 'Saurav', 'Rahul', ['Virat', 'Rohit', 'Bumrah']]\n"
     ]
    }
   ],
   "source": [
    "a.append(b)\n",
    "print(a)"
   ]
  },
  {
   "cell_type": "code",
   "execution_count": 22,
   "id": "acc035b0",
   "metadata": {},
   "outputs": [],
   "source": [
    "a = [\"Sachin\", \"Saurav\", \"Rahul\"]\n",
    "b = [\"Virat\", \"Rohit\", \"Bumrah\"]"
   ]
  },
  {
   "cell_type": "code",
   "execution_count": 23,
   "id": "bf9d554d",
   "metadata": {},
   "outputs": [],
   "source": [
    "a.extend(b)"
   ]
  },
  {
   "cell_type": "code",
   "execution_count": 24,
   "id": "bd5d0e44",
   "metadata": {},
   "outputs": [
    {
     "data": {
      "text/plain": [
       "['Sachin', 'Saurav', 'Rahul', 'Virat', 'Rohit', 'Bumrah']"
      ]
     },
     "execution_count": 24,
     "metadata": {},
     "output_type": "execute_result"
    }
   ],
   "source": [
    "a"
   ]
  },
  {
   "cell_type": "code",
   "execution_count": 25,
   "id": "2f7f5d2e",
   "metadata": {},
   "outputs": [],
   "source": [
    "covid_vaccination = [\"Sachin\", \"Saurav\", \"Rahul\", \"Virat\", \"Rohit\", \"Bumrah\"]"
   ]
  },
  {
   "cell_type": "code",
   "execution_count": 26,
   "id": "407b1ffd",
   "metadata": {},
   "outputs": [
    {
     "data": {
      "text/plain": [
       "['Sachin', 'Saurav', 'Rahul', 'Virat', 'Rohit', 'Bumrah']"
      ]
     },
     "execution_count": 26,
     "metadata": {},
     "output_type": "execute_result"
    }
   ],
   "source": [
    "covid_vaccination"
   ]
  },
  {
   "cell_type": "code",
   "execution_count": 27,
   "id": "6a9be0a8",
   "metadata": {},
   "outputs": [
    {
     "data": {
      "text/plain": [
       "'Bumrah'"
      ]
     },
     "execution_count": 27,
     "metadata": {},
     "output_type": "execute_result"
    }
   ],
   "source": [
    "covid_vaccination.pop()"
   ]
  },
  {
   "cell_type": "code",
   "execution_count": 28,
   "id": "49b561b5",
   "metadata": {},
   "outputs": [
    {
     "data": {
      "text/plain": [
       "['Sachin', 'Saurav', 'Rahul', 'Virat', 'Rohit']"
      ]
     },
     "execution_count": 28,
     "metadata": {},
     "output_type": "execute_result"
    }
   ],
   "source": [
    "covid_vaccination"
   ]
  },
  {
   "cell_type": "markdown",
   "id": "41a5b3c5",
   "metadata": {},
   "source": [
    "Pop is a LIFO (Last in First Out) operation"
   ]
  },
  {
   "cell_type": "code",
   "execution_count": 71,
   "id": "ad01bca5",
   "metadata": {},
   "outputs": [
    {
     "data": {
      "text/plain": [
       "['Sachin', 'Saurav', 'Rahul']"
      ]
     },
     "execution_count": 71,
     "metadata": {},
     "output_type": "execute_result"
    }
   ],
   "source": [
    "a = [\"Sachin\", \"Saurav\"]\n",
    "a.append(\"Rahul\")\n",
    "a"
   ]
  },
  {
   "cell_type": "code",
   "execution_count": 72,
   "id": "be6567b5",
   "metadata": {},
   "outputs": [
    {
     "data": {
      "text/plain": [
       "'Rahul'"
      ]
     },
     "execution_count": 72,
     "metadata": {},
     "output_type": "execute_result"
    }
   ],
   "source": [
    "a.pop()"
   ]
  },
  {
   "cell_type": "code",
   "execution_count": 29,
   "id": "5ba2bb04",
   "metadata": {},
   "outputs": [],
   "source": [
    "b = [\"Virat\", \"Rohit\", \"Bumrah\", \"Rohit\"]"
   ]
  },
  {
   "cell_type": "code",
   "execution_count": 30,
   "id": "8e29f3a4",
   "metadata": {},
   "outputs": [],
   "source": [
    "b.remove(\"Rohit\")"
   ]
  },
  {
   "cell_type": "code",
   "execution_count": 31,
   "id": "0f2590d3",
   "metadata": {},
   "outputs": [
    {
     "data": {
      "text/plain": [
       "['Virat', 'Bumrah', 'Rohit']"
      ]
     },
     "execution_count": 31,
     "metadata": {},
     "output_type": "execute_result"
    }
   ],
   "source": [
    "b"
   ]
  },
  {
   "cell_type": "code",
   "execution_count": 32,
   "id": "2025e911",
   "metadata": {},
   "outputs": [
    {
     "data": {
      "text/plain": [
       "'Virat'"
      ]
     },
     "execution_count": 32,
     "metadata": {},
     "output_type": "execute_result"
    }
   ],
   "source": [
    "b.pop(0)"
   ]
  },
  {
   "cell_type": "code",
   "execution_count": 33,
   "id": "94a4bc0d",
   "metadata": {},
   "outputs": [
    {
     "data": {
      "text/plain": [
       "['Bumrah', 'Rohit']"
      ]
     },
     "execution_count": 33,
     "metadata": {},
     "output_type": "execute_result"
    }
   ],
   "source": [
    "b"
   ]
  },
  {
   "cell_type": "code",
   "execution_count": 34,
   "id": "3455cfcb",
   "metadata": {},
   "outputs": [],
   "source": [
    "b[0] = \"Virat\" "
   ]
  },
  {
   "cell_type": "code",
   "execution_count": 35,
   "id": "0c0b3bfc",
   "metadata": {},
   "outputs": [
    {
     "data": {
      "text/plain": [
       "['Virat', 'Rohit']"
      ]
     },
     "execution_count": 35,
     "metadata": {},
     "output_type": "execute_result"
    }
   ],
   "source": [
    "b"
   ]
  },
  {
   "cell_type": "markdown",
   "id": "8458ac21",
   "metadata": {},
   "source": [
    "# Mutablitity"
   ]
  },
  {
   "cell_type": "markdown",
   "id": "819550eb",
   "metadata": {},
   "source": [
    "Lists are Mutable (It can be changed, modified, deleted, etc.)"
   ]
  },
  {
   "cell_type": "code",
   "execution_count": 36,
   "id": "719265fb",
   "metadata": {},
   "outputs": [],
   "source": [
    "p = [\"Himanshu\", \"present\", \"10\", \"3\", \"2024\"]"
   ]
  },
  {
   "cell_type": "code",
   "execution_count": 37,
   "id": "2673aa51",
   "metadata": {},
   "outputs": [],
   "source": [
    "p.sort()"
   ]
  },
  {
   "cell_type": "code",
   "execution_count": 38,
   "id": "7761d4db",
   "metadata": {},
   "outputs": [
    {
     "data": {
      "text/plain": [
       "['10', '2024', '3', 'Himanshu', 'present']"
      ]
     },
     "execution_count": 38,
     "metadata": {},
     "output_type": "execute_result"
    }
   ],
   "source": [
    "p"
   ]
  },
  {
   "cell_type": "code",
   "execution_count": 39,
   "id": "54fc8c43",
   "metadata": {},
   "outputs": [],
   "source": [
    "temp = [(1, 2, 3)]"
   ]
  },
  {
   "cell_type": "markdown",
   "id": "02d7c3a9",
   "metadata": {},
   "source": [
    "# List Comprehension"
   ]
  },
  {
   "cell_type": "code",
   "execution_count": 40,
   "id": "10ec8e9c",
   "metadata": {},
   "outputs": [],
   "source": [
    "names = [\"Himanshu\", \"Vipin\", \"Shubham\", \"Tiwin\"]"
   ]
  },
  {
   "cell_type": "code",
   "execution_count": 41,
   "id": "3fa1f0e0",
   "metadata": {},
   "outputs": [
    {
     "name": "stdout",
     "output_type": "stream",
     "text": [
      "0\n",
      "1\n",
      "2\n",
      "3\n"
     ]
    }
   ],
   "source": [
    "#Iteration\n",
    "#Going inside the list sequnetially\n",
    "\n",
    "for i in [0,1,2,3]:\n",
    "    print(i)"
   ]
  },
  {
   "cell_type": "code",
   "execution_count": 42,
   "id": "d60fa56f",
   "metadata": {},
   "outputs": [
    {
     "name": "stdout",
     "output_type": "stream",
     "text": [
      "0\n",
      "1\n",
      "2\n",
      "3\n"
     ]
    }
   ],
   "source": [
    "for i in range(len(names)):\n",
    "    print(i)"
   ]
  },
  {
   "cell_type": "code",
   "execution_count": 43,
   "id": "ecb4d0c3",
   "metadata": {},
   "outputs": [
    {
     "data": {
      "text/plain": [
       "range(0, 4)"
      ]
     },
     "execution_count": 43,
     "metadata": {},
     "output_type": "execute_result"
    }
   ],
   "source": [
    "range(4)"
   ]
  },
  {
   "cell_type": "code",
   "execution_count": 44,
   "id": "f0296270",
   "metadata": {},
   "outputs": [
    {
     "data": {
      "text/plain": [
       "range(1, 5)"
      ]
     },
     "execution_count": 44,
     "metadata": {},
     "output_type": "execute_result"
    }
   ],
   "source": [
    "range(1,5)"
   ]
  },
  {
   "cell_type": "code",
   "execution_count": 45,
   "id": "24b087ac",
   "metadata": {},
   "outputs": [
    {
     "name": "stdout",
     "output_type": "stream",
     "text": [
      "Himanshu\n",
      "The Loop Is Over\n",
      "Vipin\n",
      "The Loop Is Over\n",
      "Shubham\n",
      "The Loop Is Over\n",
      "Tiwin\n",
      "The Loop Is Over\n"
     ]
    }
   ],
   "source": [
    "#Any lines that are inside a loop should be either 4 spaces apart or 1 tab apart\n",
    "#This is called as indentation\n",
    "\n",
    "for i in range(len(names)):\n",
    "    print(names[i])\n",
    "    print(\"The Loop Is Over\")"
   ]
  },
  {
   "cell_type": "code",
   "execution_count": 46,
   "id": "4205295a",
   "metadata": {},
   "outputs": [
    {
     "name": "stdout",
     "output_type": "stream",
     "text": [
      "Himanshu\n",
      "Vipin\n",
      "Shubham\n",
      "Tiwin\n"
     ]
    }
   ],
   "source": [
    "names = [\"Himanshu\", \"Vipin\", \"Shubham\", \"Tiwin\"]\n",
    "for name in names:\n",
    "    print(name)"
   ]
  },
  {
   "cell_type": "code",
   "execution_count": 47,
   "id": "9c1e0da0",
   "metadata": {},
   "outputs": [
    {
     "name": "stdout",
     "output_type": "stream",
     "text": [
      "8\n",
      "[0, 1, 0, 1, 0, 1, 0, 1]\n"
     ]
    }
   ],
   "source": [
    "l = []\n",
    "for i in range(len(names)):\n",
    "    for j in [0,1]:\n",
    "        l.append(j)\n",
    "print(len(l))\n",
    "print(l)"
   ]
  },
  {
   "cell_type": "code",
   "execution_count": 48,
   "id": "a7c1cf3e",
   "metadata": {},
   "outputs": [
    {
     "name": "stdout",
     "output_type": "stream",
     "text": [
      "Is Himanshu present or absent? present\n",
      "Is Vipin present or absent? absent\n",
      "Is Shubham present or absent? absent\n",
      "Is Tiwin present or absent? present\n",
      "['present', 'absent', 'absent', 'present']\n"
     ]
    }
   ],
   "source": [
    "attendance = []\n",
    "for i in range(len(names)):\n",
    "    status = input(f\"Is {names[i]} present or absent? \")\n",
    "    attendance.append(status)\n",
    "    \n",
    "print(attendance)"
   ]
  },
  {
   "cell_type": "code",
   "execution_count": 99,
   "id": "a90dc773",
   "metadata": {},
   "outputs": [
    {
     "name": "stdout",
     "output_type": "stream",
     "text": [
      "Is Himanshu present or absent? p\n",
      "Is Vipin present or absent? a\n",
      "Is Shubham present or absent? p\n",
      "Is Tiwin present or absent? a\n",
      "['p', 'a', 'p', 'a']\n"
     ]
    }
   ],
   "source": [
    "attendance = []\n",
    "for name in names:\n",
    "    status = input(f\"Is {name} present or absent? \")\n",
    "    attendance.append(status)\n",
    "    \n",
    "print(attendance)"
   ]
  },
  {
   "cell_type": "markdown",
   "id": "d9fed1e3",
   "metadata": {},
   "source": [
    "# Tuples"
   ]
  },
  {
   "cell_type": "markdown",
   "id": "7afac753",
   "metadata": {},
   "source": [
    "Tuples are strictly immutable"
   ]
  },
  {
   "cell_type": "code",
   "execution_count": 121,
   "id": "c1965823",
   "metadata": {},
   "outputs": [],
   "source": [
    "names = [\"Himanshu\", \"Vipin\", \"Shubham\", \"Tiwin\"]\n",
    "attendance = [\"present\", \"absent\", \"present\", \"absent\"]"
   ]
  },
  {
   "cell_type": "code",
   "execution_count": 49,
   "id": "b6a45172",
   "metadata": {},
   "outputs": [],
   "source": [
    "attendance = (\"present\", \"absent\", \"present\", \"absent\")"
   ]
  },
  {
   "cell_type": "code",
   "execution_count": 119,
   "id": "b1c5c3ee",
   "metadata": {},
   "outputs": [],
   "source": [
    "del attendance"
   ]
  },
  {
   "cell_type": "code",
   "execution_count": 120,
   "id": "e151d068",
   "metadata": {},
   "outputs": [
    {
     "ename": "NameError",
     "evalue": "name 'attendance' is not defined",
     "output_type": "error",
     "traceback": [
      "\u001b[1;31m---------------------------------------------------------------------------\u001b[0m",
      "\u001b[1;31mNameError\u001b[0m                                 Traceback (most recent call last)",
      "\u001b[1;32m~\\AppData\\Local\\Temp/ipykernel_23052/2542521084.py\u001b[0m in \u001b[0;36m<module>\u001b[1;34m\u001b[0m\n\u001b[1;32m----> 1\u001b[1;33m \u001b[0mprint\u001b[0m\u001b[1;33m(\u001b[0m\u001b[0mattendance\u001b[0m\u001b[1;33m)\u001b[0m\u001b[1;33m\u001b[0m\u001b[1;33m\u001b[0m\u001b[0m\n\u001b[0m",
      "\u001b[1;31mNameError\u001b[0m: name 'attendance' is not defined"
     ]
    }
   ],
   "source": [
    "print(attendance)"
   ]
  },
  {
   "cell_type": "code",
   "execution_count": 50,
   "id": "94252d84",
   "metadata": {},
   "outputs": [
    {
     "data": {
      "text/plain": [
       "tuple"
      ]
     },
     "execution_count": 50,
     "metadata": {},
     "output_type": "execute_result"
    }
   ],
   "source": [
    "type(attendance)"
   ]
  },
  {
   "cell_type": "code",
   "execution_count": 105,
   "id": "8d978a90",
   "metadata": {},
   "outputs": [
    {
     "ename": "AttributeError",
     "evalue": "'tuple' object has no attribute 'append'",
     "output_type": "error",
     "traceback": [
      "\u001b[1;31m---------------------------------------------------------------------------\u001b[0m",
      "\u001b[1;31mAttributeError\u001b[0m                            Traceback (most recent call last)",
      "\u001b[1;32m~\\AppData\\Local\\Temp/ipykernel_23052/6937391.py\u001b[0m in \u001b[0;36m<module>\u001b[1;34m\u001b[0m\n\u001b[1;32m----> 1\u001b[1;33m \u001b[0mattendance\u001b[0m\u001b[1;33m.\u001b[0m\u001b[0mappend\u001b[0m\u001b[1;33m(\u001b[0m\u001b[1;34m\"present\"\u001b[0m\u001b[1;33m)\u001b[0m\u001b[1;33m\u001b[0m\u001b[1;33m\u001b[0m\u001b[0m\n\u001b[0m",
      "\u001b[1;31mAttributeError\u001b[0m: 'tuple' object has no attribute 'append'"
     ]
    }
   ],
   "source": [
    "attendance.append(\"present\")"
   ]
  },
  {
   "cell_type": "code",
   "execution_count": 106,
   "id": "08d02040",
   "metadata": {},
   "outputs": [
    {
     "ename": "AttributeError",
     "evalue": "'tuple' object has no attribute 'insert'",
     "output_type": "error",
     "traceback": [
      "\u001b[1;31m---------------------------------------------------------------------------\u001b[0m",
      "\u001b[1;31mAttributeError\u001b[0m                            Traceback (most recent call last)",
      "\u001b[1;32m~\\AppData\\Local\\Temp/ipykernel_23052/1743257011.py\u001b[0m in \u001b[0;36m<module>\u001b[1;34m\u001b[0m\n\u001b[1;32m----> 1\u001b[1;33m \u001b[0mattendance\u001b[0m\u001b[1;33m.\u001b[0m\u001b[0minsert\u001b[0m\u001b[1;33m(\u001b[0m\u001b[1;36m1\u001b[0m\u001b[1;33m,\u001b[0m \u001b[1;34m\"present\"\u001b[0m\u001b[1;33m)\u001b[0m\u001b[1;33m\u001b[0m\u001b[1;33m\u001b[0m\u001b[0m\n\u001b[0m",
      "\u001b[1;31mAttributeError\u001b[0m: 'tuple' object has no attribute 'insert'"
     ]
    }
   ],
   "source": [
    "attendance.insert(1, \"present\")"
   ]
  },
  {
   "cell_type": "code",
   "execution_count": 107,
   "id": "3bddd74f",
   "metadata": {},
   "outputs": [
    {
     "ename": "AttributeError",
     "evalue": "'tuple' object has no attribute 'pop'",
     "output_type": "error",
     "traceback": [
      "\u001b[1;31m---------------------------------------------------------------------------\u001b[0m",
      "\u001b[1;31mAttributeError\u001b[0m                            Traceback (most recent call last)",
      "\u001b[1;32m~\\AppData\\Local\\Temp/ipykernel_23052/1312534793.py\u001b[0m in \u001b[0;36m<module>\u001b[1;34m\u001b[0m\n\u001b[1;32m----> 1\u001b[1;33m \u001b[0mattendance\u001b[0m\u001b[1;33m.\u001b[0m\u001b[0mpop\u001b[0m\u001b[1;33m(\u001b[0m\u001b[1;33m)\u001b[0m\u001b[1;33m\u001b[0m\u001b[1;33m\u001b[0m\u001b[0m\n\u001b[0m",
      "\u001b[1;31mAttributeError\u001b[0m: 'tuple' object has no attribute 'pop'"
     ]
    }
   ],
   "source": [
    "attendance.pop()"
   ]
  },
  {
   "cell_type": "code",
   "execution_count": 108,
   "id": "1860f02a",
   "metadata": {},
   "outputs": [
    {
     "ename": "AttributeError",
     "evalue": "'tuple' object has no attribute 'remove'",
     "output_type": "error",
     "traceback": [
      "\u001b[1;31m---------------------------------------------------------------------------\u001b[0m",
      "\u001b[1;31mAttributeError\u001b[0m                            Traceback (most recent call last)",
      "\u001b[1;32m~\\AppData\\Local\\Temp/ipykernel_23052/1622572814.py\u001b[0m in \u001b[0;36m<module>\u001b[1;34m\u001b[0m\n\u001b[1;32m----> 1\u001b[1;33m \u001b[0mattendance\u001b[0m\u001b[1;33m.\u001b[0m\u001b[0mremove\u001b[0m\u001b[1;33m(\u001b[0m\u001b[1;34m\"present\"\u001b[0m\u001b[1;33m)\u001b[0m\u001b[1;33m\u001b[0m\u001b[1;33m\u001b[0m\u001b[0m\n\u001b[0m",
      "\u001b[1;31mAttributeError\u001b[0m: 'tuple' object has no attribute 'remove'"
     ]
    }
   ],
   "source": [
    "attendance.remove(\"present\")"
   ]
  },
  {
   "cell_type": "code",
   "execution_count": 109,
   "id": "e8320789",
   "metadata": {},
   "outputs": [
    {
     "data": {
      "text/plain": [
       "0"
      ]
     },
     "execution_count": 109,
     "metadata": {},
     "output_type": "execute_result"
    }
   ],
   "source": [
    "attendance.index(\"present\")"
   ]
  },
  {
   "cell_type": "code",
   "execution_count": 112,
   "id": "9f6758bb",
   "metadata": {},
   "outputs": [
    {
     "data": {
      "text/plain": [
       "50.0"
      ]
     },
     "execution_count": 112,
     "metadata": {},
     "output_type": "execute_result"
    }
   ],
   "source": [
    "(attendance.count(\"present\")/(attendance.count(\"present\")+attendance.count(\"absent\")))*100"
   ]
  },
  {
   "cell_type": "code",
   "execution_count": 111,
   "id": "2791b4e5",
   "metadata": {},
   "outputs": [
    {
     "data": {
      "text/plain": [
       "2"
      ]
     },
     "execution_count": 111,
     "metadata": {},
     "output_type": "execute_result"
    }
   ],
   "source": [
    "attendance.count(\"absent\")"
   ]
  },
  {
   "cell_type": "code",
   "execution_count": 52,
   "id": "c696a674",
   "metadata": {},
   "outputs": [],
   "source": [
    "attendance_list = [(\"Himasnhu\", \"presnt\"), (\"Himanshu\", \"absent\")]"
   ]
  },
  {
   "cell_type": "code",
   "execution_count": 53,
   "id": "a0b3c73e",
   "metadata": {},
   "outputs": [
    {
     "ename": "AttributeError",
     "evalue": "'tuple' object has no attribute 'insert'",
     "output_type": "error",
     "traceback": [
      "\u001b[1;31m---------------------------------------------------------------------------\u001b[0m",
      "\u001b[1;31mAttributeError\u001b[0m                            Traceback (most recent call last)",
      "Cell \u001b[1;32mIn[53], line 1\u001b[0m\n\u001b[1;32m----> 1\u001b[0m \u001b[43mattendance_list\u001b[49m\u001b[43m[\u001b[49m\u001b[38;5;241;43m0\u001b[39;49m\u001b[43m]\u001b[49m\u001b[38;5;241;43m.\u001b[39;49m\u001b[43minsert\u001b[49m(\u001b[38;5;124m\"\u001b[39m\u001b[38;5;124mjdksds\u001b[39m\u001b[38;5;124m\"\u001b[39m)\n",
      "\u001b[1;31mAttributeError\u001b[0m: 'tuple' object has no attribute 'insert'"
     ]
    }
   ],
   "source": [
    "attendance_list[0].insert(\"jdksds\")"
   ]
  },
  {
   "cell_type": "code",
   "execution_count": 54,
   "id": "4c8a21a8",
   "metadata": {},
   "outputs": [],
   "source": [
    "attendance_list.pop(0)\n",
    "attendance_list.insert(0, (\"Himanshu\", \"present\"))"
   ]
  },
  {
   "cell_type": "code",
   "execution_count": 55,
   "id": "19d6acb5",
   "metadata": {},
   "outputs": [
    {
     "data": {
      "text/plain": [
       "[('Himanshu', 'present'), ('Himanshu', 'absent')]"
      ]
     },
     "execution_count": 55,
     "metadata": {},
     "output_type": "execute_result"
    }
   ],
   "source": [
    "attendance_list"
   ]
  },
  {
   "cell_type": "markdown",
   "id": "37733a08",
   "metadata": {},
   "source": [
    "# Dictionaries"
   ]
  },
  {
   "cell_type": "code",
   "execution_count": 122,
   "id": "c7437d35",
   "metadata": {},
   "outputs": [],
   "source": [
    "names = [\"Himanshu\", \"Vipin\", \"Shubham\", \"Tiwin\"]\n",
    "attendance = [\"present\", \"absent\", \"present\", \"absent\"]"
   ]
  },
  {
   "cell_type": "code",
   "execution_count": 125,
   "id": "9583103a",
   "metadata": {},
   "outputs": [
    {
     "name": "stdout",
     "output_type": "stream",
     "text": [
      "Himanshu : present\n",
      "Vipin : absent\n",
      "Shubham : present\n",
      "Tiwin : absent\n"
     ]
    }
   ],
   "source": [
    "for index in range(len(names)):\n",
    "    print(f\"{names[index]} : {attendance[index]}\")"
   ]
  },
  {
   "cell_type": "markdown",
   "id": "3371f28e",
   "metadata": {},
   "source": [
    "Dictionary is the key-value pairs"
   ]
  },
  {
   "cell_type": "code",
   "execution_count": 56,
   "id": "3e1ea3dd",
   "metadata": {},
   "outputs": [],
   "source": [
    "students_info = {\"Himanshu\":\"present\", \"Himanshu\":\"absent\", \"Shubham\":\"present\"}"
   ]
  },
  {
   "cell_type": "code",
   "execution_count": 57,
   "id": "21c3b233",
   "metadata": {},
   "outputs": [
    {
     "data": {
      "text/plain": [
       "{'Himanshu': 'absent', 'Shubham': 'present'}"
      ]
     },
     "execution_count": 57,
     "metadata": {},
     "output_type": "execute_result"
    }
   ],
   "source": [
    "students_info"
   ]
  },
  {
   "cell_type": "code",
   "execution_count": 58,
   "id": "79353c62",
   "metadata": {},
   "outputs": [],
   "source": [
    "students_db = {\"Himanshu\":[\"hsingh\", \"12345\"], \"Vipin\":[\"vpn\", \"234234\"], \"Shubham\":[\"sbm\", \"2345\"]}"
   ]
  },
  {
   "cell_type": "code",
   "execution_count": 59,
   "id": "56fc5074",
   "metadata": {},
   "outputs": [],
   "source": [
    "students_db = {\"Himanshu\":(\"hsingh\", \"12345\"), \"Vipin\":(\"vpn\", \"234234\"), \"Shubham\":(\"sbm\", \"2345\")}"
   ]
  },
  {
   "cell_type": "code",
   "execution_count": 60,
   "id": "9931f28f",
   "metadata": {},
   "outputs": [
    {
     "ename": "TypeError",
     "evalue": "unhashable type: 'list'",
     "output_type": "error",
     "traceback": [
      "\u001b[1;31m---------------------------------------------------------------------------\u001b[0m",
      "\u001b[1;31mTypeError\u001b[0m                                 Traceback (most recent call last)",
      "Cell \u001b[1;32mIn[60], line 1\u001b[0m\n\u001b[1;32m----> 1\u001b[0m students_db \u001b[38;5;241m=\u001b[39m {[\u001b[38;5;124m\"\u001b[39m\u001b[38;5;124mname\u001b[39m\u001b[38;5;124m\"\u001b[39m, \u001b[38;5;124m\"\u001b[39m\u001b[38;5;124mHimanshu\u001b[39m\u001b[38;5;124m\"\u001b[39m]:(\u001b[38;5;124m\"\u001b[39m\u001b[38;5;124mhsingh\u001b[39m\u001b[38;5;124m\"\u001b[39m, \u001b[38;5;124m\"\u001b[39m\u001b[38;5;124m12345\u001b[39m\u001b[38;5;124m\"\u001b[39m), [\u001b[38;5;124m\"\u001b[39m\u001b[38;5;124mname\u001b[39m\u001b[38;5;124m\"\u001b[39m, \u001b[38;5;124m\"\u001b[39m\u001b[38;5;124mVipin\u001b[39m\u001b[38;5;124m\"\u001b[39m]:(\u001b[38;5;124m\"\u001b[39m\u001b[38;5;124mvpn\u001b[39m\u001b[38;5;124m\"\u001b[39m, \u001b[38;5;124m\"\u001b[39m\u001b[38;5;124m234234\u001b[39m\u001b[38;5;124m\"\u001b[39m), [\u001b[38;5;124m\"\u001b[39m\u001b[38;5;124mname\u001b[39m\u001b[38;5;124m\"\u001b[39m, \u001b[38;5;124m\"\u001b[39m\u001b[38;5;124mShubham\u001b[39m\u001b[38;5;124m\"\u001b[39m]:(\u001b[38;5;124m\"\u001b[39m\u001b[38;5;124msbm\u001b[39m\u001b[38;5;124m\"\u001b[39m, \u001b[38;5;124m\"\u001b[39m\u001b[38;5;124m2345\u001b[39m\u001b[38;5;124m\"\u001b[39m)}\n",
      "\u001b[1;31mTypeError\u001b[0m: unhashable type: 'list'"
     ]
    }
   ],
   "source": [
    "students_db = {[\"name\", \"Himanshu\"]:(\"hsingh\", \"12345\"), [\"name\", \"Vipin\"]:(\"vpn\", \"234234\"), [\"name\", \"Shubham\"]:(\"sbm\", \"2345\")}"
   ]
  },
  {
   "cell_type": "markdown",
   "id": "f9a2bc10",
   "metadata": {},
   "source": [
    "1. Values can be anything (list, tuples, sets, dictionary, strings, integers, etc.)\n",
    "2. Keys should not be data structure of python - list, tuples etc"
   ]
  },
  {
   "cell_type": "code",
   "execution_count": 61,
   "id": "eaf8c6da",
   "metadata": {},
   "outputs": [
    {
     "data": {
      "text/plain": [
       "('hsingh', '12345')"
      ]
     },
     "execution_count": 61,
     "metadata": {},
     "output_type": "execute_result"
    }
   ],
   "source": [
    "students_db[\"Himanshu\"]"
   ]
  },
  {
   "cell_type": "code",
   "execution_count": 62,
   "id": "b2f5d870",
   "metadata": {},
   "outputs": [],
   "source": [
    "username = students_db[\"Himanshu\"][0]\n",
    "password = students_db[\"Himanshu\"][1]"
   ]
  },
  {
   "cell_type": "code",
   "execution_count": 63,
   "id": "21eedfcc",
   "metadata": {},
   "outputs": [
    {
     "name": "stdout",
     "output_type": "stream",
     "text": [
      "hsingh 12345\n"
     ]
    }
   ],
   "source": [
    "print(username, password)"
   ]
  },
  {
   "cell_type": "code",
   "execution_count": null,
   "id": "638320ab",
   "metadata": {},
   "outputs": [],
   "source": [
    "# This is just for reference as of now!!\n",
    "\n",
    "def password_match(uname, password):\n",
    "    \"\"\"\n",
    "        Password Match Logic\n",
    "    \"\"\"\n",
    "    \n",
    "password_match(username, password)"
   ]
  },
  {
   "cell_type": "code",
   "execution_count": 64,
   "id": "b69e516f",
   "metadata": {},
   "outputs": [
    {
     "data": {
      "text/plain": [
       "dict_items([('Himanshu', ('hsingh', '12345')), ('Vipin', ('vpn', '234234')), ('Shubham', ('sbm', '2345'))])"
      ]
     },
     "execution_count": 64,
     "metadata": {},
     "output_type": "execute_result"
    }
   ],
   "source": [
    "students_db.items()"
   ]
  },
  {
   "cell_type": "code",
   "execution_count": 65,
   "id": "773f018c",
   "metadata": {},
   "outputs": [
    {
     "data": {
      "text/plain": [
       "dict_keys(['Himanshu', 'Vipin', 'Shubham'])"
      ]
     },
     "execution_count": 65,
     "metadata": {},
     "output_type": "execute_result"
    }
   ],
   "source": [
    "students_db.keys()"
   ]
  },
  {
   "cell_type": "code",
   "execution_count": 66,
   "id": "aee82170",
   "metadata": {},
   "outputs": [
    {
     "data": {
      "text/plain": [
       "dict_values([('hsingh', '12345'), ('vpn', '234234'), ('sbm', '2345')])"
      ]
     },
     "execution_count": 66,
     "metadata": {},
     "output_type": "execute_result"
    }
   ],
   "source": [
    "students_db.values()"
   ]
  },
  {
   "cell_type": "code",
   "execution_count": 67,
   "id": "decc7da6",
   "metadata": {},
   "outputs": [],
   "source": [
    "students_info = {\"Himanshu\":\"present\", \"Vipin\":\"absent\", \"Shubham\":\"present\"}"
   ]
  },
  {
   "cell_type": "code",
   "execution_count": 68,
   "id": "b84e6967",
   "metadata": {},
   "outputs": [],
   "source": [
    "for key in students_info.keys():\n",
    "    students_info[key] = \"present\""
   ]
  },
  {
   "cell_type": "code",
   "execution_count": 69,
   "id": "9c3809cb",
   "metadata": {},
   "outputs": [
    {
     "data": {
      "text/plain": [
       "{'Himanshu': 'present', 'Vipin': 'present', 'Shubham': 'present'}"
      ]
     },
     "execution_count": 69,
     "metadata": {},
     "output_type": "execute_result"
    }
   ],
   "source": [
    "students_info"
   ]
  },
  {
   "cell_type": "code",
   "execution_count": 70,
   "id": "e17f96a6",
   "metadata": {},
   "outputs": [
    {
     "data": {
      "text/plain": [
       "'present'"
      ]
     },
     "execution_count": 70,
     "metadata": {},
     "output_type": "execute_result"
    }
   ],
   "source": [
    "#Read operation. Gives the values present at the key index\n",
    "students_info[\"Himanshu\"]"
   ]
  },
  {
   "cell_type": "code",
   "execution_count": 71,
   "id": "d45c7a85",
   "metadata": {},
   "outputs": [],
   "source": [
    "#Write operation wich replaces the value present at key index\n",
    "students_info[\"Himanshu\"] = \"absent\""
   ]
  },
  {
   "cell_type": "code",
   "execution_count": 72,
   "id": "730dd715",
   "metadata": {},
   "outputs": [
    {
     "data": {
      "text/plain": [
       "'absent'"
      ]
     },
     "execution_count": 72,
     "metadata": {},
     "output_type": "execute_result"
    }
   ],
   "source": [
    "students_info[\"Himanshu\"]"
   ]
  },
  {
   "cell_type": "code",
   "execution_count": 73,
   "id": "259f8fa0",
   "metadata": {},
   "outputs": [],
   "source": [
    "students_info.update({\"Sachin\":\"absent\"})"
   ]
  },
  {
   "cell_type": "code",
   "execution_count": 74,
   "id": "54fe45fa",
   "metadata": {},
   "outputs": [],
   "source": [
    "students_info.update({\"Himanshu\":\"a\"})"
   ]
  },
  {
   "cell_type": "code",
   "execution_count": 75,
   "id": "9ff09811",
   "metadata": {},
   "outputs": [
    {
     "data": {
      "text/plain": [
       "{'Himanshu': 'a', 'Vipin': 'present', 'Shubham': 'present', 'Sachin': 'absent'}"
      ]
     },
     "execution_count": 75,
     "metadata": {},
     "output_type": "execute_result"
    }
   ],
   "source": [
    "students_info"
   ]
  },
  {
   "cell_type": "code",
   "execution_count": 76,
   "id": "312effe5",
   "metadata": {},
   "outputs": [],
   "source": [
    "students_info[\"Himanshu\"]=\"\""
   ]
  },
  {
   "cell_type": "code",
   "execution_count": 77,
   "id": "19c557ce",
   "metadata": {},
   "outputs": [
    {
     "name": "stdout",
     "output_type": "stream",
     "text": [
      "Himanshu\n",
      "Vipin\n",
      "Shubham\n",
      "Sachin\n"
     ]
    }
   ],
   "source": [
    "for key in students_info.keys():\n",
    "    print(key)"
   ]
  },
  {
   "cell_type": "code",
   "execution_count": 78,
   "id": "b2ebe97b",
   "metadata": {},
   "outputs": [],
   "source": [
    "students_db = {\"Himanshu\":{\"hsingh\" : \"12345\"}}"
   ]
  },
  {
   "cell_type": "code",
   "execution_count": 79,
   "id": "c740c20b",
   "metadata": {},
   "outputs": [
    {
     "data": {
      "text/plain": [
       "'12345'"
      ]
     },
     "execution_count": 79,
     "metadata": {},
     "output_type": "execute_result"
    }
   ],
   "source": [
    "students_db[\"Himanshu\"][\"hsingh\"]"
   ]
  },
  {
   "cell_type": "code",
   "execution_count": 80,
   "id": "49f2f8ba",
   "metadata": {},
   "outputs": [
    {
     "data": {
      "text/plain": [
       "''"
      ]
     },
     "execution_count": 80,
     "metadata": {},
     "output_type": "execute_result"
    }
   ],
   "source": [
    "students_info.pop(\"Himanshu\")"
   ]
  },
  {
   "cell_type": "code",
   "execution_count": 81,
   "id": "094da736",
   "metadata": {},
   "outputs": [
    {
     "data": {
      "text/plain": [
       "'present'"
      ]
     },
     "execution_count": 81,
     "metadata": {},
     "output_type": "execute_result"
    }
   ],
   "source": [
    "students_info.pop(\"Vipin\")"
   ]
  },
  {
   "cell_type": "code",
   "execution_count": 82,
   "id": "9321451f",
   "metadata": {},
   "outputs": [
    {
     "data": {
      "text/plain": [
       "{'Shubham': 'present', 'Sachin': 'absent'}"
      ]
     },
     "execution_count": 82,
     "metadata": {},
     "output_type": "execute_result"
    }
   ],
   "source": [
    "students_info"
   ]
  }
 ],
 "metadata": {
  "kernelspec": {
   "display_name": "Python 3 (ipykernel)",
   "language": "python",
   "name": "python3"
  },
  "language_info": {
   "codemirror_mode": {
    "name": "ipython",
    "version": 3
   },
   "file_extension": ".py",
   "mimetype": "text/x-python",
   "name": "python",
   "nbconvert_exporter": "python",
   "pygments_lexer": "ipython3",
   "version": "3.10.9"
  }
 },
 "nbformat": 4,
 "nbformat_minor": 5
}
