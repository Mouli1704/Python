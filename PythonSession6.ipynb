{
 "cells": [
  {
   "cell_type": "markdown",
   "id": "ed7073cf",
   "metadata": {},
   "source": [
    "# Iterators in Classes"
   ]
  },
  {
   "cell_type": "code",
   "execution_count": null,
   "id": "9817dfe5",
   "metadata": {},
   "outputs": [],
   "source": [
    "c = 0\n",
    "for i in range(1,11):\n",
    "    c +=1\n",
    "    print(c)"
   ]
  },
  {
   "cell_type": "code",
   "execution_count": 1,
   "id": "4a6c1eb7",
   "metadata": {},
   "outputs": [],
   "source": [
    "class Counter:\n",
    "    def __init__(self, maxCount):\n",
    "        self.max = maxCount\n",
    "    \n",
    "    def __iter__(self):\n",
    "        self.c = 0\n",
    "        return self\n",
    "    \n",
    "    def __next__(self):\n",
    "        if self.c <= self.max:\n",
    "            self.c += 1\n",
    "            return self.c\n",
    "        else:\n",
    "            raise StopIteration"
   ]
  },
  {
   "cell_type": "code",
   "execution_count": 2,
   "id": "02882797",
   "metadata": {},
   "outputs": [],
   "source": [
    "object_10 = Counter(10)"
   ]
  },
  {
   "cell_type": "code",
   "execution_count": 3,
   "id": "46e269af",
   "metadata": {},
   "outputs": [
    {
     "name": "stdout",
     "output_type": "stream",
     "text": [
      "1\n",
      "2\n",
      "3\n",
      "4\n",
      "5\n",
      "6\n",
      "7\n",
      "8\n",
      "9\n",
      "10\n",
      "11\n"
     ]
    }
   ],
   "source": [
    "for count in object_10:\n",
    "    print(count)"
   ]
  },
  {
   "cell_type": "markdown",
   "id": "237e4164",
   "metadata": {},
   "source": [
    "# Polymorphism in Classes"
   ]
  },
  {
   "cell_type": "code",
   "execution_count": 4,
   "id": "165f8f7f",
   "metadata": {},
   "outputs": [],
   "source": [
    "class Car:\n",
    "    def lights(self):\n",
    "        print(\"Switch on during Night time\")"
   ]
  },
  {
   "cell_type": "code",
   "execution_count": 12,
   "id": "a4db26b0",
   "metadata": {},
   "outputs": [],
   "source": [
    "class Dipper(Car):\n",
    "    def lights(self):\n",
    "        print(\"Switch on when overtaking\")"
   ]
  },
  {
   "cell_type": "code",
   "execution_count": 6,
   "id": "a4ffaf49",
   "metadata": {},
   "outputs": [],
   "source": [
    "class DRL(Car):\n",
    "    def lights(self):\n",
    "        print(\"Switch on during Day time\")"
   ]
  },
  {
   "cell_type": "code",
   "execution_count": 11,
   "id": "70679123",
   "metadata": {},
   "outputs": [
    {
     "name": "stdout",
     "output_type": "stream",
     "text": [
      "Switch on during Night time\n"
     ]
    }
   ],
   "source": [
    "Dipper().lights()"
   ]
  },
  {
   "cell_type": "code",
   "execution_count": 8,
   "id": "9e95c352",
   "metadata": {},
   "outputs": [
    {
     "name": "stdout",
     "output_type": "stream",
     "text": [
      "Switch on during Day time\n"
     ]
    }
   ],
   "source": [
    "DRL().lights()"
   ]
  },
  {
   "cell_type": "code",
   "execution_count": 9,
   "id": "04c2dada",
   "metadata": {},
   "outputs": [
    {
     "name": "stdout",
     "output_type": "stream",
     "text": [
      "Switch on during Night time\n"
     ]
    }
   ],
   "source": [
    "Car().lights()"
   ]
  },
  {
   "cell_type": "code",
   "execution_count": 17,
   "id": "26437d6b",
   "metadata": {},
   "outputs": [],
   "source": [
    "class DRL(Car):\n",
    "    def lights(self):\n",
    "        print(\"daytime light\")\n",
    "        \n",
    "    def lights(self, li=\"blue\"):\n",
    "        print(f\"***{li}\")"
   ]
  },
  {
   "cell_type": "code",
   "execution_count": 18,
   "id": "37b8c08a",
   "metadata": {},
   "outputs": [
    {
     "name": "stdout",
     "output_type": "stream",
     "text": [
      "***blue\n"
     ]
    }
   ],
   "source": [
    "DRL().lights()"
   ]
  },
  {
   "cell_type": "markdown",
   "id": "28ecb79c",
   "metadata": {},
   "source": [
    "## Fore reference\n",
    "*args, **kwargs"
   ]
  },
  {
   "cell_type": "code",
   "execution_count": 19,
   "id": "37dea404",
   "metadata": {},
   "outputs": [],
   "source": [
    "from test import lights"
   ]
  },
  {
   "cell_type": "code",
   "execution_count": 21,
   "id": "ddfb4db4",
   "metadata": {},
   "outputs": [
    {
     "name": "stdout",
     "output_type": "stream",
     "text": [
      "sachin saurav\n"
     ]
    }
   ],
   "source": [
    "lights(\"sachin\", \"saurav\")"
   ]
  },
  {
   "cell_type": "markdown",
   "id": "180115b3",
   "metadata": {},
   "source": [
    "# OOPS"
   ]
  },
  {
   "cell_type": "markdown",
   "id": "7111a42a",
   "metadata": {},
   "source": [
    "Object Oriented Programming Language"
   ]
  },
  {
   "cell_type": "markdown",
   "id": "81366dec",
   "metadata": {},
   "source": [
    "1. Abstraction - Hiding away the logic\n",
    "2. Encapsulation - Hiding the logic and make it more secure by providing controlled access\n",
    "3. Inheritance - Writing the code once and reusing it by inheriting\n",
    "4. Polymorphism - Use the same functionality in different ways"
   ]
  },
  {
   "cell_type": "markdown",
   "id": "cc04caf2",
   "metadata": {},
   "source": [
    "# File Operations in Python"
   ]
  },
  {
   "cell_type": "markdown",
   "id": "37c3d9e7",
   "metadata": {},
   "source": [
    "## Reading Operation"
   ]
  },
  {
   "cell_type": "code",
   "execution_count": 27,
   "id": "ac29da8b",
   "metadata": {},
   "outputs": [],
   "source": [
    "with open(\"file1.txt\", 'r') as file:\n",
    "    content = file.read()"
   ]
  },
  {
   "cell_type": "code",
   "execution_count": 24,
   "id": "aa3d3eda",
   "metadata": {},
   "outputs": [
    {
     "name": "stdout",
     "output_type": "stream",
     "text": [
      "just to reconfirm.. when there are duplicate functions/classes with the same name, Python refers to the most latest one\n"
     ]
    }
   ],
   "source": [
    "print(content)"
   ]
  },
  {
   "cell_type": "code",
   "execution_count": 25,
   "id": "4ce2f07d",
   "metadata": {},
   "outputs": [
    {
     "name": "stdout",
     "output_type": "stream",
     "text": [
      "just to reconfirm.. when there are duplicate functions/classes with the same name, Python refers to the most latest one\n"
     ]
    }
   ],
   "source": [
    "file=open(\"file1.txt\",'r')\n",
    "content = file.read()\n",
    "print(content)"
   ]
  },
  {
   "cell_type": "code",
   "execution_count": 33,
   "id": "9f654f10",
   "metadata": {},
   "outputs": [
    {
     "name": "stdout",
     "output_type": "stream",
     "text": [
      "jskdhfkjsdh\n",
      "dsfhdskfljd\n",
      "lksdhjlksdjh\n",
      "kljsdhfkljsdfj\n"
     ]
    }
   ],
   "source": [
    "with open(\"C:\\\\Users\\\\sandi\\\\Desktop\\\\file2.txt\", 'r') as file2:\n",
    "    content = file2.read()\n",
    "    print(content)"
   ]
  },
  {
   "cell_type": "code",
   "execution_count": 32,
   "id": "b1064584",
   "metadata": {},
   "outputs": [
    {
     "name": "stdout",
     "output_type": "stream",
     "text": [
      "jskdhfkjsdh\n",
      "dsfhdskfljd\n",
      "lksdhjlksdjh\n",
      "kljsdhfkljsdfj\n"
     ]
    }
   ],
   "source": [
    "with open(\"C:/Users/sandi/Desktop/file2.txt\", 'r') as file2:\n",
    "    content = file2.read()\n",
    "    print(content)"
   ]
  },
  {
   "cell_type": "markdown",
   "id": "3d8b8718",
   "metadata": {},
   "source": [
    "## Writing Operation"
   ]
  },
  {
   "cell_type": "code",
   "execution_count": 35,
   "id": "b1b7046e",
   "metadata": {},
   "outputs": [],
   "source": [
    "with open(\"file3.txt\", 'w') as file3:\n",
    "    file3.write(\"India is my country\\n\")\n",
    "    file3.write(\"All indians are my brothers and sisters\")"
   ]
  },
  {
   "cell_type": "markdown",
   "id": "9ddf049e",
   "metadata": {},
   "source": [
    "## Append Operation"
   ]
  },
  {
   "cell_type": "code",
   "execution_count": 36,
   "id": "f3b96efa",
   "metadata": {},
   "outputs": [],
   "source": [
    "with open(\"file3.txt\", 'a') as file3:\n",
    "    file3.write(\"\\nI love my country\")"
   ]
  },
  {
   "cell_type": "markdown",
   "id": "c53223e8",
   "metadata": {},
   "source": [
    "## Reading Line by Line"
   ]
  },
  {
   "cell_type": "code",
   "execution_count": 39,
   "id": "7375403b",
   "metadata": {},
   "outputs": [
    {
     "name": "stdout",
     "output_type": "stream",
     "text": [
      "INDIA IS MY COUNTRY\n",
      "\n",
      "ALL INDIANS ARE MY BROTHERS AND SISTERS\n",
      "\n",
      "I LOVE MY COUNTRY\n"
     ]
    }
   ],
   "source": [
    "with open(\"file3.txt\", 'r') as file3:\n",
    "    for line in file3:\n",
    "        print(line.upper())"
   ]
  },
  {
   "cell_type": "code",
   "execution_count": 40,
   "id": "ffc2ede2",
   "metadata": {},
   "outputs": [
    {
     "name": "stdout",
     "output_type": "stream",
     "text": [
      "All indians are my brothers and sisters\n",
      "\n"
     ]
    }
   ],
   "source": [
    "with open(\"file3.txt\", 'r') as file3:\n",
    "    c = 0\n",
    "    for line in file3:\n",
    "        c += 1\n",
    "        if c == 2:\n",
    "            print(line)"
   ]
  },
  {
   "cell_type": "code",
   "execution_count": 43,
   "id": "5bf39f59",
   "metadata": {},
   "outputs": [],
   "source": [
    "with open(\"file3.txt\", 'r') as file3:\n",
    "    lines = file3.readlines()\n",
    "    \n",
    "lines.insert(2, \"Himanshu\")\n",
    "\n",
    "final_lines = \"\\n\".join(lines)\n",
    "\n",
    "with open(\"file4.txt\", 'w') as file4:\n",
    "    file4.write(final_lines)"
   ]
  },
  {
   "cell_type": "code",
   "execution_count": 42,
   "id": "71601400",
   "metadata": {},
   "outputs": [
    {
     "name": "stdout",
     "output_type": "stream",
     "text": [
      "['India is my country\\n', 'All indians are my brothers and sisters\\n', 'Himanshu', 'I love my country']\n"
     ]
    }
   ],
   "source": [
    "print(lines)"
   ]
  },
  {
   "cell_type": "code",
   "execution_count": 44,
   "id": "24bf7a70",
   "metadata": {},
   "outputs": [
    {
     "ename": "ValueError",
     "evalue": "must have exactly one of create/read/write/append mode",
     "output_type": "error",
     "traceback": [
      "\u001b[1;31m---------------------------------------------------------------------------\u001b[0m",
      "\u001b[1;31mValueError\u001b[0m                                Traceback (most recent call last)",
      "Cell \u001b[1;32mIn[44], line 1\u001b[0m\n\u001b[1;32m----> 1\u001b[0m \u001b[38;5;28;01mwith\u001b[39;00m \u001b[38;5;28mopen\u001b[39m(\u001b[38;5;124m\"\u001b[39m\u001b[38;5;124mfile3.txt\u001b[39m\u001b[38;5;124m\"\u001b[39m, \u001b[38;5;124m'\u001b[39m\u001b[38;5;124mrw\u001b[39m\u001b[38;5;124m'\u001b[39m) \u001b[38;5;28;01mas\u001b[39;00m file3:\n\u001b[0;32m      2\u001b[0m     lines \u001b[38;5;241m=\u001b[39m file3\u001b[38;5;241m.\u001b[39mreadlines()\n",
      "File \u001b[1;32m~\\anaconda3\\envs\\intellipat\\Lib\\site-packages\\IPython\\core\\interactiveshell.py:310\u001b[0m, in \u001b[0;36m_modified_open\u001b[1;34m(file, *args, **kwargs)\u001b[0m\n\u001b[0;32m    303\u001b[0m \u001b[38;5;28;01mif\u001b[39;00m file \u001b[38;5;129;01min\u001b[39;00m {\u001b[38;5;241m0\u001b[39m, \u001b[38;5;241m1\u001b[39m, \u001b[38;5;241m2\u001b[39m}:\n\u001b[0;32m    304\u001b[0m     \u001b[38;5;28;01mraise\u001b[39;00m \u001b[38;5;167;01mValueError\u001b[39;00m(\n\u001b[0;32m    305\u001b[0m         \u001b[38;5;124mf\u001b[39m\u001b[38;5;124m\"\u001b[39m\u001b[38;5;124mIPython won\u001b[39m\u001b[38;5;124m'\u001b[39m\u001b[38;5;124mt let you open fd=\u001b[39m\u001b[38;5;132;01m{\u001b[39;00mfile\u001b[38;5;132;01m}\u001b[39;00m\u001b[38;5;124m by default \u001b[39m\u001b[38;5;124m\"\u001b[39m\n\u001b[0;32m    306\u001b[0m         \u001b[38;5;124m\"\u001b[39m\u001b[38;5;124mas it is likely to crash IPython. If you know what you are doing, \u001b[39m\u001b[38;5;124m\"\u001b[39m\n\u001b[0;32m    307\u001b[0m         \u001b[38;5;124m\"\u001b[39m\u001b[38;5;124myou can use builtins\u001b[39m\u001b[38;5;124m'\u001b[39m\u001b[38;5;124m open.\u001b[39m\u001b[38;5;124m\"\u001b[39m\n\u001b[0;32m    308\u001b[0m     )\n\u001b[1;32m--> 310\u001b[0m \u001b[38;5;28;01mreturn\u001b[39;00m io_open(file, \u001b[38;5;241m*\u001b[39margs, \u001b[38;5;241m*\u001b[39m\u001b[38;5;241m*\u001b[39mkwargs)\n",
      "\u001b[1;31mValueError\u001b[0m: must have exactly one of create/read/write/append mode"
     ]
    }
   ],
   "source": [
    "#Multiple operations will not work\n",
    "\n",
    "with open(\"file3.txt\", 'rw') as file3:\n",
    "    lines = file3.readlines()"
   ]
  },
  {
   "cell_type": "markdown",
   "id": "9e0fc319",
   "metadata": {},
   "source": [
    "# Exception Handling"
   ]
  },
  {
   "cell_type": "code",
   "execution_count": 45,
   "id": "7e2f3288",
   "metadata": {},
   "outputs": [
    {
     "name": "stdout",
     "output_type": "stream",
     "text": [
      "3.3333333333333335\n",
      "5.0\n"
     ]
    },
    {
     "ename": "ZeroDivisionError",
     "evalue": "division by zero",
     "output_type": "error",
     "traceback": [
      "\u001b[1;31m---------------------------------------------------------------------------\u001b[0m",
      "\u001b[1;31mZeroDivisionError\u001b[0m                         Traceback (most recent call last)",
      "Cell \u001b[1;32mIn[45], line 5\u001b[0m\n\u001b[0;32m      2\u001b[0m number \u001b[38;5;241m=\u001b[39m \u001b[38;5;241m10\u001b[39m\n\u001b[0;32m      4\u001b[0m \u001b[38;5;28;01mfor\u001b[39;00m n \u001b[38;5;129;01min\u001b[39;00m basic:\n\u001b[1;32m----> 5\u001b[0m     \u001b[38;5;28mprint\u001b[39m(number\u001b[38;5;241m/\u001b[39mn)\n",
      "\u001b[1;31mZeroDivisionError\u001b[0m: division by zero"
     ]
    }
   ],
   "source": [
    "basic = [3,2,0,1]\n",
    "number = 10\n",
    "\n",
    "for n in basic:\n",
    "    print(number/n)"
   ]
  },
  {
   "cell_type": "code",
   "execution_count": 46,
   "id": "e3508786",
   "metadata": {},
   "outputs": [
    {
     "name": "stdout",
     "output_type": "stream",
     "text": [
      "3.3333333333333335\n",
      "5.0\n",
      "There was an error\n"
     ]
    }
   ],
   "source": [
    "basic = [3,2,0,1]\n",
    "number = 10\n",
    "\n",
    "try:\n",
    "    for n in basic:\n",
    "        print(number/n)\n",
    "except:\n",
    "    print(\"There was an error\")"
   ]
  },
  {
   "cell_type": "code",
   "execution_count": 48,
   "id": "f9d06eb8",
   "metadata": {},
   "outputs": [
    {
     "name": "stdout",
     "output_type": "stream",
     "text": [
      "3.3333333333333335\n",
      "5.0\n",
      "There was an error - division by zero\n"
     ]
    }
   ],
   "source": [
    "basic = [3,2,0,1]\n",
    "number = 10\n",
    "\n",
    "try:\n",
    "    for n in basic:\n",
    "        print(number/n)\n",
    "except Exception as e:\n",
    "    print(f\"There was an error - {e}\")"
   ]
  },
  {
   "cell_type": "code",
   "execution_count": 51,
   "id": "0dbe439f",
   "metadata": {},
   "outputs": [
    {
     "name": "stdout",
     "output_type": "stream",
     "text": [
      "There was an error - [Errno 2] No such file or directory: 'file10.txt'\n"
     ]
    }
   ],
   "source": [
    "try:\n",
    "    with open(\"file10.txt\", 'r') as file3:\n",
    "        lines = file3.readlines()\n",
    "except Exception as e:\n",
    "    print(f\"There was an error - {e}\")"
   ]
  },
  {
   "cell_type": "code",
   "execution_count": 52,
   "id": "66fc6f50",
   "metadata": {},
   "outputs": [
    {
     "ename": "FileNotFoundError",
     "evalue": "[Errno 2] No such file or directory: 'file10.txt'",
     "output_type": "error",
     "traceback": [
      "\u001b[1;31m---------------------------------------------------------------------------\u001b[0m",
      "\u001b[1;31mFileNotFoundError\u001b[0m                         Traceback (most recent call last)",
      "Cell \u001b[1;32mIn[52], line 1\u001b[0m\n\u001b[1;32m----> 1\u001b[0m \u001b[38;5;28;01mwith\u001b[39;00m \u001b[38;5;28mopen\u001b[39m(\u001b[38;5;124m\"\u001b[39m\u001b[38;5;124mfile10.txt\u001b[39m\u001b[38;5;124m\"\u001b[39m, \u001b[38;5;124m'\u001b[39m\u001b[38;5;124mr\u001b[39m\u001b[38;5;124m'\u001b[39m) \u001b[38;5;28;01mas\u001b[39;00m file3:\n\u001b[0;32m      2\u001b[0m         lines \u001b[38;5;241m=\u001b[39m file3\u001b[38;5;241m.\u001b[39mreadlines()\n",
      "File \u001b[1;32m~\\anaconda3\\envs\\intellipat\\Lib\\site-packages\\IPython\\core\\interactiveshell.py:310\u001b[0m, in \u001b[0;36m_modified_open\u001b[1;34m(file, *args, **kwargs)\u001b[0m\n\u001b[0;32m    303\u001b[0m \u001b[38;5;28;01mif\u001b[39;00m file \u001b[38;5;129;01min\u001b[39;00m {\u001b[38;5;241m0\u001b[39m, \u001b[38;5;241m1\u001b[39m, \u001b[38;5;241m2\u001b[39m}:\n\u001b[0;32m    304\u001b[0m     \u001b[38;5;28;01mraise\u001b[39;00m \u001b[38;5;167;01mValueError\u001b[39;00m(\n\u001b[0;32m    305\u001b[0m         \u001b[38;5;124mf\u001b[39m\u001b[38;5;124m\"\u001b[39m\u001b[38;5;124mIPython won\u001b[39m\u001b[38;5;124m'\u001b[39m\u001b[38;5;124mt let you open fd=\u001b[39m\u001b[38;5;132;01m{\u001b[39;00mfile\u001b[38;5;132;01m}\u001b[39;00m\u001b[38;5;124m by default \u001b[39m\u001b[38;5;124m\"\u001b[39m\n\u001b[0;32m    306\u001b[0m         \u001b[38;5;124m\"\u001b[39m\u001b[38;5;124mas it is likely to crash IPython. If you know what you are doing, \u001b[39m\u001b[38;5;124m\"\u001b[39m\n\u001b[0;32m    307\u001b[0m         \u001b[38;5;124m\"\u001b[39m\u001b[38;5;124myou can use builtins\u001b[39m\u001b[38;5;124m'\u001b[39m\u001b[38;5;124m open.\u001b[39m\u001b[38;5;124m\"\u001b[39m\n\u001b[0;32m    308\u001b[0m     )\n\u001b[1;32m--> 310\u001b[0m \u001b[38;5;28;01mreturn\u001b[39;00m io_open(file, \u001b[38;5;241m*\u001b[39margs, \u001b[38;5;241m*\u001b[39m\u001b[38;5;241m*\u001b[39mkwargs)\n",
      "\u001b[1;31mFileNotFoundError\u001b[0m: [Errno 2] No such file or directory: 'file10.txt'"
     ]
    }
   ],
   "source": [
    "with open(\"file10.txt\", 'r') as file3:\n",
    "        lines = file3.readlines()"
   ]
  },
  {
   "cell_type": "code",
   "execution_count": 54,
   "id": "fa0395c2",
   "metadata": {},
   "outputs": [
    {
     "name": "stdout",
     "output_type": "stream",
     "text": [
      "3.3333333333333335\n",
      "5.0\n",
      "A number zero is encountered so avoiding\n",
      "10.0\n"
     ]
    }
   ],
   "source": [
    "basic = [3,2,0,1]\n",
    "number = 10\n",
    "\n",
    "for n in basic:\n",
    "    try:\n",
    "        print(number/n)\n",
    "    except ZeroDivisionError:\n",
    "        print(\"A number zero is encountered so avoiding\")\n",
    "        pass"
   ]
  },
  {
   "cell_type": "code",
   "execution_count": 57,
   "id": "6d876735",
   "metadata": {
    "scrolled": true
   },
   "outputs": [
    {
     "name": "stdout",
     "output_type": "stream",
     "text": [
      "3.3333333333333335\n"
     ]
    },
    {
     "ename": "RuntimeError",
     "evalue": "No active exception to reraise",
     "output_type": "error",
     "traceback": [
      "\u001b[1;31m---------------------------------------------------------------------------\u001b[0m",
      "\u001b[1;31mRuntimeError\u001b[0m                              Traceback (most recent call last)",
      "Cell \u001b[1;32mIn[57], line 7\u001b[0m\n\u001b[0;32m      5\u001b[0m \u001b[38;5;28;01mtry\u001b[39;00m:\n\u001b[0;32m      6\u001b[0m     \u001b[38;5;28mprint\u001b[39m(number\u001b[38;5;241m/\u001b[39mn)\n\u001b[1;32m----> 7\u001b[0m     \u001b[38;5;28;01mraise\u001b[39;00m\n\u001b[0;32m      8\u001b[0m \u001b[38;5;28;01mexcept\u001b[39;00m \u001b[38;5;167;01mZeroDivisionError\u001b[39;00m:\n\u001b[0;32m      9\u001b[0m     \u001b[38;5;28mprint\u001b[39m(\u001b[38;5;124m\"\u001b[39m\u001b[38;5;124mA number zero is encountered so avoiding\u001b[39m\u001b[38;5;124m\"\u001b[39m)\n",
      "\u001b[1;31mRuntimeError\u001b[0m: No active exception to reraise"
     ]
    }
   ],
   "source": [
    "basic = [3,2,5,1]\n",
    "number = 10\n",
    "\n",
    "for n in basic:\n",
    "    try:\n",
    "        print(number/n)\n",
    "        raise ZeroDivisionError\n",
    "    except ZeroDivisionError:\n",
    "        print(\"A number zero is encountered so avoiding\")"
   ]
  },
  {
   "cell_type": "code",
   "execution_count": 58,
   "id": "37fd7b40",
   "metadata": {},
   "outputs": [
    {
     "name": "stdout",
     "output_type": "stream",
     "text": [
      "3.3333333333333335\n",
      "5.0\n",
      "There was an error - division by zero\n"
     ]
    }
   ],
   "source": [
    "basic = [3,2,0,1]\n",
    "number = 10\n",
    "\n",
    "try:\n",
    "    for n in basic:\n",
    "        print(number/n)\n",
    "except Exception as e:\n",
    "    print(f\"There was an error - {e}\")"
   ]
  },
  {
   "cell_type": "code",
   "execution_count": 60,
   "id": "5cb1df26",
   "metadata": {},
   "outputs": [
    {
     "name": "stdout",
     "output_type": "stream",
     "text": [
      "0.3333333333333333\n",
      "0.25\n",
      "the eror isdivision by zero\n"
     ]
    }
   ],
   "source": [
    "basic =[3,4,0 ,9]\n",
    "number=1\n",
    "\n",
    "for n in basic:\n",
    "    try:\n",
    "        print(number/n)\n",
    "    except Exception as e:\n",
    "        print(f\"the eror is{e}\")\n",
    "        break"
   ]
  },
  {
   "cell_type": "code",
   "execution_count": 62,
   "id": "070d5441",
   "metadata": {},
   "outputs": [
    {
     "name": "stdout",
     "output_type": "stream",
     "text": [
      "0.3333333333333333\n",
      "0.25\n",
      "there is an error inside the loop -division by zero\n"
     ]
    }
   ],
   "source": [
    "basic =[3,4,0 ,9]\n",
    "number=1\n",
    "\n",
    "try:\n",
    "    for n in basic:\n",
    "        try:\n",
    "            print(number/n)\n",
    "        except Exception as e:\n",
    "            print(f\"there is an error inside the loop -{e}\")\n",
    "            break\n",
    "except Exception as e:\n",
    "    print(f\"There is an error in outer loop - {e}\")"
   ]
  },
  {
   "cell_type": "code",
   "execution_count": 63,
   "id": "a69f54a8",
   "metadata": {},
   "outputs": [
    {
     "name": "stdout",
     "output_type": "stream",
     "text": [
      "0.3333333333333333\n",
      "0.25\n",
      "There is an error in outer loop - division by zero\n"
     ]
    }
   ],
   "source": [
    "basic =[3,4,0 ,9]\n",
    "number=1\n",
    "\n",
    "try:\n",
    "    for n in basic:\n",
    "        print(number/n)\n",
    "\n",
    "except Exception as e:\n",
    "    print(f\"There is an error in outer loop - {e}\")"
   ]
  },
  {
   "cell_type": "code",
   "execution_count": 72,
   "id": "a04b981c",
   "metadata": {},
   "outputs": [
    {
     "name": "stdout",
     "output_type": "stream",
     "text": [
      "0.3333333333333333\n",
      "0.25\n",
      "There is an error in outer loop - division by zero\n"
     ]
    }
   ],
   "source": [
    "basic =[3,4,0 ,9]\n",
    "number=1\n",
    "\n",
    "try:\n",
    "    for abc in basic:\n",
    "        print(number/abc)\n",
    "\n",
    "except (RuntimeError, ZeroDivisionError) as e:\n",
    "    print(f\"There is an error in outer loop - {e}\")"
   ]
  },
  {
   "cell_type": "code",
   "execution_count": 74,
   "id": "43f59eba",
   "metadata": {},
   "outputs": [
    {
     "name": "stdout",
     "output_type": "stream",
     "text": [
      "Please Enter a NumberHimanshu\n"
     ]
    },
    {
     "ename": "ValueError",
     "evalue": "invalid literal for int() with base 10: 'Himanshu'",
     "output_type": "error",
     "traceback": [
      "\u001b[1;31m---------------------------------------------------------------------------\u001b[0m",
      "\u001b[1;31mValueError\u001b[0m                                Traceback (most recent call last)",
      "Cell \u001b[1;32mIn[74], line 1\u001b[0m\n\u001b[1;32m----> 1\u001b[0m number \u001b[38;5;241m=\u001b[39m \u001b[38;5;28mint\u001b[39m(\u001b[38;5;28minput\u001b[39m(\u001b[38;5;124m\"\u001b[39m\u001b[38;5;124mPlease Enter a Number\u001b[39m\u001b[38;5;124m\"\u001b[39m))\n\u001b[0;32m      3\u001b[0m \u001b[38;5;28;01mif\u001b[39;00m number \u001b[38;5;241m%\u001b[39m \u001b[38;5;241m2\u001b[39m \u001b[38;5;241m==\u001b[39m \u001b[38;5;241m0\u001b[39m:\n\u001b[0;32m      4\u001b[0m     \u001b[38;5;28mprint\u001b[39m(\u001b[38;5;124m\"\u001b[39m\u001b[38;5;124mNumber is even\u001b[39m\u001b[38;5;124m\"\u001b[39m)\n",
      "\u001b[1;31mValueError\u001b[0m: invalid literal for int() with base 10: 'Himanshu'"
     ]
    }
   ],
   "source": [
    "number = int(input(\"Please Enter a Number\"))\n",
    "\n",
    "if number % 2 == 0:\n",
    "    print(\"Number is even\")\n",
    "else:\n",
    "    print(\"Number is odd\")"
   ]
  },
  {
   "cell_type": "code",
   "execution_count": 77,
   "id": "7187772f",
   "metadata": {},
   "outputs": [
    {
     "name": "stdout",
     "output_type": "stream",
     "text": [
      "Please Enter a Number10\n",
      "Number is even\n"
     ]
    }
   ],
   "source": [
    "try:\n",
    "    number = int(input(\"Please Enter a Number\"))\n",
    "\n",
    "except Exception as e:\n",
    "    print(f\"Please enter a valid number - {e}\")\n",
    "\n",
    "else:\n",
    "    if number % 2 == 0:\n",
    "        print(\"Number is even\")\n",
    "    else:\n",
    "        print(\"Number is odd\")"
   ]
  },
  {
   "cell_type": "code",
   "execution_count": 1,
   "id": "4610064b",
   "metadata": {},
   "outputs": [
    {
     "name": "stdout",
     "output_type": "stream",
     "text": [
      "Please Enter a NumberHimanshu\n",
      "Please enter a valid number - invalid literal for int() with base 10: 'Himanshu'\n",
      "Please Enter a Number10\n",
      "Number is even\n"
     ]
    }
   ],
   "source": [
    "while True:\n",
    "    try:\n",
    "        number = int(input(\"Please Enter a Number\"))\n",
    "\n",
    "    except Exception as e:\n",
    "        print(f\"Please enter a valid number - {e}\")\n",
    "        continue\n",
    "\n",
    "    else:\n",
    "        if number % 2 == 0:\n",
    "            print(\"Number is even\")\n",
    "            break\n",
    "        else:\n",
    "            print(\"Number is odd\")\n",
    "            break"
   ]
  },
  {
   "cell_type": "code",
   "execution_count": 4,
   "id": "2df58f72",
   "metadata": {},
   "outputs": [
    {
     "name": "stdout",
     "output_type": "stream",
     "text": [
      "There is an error - [Errno 2] No such file or directory: 'file34.txt'\n",
      "I am inside finally\n"
     ]
    }
   ],
   "source": [
    "try:\n",
    "    file = open(\"file34.txt\", \"r\")\n",
    "    content = file.read()\n",
    "    print(content)\n",
    "except Exception as e:\n",
    "    print(f\"There is an error - {e}\")\n",
    "finally:\n",
    "    print(\"I am inside finally\")\n",
    "    file.close()"
   ]
  },
  {
   "cell_type": "markdown",
   "id": "7da3a8ca",
   "metadata": {},
   "source": [
    "# Decorators"
   ]
  },
  {
   "cell_type": "code",
   "execution_count": 5,
   "id": "076692ce",
   "metadata": {},
   "outputs": [],
   "source": [
    "import time"
   ]
  },
  {
   "cell_type": "code",
   "execution_count": 11,
   "id": "e3a572c1",
   "metadata": {},
   "outputs": [],
   "source": [
    "def multiplication_table(n):\n",
    "    for i in range(1,200):\n",
    "        print(f\"{n} x {i} == {n*i}\")"
   ]
  },
  {
   "cell_type": "code",
   "execution_count": 12,
   "id": "040cd285",
   "metadata": {},
   "outputs": [
    {
     "name": "stdout",
     "output_type": "stream",
     "text": [
      "5 x 1 == 5\n",
      "5 x 2 == 10\n",
      "5 x 3 == 15\n",
      "5 x 4 == 20\n",
      "5 x 5 == 25\n",
      "5 x 6 == 30\n",
      "5 x 7 == 35\n",
      "5 x 8 == 40\n",
      "5 x 9 == 45\n",
      "5 x 10 == 50\n",
      "5 x 11 == 55\n",
      "5 x 12 == 60\n",
      "5 x 13 == 65\n",
      "5 x 14 == 70\n",
      "5 x 15 == 75\n",
      "5 x 16 == 80\n",
      "5 x 17 == 85\n",
      "5 x 18 == 90\n",
      "5 x 19 == 95\n",
      "5 x 20 == 100\n",
      "5 x 21 == 105\n",
      "5 x 22 == 110\n",
      "5 x 23 == 115\n",
      "5 x 24 == 120\n",
      "5 x 25 == 125\n",
      "5 x 26 == 130\n",
      "5 x 27 == 135\n",
      "5 x 28 == 140\n",
      "5 x 29 == 145\n",
      "5 x 30 == 150\n",
      "5 x 31 == 155\n",
      "5 x 32 == 160\n",
      "5 x 33 == 165\n",
      "5 x 34 == 170\n",
      "5 x 35 == 175\n",
      "5 x 36 == 180\n",
      "5 x 37 == 185\n",
      "5 x 38 == 190\n",
      "5 x 39 == 195\n",
      "5 x 40 == 200\n",
      "5 x 41 == 205\n",
      "5 x 42 == 210\n",
      "5 x 43 == 215\n",
      "5 x 44 == 220\n",
      "5 x 45 == 225\n",
      "5 x 46 == 230\n",
      "5 x 47 == 235\n",
      "5 x 48 == 240\n",
      "5 x 49 == 245\n",
      "5 x 50 == 250\n",
      "5 x 51 == 255\n",
      "5 x 52 == 260\n",
      "5 x 53 == 265\n",
      "5 x 54 == 270\n",
      "5 x 55 == 275\n",
      "5 x 56 == 280\n",
      "5 x 57 == 285\n",
      "5 x 58 == 290\n",
      "5 x 59 == 295\n",
      "5 x 60 == 300\n",
      "5 x 61 == 305\n",
      "5 x 62 == 310\n",
      "5 x 63 == 315\n",
      "5 x 64 == 320\n",
      "5 x 65 == 325\n",
      "5 x 66 == 330\n",
      "5 x 67 == 335\n",
      "5 x 68 == 340\n",
      "5 x 69 == 345\n",
      "5 x 70 == 350\n",
      "5 x 71 == 355\n",
      "5 x 72 == 360\n",
      "5 x 73 == 365\n",
      "5 x 74 == 370\n",
      "5 x 75 == 375\n",
      "5 x 76 == 380\n",
      "5 x 77 == 385\n",
      "5 x 78 == 390\n",
      "5 x 79 == 395\n",
      "5 x 80 == 400\n",
      "5 x 81 == 405\n",
      "5 x 82 == 410\n",
      "5 x 83 == 415\n",
      "5 x 84 == 420\n",
      "5 x 85 == 425\n",
      "5 x 86 == 430\n",
      "5 x 87 == 435\n",
      "5 x 88 == 440\n",
      "5 x 89 == 445\n",
      "5 x 90 == 450\n",
      "5 x 91 == 455\n",
      "5 x 92 == 460\n",
      "5 x 93 == 465\n",
      "5 x 94 == 470\n",
      "5 x 95 == 475\n",
      "5 x 96 == 480\n",
      "5 x 97 == 485\n",
      "5 x 98 == 490\n",
      "5 x 99 == 495\n",
      "5 x 100 == 500\n",
      "5 x 101 == 505\n",
      "5 x 102 == 510\n",
      "5 x 103 == 515\n",
      "5 x 104 == 520\n",
      "5 x 105 == 525\n",
      "5 x 106 == 530\n",
      "5 x 107 == 535\n",
      "5 x 108 == 540\n",
      "5 x 109 == 545\n",
      "5 x 110 == 550\n",
      "5 x 111 == 555\n",
      "5 x 112 == 560\n",
      "5 x 113 == 565\n",
      "5 x 114 == 570\n",
      "5 x 115 == 575\n",
      "5 x 116 == 580\n",
      "5 x 117 == 585\n",
      "5 x 118 == 590\n",
      "5 x 119 == 595\n",
      "5 x 120 == 600\n",
      "5 x 121 == 605\n",
      "5 x 122 == 610\n",
      "5 x 123 == 615\n",
      "5 x 124 == 620\n",
      "5 x 125 == 625\n",
      "5 x 126 == 630\n",
      "5 x 127 == 635\n",
      "5 x 128 == 640\n",
      "5 x 129 == 645\n",
      "5 x 130 == 650\n",
      "5 x 131 == 655\n",
      "5 x 132 == 660\n",
      "5 x 133 == 665\n",
      "5 x 134 == 670\n",
      "5 x 135 == 675\n",
      "5 x 136 == 680\n",
      "5 x 137 == 685\n",
      "5 x 138 == 690\n",
      "5 x 139 == 695\n",
      "5 x 140 == 700\n",
      "5 x 141 == 705\n",
      "5 x 142 == 710\n",
      "5 x 143 == 715\n",
      "5 x 144 == 720\n",
      "5 x 145 == 725\n",
      "5 x 146 == 730\n",
      "5 x 147 == 735\n",
      "5 x 148 == 740\n",
      "5 x 149 == 745\n",
      "5 x 150 == 750\n",
      "5 x 151 == 755\n",
      "5 x 152 == 760\n",
      "5 x 153 == 765\n",
      "5 x 154 == 770\n",
      "5 x 155 == 775\n",
      "5 x 156 == 780\n",
      "5 x 157 == 785\n",
      "5 x 158 == 790\n",
      "5 x 159 == 795\n",
      "5 x 160 == 800\n",
      "5 x 161 == 805\n",
      "5 x 162 == 810\n",
      "5 x 163 == 815\n",
      "5 x 164 == 820\n",
      "5 x 165 == 825\n",
      "5 x 166 == 830\n",
      "5 x 167 == 835\n",
      "5 x 168 == 840\n",
      "5 x 169 == 845\n",
      "5 x 170 == 850\n",
      "5 x 171 == 855\n",
      "5 x 172 == 860\n",
      "5 x 173 == 865\n",
      "5 x 174 == 870\n",
      "5 x 175 == 875\n",
      "5 x 176 == 880\n",
      "5 x 177 == 885\n",
      "5 x 178 == 890\n",
      "5 x 179 == 895\n",
      "5 x 180 == 900\n",
      "5 x 181 == 905\n",
      "5 x 182 == 910\n",
      "5 x 183 == 915\n",
      "5 x 184 == 920\n",
      "5 x 185 == 925\n",
      "5 x 186 == 930\n",
      "5 x 187 == 935\n",
      "5 x 188 == 940\n",
      "5 x 189 == 945\n",
      "5 x 190 == 950\n",
      "5 x 191 == 955\n",
      "5 x 192 == 960\n",
      "5 x 193 == 965\n",
      "5 x 194 == 970\n",
      "5 x 195 == 975\n",
      "5 x 196 == 980\n",
      "5 x 197 == 985\n",
      "5 x 198 == 990\n",
      "5 x 199 == 995\n",
      "0.00130391120910644531\n"
     ]
    }
   ],
   "source": [
    "start_time = time.time()\n",
    "multiplication_table(5)\n",
    "end_time = time.time()\n",
    "\n",
    "print(f\"{end_time-start_time:.20f}\")"
   ]
  },
  {
   "cell_type": "code",
   "execution_count": 17,
   "id": "21d2cb02",
   "metadata": {},
   "outputs": [
    {
     "name": "stdout",
     "output_type": "stream",
     "text": [
      "10 20\n",
      "(30, 40, 50, 60)\n"
     ]
    }
   ],
   "source": [
    "def test(a, b, *args):\n",
    "    print(a,b)\n",
    "    print(args)\n",
    "\n",
    "test(10,20, 30, 40, 50, 60)"
   ]
  },
  {
   "cell_type": "code",
   "execution_count": 2,
   "id": "b0ff050a",
   "metadata": {},
   "outputs": [],
   "source": [
    "import time\n",
    "def timer(func):\n",
    "    def wrapper(*args):\n",
    "        start_time = time.time()\n",
    "        func(*args)\n",
    "        end_time = time.time()\n",
    "        print(f\"Total time taken is - {end_time-start_time:.20f}\")\n",
    "    return wrapper"
   ]
  },
  {
   "cell_type": "code",
   "execution_count": 7,
   "id": "a9c72e39",
   "metadata": {},
   "outputs": [],
   "source": [
    "@timer\n",
    "def multiplication_table(n):\n",
    "    for i in range(1,200):\n",
    "        print(f\"{n} x {i} == {n*i}\")"
   ]
  },
  {
   "cell_type": "code",
   "execution_count": 8,
   "id": "a670b36d",
   "metadata": {},
   "outputs": [
    {
     "name": "stdout",
     "output_type": "stream",
     "text": [
      "5 x 1 == 5\n",
      "5 x 2 == 10\n",
      "5 x 3 == 15\n",
      "5 x 4 == 20\n",
      "5 x 5 == 25\n",
      "5 x 6 == 30\n",
      "5 x 7 == 35\n",
      "5 x 8 == 40\n",
      "5 x 9 == 45\n",
      "5 x 10 == 50\n",
      "5 x 11 == 55\n",
      "5 x 12 == 60\n",
      "5 x 13 == 65\n",
      "5 x 14 == 70\n",
      "5 x 15 == 75\n",
      "5 x 16 == 80\n",
      "5 x 17 == 85\n",
      "5 x 18 == 90\n",
      "5 x 19 == 95\n",
      "5 x 20 == 100\n",
      "5 x 21 == 105\n",
      "5 x 22 == 110\n",
      "5 x 23 == 115\n",
      "5 x 24 == 120\n",
      "5 x 25 == 125\n",
      "5 x 26 == 130\n",
      "5 x 27 == 135\n",
      "5 x 28 == 140\n",
      "5 x 29 == 145\n",
      "5 x 30 == 150\n",
      "5 x 31 == 155\n",
      "5 x 32 == 160\n",
      "5 x 33 == 165\n",
      "5 x 34 == 170\n",
      "5 x 35 == 175\n",
      "5 x 36 == 180\n",
      "5 x 37 == 185\n",
      "5 x 38 == 190\n",
      "5 x 39 == 195\n",
      "5 x 40 == 200\n",
      "5 x 41 == 205\n",
      "5 x 42 == 210\n",
      "5 x 43 == 215\n",
      "5 x 44 == 220\n",
      "5 x 45 == 225\n",
      "5 x 46 == 230\n",
      "5 x 47 == 235\n",
      "5 x 48 == 240\n",
      "5 x 49 == 245\n",
      "5 x 50 == 250\n",
      "5 x 51 == 255\n",
      "5 x 52 == 260\n",
      "5 x 53 == 265\n",
      "5 x 54 == 270\n",
      "5 x 55 == 275\n",
      "5 x 56 == 280\n",
      "5 x 57 == 285\n",
      "5 x 58 == 290\n",
      "5 x 59 == 295\n",
      "5 x 60 == 300\n",
      "5 x 61 == 305\n",
      "5 x 62 == 310\n",
      "5 x 63 == 315\n",
      "5 x 64 == 320\n",
      "5 x 65 == 325\n",
      "5 x 66 == 330\n",
      "5 x 67 == 335\n",
      "5 x 68 == 340\n",
      "5 x 69 == 345\n",
      "5 x 70 == 350\n",
      "5 x 71 == 355\n",
      "5 x 72 == 360\n",
      "5 x 73 == 365\n",
      "5 x 74 == 370\n",
      "5 x 75 == 375\n",
      "5 x 76 == 380\n",
      "5 x 77 == 385\n",
      "5 x 78 == 390\n",
      "5 x 79 == 395\n",
      "5 x 80 == 400\n",
      "5 x 81 == 405\n",
      "5 x 82 == 410\n",
      "5 x 83 == 415\n",
      "5 x 84 == 420\n",
      "5 x 85 == 425\n",
      "5 x 86 == 430\n",
      "5 x 87 == 435\n",
      "5 x 88 == 440\n",
      "5 x 89 == 445\n",
      "5 x 90 == 450\n",
      "5 x 91 == 455\n",
      "5 x 92 == 460\n",
      "5 x 93 == 465\n",
      "5 x 94 == 470\n",
      "5 x 95 == 475\n",
      "5 x 96 == 480\n",
      "5 x 97 == 485\n",
      "5 x 98 == 490\n",
      "5 x 99 == 495\n",
      "5 x 100 == 500\n",
      "5 x 101 == 505\n",
      "5 x 102 == 510\n",
      "5 x 103 == 515\n",
      "5 x 104 == 520\n",
      "5 x 105 == 525\n",
      "5 x 106 == 530\n",
      "5 x 107 == 535\n",
      "5 x 108 == 540\n",
      "5 x 109 == 545\n",
      "5 x 110 == 550\n",
      "5 x 111 == 555\n",
      "5 x 112 == 560\n",
      "5 x 113 == 565\n",
      "5 x 114 == 570\n",
      "5 x 115 == 575\n",
      "5 x 116 == 580\n",
      "5 x 117 == 585\n",
      "5 x 118 == 590\n",
      "5 x 119 == 595\n",
      "5 x 120 == 600\n",
      "5 x 121 == 605\n",
      "5 x 122 == 610\n",
      "5 x 123 == 615\n",
      "5 x 124 == 620\n",
      "5 x 125 == 625\n",
      "5 x 126 == 630\n",
      "5 x 127 == 635\n",
      "5 x 128 == 640\n",
      "5 x 129 == 645\n",
      "5 x 130 == 650\n",
      "5 x 131 == 655\n",
      "5 x 132 == 660\n",
      "5 x 133 == 665\n",
      "5 x 134 == 670\n",
      "5 x 135 == 675\n",
      "5 x 136 == 680\n",
      "5 x 137 == 685\n",
      "5 x 138 == 690\n",
      "5 x 139 == 695\n",
      "5 x 140 == 700\n",
      "5 x 141 == 705\n",
      "5 x 142 == 710\n",
      "5 x 143 == 715\n",
      "5 x 144 == 720\n",
      "5 x 145 == 725\n",
      "5 x 146 == 730\n",
      "5 x 147 == 735\n",
      "5 x 148 == 740\n",
      "5 x 149 == 745\n",
      "5 x 150 == 750\n",
      "5 x 151 == 755\n",
      "5 x 152 == 760\n",
      "5 x 153 == 765\n",
      "5 x 154 == 770\n",
      "5 x 155 == 775\n",
      "5 x 156 == 780\n",
      "5 x 157 == 785\n",
      "5 x 158 == 790\n",
      "5 x 159 == 795\n",
      "5 x 160 == 800\n",
      "5 x 161 == 805\n",
      "5 x 162 == 810\n",
      "5 x 163 == 815\n",
      "5 x 164 == 820\n",
      "5 x 165 == 825\n",
      "5 x 166 == 830\n",
      "5 x 167 == 835\n",
      "5 x 168 == 840\n",
      "5 x 169 == 845\n",
      "5 x 170 == 850\n",
      "5 x 171 == 855\n",
      "5 x 172 == 860\n",
      "5 x 173 == 865\n",
      "5 x 174 == 870\n",
      "5 x 175 == 875\n",
      "5 x 176 == 880\n",
      "5 x 177 == 885\n",
      "5 x 178 == 890\n",
      "5 x 179 == 895\n",
      "5 x 180 == 900\n",
      "5 x 181 == 905\n",
      "5 x 182 == 910\n",
      "5 x 183 == 915\n",
      "5 x 184 == 920\n",
      "5 x 185 == 925\n",
      "5 x 186 == 930\n",
      "5 x 187 == 935\n",
      "5 x 188 == 940\n",
      "5 x 189 == 945\n",
      "5 x 190 == 950\n",
      "5 x 191 == 955\n",
      "5 x 192 == 960\n",
      "5 x 193 == 965\n",
      "5 x 194 == 970\n",
      "5 x 195 == 975\n",
      "5 x 196 == 980\n",
      "5 x 197 == 985\n",
      "5 x 198 == 990\n",
      "5 x 199 == 995\n",
      "Total time taken is - 0.00200653076171875000\n"
     ]
    }
   ],
   "source": [
    "multiplication_table(5)"
   ]
  },
  {
   "cell_type": "code",
   "execution_count": 9,
   "id": "e20e9e87",
   "metadata": {},
   "outputs": [],
   "source": [
    "@timer\n",
    "def test_while():\n",
    "    for i in range(1,10000):\n",
    "        continue    "
   ]
  },
  {
   "cell_type": "code",
   "execution_count": 10,
   "id": "dd820154",
   "metadata": {},
   "outputs": [
    {
     "name": "stdout",
     "output_type": "stream",
     "text": [
      "Total time taken is - 0.00100564956665039062\n"
     ]
    }
   ],
   "source": [
    "test_while()"
   ]
  },
  {
   "cell_type": "code",
   "execution_count": 11,
   "id": "508b44c3",
   "metadata": {},
   "outputs": [
    {
     "name": "stdout",
     "output_type": "stream",
     "text": [
      "10 20\n",
      "(30, 40, 50, 60)\n",
      "{'name': 'Himanshu', 'age': 34}\n"
     ]
    }
   ],
   "source": [
    "def test(a, b, *args, **kwargs):\n",
    "    print(a,b)\n",
    "    print(args)\n",
    "    print(kwargs)\n",
    "\n",
    "test(10,20, 30, 40, 50, 60, name=\"Himanshu\", age=34)"
   ]
  },
  {
   "cell_type": "code",
   "execution_count": 27,
   "id": "7fba1366",
   "metadata": {},
   "outputs": [],
   "source": [
    "def model_trainin(**kwargs):\n",
    "    try:\n",
    "        model_name = kwargs[\"model_name\"]\n",
    "    except KeyError as e :\n",
    "        print(\"Model name not provided by user. Using default name\")\n",
    "        model_name = \"basic\"\n",
    "    \n",
    "    print(model_name)"
   ]
  },
  {
   "cell_type": "code",
   "execution_count": 28,
   "id": "58759e02",
   "metadata": {},
   "outputs": [
    {
     "name": "stdout",
     "output_type": "stream",
     "text": [
      "model1\n"
     ]
    }
   ],
   "source": [
    "model_trainin(model_name=\"model1\")"
   ]
  },
  {
   "cell_type": "code",
   "execution_count": 29,
   "id": "fda21f37",
   "metadata": {},
   "outputs": [
    {
     "name": "stdout",
     "output_type": "stream",
     "text": [
      "Model name not provided by user. Using default name\n",
      "basic\n"
     ]
    }
   ],
   "source": [
    "model_trainin()"
   ]
  },
  {
   "cell_type": "code",
   "execution_count": 30,
   "id": "5a958454",
   "metadata": {},
   "outputs": [],
   "source": [
    "def model_trainin(**kwargs):\n",
    "    if \"model_name\" in kwargs.keys():\n",
    "        model_name = kwargs[\"model_name\"]\n",
    "    else:\n",
    "        model_name = \"basic\"\n",
    "    print(model_name)"
   ]
  },
  {
   "cell_type": "code",
   "execution_count": 31,
   "id": "5d055fec",
   "metadata": {},
   "outputs": [
    {
     "name": "stdout",
     "output_type": "stream",
     "text": [
      "model1\n"
     ]
    }
   ],
   "source": [
    "model_trainin(model_name=\"model1\")"
   ]
  },
  {
   "cell_type": "code",
   "execution_count": 32,
   "id": "f79a83a0",
   "metadata": {},
   "outputs": [
    {
     "name": "stdout",
     "output_type": "stream",
     "text": [
      "basic\n"
     ]
    }
   ],
   "source": [
    "model_trainin()"
   ]
  },
  {
   "cell_type": "markdown",
   "id": "e9d5ea78",
   "metadata": {},
   "source": [
    "# Topics to be covered (non-intellipat)"
   ]
  },
  {
   "cell_type": "markdown",
   "id": "e6841284",
   "metadata": {},
   "source": [
    "1. logging\n",
    "2. debugging\n",
    "3. asyncio\n",
    "4. mscvrt (exploration)\n",
    "5. requests, flask (fast-api)\n",
    "6. gc\n",
    "7. deployment (docker, ec2 (vm instance), putty, winscp)"
   ]
  },
  {
   "cell_type": "markdown",
   "id": "2369012c",
   "metadata": {},
   "source": [
    "# Topics to be covered (intellipat)"
   ]
  },
  {
   "cell_type": "markdown",
   "id": "1af8457d",
   "metadata": {},
   "source": [
    "1. args/kwargs"
   ]
  },
  {
   "cell_type": "code",
   "execution_count": null,
   "id": "f1f46bb1",
   "metadata": {},
   "outputs": [],
   "source": []
  }
 ],
 "metadata": {
  "kernelspec": {
   "display_name": "Python [conda env:intellipat]",
   "language": "python",
   "name": "conda-env-intellipat-py"
  },
  "language_info": {
   "codemirror_mode": {
    "name": "ipython",
    "version": 3
   },
   "file_extension": ".py",
   "mimetype": "text/x-python",
   "name": "python",
   "nbconvert_exporter": "python",
   "pygments_lexer": "ipython3",
   "version": "3.11.8"
  }
 },
 "nbformat": 4,
 "nbformat_minor": 5
}
