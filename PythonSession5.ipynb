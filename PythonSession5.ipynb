{
 "cells": [
  {
   "cell_type": "markdown",
   "id": "d91cf42e",
   "metadata": {},
   "source": [
    "# Topics to be covered today\n",
    "\n",
    "1. Functions as generators\n",
    "2. Building Modules using Functions\n",
    "3. Abstraction and Encapsulation difference\n",
    "4. Classes - basics\n",
    "5. Classes - advanced\n",
    "6. Encapsulation/Abstraction using Classes\n",
    "7. Inheritance and Polymorphism using Classes\n",
    "8. Iterators in Classes\n",
    "9. File Operations\n",
    "10. Constructors in Python/Classes\n",
    "11. Exception Handlinge\n",
    "12. Decorators"
   ]
  },
  {
   "cell_type": "markdown",
   "id": "a90e18a9",
   "metadata": {},
   "source": [
    "# Functions as generators"
   ]
  },
  {
   "cell_type": "code",
   "execution_count": 1,
   "id": "2a2ddb3b",
   "metadata": {},
   "outputs": [],
   "source": [
    "students_info = {\n",
    "    'Alex_1': 9, 'Alex_2': 5, 'Alex_3': 20, 'Alex_4': 40, 'Alex_5': 60,\n",
    "    'Alex_6': 80, 'Alex_7': 100, 'Alex_8': 50, 'Alex_9': 70, 'Alex_10': 90,\n",
    "    'Alex_11': 9, 'Alex_12': 5, 'Alex_13': 20, 'Alex_14': 40, 'Alex_15': 60,\n",
    "    'Alex_16': 80, 'Alex_17': 100, 'Alex_18': 50, 'Alex_19': 70, 'Alex_20': 90,\n",
    "    'Alex_21': 9, 'Alex_22': 5, 'Alex_23': 20, 'Alex_24': 40, 'Alex_25': 60,\n",
    "    'Alex_26': 80, 'Alex_27': 100, 'Alex_28': 50, 'Alex_29': 70, 'Alex_30': 90\n",
    "}"
   ]
  },
  {
   "cell_type": "code",
   "execution_count": 2,
   "id": "4fcd350c",
   "metadata": {},
   "outputs": [],
   "source": [
    "def students_marks():\n",
    "    for name, marks in students_info.items():\n",
    "        print(f\"{name} ---- {marks}\")"
   ]
  },
  {
   "cell_type": "code",
   "execution_count": 3,
   "id": "cca34432",
   "metadata": {},
   "outputs": [
    {
     "name": "stdout",
     "output_type": "stream",
     "text": [
      "Alex_1 ---- 9\n",
      "Alex_2 ---- 5\n",
      "Alex_3 ---- 20\n",
      "Alex_4 ---- 40\n",
      "Alex_5 ---- 60\n",
      "Alex_6 ---- 80\n",
      "Alex_7 ---- 100\n",
      "Alex_8 ---- 50\n",
      "Alex_9 ---- 70\n",
      "Alex_10 ---- 90\n",
      "Alex_11 ---- 9\n",
      "Alex_12 ---- 5\n",
      "Alex_13 ---- 20\n",
      "Alex_14 ---- 40\n",
      "Alex_15 ---- 60\n",
      "Alex_16 ---- 80\n",
      "Alex_17 ---- 100\n",
      "Alex_18 ---- 50\n",
      "Alex_19 ---- 70\n",
      "Alex_20 ---- 90\n",
      "Alex_21 ---- 9\n",
      "Alex_22 ---- 5\n",
      "Alex_23 ---- 20\n",
      "Alex_24 ---- 40\n",
      "Alex_25 ---- 60\n",
      "Alex_26 ---- 80\n",
      "Alex_27 ---- 100\n",
      "Alex_28 ---- 50\n",
      "Alex_29 ---- 70\n",
      "Alex_30 ---- 90\n"
     ]
    }
   ],
   "source": [
    "students_marks()"
   ]
  },
  {
   "cell_type": "code",
   "execution_count": 4,
   "id": "d1d5848f",
   "metadata": {},
   "outputs": [
    {
     "data": {
      "text/plain": [
       "dict_items([('Alex_1', 9), ('Alex_2', 5), ('Alex_3', 20), ('Alex_4', 40), ('Alex_5', 60), ('Alex_6', 80), ('Alex_7', 100), ('Alex_8', 50), ('Alex_9', 70), ('Alex_10', 90), ('Alex_11', 9), ('Alex_12', 5), ('Alex_13', 20), ('Alex_14', 40), ('Alex_15', 60), ('Alex_16', 80), ('Alex_17', 100), ('Alex_18', 50), ('Alex_19', 70), ('Alex_20', 90), ('Alex_21', 9), ('Alex_22', 5), ('Alex_23', 20), ('Alex_24', 40), ('Alex_25', 60), ('Alex_26', 80), ('Alex_27', 100), ('Alex_28', 50), ('Alex_29', 70), ('Alex_30', 90)])"
      ]
     },
     "execution_count": 4,
     "metadata": {},
     "output_type": "execute_result"
    }
   ],
   "source": [
    "students_info.items()"
   ]
  },
  {
   "cell_type": "code",
   "execution_count": 5,
   "id": "8cd89224",
   "metadata": {},
   "outputs": [
    {
     "name": "stdout",
     "output_type": "stream",
     "text": [
      "Alex_1 ---- 9\n",
      "Alex_2 ---- 5\n",
      "Alex_3 ---- 20\n",
      "Alex_4 ---- 40\n",
      "Alex_5 ---- 60\n",
      "Alex_6 ---- 80\n",
      "Alex_7 ---- 100\n",
      "Alex_8 ---- 50\n",
      "Alex_9 ---- 70\n",
      "Alex_10 ---- 90\n",
      "Alex_11 ---- 9\n",
      "Alex_12 ---- 5\n",
      "Alex_13 ---- 20\n",
      "Alex_14 ---- 40\n",
      "Alex_15 ---- 60\n",
      "Alex_16 ---- 80\n",
      "Alex_17 ---- 100\n",
      "Alex_18 ---- 50\n",
      "Alex_19 ---- 70\n",
      "Alex_20 ---- 90\n",
      "Alex_21 ---- 9\n",
      "Alex_22 ---- 5\n",
      "Alex_23 ---- 20\n",
      "Alex_24 ---- 40\n",
      "Alex_25 ---- 60\n",
      "Alex_26 ---- 80\n",
      "Alex_27 ---- 100\n",
      "Alex_28 ---- 50\n",
      "Alex_29 ---- 70\n",
      "Alex_30 ---- 90\n"
     ]
    }
   ],
   "source": [
    "for i in students_info.items():\n",
    "        print(f\"{i[0]} ---- {i[1]}\")"
   ]
  },
  {
   "cell_type": "code",
   "execution_count": 6,
   "id": "e7a7138a",
   "metadata": {},
   "outputs": [],
   "source": [
    "def students_marks():\n",
    "    for name, marks in students_info.items():\n",
    "        return(f\"{name} ---- {marks}\")"
   ]
  },
  {
   "cell_type": "code",
   "execution_count": 7,
   "id": "a0577e2d",
   "metadata": {},
   "outputs": [
    {
     "data": {
      "text/plain": [
       "'Alex_1 ---- 9'"
      ]
     },
     "execution_count": 7,
     "metadata": {},
     "output_type": "execute_result"
    }
   ],
   "source": [
    "students_marks()"
   ]
  },
  {
   "cell_type": "code",
   "execution_count": 8,
   "id": "d341f55a",
   "metadata": {},
   "outputs": [],
   "source": [
    "def students_marks(students_info):\n",
    "    for name, marks in students_info.items():\n",
    "        yield(f\"{name} ---- {marks}\")"
   ]
  },
  {
   "cell_type": "code",
   "execution_count": 9,
   "id": "2c086cc4",
   "metadata": {},
   "outputs": [
    {
     "data": {
      "text/plain": [
       "<generator object students_marks at 0x0000012DF2E55150>"
      ]
     },
     "execution_count": 9,
     "metadata": {},
     "output_type": "execute_result"
    }
   ],
   "source": [
    "students_marks(students_info)"
   ]
  },
  {
   "cell_type": "markdown",
   "id": "eee6a6e2",
   "metadata": {},
   "source": [
    "Creating a new object everytime will give same output everytime"
   ]
  },
  {
   "cell_type": "code",
   "execution_count": 10,
   "id": "ddec08b4",
   "metadata": {},
   "outputs": [
    {
     "data": {
      "text/plain": [
       "'Alex_1 ---- 9'"
      ]
     },
     "execution_count": 10,
     "metadata": {},
     "output_type": "execute_result"
    }
   ],
   "source": [
    "next(students_marks(students_info))"
   ]
  },
  {
   "cell_type": "code",
   "execution_count": 11,
   "id": "2a1d7398",
   "metadata": {},
   "outputs": [
    {
     "data": {
      "text/plain": [
       "'Alex_1 ---- 9'"
      ]
     },
     "execution_count": 11,
     "metadata": {},
     "output_type": "execute_result"
    }
   ],
   "source": [
    "next(students_marks(students_info))"
   ]
  },
  {
   "cell_type": "markdown",
   "id": "456b6253",
   "metadata": {},
   "source": [
    "Storing the object and then using it will give all the outputs one by one"
   ]
  },
  {
   "cell_type": "code",
   "execution_count": 12,
   "id": "1b4646e1",
   "metadata": {},
   "outputs": [],
   "source": [
    "student_object = students_marks(students_info)"
   ]
  },
  {
   "cell_type": "code",
   "execution_count": 13,
   "id": "b54b88d8",
   "metadata": {},
   "outputs": [
    {
     "name": "stdout",
     "output_type": "stream",
     "text": [
      "<generator object students_marks at 0x0000012DF2E555B0>\n"
     ]
    }
   ],
   "source": [
    "print(student_object)"
   ]
  },
  {
   "cell_type": "code",
   "execution_count": 14,
   "id": "dbfe7106",
   "metadata": {},
   "outputs": [
    {
     "data": {
      "text/plain": [
       "'Alex_1 ---- 9'"
      ]
     },
     "execution_count": 14,
     "metadata": {},
     "output_type": "execute_result"
    }
   ],
   "source": [
    "next(student_object)"
   ]
  },
  {
   "cell_type": "code",
   "execution_count": 15,
   "id": "7fdbd2f4",
   "metadata": {},
   "outputs": [
    {
     "data": {
      "text/plain": [
       "'Alex_2 ---- 5'"
      ]
     },
     "execution_count": 15,
     "metadata": {},
     "output_type": "execute_result"
    }
   ],
   "source": [
    "next(student_object)"
   ]
  },
  {
   "cell_type": "code",
   "execution_count": 16,
   "id": "7ca0d551",
   "metadata": {},
   "outputs": [
    {
     "data": {
      "text/plain": [
       "'Alex_3 ---- 20'"
      ]
     },
     "execution_count": 16,
     "metadata": {},
     "output_type": "execute_result"
    }
   ],
   "source": [
    "next(student_object)"
   ]
  },
  {
   "cell_type": "code",
   "execution_count": 17,
   "id": "c4f26b93",
   "metadata": {},
   "outputs": [
    {
     "data": {
      "text/plain": [
       "'Alex_4 ---- 40'"
      ]
     },
     "execution_count": 17,
     "metadata": {},
     "output_type": "execute_result"
    }
   ],
   "source": [
    "next(student_object)"
   ]
  },
  {
   "cell_type": "code",
   "execution_count": 18,
   "id": "818eb0b0",
   "metadata": {},
   "outputs": [
    {
     "name": "stdout",
     "output_type": "stream",
     "text": [
      "Alex_1 ---- 9\n",
      "Alex_2 ---- 5\n",
      "Alex_3 ---- 20\n",
      "Alex_4 ---- 40\n",
      "Alex_5 ---- 60\n",
      "Alex_6 ---- 80\n",
      "Alex_7 ---- 100\n",
      "Alex_8 ---- 50\n",
      "Alex_9 ---- 70\n",
      "Alex_10 ---- 90\n",
      "Alex_11 ---- 9\n",
      "Alex_12 ---- 5\n",
      "Alex_13 ---- 20\n",
      "Alex_14 ---- 40\n",
      "Alex_15 ---- 60\n",
      "Alex_16 ---- 80\n",
      "Alex_17 ---- 100\n",
      "Alex_18 ---- 50\n",
      "Alex_19 ---- 70\n",
      "Alex_20 ---- 90\n",
      "Alex_21 ---- 9\n",
      "Alex_22 ---- 5\n",
      "Alex_23 ---- 20\n",
      "Alex_24 ---- 40\n",
      "Alex_25 ---- 60\n",
      "Alex_26 ---- 80\n",
      "Alex_27 ---- 100\n",
      "Alex_28 ---- 50\n",
      "Alex_29 ---- 70\n",
      "Alex_30 ---- 90\n"
     ]
    }
   ],
   "source": [
    "for temp in students_marks(students_info):\n",
    "    print(temp)"
   ]
  },
  {
   "cell_type": "markdown",
   "id": "af61999e",
   "metadata": {},
   "source": [
    "Another Example"
   ]
  },
  {
   "cell_type": "code",
   "execution_count": 19,
   "id": "b6f5fb8e",
   "metadata": {},
   "outputs": [],
   "source": [
    "students_info = {\n",
    "    'Alex_1': 9, 'Alex_2': 5, 'Alex_3': 20, 'Alex_4': 40, 'Alex_5': 60,\n",
    "    'Alex_6': 80, 'Alex_7': 100, 'Alex_8': 50, 'Alex_9': 70, 'Alex_10': 90,\n",
    "    'Alex_11': 9, 'Alex_12': 5, 'Alex_13': 20, 'Alex_14': 40, 'Alex_15': 60,\n",
    "    'Alex_16': 80, 'Alex_17': 100, 'Alex_18': 50, 'Alex_19': 70, 'Alex_20': 90,\n",
    "    'Alex_21': 9, 'Alex_22': 5, 'Alex_23': 20, 'Alex_24': 40, 'Alex_25': 60,\n",
    "    'Alex_26': 80, 'Alex_27': 100, 'Alex_28': 50, 'Alex_29': 70, 'Alex_30': 90\n",
    "}"
   ]
  },
  {
   "cell_type": "code",
   "execution_count": 20,
   "id": "1de5acff",
   "metadata": {},
   "outputs": [],
   "source": [
    "def information_generator(student):\n",
    "    for name, marks in student.items():\n",
    "        yield(name,marks)"
   ]
  },
  {
   "cell_type": "code",
   "execution_count": 21,
   "id": "5dfce4bc",
   "metadata": {},
   "outputs": [],
   "source": [
    "information_generator_object = information_generator(students_info)"
   ]
  },
  {
   "cell_type": "code",
   "execution_count": 22,
   "id": "e6c4bacf",
   "metadata": {},
   "outputs": [
    {
     "name": "stdout",
     "output_type": "stream",
     "text": [
      "Alex_1 Failed\n"
     ]
    }
   ],
   "source": [
    "name, marks = next(information_generator_object)\n",
    "if marks < 10:\n",
    "    print(f\"{name} Failed\")\n",
    "else:\n",
    "    print(f\"{name} Passed\")"
   ]
  },
  {
   "cell_type": "code",
   "execution_count": 23,
   "id": "122e244b",
   "metadata": {},
   "outputs": [
    {
     "name": "stdout",
     "output_type": "stream",
     "text": [
      "Alex_2 Failed\n",
      "Alex_3 Passed\n",
      "Alex_4 Passed\n",
      "Alex_5 Passed\n",
      "Alex_6 Passed\n",
      "Alex_7 Passed\n",
      "Alex_8 Passed\n",
      "Alex_9 Passed\n",
      "Alex_10 Passed\n",
      "Alex_11 Failed\n",
      "Alex_12 Failed\n",
      "Alex_13 Passed\n",
      "Alex_14 Passed\n",
      "Alex_15 Passed\n",
      "Alex_16 Passed\n",
      "Alex_17 Passed\n",
      "Alex_18 Passed\n",
      "Alex_19 Passed\n",
      "Alex_20 Passed\n",
      "Alex_21 Failed\n",
      "Alex_22 Failed\n",
      "Alex_23 Passed\n",
      "Alex_24 Passed\n",
      "Alex_25 Passed\n",
      "Alex_26 Passed\n",
      "Alex_27 Passed\n",
      "Alex_28 Passed\n",
      "Alex_29 Passed\n",
      "Alex_30 Passed\n"
     ]
    }
   ],
   "source": [
    "for name, marks in information_generator_object:\n",
    "    if marks < 10:\n",
    "        print(f\"{name} Failed\")\n",
    "    else:\n",
    "        print(f\"{name} Passed\")"
   ]
  },
  {
   "cell_type": "markdown",
   "id": "c7188524",
   "metadata": {},
   "source": [
    "## Why generators\n",
    "\n",
    "1. If we use normal lists and iterate over it, then whatever value is present inside only that value will come outside\n",
    "2. If we use generator, a value can be processed and the processed value can come out, for example, marks has a range of 0-100 but before passing it to a machine learning model we want to chang the range to 0-1, for this scenario generators can be used"
   ]
  },
  {
   "cell_type": "code",
   "execution_count": 59,
   "id": "ab8b3aa3",
   "metadata": {},
   "outputs": [],
   "source": [
    "def addition(a,b):\n",
    "    return(a+b)"
   ]
  },
  {
   "cell_type": "code",
   "execution_count": 60,
   "id": "b90bc23f",
   "metadata": {},
   "outputs": [],
   "source": [
    "def subtraction(a,b):\n",
    "    return(a-b)"
   ]
  },
  {
   "cell_type": "code",
   "execution_count": 61,
   "id": "3b2e8788",
   "metadata": {},
   "outputs": [],
   "source": [
    "def multiplication(a,b):\n",
    "    return(a*b)"
   ]
  },
  {
   "cell_type": "code",
   "execution_count": 62,
   "id": "f9253187",
   "metadata": {},
   "outputs": [],
   "source": [
    "def division(a,b):\n",
    "    return(a/b)"
   ]
  },
  {
   "cell_type": "code",
   "execution_count": 63,
   "id": "ebdf2c49",
   "metadata": {},
   "outputs": [
    {
     "data": {
      "text/plain": [
       "30"
      ]
     },
     "execution_count": 63,
     "metadata": {},
     "output_type": "execute_result"
    }
   ],
   "source": [
    "addition(10,20)"
   ]
  },
  {
   "cell_type": "code",
   "execution_count": 64,
   "id": "1d5f1012",
   "metadata": {},
   "outputs": [
    {
     "data": {
      "text/plain": [
       "20"
      ]
     },
     "execution_count": 64,
     "metadata": {},
     "output_type": "execute_result"
    }
   ],
   "source": [
    "subtraction(30,10)"
   ]
  },
  {
   "cell_type": "code",
   "execution_count": 65,
   "id": "e90eb91b",
   "metadata": {},
   "outputs": [
    {
     "data": {
      "text/plain": [
       "6"
      ]
     },
     "execution_count": 65,
     "metadata": {},
     "output_type": "execute_result"
    }
   ],
   "source": [
    "multiplication(2,3)"
   ]
  },
  {
   "cell_type": "code",
   "execution_count": 75,
   "id": "38c8e1ed",
   "metadata": {},
   "outputs": [
    {
     "ename": "NameError",
     "evalue": "name 'division' is not defined",
     "output_type": "error",
     "traceback": [
      "\u001b[1;31m---------------------------------------------------------------------------\u001b[0m",
      "\u001b[1;31mNameError\u001b[0m                                 Traceback (most recent call last)",
      "Cell \u001b[1;32mIn[75], line 1\u001b[0m\n\u001b[1;32m----> 1\u001b[0m division(\u001b[38;5;241m10\u001b[39m,\u001b[38;5;241m2\u001b[39m)\n",
      "\u001b[1;31mNameError\u001b[0m: name 'division' is not defined"
     ]
    }
   ],
   "source": [
    "division(10,2)"
   ]
  },
  {
   "cell_type": "code",
   "execution_count": 74,
   "id": "2d699f4b",
   "metadata": {},
   "outputs": [],
   "source": [
    "del division"
   ]
  },
  {
   "cell_type": "markdown",
   "id": "2e9b266a",
   "metadata": {},
   "source": [
    "# Using Modules"
   ]
  },
  {
   "cell_type": "markdown",
   "id": "bfd08d6e",
   "metadata": {},
   "source": [
    "#### Importing module directly"
   ]
  },
  {
   "cell_type": "code",
   "execution_count": 67,
   "id": "34b5f5b9",
   "metadata": {},
   "outputs": [],
   "source": [
    "import maths"
   ]
  },
  {
   "cell_type": "code",
   "execution_count": 68,
   "id": "5a148500",
   "metadata": {},
   "outputs": [
    {
     "data": {
      "text/plain": [
       "6"
      ]
     },
     "execution_count": 68,
     "metadata": {},
     "output_type": "execute_result"
    }
   ],
   "source": [
    "maths.multiplication(2,3)"
   ]
  },
  {
   "cell_type": "code",
   "execution_count": 69,
   "id": "e1da7a78",
   "metadata": {},
   "outputs": [
    {
     "data": {
      "text/plain": [
       "30"
      ]
     },
     "execution_count": 69,
     "metadata": {},
     "output_type": "execute_result"
    }
   ],
   "source": [
    "maths.addition(10,20)"
   ]
  },
  {
   "cell_type": "markdown",
   "id": "0299396c",
   "metadata": {},
   "source": [
    "#### Creating an alias for module"
   ]
  },
  {
   "cell_type": "code",
   "execution_count": 5,
   "id": "2e5bcf0f",
   "metadata": {},
   "outputs": [
    {
     "data": {
      "text/plain": [
       "10"
      ]
     },
     "execution_count": 5,
     "metadata": {},
     "output_type": "execute_result"
    }
   ],
   "source": [
    "import maths as m\n",
    "\n",
    "m.subtraction(20,10)"
   ]
  },
  {
   "cell_type": "code",
   "execution_count": 6,
   "id": "0081022a",
   "metadata": {},
   "outputs": [
    {
     "data": {
      "text/plain": [
       "30"
      ]
     },
     "execution_count": 6,
     "metadata": {},
     "output_type": "execute_result"
    }
   ],
   "source": [
    "m.addition(10,20)"
   ]
  },
  {
   "cell_type": "markdown",
   "id": "e0f16b9b",
   "metadata": {},
   "source": [
    "#### Importing all the functions and classes present inside the module"
   ]
  },
  {
   "cell_type": "code",
   "execution_count": 7,
   "id": "1001063e",
   "metadata": {},
   "outputs": [],
   "source": [
    "from maths import *"
   ]
  },
  {
   "cell_type": "code",
   "execution_count": 8,
   "id": "ec11d6d1",
   "metadata": {},
   "outputs": [
    {
     "data": {
      "text/plain": [
       "15.0"
      ]
     },
     "execution_count": 8,
     "metadata": {},
     "output_type": "execute_result"
    }
   ],
   "source": [
    "division(30,2)"
   ]
  },
  {
   "cell_type": "code",
   "execution_count": 9,
   "id": "185112e1",
   "metadata": {},
   "outputs": [
    {
     "data": {
      "text/plain": [
       "22"
      ]
     },
     "execution_count": 9,
     "metadata": {},
     "output_type": "execute_result"
    }
   ],
   "source": [
    "subtraction(44,22)"
   ]
  },
  {
   "cell_type": "markdown",
   "id": "2b4b0b71",
   "metadata": {},
   "source": [
    "#### Importing only required functions"
   ]
  },
  {
   "cell_type": "code",
   "execution_count": 10,
   "id": "9e120653",
   "metadata": {},
   "outputs": [],
   "source": [
    "from maths import division, modulus"
   ]
  },
  {
   "cell_type": "code",
   "execution_count": 11,
   "id": "982a2913",
   "metadata": {},
   "outputs": [
    {
     "data": {
      "text/plain": [
       "16.5"
      ]
     },
     "execution_count": 11,
     "metadata": {},
     "output_type": "execute_result"
    }
   ],
   "source": [
    "division(66,4)"
   ]
  },
  {
   "cell_type": "code",
   "execution_count": 12,
   "id": "d256da9b",
   "metadata": {},
   "outputs": [
    {
     "data": {
      "text/plain": [
       "2"
      ]
     },
     "execution_count": 12,
     "metadata": {},
     "output_type": "execute_result"
    }
   ],
   "source": [
    "modulus(66,4)"
   ]
  },
  {
   "cell_type": "code",
   "execution_count": 13,
   "id": "f1184ef8",
   "metadata": {},
   "outputs": [],
   "source": [
    "from maths import division as d"
   ]
  },
  {
   "cell_type": "code",
   "execution_count": 15,
   "id": "6bbdf592",
   "metadata": {},
   "outputs": [
    {
     "data": {
      "text/plain": [
       "2.4444444444444446"
      ]
     },
     "execution_count": 15,
     "metadata": {},
     "output_type": "execute_result"
    }
   ],
   "source": [
    "d(22,9)"
   ]
  },
  {
   "cell_type": "markdown",
   "id": "cd8a13ac",
   "metadata": {},
   "source": [
    "# Classes"
   ]
  },
  {
   "cell_type": "code",
   "execution_count": 16,
   "id": "0ed78053",
   "metadata": {},
   "outputs": [],
   "source": [
    "class Student:\n",
    "    name = \"Himanshu\"\n",
    "    marks = 9"
   ]
  },
  {
   "cell_type": "code",
   "execution_count": 17,
   "id": "792b653c",
   "metadata": {},
   "outputs": [],
   "source": [
    "student_object = Student()"
   ]
  },
  {
   "cell_type": "code",
   "execution_count": 22,
   "id": "b3328e40",
   "metadata": {},
   "outputs": [],
   "source": [
    "student_object_2 = Student()"
   ]
  },
  {
   "cell_type": "code",
   "execution_count": 18,
   "id": "d8477b6d",
   "metadata": {},
   "outputs": [
    {
     "data": {
      "text/plain": [
       "'Himanshu'"
      ]
     },
     "execution_count": 18,
     "metadata": {},
     "output_type": "execute_result"
    }
   ],
   "source": [
    "student_object.name"
   ]
  },
  {
   "cell_type": "code",
   "execution_count": 19,
   "id": "d07358e6",
   "metadata": {},
   "outputs": [
    {
     "data": {
      "text/plain": [
       "9"
      ]
     },
     "execution_count": 19,
     "metadata": {},
     "output_type": "execute_result"
    }
   ],
   "source": [
    "student_object.marks"
   ]
  },
  {
   "cell_type": "code",
   "execution_count": 23,
   "id": "e22397e1",
   "metadata": {},
   "outputs": [
    {
     "data": {
      "text/plain": [
       "'Himanshu'"
      ]
     },
     "execution_count": 23,
     "metadata": {},
     "output_type": "execute_result"
    }
   ],
   "source": [
    "student_object_2.name"
   ]
  },
  {
   "cell_type": "code",
   "execution_count": 20,
   "id": "c7562d88",
   "metadata": {},
   "outputs": [],
   "source": [
    "name = \"Himanshu\"\n",
    "\n",
    "name = \"Sachin\""
   ]
  },
  {
   "cell_type": "code",
   "execution_count": 21,
   "id": "8bdb777c",
   "metadata": {},
   "outputs": [
    {
     "name": "stdout",
     "output_type": "stream",
     "text": [
      "Sachin\n"
     ]
    }
   ],
   "source": [
    "print(name)"
   ]
  },
  {
   "cell_type": "code",
   "execution_count": 24,
   "id": "d1f6255f",
   "metadata": {},
   "outputs": [],
   "source": [
    "class Student:\n",
    "    def __init__(self, given_name, given_marks):\n",
    "        self.name = given_name\n",
    "        self.marks = given_marks"
   ]
  },
  {
   "cell_type": "code",
   "execution_count": 25,
   "id": "a955b49e",
   "metadata": {},
   "outputs": [],
   "source": [
    "himanshu = Student(\"Sachin\", \"24\")"
   ]
  },
  {
   "cell_type": "code",
   "execution_count": 26,
   "id": "cc632273",
   "metadata": {},
   "outputs": [],
   "source": [
    "venkat = Student(\"Sachin\", \"48\")"
   ]
  },
  {
   "cell_type": "code",
   "execution_count": 27,
   "id": "7101c3cc",
   "metadata": {},
   "outputs": [
    {
     "data": {
      "text/plain": [
       "('Sachin', '24')"
      ]
     },
     "execution_count": 27,
     "metadata": {},
     "output_type": "execute_result"
    }
   ],
   "source": [
    "himanshu.name, himanshu.marks"
   ]
  },
  {
   "cell_type": "code",
   "execution_count": 28,
   "id": "bd957d8a",
   "metadata": {},
   "outputs": [
    {
     "data": {
      "text/plain": [
       "('Sachin', '48')"
      ]
     },
     "execution_count": 28,
     "metadata": {},
     "output_type": "execute_result"
    }
   ],
   "source": [
    "venkat.name, venkat.marks"
   ]
  },
  {
   "cell_type": "code",
   "execution_count": 29,
   "id": "eb8ef6f0",
   "metadata": {},
   "outputs": [
    {
     "name": "stdout",
     "output_type": "stream",
     "text": [
      "enter nameSaurav\n",
      "enter marks20\n"
     ]
    }
   ],
   "source": [
    "name = input(\"enter name\")\n",
    "marks = input(\"enter marks\")\n",
    "himanshu = Student(name, marks)"
   ]
  },
  {
   "cell_type": "code",
   "execution_count": 30,
   "id": "537a3da7",
   "metadata": {},
   "outputs": [
    {
     "data": {
      "text/plain": [
       "('Saurav', '20')"
      ]
     },
     "execution_count": 30,
     "metadata": {},
     "output_type": "execute_result"
    }
   ],
   "source": [
    "himanshu.name, himanshu.marks"
   ]
  },
  {
   "cell_type": "markdown",
   "id": "565c25e3",
   "metadata": {},
   "source": [
    "#### Having Functions/Methods inside a class"
   ]
  },
  {
   "cell_type": "code",
   "execution_count": 62,
   "id": "e1e7a34e",
   "metadata": {},
   "outputs": [],
   "source": [
    "# In init passing self is mandatory\n",
    "\n",
    "class Student:\n",
    "    def __init__(self, given_name, given_marks):\n",
    "        self.name = given_name\n",
    "        self.marks = given_marks\n",
    "        self.present = 0\n",
    "        self.absent = 0\n",
    "        \n",
    "    def mark_present(self):\n",
    "        self.present += 1\n",
    "        \n",
    "    def mark_absent(self):\n",
    "        self.absent += 1\n",
    "        \n",
    "    def show_attendance(self):\n",
    "        print(f\"{self.name} is present for {self.present} days and is absent for {self.absent} days\")"
   ]
  },
  {
   "cell_type": "code",
   "execution_count": 63,
   "id": "65ce9fc3",
   "metadata": {},
   "outputs": [],
   "source": [
    "# Initialize a class\n",
    "# Create object of a class\n",
    "# Create instane of a class\n",
    "\n",
    "vipin = Student(\"Vipin\", \"40\")"
   ]
  },
  {
   "cell_type": "code",
   "execution_count": 64,
   "id": "d8357d8c",
   "metadata": {},
   "outputs": [
    {
     "name": "stdout",
     "output_type": "stream",
     "text": [
      "The Student belongs to Section A\n"
     ]
    }
   ],
   "source": [
    "vipin.which_section()"
   ]
  },
  {
   "cell_type": "code",
   "execution_count": 41,
   "id": "a0ae2596",
   "metadata": {},
   "outputs": [],
   "source": [
    "vipin.mark_present()"
   ]
  },
  {
   "cell_type": "code",
   "execution_count": 42,
   "id": "529ced19",
   "metadata": {},
   "outputs": [],
   "source": [
    "vipin.mark_present()"
   ]
  },
  {
   "cell_type": "code",
   "execution_count": 43,
   "id": "a8a6ced7",
   "metadata": {},
   "outputs": [],
   "source": [
    "vipin.mark_present()"
   ]
  },
  {
   "cell_type": "code",
   "execution_count": 44,
   "id": "15afee88",
   "metadata": {},
   "outputs": [],
   "source": [
    "vipin.mark_absent()"
   ]
  },
  {
   "cell_type": "code",
   "execution_count": 45,
   "id": "9e0f6bef",
   "metadata": {},
   "outputs": [],
   "source": [
    "vipin.mark_absent()"
   ]
  },
  {
   "cell_type": "code",
   "execution_count": 46,
   "id": "6058aed6",
   "metadata": {},
   "outputs": [
    {
     "name": "stdout",
     "output_type": "stream",
     "text": [
      "Vipin is present for 3 days and is absent for 2 days\n"
     ]
    }
   ],
   "source": [
    "vipin.show_attendance()"
   ]
  },
  {
   "cell_type": "markdown",
   "id": "d9ae33f6",
   "metadata": {},
   "source": [
    "#### Inheritance"
   ]
  },
  {
   "cell_type": "code",
   "execution_count": 65,
   "id": "a36bce2b",
   "metadata": {},
   "outputs": [],
   "source": [
    "# In init passing self is mandatory\n",
    "\n",
    "class Student:\n",
    "    def __init__(self, given_name, given_marks):\n",
    "        self.name = given_name\n",
    "        self.marks = given_marks\n",
    "        self.present = 0\n",
    "        self.absent = 0\n",
    "        \n",
    "    def mark_present(self):\n",
    "        self.present += 1\n",
    "        \n",
    "    def mark_absent(self):\n",
    "        self.absent += 1\n",
    "        \n",
    "    def show_attendance(self):\n",
    "        print(f\"{self.name} is present for {self.present} days and is absent for {self.absent} days\")"
   ]
  },
  {
   "cell_type": "code",
   "execution_count": 84,
   "id": "b72d29ed",
   "metadata": {},
   "outputs": [],
   "source": [
    "class CollegeStudent(Student):\n",
    "    def __init__(self, given_name, given_marks):\n",
    "        super().__init__(given_name, given_marks)\n",
    "        self.grade = \"\"\n",
    "        \n",
    "    def calculate_grades(self):\n",
    "        if self.marks < 10:\n",
    "            self.grade = \"Fail\"\n",
    "            \n",
    "        print(self.grade)"
   ]
  },
  {
   "cell_type": "code",
   "execution_count": 87,
   "id": "9d6c378c",
   "metadata": {},
   "outputs": [],
   "source": [
    "yashaswi = CollegeStudent(\"Yashashwi\", 5)"
   ]
  },
  {
   "cell_type": "code",
   "execution_count": 88,
   "id": "52bb1e61",
   "metadata": {},
   "outputs": [
    {
     "name": "stdout",
     "output_type": "stream",
     "text": [
      "Fail\n"
     ]
    }
   ],
   "source": [
    "yashaswi.calculate_grades()"
   ]
  },
  {
   "cell_type": "code",
   "execution_count": 89,
   "id": "75c4a713",
   "metadata": {},
   "outputs": [],
   "source": [
    "yashaswi.mark_present()"
   ]
  },
  {
   "cell_type": "code",
   "execution_count": 90,
   "id": "1a9c97bd",
   "metadata": {},
   "outputs": [],
   "source": [
    "yashaswi.mark_absent()"
   ]
  },
  {
   "cell_type": "code",
   "execution_count": 91,
   "id": "3aac0456",
   "metadata": {},
   "outputs": [
    {
     "name": "stdout",
     "output_type": "stream",
     "text": [
      "Yashashwi is present for 1 days and is absent for 1 days\n"
     ]
    }
   ],
   "source": [
    "yashaswi.show_attendance()"
   ]
  },
  {
   "cell_type": "code",
   "execution_count": 92,
   "id": "eba72659",
   "metadata": {},
   "outputs": [],
   "source": [
    "sarfaraz = Student(\"sarfaraz\", \"20\")"
   ]
  },
  {
   "cell_type": "code",
   "execution_count": 93,
   "id": "2a24f9f7",
   "metadata": {},
   "outputs": [
    {
     "ename": "AttributeError",
     "evalue": "'Student' object has no attribute 'calculate_grades'",
     "output_type": "error",
     "traceback": [
      "\u001b[1;31m---------------------------------------------------------------------------\u001b[0m",
      "\u001b[1;31mAttributeError\u001b[0m                            Traceback (most recent call last)",
      "Cell \u001b[1;32mIn[93], line 1\u001b[0m\n\u001b[1;32m----> 1\u001b[0m sarfaraz\u001b[38;5;241m.\u001b[39mcalculate_grades()\n",
      "\u001b[1;31mAttributeError\u001b[0m: 'Student' object has no attribute 'calculate_grades'"
     ]
    }
   ],
   "source": [
    "sarfaraz.calculate_grades()"
   ]
  },
  {
   "cell_type": "code",
   "execution_count": 96,
   "id": "f4fe0c0c",
   "metadata": {},
   "outputs": [],
   "source": [
    "# In init passing self is mandatory\n",
    "\n",
    "class Student:\n",
    "    def __init__(self, given_name, given_marks):\n",
    "        self.name = given_name\n",
    "        self.marks = given_marks\n",
    "        self.__present = 0\n",
    "        self.__absent = 0\n",
    "        \n",
    "    def mark_present(self):\n",
    "        self.__present += 1\n",
    "        \n",
    "    def mark_absent(self):\n",
    "        self.__absent += 1\n",
    "        \n",
    "    def show_attendance(self):\n",
    "        print(f\"{self.name} is present for {self.__present} days and is absent for {self.__absent} days\")"
   ]
  },
  {
   "cell_type": "code",
   "execution_count": 97,
   "id": "18332bde",
   "metadata": {},
   "outputs": [],
   "source": [
    "x = Student(\"A\", 5)"
   ]
  },
  {
   "cell_type": "code",
   "execution_count": 98,
   "id": "89bdd6a1",
   "metadata": {},
   "outputs": [
    {
     "ename": "AttributeError",
     "evalue": "'Student' object has no attribute '__present'",
     "output_type": "error",
     "traceback": [
      "\u001b[1;31m---------------------------------------------------------------------------\u001b[0m",
      "\u001b[1;31mAttributeError\u001b[0m                            Traceback (most recent call last)",
      "Cell \u001b[1;32mIn[98], line 1\u001b[0m\n\u001b[1;32m----> 1\u001b[0m x\u001b[38;5;241m.\u001b[39m__present\n",
      "\u001b[1;31mAttributeError\u001b[0m: 'Student' object has no attribute '__present'"
     ]
    }
   ],
   "source": [
    "x.__present"
   ]
  },
  {
   "cell_type": "code",
   "execution_count": 100,
   "id": "9e078d79",
   "metadata": {},
   "outputs": [
    {
     "data": {
      "text/plain": [
       "'A'"
      ]
     },
     "execution_count": 100,
     "metadata": {},
     "output_type": "execute_result"
    }
   ],
   "source": [
    "x.name"
   ]
  },
  {
   "cell_type": "code",
   "execution_count": 104,
   "id": "a9154d42",
   "metadata": {},
   "outputs": [],
   "source": [
    "x.mark_present()"
   ]
  },
  {
   "cell_type": "code",
   "execution_count": 105,
   "id": "9d3138c9",
   "metadata": {},
   "outputs": [
    {
     "name": "stdout",
     "output_type": "stream",
     "text": [
      "A is present for 3 days and is absent for 0 days\n"
     ]
    }
   ],
   "source": [
    "x.show_attendance()"
   ]
  },
  {
   "cell_type": "code",
   "execution_count": 106,
   "id": "b02bdc9c",
   "metadata": {},
   "outputs": [
    {
     "ename": "AttributeError",
     "evalue": "'Student' object has no attribute '__present'",
     "output_type": "error",
     "traceback": [
      "\u001b[1;31m---------------------------------------------------------------------------\u001b[0m",
      "\u001b[1;31mAttributeError\u001b[0m                            Traceback (most recent call last)",
      "Cell \u001b[1;32mIn[106], line 1\u001b[0m\n\u001b[1;32m----> 1\u001b[0m x\u001b[38;5;241m.\u001b[39m__present\n",
      "\u001b[1;31mAttributeError\u001b[0m: 'Student' object has no attribute '__present'"
     ]
    }
   ],
   "source": [
    "x.__present"
   ]
  }
 ],
 "metadata": {
  "kernelspec": {
   "display_name": "myfirstenv",
   "language": "python",
   "name": "myfirstenv"
  },
  "language_info": {
   "codemirror_mode": {
    "name": "ipython",
    "version": 3
   },
   "file_extension": ".py",
   "mimetype": "text/x-python",
   "name": "python",
   "nbconvert_exporter": "python",
   "pygments_lexer": "ipython3",
   "version": "3.10.0"
  }
 },
 "nbformat": 4,
 "nbformat_minor": 5
}
