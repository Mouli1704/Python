{
 "cells": [
  {
   "cell_type": "markdown",
   "id": "f1b7db09",
   "metadata": {},
   "source": [
    "# Create a function named ‘factor’ that can only accept 1 argument. The function should return the factorial of that number."
   ]
  },
  {
   "cell_type": "code",
   "execution_count": null,
   "id": "90855e47",
   "metadata": {},
   "outputs": [],
   "source": [
    "def factorial(num):\n",
    "    fact = 1;\n",
    "    for i in range (1,num+1):\n",
    "        fact *= i\n",
    "\n",
    "    return fact\n",
    "\n",
    "number = 8\n",
    "print(f'Factorial of {number} = {factorial(number)}')"
   ]
  },
  {
   "cell_type": "code",
   "execution_count": null,
   "id": "1018eb58",
   "metadata": {},
   "outputs": [],
   "source": [
    "# Recursion\n",
    "\n",
    "def fac(p):\n",
    "    # current value of i == 8\n",
    "    if p == 0:\n",
    "        return 1\n",
    "    else:\n",
    "        # 8 * 7 * 6 * fac(5) ...\n",
    "        return(p * fac(p-1))\n",
    "    \n",
    "fac(8)"
   ]
  },
  {
   "cell_type": "markdown",
   "id": "004e8d22",
   "metadata": {},
   "source": [
    "# Create a function named ‘check_string’, the function should accept a string data from the user and the function should check if the user input contains the letter ‘s’ in it. If it contains the letter ‘s’ then print- ‘The string is containing the letter ‘s’’, if not then print- ‘The string doesn’t contain the letter ‘s’’."
   ]
  },
  {
   "cell_type": "code",
   "execution_count": null,
   "id": "b9bab909",
   "metadata": {},
   "outputs": [],
   "source": [
    "def check_string(str1):\n",
    "    for char in str1:\n",
    "        if (char == 's'):\n",
    "            print(\"The string is containing letter s\")\n",
    "            return\n",
    "    print(\"The string doesn't contain letter s\")\n",
    "\n",
    "check_string(\"Himanshu\")"
   ]
  },
  {
   "cell_type": "code",
   "execution_count": null,
   "id": "c033e054",
   "metadata": {},
   "outputs": [],
   "source": [
    "def check_string(myString, checkChar):\n",
    "    if (myString.find(checkChar) != -1):\n",
    "        return f'The string is containing the letter ‘{checkChar}’'\n",
    "    else:\n",
    "        return f'The string doesn’t contain the letter ‘{checkChar}’'\n",
    "\n",
    "checkString = check_string('Sachin', 's')\n",
    "print(checkString)"
   ]
  },
  {
   "cell_type": "code",
   "execution_count": null,
   "id": "a0267c68",
   "metadata": {},
   "outputs": [],
   "source": [
    "\"Himanshu Singh\".find('p')"
   ]
  },
  {
   "cell_type": "markdown",
   "id": "aa09c67f",
   "metadata": {},
   "source": [
    "# Create a class named ‘student’ and inside the class, create a function named ‘fun1’- this method should accept the user defined input and return that value.\n",
    "\n",
    "### a. Create another method named- message() and that method should print the user defined input that we have defined in ‘fun1’."
   ]
  },
  {
   "cell_type": "code",
   "execution_count": null,
   "id": "2f4a260a",
   "metadata": {},
   "outputs": [],
   "source": [
    "class Student():\n",
    "    def __init__(self,udfInpx):\n",
    "        self.udfInpx=\"\"\n",
    "\n",
    "    def userDefInp(udfInpx):\n",
    "        return udfInpx\n",
    "\n",
    "Student.userDefInp(input(\"string :\"))"
   ]
  },
  {
   "cell_type": "code",
   "execution_count": null,
   "id": "e55d4920",
   "metadata": {},
   "outputs": [],
   "source": [
    "class march30:\n",
    "    def __init__(self):\n",
    "        self.input = None\n",
    "\n",
    "    def fun1(self, input):\n",
    "        self.input = input\n",
    "        return self.input\n",
    "\n",
    "    def message(self):\n",
    "        print(self.input)\n",
    "        return\n",
    "\n",
    "user_defined = march30()\n",
    "print(user_defined.fun1(\"raghav\"))\n",
    "print(user_defined.message())"
   ]
  },
  {
   "cell_type": "code",
   "execution_count": null,
   "id": "4465cd82",
   "metadata": {},
   "outputs": [],
   "source": [
    "class Student:\n",
    "    def __init__(self):\n",
    "        pass\n",
    "    \n",
    "    def fun1(self):\n",
    "        user_input = input(\"Enter your input: \")\n",
    "        return user_input\n",
    "    \n",
    "    def message(self, input_value):\n",
    "        print(\"User defined input:\", input_value)"
   ]
  },
  {
   "cell_type": "code",
   "execution_count": null,
   "id": "a3f2f258",
   "metadata": {},
   "outputs": [],
   "source": [
    "student = Student()\n",
    "\n",
    "user_input = student.fun1()\n",
    "\n",
    "student.message(user_input)\n"
   ]
  },
  {
   "cell_type": "code",
   "execution_count": null,
   "id": "72ad043b",
   "metadata": {},
   "outputs": [],
   "source": [
    "# Final Answer\n",
    "\n",
    "class student:\n",
    "    def __init__(self):\n",
    "        self.value=''\n",
    "    \n",
    "    def fun1 (self):\n",
    "        self.value = input(\"Enter the String: \")\n",
    "        return f'You have entered {self.value}'\n",
    "        \n",
    "    def message (self):\n",
    "        # return f'Value return from fun1 = {self.value}'\n",
    "        return(self.fun1())\n",
    "\n",
    "studentObject = student()\n",
    "inputValue = studentObject.fun1()\n",
    "print(inputValue)\n",
    "\n",
    "print(studentObject.message())"
   ]
  },
  {
   "cell_type": "markdown",
   "id": "db1309bd",
   "metadata": {},
   "source": [
    "# Take the user input string and check whether that string is palindrome or not"
   ]
  },
  {
   "cell_type": "code",
   "execution_count": null,
   "id": "c2095d10",
   "metadata": {},
   "outputs": [],
   "source": [
    "\"/\".join([\"H\", \"I\", \"M\"])"
   ]
  },
  {
   "cell_type": "code",
   "execution_count": null,
   "id": "50881037",
   "metadata": {},
   "outputs": [],
   "source": [
    "def check_palindrome(text):\n",
    "    original_text = text\n",
    "    \n",
    "    revised_text = list(text)\n",
    "    revised_text.reverse()\n",
    "    reversed_text = \"\".join(revised_text)\n",
    "    \n",
    "    if original_text == reversed_text:\n",
    "        print(\"It's a palindrome\")\n",
    "    else:\n",
    "        print(\"It's not a palindrome\")\n",
    "    \n",
    "check_palindrome(\"madam\")"
   ]
  },
  {
   "cell_type": "code",
   "execution_count": null,
   "id": "cd8f4e51",
   "metadata": {},
   "outputs": [],
   "source": [
    "def check_palindrome(text):\n",
    "    original_text = text\n",
    "    \n",
    "    reversed_text = original_text[::-1]\n",
    "    \n",
    "    if original_text == reversed_text:\n",
    "        print(\"It's a palindrome\")\n",
    "    else:\n",
    "        print(\"It's not a palindrome\")\n",
    "    \n",
    "check_palindrome(\"madam\")"
   ]
  },
  {
   "cell_type": "code",
   "execution_count": null,
   "id": "e579f1da",
   "metadata": {},
   "outputs": [],
   "source": [
    "check_palindrome = input(\"Enter your string:\")\n",
    "length= len(check_palindrome)\n",
    "plen=0\n",
    "for i in range(0,length):\n",
    "    try:\n",
    "        if check_palindrome[i] == check_palindrome[-1-i]:\n",
    "            plen += 1\n",
    "    except:\n",
    "        pass\n",
    "    \n",
    "if plen == length:\n",
    "    print(\"It is a palindrome\")\n",
    "else:\n",
    "    print(\"Not a palindrome\")"
   ]
  },
  {
   "cell_type": "markdown",
   "id": "c2a71284",
   "metadata": {},
   "source": [
    "1. Create a class named ‘Super’ and inside that class define a user-defined function named fun1.\n",
    "\n",
    "2. Inside the ‘fun1’ function, pass the message “This is function 1 in the Super class.” in the print statement\n",
    "\n",
    "3. Create another class named ‘Modified_Super’ and inherit this class from the Super class.\n",
    "\n",
    "4.  Inside the Modified_Super class, create a function named ‘fun1’ and pass the following message inside the print statement: ‘This is function 1 in the Modified Super class.’\n",
    "\n",
    "5.  Create another user-defined function named ‘fun2’ and pass the message: ‘This is the 2nd function from the Modified Super class’ in the print statement.\n",
    "\n",
    "6. After that, now create an object for the Modified_Super class and call the fun1()."
   ]
  },
  {
   "cell_type": "code",
   "execution_count": 7,
   "id": "9d84d161",
   "metadata": {},
   "outputs": [],
   "source": [
    "class Super:\n",
    "    def fun1(self):\n",
    "        print(\"This is function 1 in the Super class\")\n",
    "    \n",
    "class Modified_Super(Super):\n",
    "    def __init__(self):\n",
    "        self.a = 10\n",
    "        self.b = 10\n",
    "    \n",
    "    def fun1(self):\n",
    "        return(\"This is function 1 in the Modified Super class.\")\n",
    "    \n",
    "    def fun2(self):\n",
    "        return(\"This is the 2nd function from the Modified Super class.\")\n",
    "    \n",
    "    @staticmethod\n",
    "    def test():\n",
    "        return(\"Himanshu\")\n",
    "    \n",
    "    def call_class_1(self):\n",
    "        super().fun1()"
   ]
  },
  {
   "cell_type": "code",
   "execution_count": 8,
   "id": "45b8ba31",
   "metadata": {},
   "outputs": [
    {
     "data": {
      "text/plain": [
       "'This is function 1 in the Modified Super class.'"
      ]
     },
     "execution_count": 8,
     "metadata": {},
     "output_type": "execute_result"
    }
   ],
   "source": [
    "modified_super = Modified_Super()\n",
    "\n",
    "modified_super.fun1()"
   ]
  },
  {
   "cell_type": "code",
   "execution_count": 9,
   "id": "d7a90773",
   "metadata": {},
   "outputs": [
    {
     "data": {
      "text/plain": [
       "'This is the 2nd function from the Modified Super class.'"
      ]
     },
     "execution_count": 9,
     "metadata": {},
     "output_type": "execute_result"
    }
   ],
   "source": [
    "modified_super.fun2()"
   ]
  },
  {
   "cell_type": "code",
   "execution_count": 10,
   "id": "2177022c",
   "metadata": {},
   "outputs": [
    {
     "name": "stdout",
     "output_type": "stream",
     "text": [
      "This is function 1 in the Super class\n"
     ]
    }
   ],
   "source": [
    "super1 = Super()\n",
    "\n",
    "super1.fun1()"
   ]
  },
  {
   "cell_type": "code",
   "execution_count": 11,
   "id": "c6f760c4",
   "metadata": {},
   "outputs": [
    {
     "data": {
      "text/plain": [
       "'Himanshu'"
      ]
     },
     "execution_count": 11,
     "metadata": {},
     "output_type": "execute_result"
    }
   ],
   "source": [
    "modified_super.test()"
   ]
  },
  {
   "cell_type": "code",
   "execution_count": 12,
   "id": "917d075d",
   "metadata": {},
   "outputs": [
    {
     "name": "stdout",
     "output_type": "stream",
     "text": [
      "This is function 1 in the Super class\n"
     ]
    }
   ],
   "source": [
    "modified_super.call_class_1()"
   ]
  },
  {
   "cell_type": "code",
   "execution_count": 13,
   "id": "24b31c66",
   "metadata": {},
   "outputs": [],
   "source": [
    "class Encapsulation:\n",
    "    def __init__(self):\n",
    "        self.orginalValue = 10\n",
    "        \n",
    "    def Value(self):\n",
    "        print(self.orginalValue)\n",
    "        \n",
    "    def setValue(self, newValue):\n",
    "        self.orginalValue = newValue"
   ]
  },
  {
   "cell_type": "code",
   "execution_count": 14,
   "id": "e78ed8ad",
   "metadata": {},
   "outputs": [],
   "source": [
    "enc = Encapsulation()"
   ]
  },
  {
   "cell_type": "code",
   "execution_count": 15,
   "id": "9a0384e2",
   "metadata": {},
   "outputs": [
    {
     "name": "stdout",
     "output_type": "stream",
     "text": [
      "10\n"
     ]
    }
   ],
   "source": [
    "enc.Value()"
   ]
  },
  {
   "cell_type": "code",
   "execution_count": 16,
   "id": "ba3a981f",
   "metadata": {},
   "outputs": [],
   "source": [
    "enc.setValue(20)"
   ]
  },
  {
   "cell_type": "code",
   "execution_count": 17,
   "id": "6e6c9b6e",
   "metadata": {},
   "outputs": [
    {
     "name": "stdout",
     "output_type": "stream",
     "text": [
      "20\n"
     ]
    }
   ],
   "source": [
    "enc.Value()"
   ]
  },
  {
   "cell_type": "code",
   "execution_count": 18,
   "id": "5370e0f5",
   "metadata": {},
   "outputs": [
    {
     "name": "stdout",
     "output_type": "stream",
     "text": [
      "10\n",
      "20\n"
     ]
    }
   ],
   "source": [
    "class Encapsulation1():\n",
    "    def __init__(self):\n",
    "        self.originalvalue = 10\n",
    "    def value1(self):\n",
    "        print( self.originalvalue)\n",
    "    def setvalue(self,newvalue):\n",
    "        self.originalvalue= newvalue\n",
    "        print( self.originalvalue)\n",
    "myencap=Encapsulation1()\n",
    "myencap.value1()\n",
    "myencap.setvalue(20)\n"
   ]
  },
  {
   "cell_type": "markdown",
   "id": "6cdfd06b",
   "metadata": {},
   "source": [
    "# Creating a new environment\n",
    "conda create -n intellipat_test python==3.10\n",
    "\n",
    "# Activating the new environment\n",
    "conda activate intellipat_test\n",
    "\n",
    "\n",
    "# Deactivating the environment\n",
    "conda deactivate\n",
    "\n",
    "# Listing all the environments\n",
    "conda info --envs\n",
    "\n",
    "# Enabling environment in Notebooks\n",
    "pip install ipykernel\n",
    "python -m ipykernel install --user --name=intellipat_test\n"
   ]
  },
  {
   "cell_type": "code",
   "execution_count": null,
   "id": "1ce4d57f",
   "metadata": {},
   "outputs": [],
   "source": []
  }
 ],
 "metadata": {
  "kernelspec": {
   "display_name": "Python [conda env:intellipat]",
   "language": "python",
   "name": "conda-env-intellipat-py"
  },
  "language_info": {
   "codemirror_mode": {
    "name": "ipython",
    "version": 3
   },
   "file_extension": ".py",
   "mimetype": "text/x-python",
   "name": "python",
   "nbconvert_exporter": "python",
   "pygments_lexer": "ipython3",
   "version": "3.11.8"
  }
 },
 "nbformat": 4,
 "nbformat_minor": 5
}
