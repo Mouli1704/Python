{
 "cells": [
  {
   "cell_type": "code",
   "execution_count": 2,
   "id": "4b6e1e69",
   "metadata": {},
   "outputs": [],
   "source": [
    "import numpy as np"
   ]
  },
  {
   "cell_type": "code",
   "execution_count": 2,
   "id": "031855d1",
   "metadata": {},
   "outputs": [
    {
     "data": {
      "text/plain": [
       "'1.26.4'"
      ]
     },
     "execution_count": 2,
     "metadata": {},
     "output_type": "execute_result"
    }
   ],
   "source": [
    "np.__version__"
   ]
  },
  {
   "cell_type": "code",
   "execution_count": 3,
   "id": "e04fc625",
   "metadata": {},
   "outputs": [],
   "source": [
    "student_marks_np = np.array([92, 47, 84, 36])"
   ]
  },
  {
   "cell_type": "code",
   "execution_count": 4,
   "id": "7e3737e4",
   "metadata": {},
   "outputs": [
    {
     "data": {
      "text/plain": [
       "numpy.ndarray"
      ]
     },
     "execution_count": 4,
     "metadata": {},
     "output_type": "execute_result"
    }
   ],
   "source": [
    "type(student_marks_np)"
   ]
  },
  {
   "cell_type": "code",
   "execution_count": 5,
   "id": "40285a1a",
   "metadata": {},
   "outputs": [],
   "source": [
    "student_marks = [92, 47, 84, 36]"
   ]
  },
  {
   "cell_type": "code",
   "execution_count": 6,
   "id": "f36d1d3a",
   "metadata": {},
   "outputs": [
    {
     "name": "stdout",
     "output_type": "stream",
     "text": [
      "[92 47 84 36]\n"
     ]
    }
   ],
   "source": [
    "print(student_marks_np) #stored at a single location, but we can get each element using indexing"
   ]
  },
  {
   "cell_type": "code",
   "execution_count": 7,
   "id": "3cb8f0ff",
   "metadata": {},
   "outputs": [
    {
     "name": "stdout",
     "output_type": "stream",
     "text": [
      "[92, 47, 84, 36]\n"
     ]
    }
   ],
   "source": [
    "print(student_marks) #stored at different index locations"
   ]
  },
  {
   "cell_type": "code",
   "execution_count": 8,
   "id": "438b1b62",
   "metadata": {},
   "outputs": [],
   "source": [
    "#numpy indexing is same as numpy indexing"
   ]
  },
  {
   "cell_type": "code",
   "execution_count": 9,
   "id": "930ead85",
   "metadata": {},
   "outputs": [
    {
     "data": {
      "text/plain": [
       "64.75"
      ]
     },
     "execution_count": 9,
     "metadata": {},
     "output_type": "execute_result"
    }
   ],
   "source": [
    "np.mean(student_marks)"
   ]
  },
  {
   "cell_type": "code",
   "execution_count": 10,
   "id": "5fa270eb",
   "metadata": {},
   "outputs": [
    {
     "data": {
      "text/plain": [
       "64.75"
      ]
     },
     "execution_count": 10,
     "metadata": {},
     "output_type": "execute_result"
    }
   ],
   "source": [
    "np.mean(student_marks_np)"
   ]
  },
  {
   "cell_type": "code",
   "execution_count": 11,
   "id": "0e1560c6",
   "metadata": {},
   "outputs": [],
   "source": [
    "test_np = np.array([92.36, 47, 84, 36.02]) #Here everything is converted into float and then operations are done."
   ]
  },
  {
   "cell_type": "code",
   "execution_count": 12,
   "id": "2c7b1820",
   "metadata": {},
   "outputs": [
    {
     "data": {
      "text/plain": [
       "64.845"
      ]
     },
     "execution_count": 12,
     "metadata": {},
     "output_type": "execute_result"
    }
   ],
   "source": [
    "np.mean(test_np)"
   ]
  },
  {
   "cell_type": "code",
   "execution_count": null,
   "id": "564a769c",
   "metadata": {},
   "outputs": [],
   "source": []
  }
 ],
 "metadata": {
  "kernelspec": {
   "display_name": "myfirstenv",
   "language": "python",
   "name": "myfirstenv"
  },
  "language_info": {
   "codemirror_mode": {
    "name": "ipython",
    "version": 3
   },
   "file_extension": ".py",
   "mimetype": "text/x-python",
   "name": "python",
   "nbconvert_exporter": "python",
   "pygments_lexer": "ipython3",
   "version": "3.10.0"
  }
 },
 "nbformat": 4,
 "nbformat_minor": 5
}
