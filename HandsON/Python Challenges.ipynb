{
 "cells": [
  {
   "cell_type": "markdown",
   "id": "81a5cfe7",
   "metadata": {},
   "source": [
    "# Python Lists"
   ]
  },
  {
   "cell_type": "markdown",
   "id": "2f379d55",
   "metadata": {},
   "source": [
    "#### 1.\tReverse a list in Python. Example: Given the list [1, 2, 3], after reversing, it should become [3, 2, 1]."
   ]
  },
  {
   "cell_type": "code",
   "execution_count": 11,
   "id": "7a939a12",
   "metadata": {},
   "outputs": [
    {
     "data": {
      "text/plain": [
       "[3, 2, 1]"
      ]
     },
     "execution_count": 11,
     "metadata": {},
     "output_type": "execute_result"
    }
   ],
   "source": [
    "a = [1,2,3]\n",
    "a.reverse()\n",
    "a"
   ]
  },
  {
   "cell_type": "markdown",
   "id": "1a68f01f",
   "metadata": {},
   "source": [
    "#### 2.\tFind the sum of elements in a list. Example: For [1, 2, 3], the sum is 6."
   ]
  },
  {
   "cell_type": "code",
   "execution_count": 13,
   "id": "04ec1a4a",
   "metadata": {},
   "outputs": [
    {
     "data": {
      "text/plain": [
       "6"
      ]
     },
     "execution_count": 13,
     "metadata": {},
     "output_type": "execute_result"
    }
   ],
   "source": [
    "a = [1,2,3]\n",
    "sum(a)"
   ]
  },
  {
   "cell_type": "markdown",
   "id": "28d7f6c4",
   "metadata": {},
   "source": [
    "#### 3.\tCheck if a list is empty or not. Example: [] should return True, whereas [1] returns False."
   ]
  },
  {
   "cell_type": "code",
   "execution_count": 21,
   "id": "0d5f9187",
   "metadata": {},
   "outputs": [
    {
     "name": "stdout",
     "output_type": "stream",
     "text": [
      "True\n",
      "False\n"
     ]
    }
   ],
   "source": [
    "a = []\n",
    "b = [1]\n",
    "print(len(a) == 0)\n",
    "print(len(b) == 0)"
   ]
  },
  {
   "cell_type": "markdown",
   "id": "4cd5f39a",
   "metadata": {},
   "source": [
    "#### 4.\tFind the number of occurrences of an element in a list. Example: In [1, 1, 2, 3], the number of occurrences of 1 is 2."
   ]
  },
  {
   "cell_type": "code",
   "execution_count": 22,
   "id": "6052c5bb",
   "metadata": {},
   "outputs": [
    {
     "data": {
      "text/plain": [
       "2"
      ]
     },
     "execution_count": 22,
     "metadata": {},
     "output_type": "execute_result"
    }
   ],
   "source": [
    "a = [1,1,2,3]\n",
    "a.count(1)"
   ]
  },
  {
   "cell_type": "markdown",
   "id": "b6c23028",
   "metadata": {},
   "source": [
    "#### 5.\tMerge two sorted lists into a new sorted list. Example: Merging [1, 3, 5] and [2, 4, 6] should result in [1, 2, 3, 4, 5, 6]."
   ]
  },
  {
   "cell_type": "code",
   "execution_count": 42,
   "id": "8d28936d",
   "metadata": {},
   "outputs": [
    {
     "data": {
      "text/plain": [
       "[1, 2, 3, 4, 5, 6]"
      ]
     },
     "execution_count": 42,
     "metadata": {},
     "output_type": "execute_result"
    }
   ],
   "source": [
    "a = [1,3,5]\n",
    "b = [2,4,6]\n",
    "a.extend(b) #we can also concatenate both lists using '+'.\n",
    "a.sort()\n",
    "a"
   ]
  },
  {
   "cell_type": "markdown",
   "id": "b2fa76a5",
   "metadata": {},
   "source": [
    "# Python Dictionaries"
   ]
  },
  {
   "cell_type": "markdown",
   "id": "dd18c1fa",
   "metadata": {},
   "source": [
    "#### 6.\tCount Characters in a String. Example: 'hello' results in {'h': 1, 'e': 1, 'l': 2, 'o': 1}."
   ]
  },
  {
   "cell_type": "code",
   "execution_count": 60,
   "id": "aeb8057c",
   "metadata": {},
   "outputs": [
    {
     "data": {
      "text/plain": [
       "{'h': 1, 'e': 1, 'l': 2, 'o': 1}"
      ]
     },
     "execution_count": 60,
     "metadata": {},
     "output_type": "execute_result"
    }
   ],
   "source": [
    "def count_characters(s):\n",
    "    char_count = {} \n",
    "    for char in s:\n",
    "        if char in char_count: \n",
    "        # Here we are checking for the keys in dict, hence directly used the dict name. \n",
    "        # If you want to check the values then you need to use dict name.values().\n",
    "            char_count[char] = char_count[char] + 1\n",
    "        else:\n",
    "            char_count[char] = 1 # here char is key and 1 is value 'char' = '1'. The key:value pair gets added to dict.\n",
    "    return char_count\n",
    "\n",
    "count_characters('hello')"
   ]
  },
  {
   "cell_type": "markdown",
   "id": "a8a2ebb5",
   "metadata": {},
   "source": [
    "#### 7.\tMerge Two Dictionaries. Example: {'a': 1, 'b': 2} and {'b': 3, 'c': 4} becomes {'a': 1, 'b': 3, 'c': 4}."
   ]
  },
  {
   "cell_type": "code",
   "execution_count": 67,
   "id": "eff8b4c3",
   "metadata": {},
   "outputs": [
    {
     "data": {
      "text/plain": [
       "{'a': 1, 'b': 3, 'c': 4}"
      ]
     },
     "execution_count": 67,
     "metadata": {},
     "output_type": "execute_result"
    }
   ],
   "source": [
    "dict1 = {'a':1,'b':2}\n",
    "dict2 = {'b':3,'c':4}\n",
    "dict3 = {}\n",
    "for key in dict1:\n",
    "    dict3[key] = dict1[key]\n",
    "for key in dict2:\n",
    "    dict3[key] = dict2[key]\n",
    "dict3"
   ]
  },
  {
   "cell_type": "code",
   "execution_count": 68,
   "id": "6502f801",
   "metadata": {},
   "outputs": [
    {
     "data": {
      "text/plain": [
       "{'a': 1, 'b': 3, 'c': 4}"
      ]
     },
     "execution_count": 68,
     "metadata": {},
     "output_type": "execute_result"
    }
   ],
   "source": [
    "dict1 = {'a':1,'b':2}\n",
    "dict2 = {'b':3,'c':4}\n",
    "dict1.update(dict2) #Here dict2 overwrites dict1 values if there are any common keys.\n",
    "dict1"
   ]
  },
  {
   "cell_type": "markdown",
   "id": "48ad9fa8",
   "metadata": {},
   "source": [
    "#### 8.\tInvert a Dictionary. Example: {'a': 1, 'b': 2} becomes {1: 'a', 2: 'b'}."
   ]
  },
  {
   "cell_type": "code",
   "execution_count": 86,
   "id": "c262153e",
   "metadata": {},
   "outputs": [
    {
     "data": {
      "text/plain": [
       "{1: 'a', 2: 'b'}"
      ]
     },
     "execution_count": 86,
     "metadata": {},
     "output_type": "execute_result"
    }
   ],
   "source": [
    "dict1 = {'a': 1, 'b': 2}\n",
    "dict2 = {}\n",
    "for key, value in dict1.items():\n",
    "    dict2[value] = key\n",
    "dict2"
   ]
  },
  {
   "cell_type": "markdown",
   "id": "ea189db6",
   "metadata": {},
   "source": [
    "#### 9.\tFind the Key with the Maximum Value. Example: {'a': 100, 'b': 200} should return 'b'."
   ]
  },
  {
   "cell_type": "code",
   "execution_count": 123,
   "id": "143b6635",
   "metadata": {},
   "outputs": [
    {
     "name": "stdout",
     "output_type": "stream",
     "text": [
      "b\n"
     ]
    }
   ],
   "source": [
    "dict1 = {'a':100, 'b': 200}\n",
    "\n",
    "value = 0\n",
    "max_key = ''\n",
    "\n",
    "for key in dict1:\n",
    "    if dict1[key] > value:\n",
    "        value = dict1[key]\n",
    "        max_key = key\n",
    "    else:\n",
    "        pass\n",
    "print(max_key)"
   ]
  },
  {
   "cell_type": "markdown",
   "id": "4ee36382",
   "metadata": {},
   "source": [
    "#### 10.\tGroup Anagrams. Example: ['eat', 'tea', 'tan', 'ate', 'nat', 'bat'] groups into [['eat', 'tea', 'ate'], ['tan', 'nat'], ['bat']]."
   ]
  },
  {
   "cell_type": "code",
   "execution_count": 140,
   "id": "0dd71128",
   "metadata": {},
   "outputs": [
    {
     "name": "stdout",
     "output_type": "stream",
     "text": [
      "[['eat', 'tea', 'ate'], ['tan', 'nat'], ['bat']]\n"
     ]
    }
   ],
   "source": [
    "mylist = ['eat', 'tea', 'tan', 'ate', 'nat', 'bat'] \n",
    "anagrams = {}\n",
    "for word in mylist:\n",
    "    sorted_word = ''.join(sorted(word)) #sorted will sort the string and store individual chars in a list.\n",
    "    if sorted_word in anagrams:\n",
    "        anagrams[sorted_word].append(word)\n",
    "    else:\n",
    "        anagrams[sorted_word] = [word] #here the actual word is stored as a value inside a list.\n",
    "print (list(anagrams.values()))"
   ]
  },
  {
   "cell_type": "code",
   "execution_count": 139,
   "id": "2c70cae3",
   "metadata": {},
   "outputs": [
    {
     "data": {
      "text/plain": [
       "['a', 'a', 'b', 'c', 'c', 'd', 'e']"
      ]
     },
     "execution_count": 139,
     "metadata": {},
     "output_type": "execute_result"
    }
   ],
   "source": [
    "(sorted('abcdeca'))"
   ]
  },
  {
   "cell_type": "markdown",
   "id": "5dfe2ff4",
   "metadata": {},
   "source": [
    "# Python Tuples and Sets"
   ]
  },
  {
   "cell_type": "markdown",
   "id": "ff780dee",
   "metadata": {},
   "source": [
    "#### 11.\tSwap Two Elements in a Tuple. Example: Swapping indices 1 and 3 in (1, 2, 3, 4) results in (1, 4, 3, 2)."
   ]
  },
  {
   "cell_type": "code",
   "execution_count": 144,
   "id": "97ca16d2",
   "metadata": {},
   "outputs": [
    {
     "data": {
      "text/plain": [
       "'Since tuples are immutable in Python, you cannot directly swap elements within a tuple. However, you can achieve the desired result by converting the tuple to a list, performing the swap, and then converting it back to a tuple.'"
      ]
     },
     "execution_count": 144,
     "metadata": {},
     "output_type": "execute_result"
    }
   ],
   "source": [
    "a = (1, 2, 3, 4)\n",
    "\"\"\"Since tuples are immutable in Python, you cannot directly swap elements within a tuple. However, you can achieve the desired result by converting the tuple to a list, performing the swap, and then converting it back to a tuple.\"\"\""
   ]
  },
  {
   "cell_type": "markdown",
   "id": "ea8c522b",
   "metadata": {},
   "source": [
    "#### 12.\tCount the Elements in a Tuple. Example: In (1, 2, 2, 3), 2 occurs twice."
   ]
  },
  {
   "cell_type": "code",
   "execution_count": 145,
   "id": "c9fbdc47",
   "metadata": {},
   "outputs": [
    {
     "data": {
      "text/plain": [
       "2"
      ]
     },
     "execution_count": 145,
     "metadata": {},
     "output_type": "execute_result"
    }
   ],
   "source": [
    "a = (1, 2, 2, 3)\n",
    "a.count(2)"
   ]
  },
  {
   "cell_type": "markdown",
   "id": "36c4d31e",
   "metadata": {},
   "source": [
    "#### 13.\tConvert a List of Tuples into a Dictionary. Example: [('a', 1), ('b', 2)] becomes {'a': 1, 'b': 2}."
   ]
  },
  {
   "cell_type": "code",
   "execution_count": 148,
   "id": "f129cf15",
   "metadata": {},
   "outputs": [
    {
     "name": "stdout",
     "output_type": "stream",
     "text": [
      "{'a': 1, 'b': 2}\n"
     ]
    }
   ],
   "source": [
    "a = [('a', 1), ('b', 2)] \n",
    "b = {}\n",
    "\n",
    "for key,value in a:\n",
    "    b[key] = value\n",
    "print(b)"
   ]
  },
  {
   "cell_type": "markdown",
   "id": "2c883ebf",
   "metadata": {},
   "source": [
    "#### 14.\tFind the Symmetric Difference Between Two Sets. Example: {1, 2, 3} and {3, 4, 5} results in {1, 2, 4, 5}."
   ]
  },
  {
   "cell_type": "code",
   "execution_count": 152,
   "id": "ffa1bb8f",
   "metadata": {},
   "outputs": [
    {
     "data": {
      "text/plain": [
       "{1, 2, 4, 5}"
      ]
     },
     "execution_count": 152,
     "metadata": {},
     "output_type": "execute_result"
    }
   ],
   "source": [
    "a = {1,2,3}\n",
    "b = {3,4,5}\n",
    "a.symmetric_difference(b)"
   ]
  },
  {
   "cell_type": "markdown",
   "id": "958d61c4",
   "metadata": {},
   "source": [
    "#### 15.\tCheck if a Set is a Subset of Another Set. Example: {1, 2} is a subset of {1, 2, 3}."
   ]
  },
  {
   "cell_type": "code",
   "execution_count": 157,
   "id": "2427b541",
   "metadata": {},
   "outputs": [
    {
     "data": {
      "text/plain": [
       "True"
      ]
     },
     "execution_count": 157,
     "metadata": {},
     "output_type": "execute_result"
    }
   ],
   "source": [
    "a = {1,2}\n",
    "b = {1,2,3}\n",
    "a.issubset(b)"
   ]
  },
  {
   "cell_type": "markdown",
   "id": "9a6ca96b",
   "metadata": {},
   "source": [
    "# Python Methods"
   ]
  },
  {
   "cell_type": "markdown",
   "id": "67af8daa",
   "metadata": {},
   "source": [
    "#### 16.\tString Capitalization: Write a method that capitalizes the first letter of each word in a string. Example: 'hello world' becomes 'Hello World'."
   ]
  },
  {
   "cell_type": "code",
   "execution_count": 160,
   "id": "cb9725d5",
   "metadata": {},
   "outputs": [
    {
     "name": "stdout",
     "output_type": "stream",
     "text": [
      "Enter anything: hi i am mouli\n"
     ]
    },
    {
     "data": {
      "text/plain": [
       "'Hi I Am Mouli'"
      ]
     },
     "execution_count": 160,
     "metadata": {},
     "output_type": "execute_result"
    }
   ],
   "source": [
    "def string_cap():\n",
    "    word = input(\"Enter anything: \")\n",
    "    words = word.split(' ')\n",
    "    updated_string = []\n",
    "    for i in words:\n",
    "        x = i.capitalize()\n",
    "        updated_string.append(x)\n",
    "    return ' '.join(updated_string)\n",
    "\n",
    "string_cap()"
   ]
  },
  {
   "cell_type": "code",
   "execution_count": 161,
   "id": "401cf1ac",
   "metadata": {},
   "outputs": [
    {
     "name": "stdout",
     "output_type": "stream",
     "text": [
      "Enter anything: hello world\n"
     ]
    },
    {
     "data": {
      "text/plain": [
       "'Hello World'"
      ]
     },
     "execution_count": 161,
     "metadata": {},
     "output_type": "execute_result"
    }
   ],
   "source": [
    "string_cap()"
   ]
  },
  {
   "cell_type": "markdown",
   "id": "1d565982",
   "metadata": {},
   "source": [
    "#### 17.\tFinding Unique Elements in a List: Write a method that returns a new list with unique elements of the first list. Example: [1,2,2,3] becomes [1,2,3]."
   ]
  },
  {
   "cell_type": "code",
   "execution_count": 164,
   "id": "89ebbbbe",
   "metadata": {},
   "outputs": [],
   "source": [
    "def unq_list(mylist):\n",
    "    new_list = set(mylist)\n",
    "    return list(new_list)"
   ]
  },
  {
   "cell_type": "code",
   "execution_count": 165,
   "id": "68e04e58",
   "metadata": {},
   "outputs": [
    {
     "data": {
      "text/plain": [
       "[1, 2, 3]"
      ]
     },
     "execution_count": 165,
     "metadata": {},
     "output_type": "execute_result"
    }
   ],
   "source": [
    "unq_list([1,2,2,3])"
   ]
  },
  {
   "cell_type": "markdown",
   "id": "61ae79a4",
   "metadata": {},
   "source": [
    "#### 18.\tSorting a List of Tuples by the Second Item: Write a function that takes a list of tuples and returns a list sorted by the second item in each tuple. Example: [(1, 3), (3, 2), (2, 1)] becomes [(2, 1), (3, 2), (1, 3)]."
   ]
  },
  {
   "cell_type": "code",
   "execution_count": 176,
   "id": "c6ede6d0",
   "metadata": {},
   "outputs": [
    {
     "data": {
      "text/plain": [
       "[(2, 1), (3, 2), (1, 3)]"
      ]
     },
     "execution_count": 176,
     "metadata": {},
     "output_type": "execute_result"
    }
   ],
   "source": [
    "def sort_tuples_by_second_item(mylist):\n",
    "    return sorted(mylist, key=lambda x: x[1]) #this lambda fn takes x and returns x[1]\n",
    "\n",
    "\"\"\"In Python, the key parameter is a function that is used to specify a custom sorting criterion when sorting elements.\n",
    "When you pass a key function to sorting functions like sorted() or list.sort(), Python will use this function to determine \n",
    "the order of elements rather than comparing the elements directly.\"\"\"\n",
    "\n",
    "sort_tuples_by_second_item([(1, 3), (3, 2), (2, 1)])"
   ]
  },
  {
   "cell_type": "markdown",
   "id": "96c162b0",
   "metadata": {},
   "source": [
    "#### 19.\tReverse Dictionary Mapping: Write a function that inverts a dictionary (swaps keys and values). Example: {'a': 1, 'b': 2} becomes {1: 'a', 2: 'b'}."
   ]
  },
  {
   "cell_type": "code",
   "execution_count": 177,
   "id": "e5265bbd",
   "metadata": {},
   "outputs": [
    {
     "data": {
      "text/plain": [
       "{1: 'a', 2: 'b'}"
      ]
     },
     "execution_count": 177,
     "metadata": {},
     "output_type": "execute_result"
    }
   ],
   "source": [
    "def rev_dict(mydict):\n",
    "    rev_map_dict = {}\n",
    "    \n",
    "    for key, value in mydict.items():\n",
    "        rev_map_dict[value] = key\n",
    "        \n",
    "    return rev_map_dict\n",
    "\n",
    "rev_dict({'a': 1, 'b': 2})"
   ]
  },
  {
   "cell_type": "markdown",
   "id": "fd631629",
   "metadata": {},
   "source": [
    "# Python Classes"
   ]
  },
  {
   "cell_type": "markdown",
   "id": "584c4cf2",
   "metadata": {},
   "source": [
    "#### 20.\tDefine a Basic Class: Define a class `Circle` with a method `area` that calculates the area of the circle."
   ]
  },
  {
   "cell_type": "code",
   "execution_count": 210,
   "id": "84c26a59",
   "metadata": {},
   "outputs": [
    {
     "name": "stdout",
     "output_type": "stream",
     "text": [
      "Area of the circle: 78.5\n"
     ]
    }
   ],
   "source": [
    "class Circle():\n",
    "    \n",
    "    pi = 3.14\n",
    "    \n",
    "    def __init__(self,radius):\n",
    "        self.radius = radius\n",
    "    \n",
    "    def area(self):\n",
    "        return Circle.pi*self.radius**2\n",
    "\n",
    "circle1 = Circle(5)\n",
    "print(\"Area of the circle:\", circle1.area())"
   ]
  },
  {
   "cell_type": "markdown",
   "id": "50e4518e",
   "metadata": {},
   "source": [
    "#### 21.\tClass Inheritance: Create a class `Cylinder` that inherits from `Circle` and has a method to calculate the volume."
   ]
  },
  {
   "cell_type": "code",
   "execution_count": 216,
   "id": "8c2a6597",
   "metadata": {},
   "outputs": [
    {
     "name": "stdout",
     "output_type": "stream",
     "text": [
      "Volume of cylinder of height 9 and raidus 6 is: 1017.36\n"
     ]
    }
   ],
   "source": [
    "class Cylinder(Circle):\n",
    "    def volume(self,height):\n",
    "        return Circle.pi*self.radius*self.radius*height\n",
    "\n",
    "cylinder1 = Cylinder(6)\n",
    "print(\"Volume of cylinder of height 9 and raidus 6 is:\",round((cylinder1.volume(9)),2))"
   ]
  },
  {
   "cell_type": "code",
   "execution_count": null,
   "id": "426bb162",
   "metadata": {},
   "outputs": [],
   "source": []
  }
 ],
 "metadata": {
  "kernelspec": {
   "display_name": "Python 3 (ipykernel)",
   "language": "python",
   "name": "python3"
  },
  "language_info": {
   "codemirror_mode": {
    "name": "ipython",
    "version": 3
   },
   "file_extension": ".py",
   "mimetype": "text/x-python",
   "name": "python",
   "nbconvert_exporter": "python",
   "pygments_lexer": "ipython3",
   "version": "3.10.9"
  }
 },
 "nbformat": 4,
 "nbformat_minor": 5
}
