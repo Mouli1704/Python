{
 "cells": [
  {
   "cell_type": "markdown",
   "id": "485db345",
   "metadata": {},
   "source": [
    "# Module 1 - Getting Started with Python"
   ]
  },
  {
   "cell_type": "markdown",
   "id": "143d85ac",
   "metadata": {},
   "source": [
    "#### 1. Create a python file named Module.\n",
    "a. Inside the file, define 4 methods named – addition, subtraction, multiplication, and division.\n",
    "\n",
    "b. Each method should only accept 2 arguments and should return the result of the operation performed in each method. For e.g., addition() should return the sum of two arguments.\n",
    "\n",
    "c. Save the Module file in .py format.\n",
    "\n",
    "#### 2. Open a new python file and import the Module.py file.\n",
    "a. Now call the 4 methods from the Module.py file, i.e., addition(), subtraction(),multiplication(), and division()."
   ]
  },
  {
   "cell_type": "code",
   "execution_count": 56,
   "id": "b34c534e",
   "metadata": {},
   "outputs": [],
   "source": [
    "import Module"
   ]
  },
  {
   "cell_type": "code",
   "execution_count": 57,
   "id": "46a2f9a5",
   "metadata": {},
   "outputs": [
    {
     "data": {
      "text/plain": [
       "'The sum of the numbers is: 6'"
      ]
     },
     "execution_count": 57,
     "metadata": {},
     "output_type": "execute_result"
    }
   ],
   "source": [
    "addition(1,5)"
   ]
  },
  {
   "cell_type": "code",
   "execution_count": 58,
   "id": "ddf52bd4",
   "metadata": {},
   "outputs": [
    {
     "data": {
      "text/plain": [
       "'The difference of the two numbers is: 8'"
      ]
     },
     "execution_count": 58,
     "metadata": {},
     "output_type": "execute_result"
    }
   ],
   "source": [
    "subtraction(98,90)"
   ]
  },
  {
   "cell_type": "code",
   "execution_count": 59,
   "id": "9ea56796",
   "metadata": {},
   "outputs": [
    {
     "data": {
      "text/plain": [
       "'The product of the numbers (9, 5) is: 45'"
      ]
     },
     "execution_count": 59,
     "metadata": {},
     "output_type": "execute_result"
    }
   ],
   "source": [
    "multiplication(9,5)"
   ]
  },
  {
   "cell_type": "code",
   "execution_count": 60,
   "id": "93cd6b37",
   "metadata": {},
   "outputs": [
    {
     "data": {
      "text/plain": [
       "'The quotient when 26 divided by 2 is: 13.0'"
      ]
     },
     "execution_count": 60,
     "metadata": {},
     "output_type": "execute_result"
    }
   ],
   "source": [
    "division(26,2)"
   ]
  },
  {
   "cell_type": "markdown",
   "id": "b47111af",
   "metadata": {},
   "source": [
    "#### 3. From the Module file, import only the addition() and pass the arguments so that it can display the result from the method."
   ]
  },
  {
   "cell_type": "code",
   "execution_count": 61,
   "id": "f01c3276",
   "metadata": {},
   "outputs": [],
   "source": [
    "from Module import addition"
   ]
  },
  {
   "cell_type": "code",
   "execution_count": 62,
   "id": "e3ace4c5",
   "metadata": {},
   "outputs": [
    {
     "data": {
      "text/plain": [
       "'The sum of the numbers is: 100'"
      ]
     },
     "execution_count": 62,
     "metadata": {},
     "output_type": "execute_result"
    }
   ],
   "source": [
    "addition(56,44)"
   ]
  },
  {
   "cell_type": "markdown",
   "id": "7db48c54",
   "metadata": {},
   "source": [
    "#### 4. From the Module file, import only the subtraction() and pass the arguments so that it can display the result from the method."
   ]
  },
  {
   "cell_type": "code",
   "execution_count": 63,
   "id": "48bbe4a5",
   "metadata": {},
   "outputs": [],
   "source": [
    "from Module import subtraction as s"
   ]
  },
  {
   "cell_type": "code",
   "execution_count": 64,
   "id": "dac2d090",
   "metadata": {},
   "outputs": [
    {
     "data": {
      "text/plain": [
       "'The difference of the two numbers is: 6'"
      ]
     },
     "execution_count": 64,
     "metadata": {},
     "output_type": "execute_result"
    }
   ],
   "source": [
    "s(26,20)"
   ]
  },
  {
   "cell_type": "markdown",
   "id": "ea32d724",
   "metadata": {},
   "source": [
    "#### 5. From the Module file, import both the multiplication() and division() and pass the arguments so that it can display the result from the methods."
   ]
  },
  {
   "cell_type": "code",
   "execution_count": 68,
   "id": "21ed4193",
   "metadata": {},
   "outputs": [],
   "source": [
    "from Module import multiplication as m, division as d"
   ]
  },
  {
   "cell_type": "code",
   "execution_count": 69,
   "id": "e0a33040",
   "metadata": {},
   "outputs": [
    {
     "data": {
      "text/plain": [
       "'The product of the numbers (3, 2) is: 6'"
      ]
     },
     "execution_count": 69,
     "metadata": {},
     "output_type": "execute_result"
    }
   ],
   "source": [
    "m(3,2)"
   ]
  },
  {
   "cell_type": "code",
   "execution_count": 70,
   "id": "735da570",
   "metadata": {},
   "outputs": [
    {
     "data": {
      "text/plain": [
       "'The quotient when 12 divided by 6 is: 2.0'"
      ]
     },
     "execution_count": 70,
     "metadata": {},
     "output_type": "execute_result"
    }
   ],
   "source": [
    "d(12,6)"
   ]
  },
  {
   "cell_type": "markdown",
   "id": "74d7c8e2",
   "metadata": {},
   "source": [
    "#### 6. Create a python if-else program to check if the given numbers are greater or not, also check whether the given number is an armstrong number or not, and check whether the given number is a prime number or not. Make use of python if-else, and elif statements for the same."
   ]
  },
  {
   "cell_type": "code",
   "execution_count": 100,
   "id": "189598dd",
   "metadata": {},
   "outputs": [],
   "source": [
    "def arm_strong():\n",
    "    \n",
    "    num = int(input(\"Enter a number: \"))  \n",
    "    pwr = len(str(num))\n",
    "    summation = 0\n",
    "    for i in str(num):\n",
    "        summation += int(i)**pwr\n",
    "    if summation == num:\n",
    "        print(\"Hey the number is an armstrong number\")\n",
    "    else:\n",
    "        print(\"The number is not an armstrong number\")   "
   ]
  },
  {
   "cell_type": "code",
   "execution_count": 101,
   "id": "00bc91c4",
   "metadata": {},
   "outputs": [
    {
     "name": "stdout",
     "output_type": "stream",
     "text": [
      "Enter a number: 371\n",
      "Hey the number is an armstrong number\n"
     ]
    }
   ],
   "source": [
    "arm_strong()"
   ]
  },
  {
   "cell_type": "code",
   "execution_count": 117,
   "id": "ee85f7ee",
   "metadata": {},
   "outputs": [],
   "source": [
    "def is_prime(number):\n",
    "    if number <= 1:\n",
    "        return f\"{number} is not a prime\"\n",
    "    for i in range(2, int(number**0.5) + 1):\n",
    "        if number % i == 0:\n",
    "            return f\"{number} is not a prime\"\n",
    "    return f\"{number} is a prime\""
   ]
  },
  {
   "cell_type": "code",
   "execution_count": 119,
   "id": "aaaba571",
   "metadata": {},
   "outputs": [
    {
     "data": {
      "text/plain": [
       "'997 is a prime'"
      ]
     },
     "execution_count": 119,
     "metadata": {},
     "output_type": "execute_result"
    }
   ],
   "source": [
    "is_prime(997)"
   ]
  },
  {
   "cell_type": "markdown",
   "id": "f36b5901",
   "metadata": {},
   "source": [
    "#### 7. Create a calculator program for addition, subtraction, multiplication and floor division. Take the inputs from the user, and based on the choice of operation, return the results."
   ]
  },
  {
   "cell_type": "code",
   "execution_count": 125,
   "id": "022ace64",
   "metadata": {},
   "outputs": [],
   "source": [
    "class Calculator:\n",
    "    def addition(self,a,b):\n",
    "        return f\"The sum of {a}, {b} is : {a+b}\"\n",
    "    def subtraction(self,a,b):\n",
    "        return f\"The difference of {a}, {b} is : {abs((a-b))}\"\n",
    "    def multiplication(self,a,b):\n",
    "        return f\"The product of {a}, {b} is : {a*b}\"\n",
    "    def division(self,a,b):\n",
    "        return f\"The quotient when {a} divided by {b} is : {a/b}\"\n",
    "    "
   ]
  },
  {
   "cell_type": "code",
   "execution_count": 126,
   "id": "04364857",
   "metadata": {},
   "outputs": [],
   "source": [
    "cal = Calculator()"
   ]
  },
  {
   "cell_type": "code",
   "execution_count": 127,
   "id": "6f45493b",
   "metadata": {},
   "outputs": [
    {
     "data": {
      "text/plain": [
       "'The sum of 5, 3 is : 8'"
      ]
     },
     "execution_count": 127,
     "metadata": {},
     "output_type": "execute_result"
    }
   ],
   "source": [
    "cal.addition(5,3)"
   ]
  },
  {
   "cell_type": "code",
   "execution_count": 128,
   "id": "9c3264ae",
   "metadata": {},
   "outputs": [
    {
     "data": {
      "text/plain": [
       "'The difference of 9, 20 is : 11'"
      ]
     },
     "execution_count": 128,
     "metadata": {},
     "output_type": "execute_result"
    }
   ],
   "source": [
    "cal.subtraction(9,20)"
   ]
  },
  {
   "cell_type": "code",
   "execution_count": 129,
   "id": "6f8e3615",
   "metadata": {},
   "outputs": [
    {
     "data": {
      "text/plain": [
       "'The quotient when 20 divided by 10 is : 2.0'"
      ]
     },
     "execution_count": 129,
     "metadata": {},
     "output_type": "execute_result"
    }
   ],
   "source": [
    "cal.division(20,10)"
   ]
  },
  {
   "cell_type": "code",
   "execution_count": 130,
   "id": "f899e34a",
   "metadata": {},
   "outputs": [
    {
     "data": {
      "text/plain": [
       "'The product of 6, 8 is : 48'"
      ]
     },
     "execution_count": 130,
     "metadata": {},
     "output_type": "execute_result"
    }
   ],
   "source": [
    "cal.multiplication(6,8)"
   ]
  },
  {
   "cell_type": "markdown",
   "id": "878e28ef",
   "metadata": {},
   "source": [
    "#### 8. Create a fibonacci sequence using python if-else statements."
   ]
  },
  {
   "cell_type": "code",
   "execution_count": null,
   "id": "ca2d5b65",
   "metadata": {},
   "outputs": [],
   "source": []
  }
 ],
 "metadata": {
  "kernelspec": {
   "display_name": "myfirstenv",
   "language": "python",
   "name": "myfirstenv"
  },
  "language_info": {
   "codemirror_mode": {
    "name": "ipython",
    "version": 3
   },
   "file_extension": ".py",
   "mimetype": "text/x-python",
   "name": "python",
   "nbconvert_exporter": "python",
   "pygments_lexer": "ipython3",
   "version": "3.10.0"
  }
 },
 "nbformat": 4,
 "nbformat_minor": 5
}
