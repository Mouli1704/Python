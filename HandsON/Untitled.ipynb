{
 "cells": [
  {
   "cell_type": "code",
   "execution_count": 1,
   "id": "aa25c878",
   "metadata": {},
   "outputs": [],
   "source": [
    "a = range(4)"
   ]
  },
  {
   "cell_type": "code",
   "execution_count": 66,
   "id": "d26b2281",
   "metadata": {},
   "outputs": [
    {
     "name": "stdout",
     "output_type": "stream",
     "text": [
      "3.10.9 | packaged by Anaconda, Inc. | (main, Mar  1 2023, 18:18:15) [MSC v.1916 64 bit (AMD64)]\n"
     ]
    }
   ],
   "source": [
    "import sys\n",
    "print(sys.version)"
   ]
  },
  {
   "cell_type": "code",
   "execution_count": 2,
   "id": "d12fd0d1",
   "metadata": {},
   "outputs": [
    {
     "data": {
      "text/plain": [
       "range(0, 4)"
      ]
     },
     "execution_count": 2,
     "metadata": {},
     "output_type": "execute_result"
    }
   ],
   "source": [
    "a"
   ]
  },
  {
   "cell_type": "code",
   "execution_count": 3,
   "id": "24a5b6e9",
   "metadata": {},
   "outputs": [],
   "source": [
    "a = (1,2,3,4)"
   ]
  },
  {
   "cell_type": "code",
   "execution_count": 4,
   "id": "a2851313",
   "metadata": {},
   "outputs": [
    {
     "data": {
      "text/plain": [
       "2"
      ]
     },
     "execution_count": 4,
     "metadata": {},
     "output_type": "execute_result"
    }
   ],
   "source": [
    "a[1]"
   ]
  },
  {
   "cell_type": "code",
   "execution_count": 1,
   "id": "b9289a83",
   "metadata": {},
   "outputs": [],
   "source": [
    "def factor(n):\n",
    "    \n",
    "    factorial = 1\n",
    "    \n",
    "    for i in range(1,n+1):\n",
    "        factorial = factorial*i\n",
    "        \n",
    "    return factorial\n",
    "    "
   ]
  },
  {
   "cell_type": "code",
   "execution_count": 7,
   "id": "2362762c",
   "metadata": {
    "scrolled": true
   },
   "outputs": [
    {
     "data": {
      "text/plain": [
       "1"
      ]
     },
     "execution_count": 7,
     "metadata": {},
     "output_type": "execute_result"
    }
   ],
   "source": [
    "factor(0)"
   ]
  },
  {
   "cell_type": "code",
   "execution_count": 8,
   "id": "90dc3857",
   "metadata": {},
   "outputs": [
    {
     "data": {
      "text/plain": [
       "1"
      ]
     },
     "execution_count": 8,
     "metadata": {},
     "output_type": "execute_result"
    }
   ],
   "source": [
    "factor(1)"
   ]
  },
  {
   "cell_type": "code",
   "execution_count": 4,
   "id": "69066588",
   "metadata": {},
   "outputs": [
    {
     "data": {
      "text/plain": [
       "40320"
      ]
     },
     "execution_count": 4,
     "metadata": {},
     "output_type": "execute_result"
    }
   ],
   "source": [
    "factor(8)"
   ]
  },
  {
   "cell_type": "code",
   "execution_count": 29,
   "id": "218ae9cb",
   "metadata": {},
   "outputs": [],
   "source": [
    "def check_string():\n",
    "    n= input(\"Enter anything: \")\n",
    "    for i in n:\n",
    "        if i == 's':\n",
    "            return \"The string is containing the letter 's'\"\n",
    "        else:\n",
    "            pass\n",
    "        \n",
    "    print(\"The string doesn't contain the letter 's'\")\n",
    "        \n",
    "    "
   ]
  },
  {
   "cell_type": "code",
   "execution_count": 30,
   "id": "3c828336",
   "metadata": {},
   "outputs": [
    {
     "name": "stdout",
     "output_type": "stream",
     "text": [
      "Enter anything: vamsi\n"
     ]
    },
    {
     "data": {
      "text/plain": [
       "\"The string is containing the letter 's'\""
      ]
     },
     "execution_count": 30,
     "metadata": {},
     "output_type": "execute_result"
    }
   ],
   "source": [
    "check_string()"
   ]
  },
  {
   "cell_type": "code",
   "execution_count": 57,
   "id": "38d02b59",
   "metadata": {},
   "outputs": [],
   "source": [
    "## Need to complete the fun1 method and message()"
   ]
  },
  {
   "cell_type": "code",
   "execution_count": 65,
   "id": "f91d4ba4",
   "metadata": {},
   "outputs": [
    {
     "name": "stdout",
     "output_type": "stream",
     "text": [
      "Enter anything: MOULI\n",
      "not a palindrome\n"
     ]
    }
   ],
   "source": [
    "n = input(\"Enter anything: \")\n",
    "\n",
    "if n == n[::-1]:\n",
    "    print(\"It is a palindrome\")\n",
    "else:\n",
    "    print(\"not a palindrome\")"
   ]
  },
  {
   "cell_type": "code",
   "execution_count": null,
   "id": "327e62c1",
   "metadata": {},
   "outputs": [],
   "source": []
  }
 ],
 "metadata": {
  "kernelspec": {
   "display_name": "Python 3 (ipykernel)",
   "language": "python",
   "name": "python3"
  },
  "language_info": {
   "codemirror_mode": {
    "name": "ipython",
    "version": 3
   },
   "file_extension": ".py",
   "mimetype": "text/x-python",
   "name": "python",
   "nbconvert_exporter": "python",
   "pygments_lexer": "ipython3",
   "version": "3.10.9"
  }
 },
 "nbformat": 4,
 "nbformat_minor": 5
}
