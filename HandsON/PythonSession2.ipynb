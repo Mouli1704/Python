{
 "cells": [
  {
   "cell_type": "markdown",
   "id": "69d3671a",
   "metadata": {},
   "source": [
    "# Python Data Structures"
   ]
  },
  {
   "cell_type": "markdown",
   "id": "50cc6393",
   "metadata": {},
   "source": [
    "1. Strings\n",
    "2. Lists\n",
    "3. Tuples\n",
    "4. Dictionaries\n",
    "5. Sets"
   ]
  },
  {
   "cell_type": "markdown",
   "id": "5a9020c6",
   "metadata": {},
   "source": [
    "## Lists"
   ]
  },
  {
   "cell_type": "code",
   "execution_count": 1,
   "id": "952ee1b9",
   "metadata": {},
   "outputs": [],
   "source": [
    "names = [\"Himanshu\", \"Vipin\", \"Shubham\", \"Tiwin\"]"
   ]
  },
  {
   "cell_type": "code",
   "execution_count": 2,
   "id": "123762b1",
   "metadata": {},
   "outputs": [
    {
     "data": {
      "text/plain": [
       "list"
      ]
     },
     "execution_count": 2,
     "metadata": {},
     "output_type": "execute_result"
    }
   ],
   "source": [
    "type(names)"
   ]
  },
  {
   "cell_type": "code",
   "execution_count": 7,
   "id": "74668cb1",
   "metadata": {},
   "outputs": [
    {
     "data": {
      "text/plain": [
       "list"
      ]
     },
     "execution_count": 7,
     "metadata": {},
     "output_type": "execute_result"
    }
   ],
   "source": [
    "info = [\"Himanshu\", \"present\", 10, 3, 2024]\n",
    "type(info)"
   ]
  },
  {
   "cell_type": "code",
   "execution_count": 8,
   "id": "6c3fd258",
   "metadata": {},
   "outputs": [
    {
     "data": {
      "text/plain": [
       "list"
      ]
     },
     "execution_count": 8,
     "metadata": {},
     "output_type": "execute_result"
    }
   ],
   "source": [
    "info2 = [[\"Himanshu\", \"present\", 10, 3, 2024], [\"Vipin\", \"present\", 10, 3, 2024], [\"Shubham\", \"present\", 10, 3, 2024]]\n",
    "type(info2)"
   ]
  },
  {
   "cell_type": "code",
   "execution_count": 5,
   "id": "fe98af28",
   "metadata": {},
   "outputs": [
    {
     "name": "stdout",
     "output_type": "stream",
     "text": [
      "['Himanshu', 'present', 10, 3, 2024]\n"
     ]
    }
   ],
   "source": [
    "print(info)"
   ]
  },
  {
   "cell_type": "code",
   "execution_count": 6,
   "id": "91dcdb31",
   "metadata": {},
   "outputs": [
    {
     "name": "stdout",
     "output_type": "stream",
     "text": [
      "[['Himanshu', 'present', 10, 3, 2024], ['Vipin', 'present', 10, 3, 2024], ['Shubham', 'present', 10, 3, 2024]]\n"
     ]
    }
   ],
   "source": [
    "print(info2)"
   ]
  },
  {
   "cell_type": "code",
   "execution_count": 9,
   "id": "7329aeeb",
   "metadata": {},
   "outputs": [],
   "source": [
    "info3 = [info]"
   ]
  },
  {
   "cell_type": "code",
   "execution_count": 10,
   "id": "0b730ec9",
   "metadata": {},
   "outputs": [
    {
     "data": {
      "text/plain": [
       "[['Himanshu', 'present', 10, 3, 2024]]"
      ]
     },
     "execution_count": 10,
     "metadata": {},
     "output_type": "execute_result"
    }
   ],
   "source": [
    "info3"
   ]
  },
  {
   "cell_type": "code",
   "execution_count": 11,
   "id": "aab4a758",
   "metadata": {},
   "outputs": [],
   "source": [
    "info4 = [[\"Himanshu\", \"present\", 10, 3, 2024], [\"Vipin\", \"present\", 10, 3], [\"Shubham\", \"present\", 10]]"
   ]
  },
  {
   "cell_type": "code",
   "execution_count": 12,
   "id": "0bb934dd",
   "metadata": {},
   "outputs": [
    {
     "name": "stdout",
     "output_type": "stream",
     "text": [
      "[['Himanshu', 'present', 10, 3, 2024], ['Vipin', 'present', 10, 3], ['Shubham', 'present', 10]]\n"
     ]
    }
   ],
   "source": [
    "print(info4)"
   ]
  },
  {
   "cell_type": "markdown",
   "id": "b0d4bd5d",
   "metadata": {},
   "source": [
    "### Indexing"
   ]
  },
  {
   "cell_type": "code",
   "execution_count": 18,
   "id": "c967038b",
   "metadata": {},
   "outputs": [
    {
     "data": {
      "text/plain": [
       "list"
      ]
     },
     "execution_count": 18,
     "metadata": {},
     "output_type": "execute_result"
    }
   ],
   "source": [
    "info = [\"Himanshu\", \"present\", 10, 3, 2024]\n",
    "type(info)"
   ]
  },
  {
   "cell_type": "code",
   "execution_count": 19,
   "id": "847a03f4",
   "metadata": {},
   "outputs": [
    {
     "data": {
      "text/plain": [
       "str"
      ]
     },
     "execution_count": 19,
     "metadata": {},
     "output_type": "execute_result"
    }
   ],
   "source": [
    "info[0]\n",
    "type(info[0])"
   ]
  },
  {
   "cell_type": "code",
   "execution_count": 15,
   "id": "c74fd758",
   "metadata": {},
   "outputs": [
    {
     "data": {
      "text/plain": [
       "'present'"
      ]
     },
     "execution_count": 15,
     "metadata": {},
     "output_type": "execute_result"
    }
   ],
   "source": [
    "info[1]"
   ]
  },
  {
   "cell_type": "code",
   "execution_count": 20,
   "id": "dfa735ba",
   "metadata": {},
   "outputs": [
    {
     "data": {
      "text/plain": [
       "int"
      ]
     },
     "execution_count": 20,
     "metadata": {},
     "output_type": "execute_result"
    }
   ],
   "source": [
    "info[4]\n",
    "type(info[4])"
   ]
  },
  {
   "cell_type": "code",
   "execution_count": 17,
   "id": "8ad1068e",
   "metadata": {},
   "outputs": [
    {
     "ename": "IndexError",
     "evalue": "list index out of range",
     "output_type": "error",
     "traceback": [
      "\u001b[1;31m---------------------------------------------------------------------------\u001b[0m",
      "\u001b[1;31mIndexError\u001b[0m                                Traceback (most recent call last)",
      "\u001b[1;32m~\\AppData\\Local\\Temp/ipykernel_23052/869729542.py\u001b[0m in \u001b[0;36m<module>\u001b[1;34m\u001b[0m\n\u001b[1;32m----> 1\u001b[1;33m \u001b[0minfo\u001b[0m\u001b[1;33m[\u001b[0m\u001b[1;36m5\u001b[0m\u001b[1;33m]\u001b[0m\u001b[1;33m\u001b[0m\u001b[1;33m\u001b[0m\u001b[0m\n\u001b[0m",
      "\u001b[1;31mIndexError\u001b[0m: list index out of range"
     ]
    }
   ],
   "source": [
    "info[5]"
   ]
  },
  {
   "cell_type": "code",
   "execution_count": 24,
   "id": "890e7615",
   "metadata": {},
   "outputs": [
    {
     "data": {
      "text/plain": [
       "'Vipin'"
      ]
     },
     "execution_count": 24,
     "metadata": {},
     "output_type": "execute_result"
    }
   ],
   "source": [
    "info4 = [[\"Himanshu\", \"present\", 10, 3, 2024], [\"Vipin\", \"present\", 10, 3], [\"Shubham\", \"present\", 10]]\n",
    "info4[1][0]"
   ]
  },
  {
   "cell_type": "code",
   "execution_count": 23,
   "id": "59b4b73a",
   "metadata": {},
   "outputs": [
    {
     "name": "stdout",
     "output_type": "stream",
     "text": [
      "['Himanshu', 'present', 10, 3, 2024]\n",
      "Himanshu\n"
     ]
    }
   ],
   "source": [
    "a = info4[0]\n",
    "print(a)\n",
    "b = a[0]\n",
    "print(b)"
   ]
  },
  {
   "cell_type": "code",
   "execution_count": 25,
   "id": "e27bebf1",
   "metadata": {},
   "outputs": [
    {
     "data": {
      "text/plain": [
       "5"
      ]
     },
     "execution_count": 25,
     "metadata": {},
     "output_type": "execute_result"
    }
   ],
   "source": [
    "len(info)"
   ]
  },
  {
   "cell_type": "code",
   "execution_count": 27,
   "id": "abbb19ef",
   "metadata": {},
   "outputs": [
    {
     "data": {
      "text/plain": [
       "3"
      ]
     },
     "execution_count": 27,
     "metadata": {},
     "output_type": "execute_result"
    }
   ],
   "source": [
    "len(info2)"
   ]
  },
  {
   "cell_type": "code",
   "execution_count": 31,
   "id": "967be296",
   "metadata": {},
   "outputs": [
    {
     "data": {
      "text/plain": [
       "3"
      ]
     },
     "execution_count": 31,
     "metadata": {},
     "output_type": "execute_result"
    }
   ],
   "source": [
    "len(info4)"
   ]
  },
  {
   "cell_type": "markdown",
   "id": "3b051380",
   "metadata": {},
   "source": [
    "Whatever is the length of the list, upper limit of index will be len() - 1"
   ]
  },
  {
   "cell_type": "markdown",
   "id": "e80de60b",
   "metadata": {},
   "source": [
    "Index always starts with 0"
   ]
  },
  {
   "cell_type": "markdown",
   "id": "9a7c5de7",
   "metadata": {},
   "source": [
    "### List Methods"
   ]
  },
  {
   "cell_type": "code",
   "execution_count": 32,
   "id": "1a5631d1",
   "metadata": {},
   "outputs": [],
   "source": [
    "names = [\"Himanshu\", \"Vipin\", \"Shubham\", \"Tiwin\"]"
   ]
  },
  {
   "cell_type": "code",
   "execution_count": 33,
   "id": "12e84cea",
   "metadata": {},
   "outputs": [],
   "source": [
    "names.append(\"Khushbu\")"
   ]
  },
  {
   "cell_type": "code",
   "execution_count": 34,
   "id": "214cc3bc",
   "metadata": {},
   "outputs": [
    {
     "data": {
      "text/plain": [
       "['Himanshu', 'Vipin', 'Shubham', 'Tiwin', 'Khushbu']"
      ]
     },
     "execution_count": 34,
     "metadata": {},
     "output_type": "execute_result"
    }
   ],
   "source": [
    "names"
   ]
  },
  {
   "cell_type": "code",
   "execution_count": 35,
   "id": "0da2583a",
   "metadata": {},
   "outputs": [
    {
     "data": {
      "text/plain": [
       "2"
      ]
     },
     "execution_count": 35,
     "metadata": {},
     "output_type": "execute_result"
    }
   ],
   "source": [
    "names.index('Shubham')"
   ]
  },
  {
   "cell_type": "code",
   "execution_count": 36,
   "id": "6821fed6",
   "metadata": {},
   "outputs": [],
   "source": [
    "names.insert(2, \"Rahul\")"
   ]
  },
  {
   "cell_type": "code",
   "execution_count": 37,
   "id": "baddad79",
   "metadata": {},
   "outputs": [
    {
     "data": {
      "text/plain": [
       "['Himanshu', 'Vipin', 'Rahul', 'Shubham', 'Tiwin', 'Khushbu']"
      ]
     },
     "execution_count": 37,
     "metadata": {},
     "output_type": "execute_result"
    }
   ],
   "source": [
    "names"
   ]
  },
  {
   "cell_type": "code",
   "execution_count": 38,
   "id": "4c6df45b",
   "metadata": {},
   "outputs": [],
   "source": [
    "names.append(\"Himanshu\")"
   ]
  },
  {
   "cell_type": "code",
   "execution_count": 39,
   "id": "5b79e20f",
   "metadata": {},
   "outputs": [
    {
     "data": {
      "text/plain": [
       "['Himanshu', 'Vipin', 'Rahul', 'Shubham', 'Tiwin', 'Khushbu', 'Himanshu']"
      ]
     },
     "execution_count": 39,
     "metadata": {},
     "output_type": "execute_result"
    }
   ],
   "source": [
    "names"
   ]
  },
  {
   "cell_type": "code",
   "execution_count": 40,
   "id": "69802cc8",
   "metadata": {},
   "outputs": [
    {
     "data": {
      "text/plain": [
       "0"
      ]
     },
     "execution_count": 40,
     "metadata": {},
     "output_type": "execute_result"
    }
   ],
   "source": [
    "names.index('Himanshu')"
   ]
  },
  {
   "cell_type": "code",
   "execution_count": 41,
   "id": "95b34a38",
   "metadata": {},
   "outputs": [],
   "source": [
    "#Gives Ascending order\n",
    "names.sort()"
   ]
  },
  {
   "cell_type": "code",
   "execution_count": 42,
   "id": "3fe39c96",
   "metadata": {},
   "outputs": [
    {
     "data": {
      "text/plain": [
       "['Himanshu', 'Himanshu', 'Khushbu', 'Rahul', 'Shubham', 'Tiwin', 'Vipin']"
      ]
     },
     "execution_count": 42,
     "metadata": {},
     "output_type": "execute_result"
    }
   ],
   "source": [
    "names"
   ]
  },
  {
   "cell_type": "code",
   "execution_count": 43,
   "id": "404c4071",
   "metadata": {},
   "outputs": [],
   "source": [
    "#For Descending order, first sort in ascending and then reverse\n",
    "names.reverse()"
   ]
  },
  {
   "cell_type": "code",
   "execution_count": 44,
   "id": "f5362e6e",
   "metadata": {},
   "outputs": [
    {
     "data": {
      "text/plain": [
       "['Vipin', 'Tiwin', 'Shubham', 'Rahul', 'Khushbu', 'Himanshu', 'Himanshu']"
      ]
     },
     "execution_count": 44,
     "metadata": {},
     "output_type": "execute_result"
    }
   ],
   "source": [
    "names"
   ]
  },
  {
   "cell_type": "code",
   "execution_count": 45,
   "id": "00010847",
   "metadata": {},
   "outputs": [],
   "source": [
    "x = [1, 9, 2, 8, 3, 7]"
   ]
  },
  {
   "cell_type": "code",
   "execution_count": 46,
   "id": "be05d1b8",
   "metadata": {},
   "outputs": [],
   "source": [
    "x.sort()"
   ]
  },
  {
   "cell_type": "code",
   "execution_count": 47,
   "id": "08cd25e9",
   "metadata": {},
   "outputs": [
    {
     "data": {
      "text/plain": [
       "[1, 2, 3, 7, 8, 9]"
      ]
     },
     "execution_count": 47,
     "metadata": {},
     "output_type": "execute_result"
    }
   ],
   "source": [
    "x"
   ]
  },
  {
   "cell_type": "code",
   "execution_count": 48,
   "id": "0233e2fc",
   "metadata": {},
   "outputs": [],
   "source": [
    "x.reverse()"
   ]
  },
  {
   "cell_type": "code",
   "execution_count": 49,
   "id": "ac5ecbfa",
   "metadata": {},
   "outputs": [
    {
     "data": {
      "text/plain": [
       "[9, 8, 7, 3, 2, 1]"
      ]
     },
     "execution_count": 49,
     "metadata": {},
     "output_type": "execute_result"
    }
   ],
   "source": [
    "x"
   ]
  },
  {
   "cell_type": "code",
   "execution_count": 50,
   "id": "8a2ac17e",
   "metadata": {},
   "outputs": [],
   "source": [
    "info = [\"Himanshu\", \"present\", 10, 3, 2024]"
   ]
  },
  {
   "cell_type": "code",
   "execution_count": 51,
   "id": "1b28ef4d",
   "metadata": {},
   "outputs": [
    {
     "ename": "TypeError",
     "evalue": "'<' not supported between instances of 'int' and 'str'",
     "output_type": "error",
     "traceback": [
      "\u001b[1;31m---------------------------------------------------------------------------\u001b[0m",
      "\u001b[1;31mTypeError\u001b[0m                                 Traceback (most recent call last)",
      "\u001b[1;32m~\\AppData\\Local\\Temp/ipykernel_23052/1862202059.py\u001b[0m in \u001b[0;36m<module>\u001b[1;34m\u001b[0m\n\u001b[1;32m----> 1\u001b[1;33m \u001b[0minfo\u001b[0m\u001b[1;33m.\u001b[0m\u001b[0msort\u001b[0m\u001b[1;33m(\u001b[0m\u001b[1;33m)\u001b[0m\u001b[1;33m\u001b[0m\u001b[1;33m\u001b[0m\u001b[0m\n\u001b[0m",
      "\u001b[1;31mTypeError\u001b[0m: '<' not supported between instances of 'int' and 'str'"
     ]
    }
   ],
   "source": [
    "info.sort()"
   ]
  },
  {
   "cell_type": "code",
   "execution_count": 73,
   "id": "c3fc762b",
   "metadata": {},
   "outputs": [],
   "source": [
    "a = [\"Sachin\", \"Saurav\", \"Rahul\"]\n",
    "b = [\"Virat\", \"Rohit\", \"Bumrah\"]"
   ]
  },
  {
   "cell_type": "code",
   "execution_count": 57,
   "id": "7d2e5d24",
   "metadata": {},
   "outputs": [],
   "source": [
    "a.extend(b)"
   ]
  },
  {
   "cell_type": "code",
   "execution_count": 58,
   "id": "1a8717b5",
   "metadata": {},
   "outputs": [
    {
     "data": {
      "text/plain": [
       "['Sachin', 'Saurav', 'Rahul', 'Virat', 'Rohit', 'Bumrah']"
      ]
     },
     "execution_count": 58,
     "metadata": {},
     "output_type": "execute_result"
    }
   ],
   "source": [
    "a"
   ]
  },
  {
   "cell_type": "code",
   "execution_count": 60,
   "id": "064643f7",
   "metadata": {},
   "outputs": [],
   "source": [
    "covid_vaccination = [\"Sachin\", \"Saurav\", \"Rahul\", \"Virat\", \"Rohit\", \"Bumrah\"]"
   ]
  },
  {
   "cell_type": "code",
   "execution_count": 70,
   "id": "3c8036b3",
   "metadata": {},
   "outputs": [
    {
     "data": {
      "text/plain": [
       "[]"
      ]
     },
     "execution_count": 70,
     "metadata": {},
     "output_type": "execute_result"
    }
   ],
   "source": [
    "covid_vaccination"
   ]
  },
  {
   "cell_type": "code",
   "execution_count": 69,
   "id": "1c3e07ba",
   "metadata": {},
   "outputs": [
    {
     "ename": "IndexError",
     "evalue": "pop from empty list",
     "output_type": "error",
     "traceback": [
      "\u001b[1;31m---------------------------------------------------------------------------\u001b[0m",
      "\u001b[1;31mIndexError\u001b[0m                                Traceback (most recent call last)",
      "\u001b[1;32m~\\AppData\\Local\\Temp/ipykernel_23052/1239928205.py\u001b[0m in \u001b[0;36m<module>\u001b[1;34m\u001b[0m\n\u001b[1;32m----> 1\u001b[1;33m \u001b[0mcovid_vaccination\u001b[0m\u001b[1;33m.\u001b[0m\u001b[0mpop\u001b[0m\u001b[1;33m(\u001b[0m\u001b[1;33m)\u001b[0m\u001b[1;33m\u001b[0m\u001b[1;33m\u001b[0m\u001b[0m\n\u001b[0m",
      "\u001b[1;31mIndexError\u001b[0m: pop from empty list"
     ]
    }
   ],
   "source": [
    "covid_vaccination.pop()"
   ]
  },
  {
   "cell_type": "markdown",
   "id": "070a2f5c",
   "metadata": {},
   "source": [
    "Pop is a LIFO (Last in First Out) operation"
   ]
  },
  {
   "cell_type": "code",
   "execution_count": 71,
   "id": "84fa9e33",
   "metadata": {},
   "outputs": [
    {
     "data": {
      "text/plain": [
       "['Sachin', 'Saurav', 'Rahul']"
      ]
     },
     "execution_count": 71,
     "metadata": {},
     "output_type": "execute_result"
    }
   ],
   "source": [
    "a = [\"Sachin\", \"Saurav\"]\n",
    "a.append(\"Rahul\")\n",
    "a"
   ]
  },
  {
   "cell_type": "code",
   "execution_count": 72,
   "id": "1e4aeb61",
   "metadata": {},
   "outputs": [
    {
     "data": {
      "text/plain": [
       "'Rahul'"
      ]
     },
     "execution_count": 72,
     "metadata": {},
     "output_type": "execute_result"
    }
   ],
   "source": [
    "a.pop()"
   ]
  },
  {
   "cell_type": "code",
   "execution_count": 77,
   "id": "955df094",
   "metadata": {},
   "outputs": [],
   "source": [
    "b = [\"Virat\", \"Rohit\", \"Bumrah\", \"Rohit\"]"
   ]
  },
  {
   "cell_type": "code",
   "execution_count": 78,
   "id": "deb438d8",
   "metadata": {},
   "outputs": [],
   "source": [
    "b.remove(\"Rohit\")"
   ]
  },
  {
   "cell_type": "code",
   "execution_count": 81,
   "id": "8c7e10f1",
   "metadata": {},
   "outputs": [
    {
     "data": {
      "text/plain": [
       "['Bumrah', 'Rohit']"
      ]
     },
     "execution_count": 81,
     "metadata": {},
     "output_type": "execute_result"
    }
   ],
   "source": [
    "b"
   ]
  },
  {
   "cell_type": "code",
   "execution_count": 80,
   "id": "ba0012df",
   "metadata": {},
   "outputs": [
    {
     "data": {
      "text/plain": [
       "'Virat'"
      ]
     },
     "execution_count": 80,
     "metadata": {},
     "output_type": "execute_result"
    }
   ],
   "source": [
    "b.pop(0)"
   ]
  },
  {
   "cell_type": "code",
   "execution_count": 82,
   "id": "27a5601c",
   "metadata": {},
   "outputs": [],
   "source": [
    "b[0] = \"Virat\""
   ]
  },
  {
   "cell_type": "code",
   "execution_count": 83,
   "id": "493b6593",
   "metadata": {},
   "outputs": [
    {
     "data": {
      "text/plain": [
       "['Virat', 'Rohit']"
      ]
     },
     "execution_count": 83,
     "metadata": {},
     "output_type": "execute_result"
    }
   ],
   "source": [
    "b"
   ]
  },
  {
   "cell_type": "markdown",
   "id": "9c458502",
   "metadata": {},
   "source": [
    "# Mutablitity"
   ]
  },
  {
   "cell_type": "markdown",
   "id": "a95655be",
   "metadata": {},
   "source": [
    "Lists are Mutable (It can be changed, modified, deleted, etc.)"
   ]
  },
  {
   "cell_type": "code",
   "execution_count": 52,
   "id": "7d3479ab",
   "metadata": {},
   "outputs": [],
   "source": [
    "p = [\"Himanshu\", \"present\", \"10\", \"3\", \"2024\"]"
   ]
  },
  {
   "cell_type": "code",
   "execution_count": 53,
   "id": "405ff584",
   "metadata": {},
   "outputs": [],
   "source": [
    "p.sort()"
   ]
  },
  {
   "cell_type": "code",
   "execution_count": 54,
   "id": "23a12720",
   "metadata": {},
   "outputs": [
    {
     "data": {
      "text/plain": [
       "['10', '2024', '3', 'Himanshu', 'present']"
      ]
     },
     "execution_count": 54,
     "metadata": {},
     "output_type": "execute_result"
    }
   ],
   "source": [
    "p"
   ]
  },
  {
   "cell_type": "code",
   "execution_count": 55,
   "id": "ea88fdfe",
   "metadata": {},
   "outputs": [],
   "source": [
    "temp = [(1, 2, 3)]"
   ]
  },
  {
   "cell_type": "markdown",
   "id": "ca1b0f11",
   "metadata": {},
   "source": [
    "# List Comprehension"
   ]
  },
  {
   "cell_type": "code",
   "execution_count": 84,
   "id": "475bf619",
   "metadata": {},
   "outputs": [],
   "source": [
    "names = [\"Himanshu\", \"Vipin\", \"Shubham\", \"Tiwin\"]"
   ]
  },
  {
   "cell_type": "code",
   "execution_count": 88,
   "id": "43029bd7",
   "metadata": {},
   "outputs": [
    {
     "name": "stdout",
     "output_type": "stream",
     "text": [
      "0\n",
      "1\n",
      "2\n",
      "3\n"
     ]
    }
   ],
   "source": [
    "#Iteration\n",
    "#Going inside the list sequnetially\n",
    "\n",
    "for i in [0,1,2,3]:\n",
    "    print(i)"
   ]
  },
  {
   "cell_type": "code",
   "execution_count": 85,
   "id": "88faac10",
   "metadata": {},
   "outputs": [
    {
     "name": "stdout",
     "output_type": "stream",
     "text": [
      "0\n",
      "1\n",
      "2\n",
      "3\n"
     ]
    }
   ],
   "source": [
    "for i in range(len(names)):\n",
    "    print(i)"
   ]
  },
  {
   "cell_type": "code",
   "execution_count": 86,
   "id": "21366fb1",
   "metadata": {},
   "outputs": [
    {
     "data": {
      "text/plain": [
       "range(0, 4)"
      ]
     },
     "execution_count": 86,
     "metadata": {},
     "output_type": "execute_result"
    }
   ],
   "source": [
    "range(4)"
   ]
  },
  {
   "cell_type": "code",
   "execution_count": 87,
   "id": "bd90989e",
   "metadata": {},
   "outputs": [
    {
     "data": {
      "text/plain": [
       "range(1, 5)"
      ]
     },
     "execution_count": 87,
     "metadata": {},
     "output_type": "execute_result"
    }
   ],
   "source": [
    "range(1,5)"
   ]
  },
  {
   "cell_type": "code",
   "execution_count": 93,
   "id": "c8323882",
   "metadata": {},
   "outputs": [
    {
     "name": "stdout",
     "output_type": "stream",
     "text": [
      "Himanshu\n",
      "The Loop Is Over\n",
      "Vipin\n",
      "The Loop Is Over\n",
      "Shubham\n",
      "The Loop Is Over\n",
      "Tiwin\n",
      "The Loop Is Over\n"
     ]
    }
   ],
   "source": [
    "#Any lines that are inside a loop should be either 4 spaces apart or 1 tab apart\n",
    "#This is called as indentation\n",
    "\n",
    "for i in range(len(names)):\n",
    "    print(names[i])\n",
    "    print(\"The Loop Is Over\")"
   ]
  },
  {
   "cell_type": "code",
   "execution_count": 91,
   "id": "3506b375",
   "metadata": {},
   "outputs": [
    {
     "name": "stdout",
     "output_type": "stream",
     "text": [
      "Himanshu\n",
      "Vipin\n",
      "Shubham\n",
      "Tiwin\n"
     ]
    }
   ],
   "source": [
    "names = [\"Himanshu\", \"Vipin\", \"Shubham\", \"Tiwin\"]\n",
    "for name in names:\n",
    "    print(name)"
   ]
  },
  {
   "cell_type": "code",
   "execution_count": 101,
   "id": "725b7804",
   "metadata": {},
   "outputs": [
    {
     "name": "stdout",
     "output_type": "stream",
     "text": [
      "8\n",
      "[0, 1, 0, 1, 0, 1, 0, 1]\n"
     ]
    }
   ],
   "source": [
    "l = []\n",
    "for i in range(len(names)):\n",
    "    for j in [0,1]:\n",
    "        l.append(j)\n",
    "print(len(l))\n",
    "print(l)"
   ]
  },
  {
   "cell_type": "code",
   "execution_count": 98,
   "id": "7986ca68",
   "metadata": {},
   "outputs": [
    {
     "name": "stdout",
     "output_type": "stream",
     "text": [
      "Is Himanshu present or absent? present\n",
      "Is Vipin present or absent? absent\n",
      "Is Shubham present or absent? present\n",
      "Is Tiwin present or absent? absent\n",
      "['present', 'absent', 'present', 'absent']\n"
     ]
    }
   ],
   "source": [
    "attendance = []\n",
    "for i in range(len(names)):\n",
    "    status = input(f\"Is {names[i]} present or absent? \")\n",
    "    attendance.append(status)\n",
    "    \n",
    "print(attendance)"
   ]
  },
  {
   "cell_type": "code",
   "execution_count": 99,
   "id": "c3f6697c",
   "metadata": {},
   "outputs": [
    {
     "name": "stdout",
     "output_type": "stream",
     "text": [
      "Is Himanshu present or absent? p\n",
      "Is Vipin present or absent? a\n",
      "Is Shubham present or absent? p\n",
      "Is Tiwin present or absent? a\n",
      "['p', 'a', 'p', 'a']\n"
     ]
    }
   ],
   "source": [
    "attendance = []\n",
    "for name in names:\n",
    "    status = input(f\"Is {name} present or absent? \")\n",
    "    attendance.append(status)\n",
    "    \n",
    "print(attendance)"
   ]
  },
  {
   "cell_type": "markdown",
   "id": "167d126f",
   "metadata": {},
   "source": [
    "# Tuples"
   ]
  },
  {
   "cell_type": "markdown",
   "id": "c9b22c49",
   "metadata": {},
   "source": [
    "Tuples are strictly immutable"
   ]
  },
  {
   "cell_type": "code",
   "execution_count": 121,
   "id": "d726387b",
   "metadata": {},
   "outputs": [],
   "source": [
    "names = [\"Himanshu\", \"Vipin\", \"Shubham\", \"Tiwin\"]\n",
    "attendance = [\"present\", \"absent\", \"present\", \"absent\"]"
   ]
  },
  {
   "cell_type": "code",
   "execution_count": 103,
   "id": "4c4ce10f",
   "metadata": {},
   "outputs": [],
   "source": [
    "attendance = (\"present\", \"absent\", \"present\", \"absent\")"
   ]
  },
  {
   "cell_type": "code",
   "execution_count": 119,
   "id": "f495e32e",
   "metadata": {},
   "outputs": [],
   "source": [
    "del attendance"
   ]
  },
  {
   "cell_type": "code",
   "execution_count": 120,
   "id": "1718a019",
   "metadata": {},
   "outputs": [
    {
     "ename": "NameError",
     "evalue": "name 'attendance' is not defined",
     "output_type": "error",
     "traceback": [
      "\u001b[1;31m---------------------------------------------------------------------------\u001b[0m",
      "\u001b[1;31mNameError\u001b[0m                                 Traceback (most recent call last)",
      "\u001b[1;32m~\\AppData\\Local\\Temp/ipykernel_23052/2542521084.py\u001b[0m in \u001b[0;36m<module>\u001b[1;34m\u001b[0m\n\u001b[1;32m----> 1\u001b[1;33m \u001b[0mprint\u001b[0m\u001b[1;33m(\u001b[0m\u001b[0mattendance\u001b[0m\u001b[1;33m)\u001b[0m\u001b[1;33m\u001b[0m\u001b[1;33m\u001b[0m\u001b[0m\n\u001b[0m",
      "\u001b[1;31mNameError\u001b[0m: name 'attendance' is not defined"
     ]
    }
   ],
   "source": [
    "print(attendance)"
   ]
  },
  {
   "cell_type": "code",
   "execution_count": 104,
   "id": "901cd4c1",
   "metadata": {},
   "outputs": [
    {
     "data": {
      "text/plain": [
       "tuple"
      ]
     },
     "execution_count": 104,
     "metadata": {},
     "output_type": "execute_result"
    }
   ],
   "source": [
    "type(attendance)"
   ]
  },
  {
   "cell_type": "code",
   "execution_count": 105,
   "id": "ea42f2a4",
   "metadata": {},
   "outputs": [
    {
     "ename": "AttributeError",
     "evalue": "'tuple' object has no attribute 'append'",
     "output_type": "error",
     "traceback": [
      "\u001b[1;31m---------------------------------------------------------------------------\u001b[0m",
      "\u001b[1;31mAttributeError\u001b[0m                            Traceback (most recent call last)",
      "\u001b[1;32m~\\AppData\\Local\\Temp/ipykernel_23052/6937391.py\u001b[0m in \u001b[0;36m<module>\u001b[1;34m\u001b[0m\n\u001b[1;32m----> 1\u001b[1;33m \u001b[0mattendance\u001b[0m\u001b[1;33m.\u001b[0m\u001b[0mappend\u001b[0m\u001b[1;33m(\u001b[0m\u001b[1;34m\"present\"\u001b[0m\u001b[1;33m)\u001b[0m\u001b[1;33m\u001b[0m\u001b[1;33m\u001b[0m\u001b[0m\n\u001b[0m",
      "\u001b[1;31mAttributeError\u001b[0m: 'tuple' object has no attribute 'append'"
     ]
    }
   ],
   "source": [
    "attendance.append(\"present\")"
   ]
  },
  {
   "cell_type": "code",
   "execution_count": 106,
   "id": "c6c8ca39",
   "metadata": {},
   "outputs": [
    {
     "ename": "AttributeError",
     "evalue": "'tuple' object has no attribute 'insert'",
     "output_type": "error",
     "traceback": [
      "\u001b[1;31m---------------------------------------------------------------------------\u001b[0m",
      "\u001b[1;31mAttributeError\u001b[0m                            Traceback (most recent call last)",
      "\u001b[1;32m~\\AppData\\Local\\Temp/ipykernel_23052/1743257011.py\u001b[0m in \u001b[0;36m<module>\u001b[1;34m\u001b[0m\n\u001b[1;32m----> 1\u001b[1;33m \u001b[0mattendance\u001b[0m\u001b[1;33m.\u001b[0m\u001b[0minsert\u001b[0m\u001b[1;33m(\u001b[0m\u001b[1;36m1\u001b[0m\u001b[1;33m,\u001b[0m \u001b[1;34m\"present\"\u001b[0m\u001b[1;33m)\u001b[0m\u001b[1;33m\u001b[0m\u001b[1;33m\u001b[0m\u001b[0m\n\u001b[0m",
      "\u001b[1;31mAttributeError\u001b[0m: 'tuple' object has no attribute 'insert'"
     ]
    }
   ],
   "source": [
    "attendance.insert(1, \"present\")"
   ]
  },
  {
   "cell_type": "code",
   "execution_count": 107,
   "id": "10e3b8e6",
   "metadata": {},
   "outputs": [
    {
     "ename": "AttributeError",
     "evalue": "'tuple' object has no attribute 'pop'",
     "output_type": "error",
     "traceback": [
      "\u001b[1;31m---------------------------------------------------------------------------\u001b[0m",
      "\u001b[1;31mAttributeError\u001b[0m                            Traceback (most recent call last)",
      "\u001b[1;32m~\\AppData\\Local\\Temp/ipykernel_23052/1312534793.py\u001b[0m in \u001b[0;36m<module>\u001b[1;34m\u001b[0m\n\u001b[1;32m----> 1\u001b[1;33m \u001b[0mattendance\u001b[0m\u001b[1;33m.\u001b[0m\u001b[0mpop\u001b[0m\u001b[1;33m(\u001b[0m\u001b[1;33m)\u001b[0m\u001b[1;33m\u001b[0m\u001b[1;33m\u001b[0m\u001b[0m\n\u001b[0m",
      "\u001b[1;31mAttributeError\u001b[0m: 'tuple' object has no attribute 'pop'"
     ]
    }
   ],
   "source": [
    "attendance.pop()"
   ]
  },
  {
   "cell_type": "code",
   "execution_count": 108,
   "id": "d0bdf13e",
   "metadata": {},
   "outputs": [
    {
     "ename": "AttributeError",
     "evalue": "'tuple' object has no attribute 'remove'",
     "output_type": "error",
     "traceback": [
      "\u001b[1;31m---------------------------------------------------------------------------\u001b[0m",
      "\u001b[1;31mAttributeError\u001b[0m                            Traceback (most recent call last)",
      "\u001b[1;32m~\\AppData\\Local\\Temp/ipykernel_23052/1622572814.py\u001b[0m in \u001b[0;36m<module>\u001b[1;34m\u001b[0m\n\u001b[1;32m----> 1\u001b[1;33m \u001b[0mattendance\u001b[0m\u001b[1;33m.\u001b[0m\u001b[0mremove\u001b[0m\u001b[1;33m(\u001b[0m\u001b[1;34m\"present\"\u001b[0m\u001b[1;33m)\u001b[0m\u001b[1;33m\u001b[0m\u001b[1;33m\u001b[0m\u001b[0m\n\u001b[0m",
      "\u001b[1;31mAttributeError\u001b[0m: 'tuple' object has no attribute 'remove'"
     ]
    }
   ],
   "source": [
    "attendance.remove(\"present\")"
   ]
  },
  {
   "cell_type": "code",
   "execution_count": 109,
   "id": "ec25078c",
   "metadata": {},
   "outputs": [
    {
     "data": {
      "text/plain": [
       "0"
      ]
     },
     "execution_count": 109,
     "metadata": {},
     "output_type": "execute_result"
    }
   ],
   "source": [
    "attendance.index(\"present\")"
   ]
  },
  {
   "cell_type": "code",
   "execution_count": 112,
   "id": "c3160474",
   "metadata": {},
   "outputs": [
    {
     "data": {
      "text/plain": [
       "50.0"
      ]
     },
     "execution_count": 112,
     "metadata": {},
     "output_type": "execute_result"
    }
   ],
   "source": [
    "(attendance.count(\"present\")/(attendance.count(\"present\")+attendance.count(\"absent\")))*100"
   ]
  },
  {
   "cell_type": "code",
   "execution_count": 111,
   "id": "6fed5c5f",
   "metadata": {},
   "outputs": [
    {
     "data": {
      "text/plain": [
       "2"
      ]
     },
     "execution_count": 111,
     "metadata": {},
     "output_type": "execute_result"
    }
   ],
   "source": [
    "attendance.count(\"absent\")"
   ]
  },
  {
   "cell_type": "code",
   "execution_count": 116,
   "id": "71514dd3",
   "metadata": {},
   "outputs": [],
   "source": [
    "attendance_list = [(\"Himasnhu\", \"presnt\"), (\"Himanshu\", \"absent\")]"
   ]
  },
  {
   "cell_type": "code",
   "execution_count": 115,
   "id": "ddaa61c7",
   "metadata": {},
   "outputs": [
    {
     "ename": "AttributeError",
     "evalue": "'tuple' object has no attribute 'insert'",
     "output_type": "error",
     "traceback": [
      "\u001b[1;31m---------------------------------------------------------------------------\u001b[0m",
      "\u001b[1;31mAttributeError\u001b[0m                            Traceback (most recent call last)",
      "\u001b[1;32m~\\AppData\\Local\\Temp/ipykernel_23052/3059455960.py\u001b[0m in \u001b[0;36m<module>\u001b[1;34m\u001b[0m\n\u001b[1;32m----> 1\u001b[1;33m \u001b[0mattendance_list\u001b[0m\u001b[1;33m[\u001b[0m\u001b[1;36m0\u001b[0m\u001b[1;33m]\u001b[0m\u001b[1;33m.\u001b[0m\u001b[0minsert\u001b[0m\u001b[1;33m(\u001b[0m\u001b[1;34m\"jdksds\"\u001b[0m\u001b[1;33m)\u001b[0m\u001b[1;33m\u001b[0m\u001b[1;33m\u001b[0m\u001b[0m\n\u001b[0m",
      "\u001b[1;31mAttributeError\u001b[0m: 'tuple' object has no attribute 'insert'"
     ]
    }
   ],
   "source": [
    "attendance_list[0].insert(\"jdksds\")"
   ]
  },
  {
   "cell_type": "code",
   "execution_count": 117,
   "id": "8fe7417a",
   "metadata": {},
   "outputs": [],
   "source": [
    "attendance_list.pop(0)\n",
    "attendance_list.insert(0, (\"Himanshu\", \"present\"))"
   ]
  },
  {
   "cell_type": "code",
   "execution_count": 118,
   "id": "1c847647",
   "metadata": {},
   "outputs": [
    {
     "data": {
      "text/plain": [
       "[('Himanshu', 'present'), ('Himanshu', 'absent')]"
      ]
     },
     "execution_count": 118,
     "metadata": {},
     "output_type": "execute_result"
    }
   ],
   "source": [
    "attendance_list"
   ]
  },
  {
   "cell_type": "markdown",
   "id": "4c66348e",
   "metadata": {},
   "source": [
    "# Dictionaries"
   ]
  },
  {
   "cell_type": "code",
   "execution_count": 122,
   "id": "5ad72ec5",
   "metadata": {},
   "outputs": [],
   "source": [
    "names = [\"Himanshu\", \"Vipin\", \"Shubham\", \"Tiwin\"]\n",
    "attendance = [\"present\", \"absent\", \"present\", \"absent\"]"
   ]
  },
  {
   "cell_type": "code",
   "execution_count": 125,
   "id": "f3e38332",
   "metadata": {},
   "outputs": [
    {
     "name": "stdout",
     "output_type": "stream",
     "text": [
      "Himanshu : present\n",
      "Vipin : absent\n",
      "Shubham : present\n",
      "Tiwin : absent\n"
     ]
    }
   ],
   "source": [
    "for index in range(len(names)):\n",
    "    print(f\"{names[index]} : {attendance[index]}\")"
   ]
  },
  {
   "cell_type": "markdown",
   "id": "a5125272",
   "metadata": {},
   "source": [
    "Dictionary is the key-value pairs"
   ]
  },
  {
   "cell_type": "code",
   "execution_count": 127,
   "id": "8b24b9bc",
   "metadata": {},
   "outputs": [],
   "source": [
    "students_info = {\"Himanshu\":\"present\", \"Himanshu\":\"absent\", \"Shubham\":\"present\"}"
   ]
  },
  {
   "cell_type": "code",
   "execution_count": 128,
   "id": "6b3d7292",
   "metadata": {},
   "outputs": [
    {
     "data": {
      "text/plain": [
       "{'Himanshu': 'absent', 'Shubham': 'present'}"
      ]
     },
     "execution_count": 128,
     "metadata": {},
     "output_type": "execute_result"
    }
   ],
   "source": [
    "students_info"
   ]
  },
  {
   "cell_type": "code",
   "execution_count": 133,
   "id": "8d753d94",
   "metadata": {},
   "outputs": [],
   "source": [
    "students_db = {\"Himanshu\":[\"hsingh\", \"12345\"], \"Vipin\":[\"vpn\", \"234234\"], \"Shubham\":[\"sbm\", \"2345\"]}"
   ]
  },
  {
   "cell_type": "code",
   "execution_count": 131,
   "id": "2b6dfbc8",
   "metadata": {},
   "outputs": [],
   "source": [
    "students_db = {\"Himanshu\":(\"hsingh\", \"12345\"), \"Vipin\":(\"vpn\", \"234234\"), \"Shubham\":(\"sbm\", \"2345\")}"
   ]
  },
  {
   "cell_type": "code",
   "execution_count": 132,
   "id": "15d629af",
   "metadata": {},
   "outputs": [
    {
     "ename": "TypeError",
     "evalue": "unhashable type: 'list'",
     "output_type": "error",
     "traceback": [
      "\u001b[1;31m---------------------------------------------------------------------------\u001b[0m",
      "\u001b[1;31mTypeError\u001b[0m                                 Traceback (most recent call last)",
      "\u001b[1;32m~\\AppData\\Local\\Temp/ipykernel_23052/3375324053.py\u001b[0m in \u001b[0;36m<module>\u001b[1;34m\u001b[0m\n\u001b[1;32m----> 1\u001b[1;33m \u001b[0mstudents_db\u001b[0m \u001b[1;33m=\u001b[0m \u001b[1;33m{\u001b[0m\u001b[1;33m[\u001b[0m\u001b[1;34m\"name\"\u001b[0m\u001b[1;33m,\u001b[0m \u001b[1;34m\"Himanshu\"\u001b[0m\u001b[1;33m]\u001b[0m\u001b[1;33m:\u001b[0m\u001b[1;33m(\u001b[0m\u001b[1;34m\"hsingh\"\u001b[0m\u001b[1;33m,\u001b[0m \u001b[1;34m\"12345\"\u001b[0m\u001b[1;33m)\u001b[0m\u001b[1;33m,\u001b[0m \u001b[1;33m[\u001b[0m\u001b[1;34m\"name\"\u001b[0m\u001b[1;33m,\u001b[0m \u001b[1;34m\"Vipin\"\u001b[0m\u001b[1;33m]\u001b[0m\u001b[1;33m:\u001b[0m\u001b[1;33m(\u001b[0m\u001b[1;34m\"vpn\"\u001b[0m\u001b[1;33m,\u001b[0m \u001b[1;34m\"234234\"\u001b[0m\u001b[1;33m)\u001b[0m\u001b[1;33m,\u001b[0m \u001b[1;33m[\u001b[0m\u001b[1;34m\"name\"\u001b[0m\u001b[1;33m,\u001b[0m \u001b[1;34m\"Shubham\"\u001b[0m\u001b[1;33m]\u001b[0m\u001b[1;33m:\u001b[0m\u001b[1;33m(\u001b[0m\u001b[1;34m\"sbm\"\u001b[0m\u001b[1;33m,\u001b[0m \u001b[1;34m\"2345\"\u001b[0m\u001b[1;33m)\u001b[0m\u001b[1;33m}\u001b[0m\u001b[1;33m\u001b[0m\u001b[1;33m\u001b[0m\u001b[0m\n\u001b[0m",
      "\u001b[1;31mTypeError\u001b[0m: unhashable type: 'list'"
     ]
    }
   ],
   "source": [
    "students_db = {[\"name\", \"Himanshu\"]:(\"hsingh\", \"12345\"), [\"name\", \"Vipin\"]:(\"vpn\", \"234234\"), [\"name\", \"Shubham\"]:(\"sbm\", \"2345\")}"
   ]
  },
  {
   "cell_type": "markdown",
   "id": "153fbd0e",
   "metadata": {},
   "source": [
    "1. Values can be anything (list, tuples, sets, dictionary, strings, integers, etc.)\n",
    "2. Keys should not be data structure of python - list, tuples etc"
   ]
  },
  {
   "cell_type": "code",
   "execution_count": 136,
   "id": "bcf64323",
   "metadata": {},
   "outputs": [
    {
     "data": {
      "text/plain": [
       "['hsingh', '12345']"
      ]
     },
     "execution_count": 136,
     "metadata": {},
     "output_type": "execute_result"
    }
   ],
   "source": [
    "students_db[\"Himanshu\"]"
   ]
  },
  {
   "cell_type": "code",
   "execution_count": 137,
   "id": "fe28d891",
   "metadata": {},
   "outputs": [],
   "source": [
    "username = students_db[\"Himanshu\"][0]\n",
    "password = students_db[\"Himanshu\"][1]"
   ]
  },
  {
   "cell_type": "code",
   "execution_count": 138,
   "id": "c1c62260",
   "metadata": {},
   "outputs": [
    {
     "name": "stdout",
     "output_type": "stream",
     "text": [
      "hsingh 12345\n"
     ]
    }
   ],
   "source": [
    "print(username, password)"
   ]
  },
  {
   "cell_type": "code",
   "execution_count": null,
   "id": "a0857806",
   "metadata": {},
   "outputs": [],
   "source": [
    "# This is just for reference as of now!!\n",
    "\n",
    "def password_match(uname, password):\n",
    "    \"\"\"\n",
    "        Password Match Logic\n",
    "    \"\"\"\n",
    "    \n",
    "password_match(username, password)"
   ]
  },
  {
   "cell_type": "code",
   "execution_count": 139,
   "id": "090d0100",
   "metadata": {},
   "outputs": [
    {
     "data": {
      "text/plain": [
       "dict_items([('Himanshu', ['hsingh', '12345']), ('Vipin', ['vpn', '234234']), ('Shubham', ['sbm', '2345'])])"
      ]
     },
     "execution_count": 139,
     "metadata": {},
     "output_type": "execute_result"
    }
   ],
   "source": [
    "students_db.items()"
   ]
  },
  {
   "cell_type": "code",
   "execution_count": 140,
   "id": "5fd82138",
   "metadata": {},
   "outputs": [
    {
     "data": {
      "text/plain": [
       "dict_keys(['Himanshu', 'Vipin', 'Shubham'])"
      ]
     },
     "execution_count": 140,
     "metadata": {},
     "output_type": "execute_result"
    }
   ],
   "source": [
    "students_db.keys()"
   ]
  },
  {
   "cell_type": "code",
   "execution_count": 141,
   "id": "e683fcc9",
   "metadata": {},
   "outputs": [
    {
     "data": {
      "text/plain": [
       "dict_values([['hsingh', '12345'], ['vpn', '234234'], ['sbm', '2345']])"
      ]
     },
     "execution_count": 141,
     "metadata": {},
     "output_type": "execute_result"
    }
   ],
   "source": [
    "students_db.values()"
   ]
  },
  {
   "cell_type": "code",
   "execution_count": 143,
   "id": "485789d0",
   "metadata": {},
   "outputs": [],
   "source": [
    "students_info = {\"Himanshu\":\"present\", \"Vipin\":\"absent\", \"Shubham\":\"present\"}"
   ]
  },
  {
   "cell_type": "code",
   "execution_count": 144,
   "id": "963d6a1a",
   "metadata": {},
   "outputs": [],
   "source": [
    "for key in students_info.keys():\n",
    "    students_info[key] = \"present\""
   ]
  },
  {
   "cell_type": "code",
   "execution_count": 145,
   "id": "761ac0c5",
   "metadata": {},
   "outputs": [
    {
     "data": {
      "text/plain": [
       "{'Himanshu': 'present', 'Vipin': 'present', 'Shubham': 'present'}"
      ]
     },
     "execution_count": 145,
     "metadata": {},
     "output_type": "execute_result"
    }
   ],
   "source": [
    "students_info"
   ]
  },
  {
   "cell_type": "code",
   "execution_count": 146,
   "id": "3390082a",
   "metadata": {},
   "outputs": [
    {
     "data": {
      "text/plain": [
       "'present'"
      ]
     },
     "execution_count": 146,
     "metadata": {},
     "output_type": "execute_result"
    }
   ],
   "source": [
    "#Read operation. Gives the values present at the key index\n",
    "students_info[\"Himanshu\"]"
   ]
  },
  {
   "cell_type": "code",
   "execution_count": 147,
   "id": "69df6543",
   "metadata": {},
   "outputs": [],
   "source": [
    "#Write operation wich replaces the value present at key index\n",
    "students_info[\"Himanshu\"] = \"absent\""
   ]
  },
  {
   "cell_type": "code",
   "execution_count": 148,
   "id": "5c333290",
   "metadata": {},
   "outputs": [
    {
     "data": {
      "text/plain": [
       "'absent'"
      ]
     },
     "execution_count": 148,
     "metadata": {},
     "output_type": "execute_result"
    }
   ],
   "source": [
    "students_info[\"Himanshu\"]"
   ]
  },
  {
   "cell_type": "code",
   "execution_count": 153,
   "id": "0d77dc86",
   "metadata": {},
   "outputs": [],
   "source": [
    "students_info.update({\"Sachin\":\"absent\"})"
   ]
  },
  {
   "cell_type": "code",
   "execution_count": 154,
   "id": "ed6ea35b",
   "metadata": {},
   "outputs": [],
   "source": [
    "students_info.update({\"Himanshu\":\"a\"})"
   ]
  },
  {
   "cell_type": "code",
   "execution_count": 157,
   "id": "e5aa3d3e",
   "metadata": {},
   "outputs": [
    {
     "data": {
      "text/plain": [
       "{'Himanshu': '', 'Vipin': 'present', 'Shubham': 'present', 'Sachin': 'absent'}"
      ]
     },
     "execution_count": 157,
     "metadata": {},
     "output_type": "execute_result"
    }
   ],
   "source": [
    "students_info"
   ]
  },
  {
   "cell_type": "code",
   "execution_count": 156,
   "id": "ce087b7c",
   "metadata": {},
   "outputs": [],
   "source": [
    "students_info[\"Himanshu\"]=\"\""
   ]
  },
  {
   "cell_type": "code",
   "execution_count": 158,
   "id": "9865c473",
   "metadata": {},
   "outputs": [
    {
     "name": "stdout",
     "output_type": "stream",
     "text": [
      "Himanshu\n",
      "Vipin\n",
      "Shubham\n",
      "Sachin\n"
     ]
    }
   ],
   "source": [
    "for key in students_info.keys():\n",
    "    print(key)"
   ]
  },
  {
   "cell_type": "code",
   "execution_count": null,
   "id": "2be47b33",
   "metadata": {},
   "outputs": [],
   "source": []
  }
 ],
 "metadata": {
  "kernelspec": {
   "display_name": "Python 3 (ipykernel)",
   "language": "python",
   "name": "python3"
  },
  "language_info": {
   "codemirror_mode": {
    "name": "ipython",
    "version": 3
   },
   "file_extension": ".py",
   "mimetype": "text/x-python",
   "name": "python",
   "nbconvert_exporter": "python",
   "pygments_lexer": "ipython3",
   "version": "3.9.7"
  }
 },
 "nbformat": 4,
 "nbformat_minor": 5
}
