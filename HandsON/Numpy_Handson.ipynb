{
  "nbformat": 4,
  "nbformat_minor": 0,
  "metadata": {
    "colab": {
      "provenance": []
    },
    "kernelspec": {
      "name": "python3",
      "display_name": "Python 3"
    },
    "language_info": {
      "name": "python"
    }
  },
  "cells": [
    {
      "cell_type": "markdown",
      "source": [
        "# Numpy Handson\n",
        "\n",
        "Numpy means Numerical Python\n",
        "\n",
        "Numpy was created by Travis Oliphant in the year 2005"
      ],
      "metadata": {
        "id": "PYQB-OWm6Pn8"
      }
    },
    {
      "cell_type": "markdown",
      "source": [
        "# 1. Create a numpy array with numpy.array module and with a data type integer and float."
      ],
      "metadata": {
        "id": "bNTwvxBp7h_n"
      }
    },
    {
      "cell_type": "code",
      "source": [
        "import numpy as np\n",
        "\n",
        "a=np.array([1,2,3,4,500,600,700,800] ,dtype=\"int\" )\n",
        "print(a)"
      ],
      "metadata": {
        "colab": {
          "base_uri": "https://localhost:8080/"
        },
        "id": "FLgCI0WN7jJA",
        "outputId": "c3ac54ed-1617-46a7-d3c2-9a9660384fad"
      },
      "execution_count": 1,
      "outputs": [
        {
          "output_type": "stream",
          "name": "stdout",
          "text": [
            "[  1   2   3   4 500 600 700 800]\n"
          ]
        }
      ]
    },
    {
      "cell_type": "code",
      "source": [
        "a=np.array([1,2,3,4,500,600,700,800] ,dtype=\"float\" )\n",
        "print(a)"
      ],
      "metadata": {
        "colab": {
          "base_uri": "https://localhost:8080/"
        },
        "id": "LVeUIQ877vlx",
        "outputId": "0992e173-8a7b-4e7b-9bc9-2dad5d05272a"
      },
      "execution_count": 5,
      "outputs": [
        {
          "output_type": "stream",
          "name": "stdout",
          "text": [
            "[  1.   2.   3.   4. 500. 600. 700. 800.]\n"
          ]
        }
      ]
    },
    {
      "cell_type": "code",
      "source": [
        "print(1.0)"
      ],
      "metadata": {
        "colab": {
          "base_uri": "https://localhost:8080/"
        },
        "id": "ojvvKdil8_hZ",
        "outputId": "ced72e27-12e8-4007-9803-c372f3615229"
      },
      "execution_count": 3,
      "outputs": [
        {
          "output_type": "stream",
          "name": "stdout",
          "text": [
            "1.0\n"
          ]
        }
      ]
    },
    {
      "cell_type": "code",
      "source": [
        "# if our array contains decimals and dtype is given as int, will rounding takes place?\n",
        "\n",
        "arr1=np.array([12.5 , 45.55 , 999.999 , 120 , 5,6,7 ] ,dtype=\"int\")\n",
        "print(arr1)\n",
        "\n",
        "# Without Rounding\n",
        "\n",
        "print(arr1.ndim)"
      ],
      "metadata": {
        "colab": {
          "base_uri": "https://localhost:8080/"
        },
        "id": "_fqiHSp29drt",
        "outputId": "13755598-cc77-41e2-d6ef-caac5d2018a6"
      },
      "execution_count": 10,
      "outputs": [
        {
          "output_type": "stream",
          "name": "stdout",
          "text": [
            "[ 12  45 999 120   5   6   7]\n",
            "1\n"
          ]
        }
      ]
    },
    {
      "cell_type": "markdown",
      "source": [
        "# 2. Create numpy arrays that have zero, one, two, three, Four dimensions respectively. Also, print the shape and dimensions of the numpy arrays created above.\n"
      ],
      "metadata": {
        "id": "pY0i4coq-NjS"
      }
    },
    {
      "cell_type": "code",
      "source": [
        "'''\n",
        "The dimensionality of array depends on Number of square bracket your are using.\n",
        "'''"
      ],
      "metadata": {
        "id": "86FAlIc4_Tae"
      },
      "execution_count": null,
      "outputs": []
    },
    {
      "cell_type": "code",
      "source": [
        "# 0d array\n",
        "arr=np.array(120)\n",
        "print(arr)\n",
        "\n",
        "print(arr.shape)  # to check the shape\n",
        "print(arr.ndim)  # to check the dimensionality of the array"
      ],
      "metadata": {
        "colab": {
          "base_uri": "https://localhost:8080/"
        },
        "id": "bxPTFdvz-Q2o",
        "outputId": "f8b0eba7-d606-47d1-fcb7-863764e74ad1"
      },
      "execution_count": 13,
      "outputs": [
        {
          "output_type": "stream",
          "name": "stdout",
          "text": [
            "120\n",
            "()\n",
            "0\n"
          ]
        }
      ]
    },
    {
      "cell_type": "code",
      "source": [
        "# Empty 2d array\n",
        "arr2=np.array([[  ]])\n",
        "print(arr2.ndim)\n",
        "\n",
        "# Empty 3d array\n",
        "arr3=np.array([[[  ]]])\n",
        "print(arr3.ndim)"
      ],
      "metadata": {
        "colab": {
          "base_uri": "https://localhost:8080/"
        },
        "id": "5fqnEqiAAPOc",
        "outputId": "eba8c5e6-9b34-4a8b-c27a-ff8bf114abba"
      },
      "execution_count": 12,
      "outputs": [
        {
          "output_type": "stream",
          "name": "stdout",
          "text": [
            "2\n",
            "3\n"
          ]
        }
      ]
    },
    {
      "cell_type": "code",
      "source": [
        "# 1d array\n",
        "arr1=np.array([1,2,3,4.4 , 5.5 , 6.6])\n",
        "print(arr1.shape)\n",
        "print(arr1.ndim)"
      ],
      "metadata": {
        "colab": {
          "base_uri": "https://localhost:8080/"
        },
        "id": "nJSLXcMxA5B3",
        "outputId": "ba78dce4-2ca4-4396-8f4e-424c1a0cbef9"
      },
      "execution_count": 14,
      "outputs": [
        {
          "output_type": "stream",
          "name": "stdout",
          "text": [
            "(6,)\n",
            "1\n"
          ]
        }
      ]
    },
    {
      "cell_type": "code",
      "source": [
        "# 2d array\n",
        "arr2d = np.array([ [1,2,3],[4,5,6]])\n",
        "print(arr2d)\n",
        "\n",
        "print(arr2d.shape)  # ( no of rows , no of columns)\n",
        "print(arr2d.ndim)"
      ],
      "metadata": {
        "colab": {
          "base_uri": "https://localhost:8080/"
        },
        "id": "dxEz6jGVBSlM",
        "outputId": "d3959bf4-b3dd-4c6d-9e4a-05b896b4acf6"
      },
      "execution_count": 15,
      "outputs": [
        {
          "output_type": "stream",
          "name": "stdout",
          "text": [
            "[[1 2 3]\n",
            " [4 5 6]]\n",
            "(2, 3)\n",
            "2\n"
          ]
        }
      ]
    },
    {
      "cell_type": "code",
      "source": [
        "#3d array  ( Combine more than 1 2d array to create a 3d array)\n",
        "\n",
        "arr3=np.array([  [[1,2,3],[4,5,6]]  , [[11,22,33],[44,55,66]] ])\n",
        "print(arr3)\n",
        "print(arr3.ndim)\n",
        "\n",
        "print(arr3.shape)   #( no of 2d array used , no of rows , no of columns)"
      ],
      "metadata": {
        "colab": {
          "base_uri": "https://localhost:8080/"
        },
        "id": "gCDWvlLHC0dB",
        "outputId": "9aa8858e-c8ac-4784-f463-3d512403e167"
      },
      "execution_count": 18,
      "outputs": [
        {
          "output_type": "stream",
          "name": "stdout",
          "text": [
            "[[[ 1  2  3]\n",
            "  [ 4  5  6]]\n",
            "\n",
            " [[11 22 33]\n",
            "  [44 55 66]]]\n",
            "3\n",
            "(2, 2, 3)\n"
          ]
        }
      ]
    },
    {
      "cell_type": "code",
      "source": [
        "# 4d array  ( combine more than 1 3d array)\n",
        "\n",
        "# Homework\n",
        "\n",
        "# arr4.shape     #( no of 3d arrays used (layers),  no of 2d array inside 3d array , no of rows , no of columns)"
      ],
      "metadata": {
        "id": "fOUALBz6EAdb"
      },
      "execution_count": null,
      "outputs": []
    },
    {
      "cell_type": "markdown",
      "source": [
        "# 3. Create a 2x3, 3x3, and 4x4 identity matrix using numpy.\n"
      ],
      "metadata": {
        "id": "fKD8bg1wFEPJ"
      }
    },
    {
      "cell_type": "code",
      "source": [
        "# 2x2 meand 2 rows 2 columns\n",
        "# 3x3 means 3 rows 3 columns\n",
        "\n",
        "# Identity matrix means all diagonal elements will be 1 and all Non-diagonal elemets will be 0\n",
        "\n",
        "arr2=np.identity(2)  # 2x2\n",
        "print(arr2)\n",
        "\n",
        "arr3=np.identity(3)  # 3x3\n",
        "print(arr3)\n",
        "\n",
        "arr4=np.identity(4,dtype=\"int\")  #4x4\n",
        "print(arr4)"
      ],
      "metadata": {
        "colab": {
          "base_uri": "https://localhost:8080/"
        },
        "id": "7a5dCB7KFFBd",
        "outputId": "6574c4a2-c872-4963-a7c6-4a510c0032fd"
      },
      "execution_count": 22,
      "outputs": [
        {
          "output_type": "stream",
          "name": "stdout",
          "text": [
            "[[1. 0.]\n",
            " [0. 1.]]\n",
            "[[1. 0. 0.]\n",
            " [0. 1. 0.]\n",
            " [0. 0. 1.]]\n",
            "[[1 0 0 0]\n",
            " [0 1 0 0]\n",
            " [0 0 1 0]\n",
            " [0 0 0 1]]\n"
          ]
        }
      ]
    },
    {
      "cell_type": "markdown",
      "source": [
        "# 4. Create a numpy array with shape 2x5 that has all the elements as zero."
      ],
      "metadata": {
        "id": "vK9-EBfbGN3-"
      }
    },
    {
      "cell_type": "code",
      "source": [
        "k=np.zeros( (2,5),dtype=\"int\")\n",
        "print(k)"
      ],
      "metadata": {
        "colab": {
          "base_uri": "https://localhost:8080/"
        },
        "id": "UaEyQDbQGYVl",
        "outputId": "cde63458-38af-4518-cb9c-de3a324f25f6"
      },
      "execution_count": 24,
      "outputs": [
        {
          "output_type": "stream",
          "name": "stdout",
          "text": [
            "[[0 0 0 0 0]\n",
            " [0 0 0 0 0]]\n"
          ]
        }
      ]
    },
    {
      "cell_type": "markdown",
      "source": [
        "# 5. Create a numpy array that has the shape 3x5 and all the elements are 5.\n"
      ],
      "metadata": {
        "id": "7lQBUwWGHIB7"
      }
    },
    {
      "cell_type": "code",
      "source": [
        "# np.full is used to create array of any shape but all the elements as same\n",
        "\n",
        "x= np.full( (3,5) , 5)    #(  (shape), element that you want)\n",
        "print(x)"
      ],
      "metadata": {
        "colab": {
          "base_uri": "https://localhost:8080/"
        },
        "id": "3UsmwAxbHIwj",
        "outputId": "8a6dd7ef-ed58-42f5-d9f3-14a350b8443d"
      },
      "execution_count": 28,
      "outputs": [
        {
          "output_type": "stream",
          "name": "stdout",
          "text": [
            "[[5 5 5 5 5]\n",
            " [5 5 5 5 5]\n",
            " [5 5 5 5 5]]\n"
          ]
        }
      ]
    },
    {
      "cell_type": "markdown",
      "source": [
        "# 7. Create a numpy array with a shape 3x3 that has all elements as 1.\n"
      ],
      "metadata": {
        "id": "ZE93GaQBHw5e"
      }
    },
    {
      "cell_type": "code",
      "source": [
        "# 1st Method\n",
        "\n",
        "# Homework try by using np.full"
      ],
      "metadata": {
        "id": "q3im2MoNILae"
      },
      "execution_count": null,
      "outputs": []
    },
    {
      "cell_type": "code",
      "source": [
        "#2nd Methods\n",
        "h=np.ones((3,3))\n",
        "print(h)"
      ],
      "metadata": {
        "colab": {
          "base_uri": "https://localhost:8080/"
        },
        "id": "lDAorxUkIVyn",
        "outputId": "ce11ab26-18e1-4aea-9c53-cfb672ad8aca"
      },
      "execution_count": 29,
      "outputs": [
        {
          "output_type": "stream",
          "name": "stdout",
          "text": [
            "[[1. 1. 1.]\n",
            " [1. 1. 1.]\n",
            " [1. 1. 1.]]\n"
          ]
        }
      ]
    },
    {
      "cell_type": "markdown",
      "source": [
        "# 6. Create a numpy array with random integers in the range 0-100, and the sample size should be 25"
      ],
      "metadata": {
        "id": "UooyKkbtIm3H"
      }
    },
    {
      "cell_type": "code",
      "source": [
        "arr=np.random.randint( 0,100,25 )    # (start , end , how many numbers you want )\n",
        "print(arr)\n",
        "\n",
        "# rehape it to 2d array from 1d array\n",
        "newarr = arr.reshape(5,5)\n",
        "print(newarr)"
      ],
      "metadata": {
        "colab": {
          "base_uri": "https://localhost:8080/"
        },
        "id": "4ZgmqJoYIqCb",
        "outputId": "d40de2a8-c6f1-4748-b303-c01924dfa8e1"
      },
      "execution_count": 34,
      "outputs": [
        {
          "output_type": "stream",
          "name": "stdout",
          "text": [
            "[94 48 72 14 35 29 83 11 23 63  8 36 59 42  5 58 66  2  5 51 14 76 48 50\n",
            " 50]\n",
            "[[94 48 72 14 35]\n",
            " [29 83 11 23 63]\n",
            " [ 8 36 59 42  5]\n",
            " [58 66  2  5 51]\n",
            " [14 76 48 50 50]]\n"
          ]
        }
      ]
    },
    {
      "cell_type": "code",
      "source": [
        "# directly create numpy array of shape 5,5 with random numbers between 0-100\n",
        "arr=np.random.randint(0,100 ,size=(5,5))\n",
        "print(arr)"
      ],
      "metadata": {
        "colab": {
          "base_uri": "https://localhost:8080/"
        },
        "id": "bMQ_xlbrKRWO",
        "outputId": "483c2b7b-e8d1-4111-db12-3a8830cfd4dc"
      },
      "execution_count": 38,
      "outputs": [
        {
          "output_type": "stream",
          "name": "stdout",
          "text": [
            "[[67 38  3 70 37]\n",
            " [32 73 98  1 24]\n",
            " [19 91 80 47 52]\n",
            " [87 90 12 48 10]\n",
            " [43 70 39 72 93]]\n"
          ]
        }
      ]
    },
    {
      "cell_type": "markdown",
      "source": [
        "# 8. Create a numpy array in the shape 2x3 with random integers in the range 0-100. Reshape the array in the shape 3x2 and print the updated shape of the resultant array.\n"
      ],
      "metadata": {
        "id": "ygVnycL5LJXd"
      }
    },
    {
      "cell_type": "code",
      "source": [
        "# Homework"
      ],
      "metadata": {
        "id": "Og5HR7x6LPKQ"
      },
      "execution_count": null,
      "outputs": []
    },
    {
      "cell_type": "markdown",
      "source": [
        "# 9.\n",
        "# step 1.Create a random array, with the range 0-1000, with a size 50\n",
        "# step 2. Perform the following operations on the same.\n",
        "#a. Print the first ten elements of the array.\n",
        "#b. Print the last ten elements of the array\n",
        "#c. Print the elements from the indexes 10-25\n",
        "#d. Print the element at the index 22\n",
        "#e. Print the array using negative indexing.\n",
        "#f. Print the last ten elements of the array, using negative indexing."
      ],
      "metadata": {
        "id": "mWD-vBouLjeF"
      }
    },
    {
      "cell_type": "code",
      "source": [
        "arr=np.random.randint(0,1000,50)\n",
        "print(arr)"
      ],
      "metadata": {
        "colab": {
          "base_uri": "https://localhost:8080/"
        },
        "id": "gDxK1KkzPrkc",
        "outputId": "5f812ae1-4ee7-4bac-87e4-83d0cfee116c"
      },
      "execution_count": 42,
      "outputs": [
        {
          "output_type": "stream",
          "name": "stdout",
          "text": [
            "[697 916 923 444 382 170 664 984 778 901 813 747 986  45 349 499 416 678\n",
            " 960 252 939 284 924 699 534 821  38 364  19 523 425 426 516 348  47 264\n",
            " 474 711 464 611 886 768 714 718 692  10 598 475 658 258]\n"
          ]
        }
      ]
    },
    {
      "cell_type": "code",
      "source": [
        "#a Print the first ten elements of the array.\n",
        "# Slicing operaton\n",
        "\n",
        "print(arr[0 : 10 ])    #[start: end]"
      ],
      "metadata": {
        "colab": {
          "base_uri": "https://localhost:8080/"
        },
        "id": "BesbEGrFPj_2",
        "outputId": "76474506-423e-4460-d4b3-623797a8bcd4"
      },
      "execution_count": 43,
      "outputs": [
        {
          "output_type": "stream",
          "name": "stdout",
          "text": [
            "[697 916 923 444 382 170 664 984 778 901]\n"
          ]
        }
      ]
    },
    {
      "cell_type": "code",
      "source": [
        "#b Print the last ten elements of the array\n",
        "\n",
        "print(arr[ 40: ])\n",
        "print(arr[-10: ])"
      ],
      "metadata": {
        "colab": {
          "base_uri": "https://localhost:8080/"
        },
        "id": "VB1DWBiSQhjF",
        "outputId": "ddba778c-b097-4afa-ba75-0059e5c3fc60"
      },
      "execution_count": 48,
      "outputs": [
        {
          "output_type": "stream",
          "name": "stdout",
          "text": [
            "[886 768 714 718 692  10 598 475 658 258]\n",
            "[886 768 714 718 692  10 598 475 658 258]\n"
          ]
        }
      ]
    },
    {
      "cell_type": "code",
      "source": [
        "#c. Print the elements from the indexes 10 to 25\n",
        "\n",
        "print(arr[10:26])   # (start index : end index +1 )"
      ],
      "metadata": {
        "colab": {
          "base_uri": "https://localhost:8080/"
        },
        "id": "1SC6qLM3Rhvu",
        "outputId": "dd319177-9ff0-46c3-fb48-96cbcada465a"
      },
      "execution_count": 49,
      "outputs": [
        {
          "output_type": "stream",
          "name": "stdout",
          "text": [
            "[813 747 986  45 349 499 416 678 960 252 939 284 924 699 534 821]\n"
          ]
        }
      ]
    },
    {
      "cell_type": "code",
      "source": [
        "# code check\n",
        "random1000=np.random.randint(0,1000,50)\n",
        "print(random1000)\n",
        "print(random1000[-10:])#[start:end]\n",
        "print(random1000[40:])#[start:end]"
      ],
      "metadata": {
        "colab": {
          "base_uri": "https://localhost:8080/"
        },
        "id": "RJMXQhoPSFxs",
        "outputId": "5e23e6d6-1911-42da-8d93-f777469e094d"
      },
      "execution_count": 51,
      "outputs": [
        {
          "output_type": "stream",
          "name": "stdout",
          "text": [
            "[479 988 892 486 904 360 387 869 145 447 694 550 248 214 452 442 527 927\n",
            " 756 367 813 155 202 100  41 722 786 723 393 188 979  68 853 341 247 963\n",
            " 459 210 485 399 465  75 595 601 920 498  59 227 936 640]\n",
            "[465  75 595 601 920 498  59 227 936 640]\n",
            "[465  75 595 601 920 498  59 227 936 640]\n"
          ]
        }
      ]
    },
    {
      "cell_type": "code",
      "source": [
        "# d Print the element at the index 22\n",
        "\n",
        "print(arr[22])   # Indexing operation"
      ],
      "metadata": {
        "colab": {
          "base_uri": "https://localhost:8080/"
        },
        "id": "jsCZAHKmS6Ha",
        "outputId": "2bdad319-5206-49bf-a8c0-29dae50cd54a"
      },
      "execution_count": 52,
      "outputs": [
        {
          "output_type": "stream",
          "name": "stdout",
          "text": [
            "924\n"
          ]
        }
      ]
    },
    {
      "cell_type": "code",
      "source": [
        "# e. Print the array using negative indexing.\n",
        "\n",
        "print(arr[-50 : ])   # start : end +1"
      ],
      "metadata": {
        "colab": {
          "base_uri": "https://localhost:8080/"
        },
        "id": "05_nmTJKTXqO",
        "outputId": "1bd8739a-1b56-430f-ab78-434b17cbc64f"
      },
      "execution_count": 53,
      "outputs": [
        {
          "output_type": "stream",
          "name": "stdout",
          "text": [
            "[697 916 923 444 382 170 664 984 778 901 813 747 986  45 349 499 416 678\n",
            " 960 252 939 284 924 699 534 821  38 364  19 523 425 426 516 348  47 264\n",
            " 474 711 464 611 886 768 714 718 692  10 598 475 658 258]\n"
          ]
        }
      ]
    },
    {
      "cell_type": "code",
      "source": [
        "#f Print the last ten elements of the array, using negative indexing.\n",
        "print(arr[-10: ])"
      ],
      "metadata": {
        "colab": {
          "base_uri": "https://localhost:8080/"
        },
        "id": "muEsinXdUBEw",
        "outputId": "0940a2f8-8c96-4915-eb17-635d24d508d4"
      },
      "execution_count": 54,
      "outputs": [
        {
          "output_type": "stream",
          "name": "stdout",
          "text": [
            "[886 768 714 718 692  10 598 475 658 258]\n"
          ]
        }
      ]
    },
    {
      "cell_type": "markdown",
      "source": [
        "# 10. Given a numpy array that has values = [1,2,3,4,5]. Perform the following operations.\n",
        "#a. Insert the element 6 at the end of the array.\n",
        "#b. Insert the element 10 at the beginning of the array.\n",
        "#c. Insert the element 30, before 4.\n",
        "#d. Update the element 5 as 50.\n",
        "#e. Delete the element 50 in the updated array.\n",
        "#f. Create a function to search for the element 30.\n",
        "#g. Sort the array in ascending order."
      ],
      "metadata": {
        "id": "geCH19SFUdia"
      }
    },
    {
      "cell_type": "code",
      "source": [
        "arr=np.array([1,2,3,4,5])\n",
        "print(arr)"
      ],
      "metadata": {
        "colab": {
          "base_uri": "https://localhost:8080/"
        },
        "id": "Uh-mbBo1UiWr",
        "outputId": "f56e99de-40d0-44b7-dc0e-e457ec5686ac"
      },
      "execution_count": 69,
      "outputs": [
        {
          "output_type": "stream",
          "name": "stdout",
          "text": [
            "[1 2 3 4 5]\n"
          ]
        }
      ]
    },
    {
      "cell_type": "code",
      "source": [
        "# a. Insert the element 6 at the end of the array.\n",
        "\n",
        "newarr=np.append(arr,6)    #( arr in which you want to insert , element you want to insert)\n",
        "\n",
        "print(newarr)"
      ],
      "metadata": {
        "colab": {
          "base_uri": "https://localhost:8080/"
        },
        "id": "fQ7rw3utUtz6",
        "outputId": "7844178f-7dbe-4295-c8fa-0b3cfb2ffa86"
      },
      "execution_count": 70,
      "outputs": [
        {
          "output_type": "stream",
          "name": "stdout",
          "text": [
            "[1 2 3 4 5 6]\n"
          ]
        }
      ]
    },
    {
      "cell_type": "code",
      "source": [
        "#b Insert the element 10 at the beginning of the array.\n",
        "\n",
        "arr2=np.insert(newarr , 0 , 10 )   # (arr name , position , element)\n",
        "print(arr2)"
      ],
      "metadata": {
        "colab": {
          "base_uri": "https://localhost:8080/"
        },
        "id": "1ckTrSwfVYkJ",
        "outputId": "e8ebf28e-24e5-4a61-dce5-394296c32abd"
      },
      "execution_count": 71,
      "outputs": [
        {
          "output_type": "stream",
          "name": "stdout",
          "text": [
            "[10  1  2  3  4  5  6]\n"
          ]
        }
      ]
    },
    {
      "cell_type": "code",
      "source": [
        "#c Insert the element 30, before  the element 4\n",
        "\n",
        "#new=np.insert(arr2 ,4 ,30 )\n",
        "\n",
        "position=np.where(arr2==4)[0]\n",
        "new=np.insert(arr2 ,position ,30 )\n",
        "print(new)"
      ],
      "metadata": {
        "colab": {
          "base_uri": "https://localhost:8080/"
        },
        "id": "rEL0isTiWABL",
        "outputId": "85354f83-dad0-4ebb-a0ae-32b307e47a4c"
      },
      "execution_count": 74,
      "outputs": [
        {
          "output_type": "stream",
          "name": "stdout",
          "text": [
            "[10  1  2  3 30  4  5  6]\n"
          ]
        }
      ]
    },
    {
      "cell_type": "code",
      "source": [
        "# How to search for index of any element in array\n",
        "\n",
        "arr=np.array([3,45,643,78,5,6,7,8,9,10,12,34,56,78,98])\n",
        "# I want to search the index of 56\n",
        "print(np.where(arr==643))\n",
        "\n",
        "\n",
        "# If there are more than 1\n",
        "arr=np.array([3,45,643,78,5,6,7,8,9,643,10,12,34,56,78,98,643])\n",
        "print(np.where(arr==643))"
      ],
      "metadata": {
        "colab": {
          "base_uri": "https://localhost:8080/"
        },
        "id": "XbRiGWPJW7Ub",
        "outputId": "7ed1e630-4096-463e-af13-5f328c558cd0"
      },
      "execution_count": 75,
      "outputs": [
        {
          "output_type": "stream",
          "name": "stdout",
          "text": [
            "(array([2]),)\n",
            "(array([ 2,  9, 16]),)\n"
          ]
        }
      ]
    },
    {
      "cell_type": "code",
      "source": [
        "#d Update the element at index 5 as 50.\n",
        "print(new)\n",
        "\n",
        "new[5]=50\n",
        "print(new)"
      ],
      "metadata": {
        "colab": {
          "base_uri": "https://localhost:8080/"
        },
        "id": "50aG-dAgX7ic",
        "outputId": "08eed2ee-b654-4b63-81f3-93b37f7bbae7"
      },
      "execution_count": 76,
      "outputs": [
        {
          "output_type": "stream",
          "name": "stdout",
          "text": [
            "[10  1  2  3 30  4  5  6]\n",
            "[10  1  2  3 30 50  5  6]\n"
          ]
        }
      ]
    },
    {
      "cell_type": "code",
      "source": [
        "# e Delete the element 50 in the updated array.\n",
        "\n",
        "newarr= np.delete(new,np.where(new==50)[0])   #( name of array from which you want to delete , position of element that you want to delete)\n",
        "print(newarr)"
      ],
      "metadata": {
        "colab": {
          "base_uri": "https://localhost:8080/"
        },
        "id": "nYxxhg4uY1ML",
        "outputId": "ea7efe01-e332-4987-d120-0fcbb8ca6d9d"
      },
      "execution_count": 78,
      "outputs": [
        {
          "output_type": "stream",
          "name": "stdout",
          "text": [
            "[10  1  2  3 30  5  6]\n"
          ]
        }
      ]
    },
    {
      "cell_type": "code",
      "source": [
        "# Create a function to search for the element 30.\n",
        "\n",
        "def search(newarr):\n",
        "  for i in newarr:\n",
        "    if i==30:\n",
        "      print(\"present\")\n",
        "\n",
        "search(newarr)"
      ],
      "metadata": {
        "colab": {
          "base_uri": "https://localhost:8080/"
        },
        "id": "_3pOLPYHaAt7",
        "outputId": "f4b74580-bbb8-40e0-f94b-0152609534cb"
      },
      "execution_count": 81,
      "outputs": [
        {
          "output_type": "stream",
          "name": "stdout",
          "text": [
            "present\n"
          ]
        }
      ]
    },
    {
      "cell_type": "code",
      "source": [
        "# g. Sort the array in ascending order.\n",
        "\n",
        "newarr.sort()\n",
        "\n",
        "print(newarr)"
      ],
      "metadata": {
        "colab": {
          "base_uri": "https://localhost:8080/"
        },
        "id": "ChOdOKv8a-pO",
        "outputId": "37be75cd-dc63-43e3-a58e-fba378a0742c"
      },
      "execution_count": 82,
      "outputs": [
        {
          "output_type": "stream",
          "name": "stdout",
          "text": [
            "[ 1  2  3  5  6 10 30]\n"
          ]
        }
      ]
    },
    {
      "cell_type": "code",
      "source": [
        "# sort in descending order\n",
        "\n",
        "descending_array=np.sort(newarr)[::-1]\n",
        "\n",
        "print(descending_array)"
      ],
      "metadata": {
        "colab": {
          "base_uri": "https://localhost:8080/"
        },
        "id": "10ynStplbacx",
        "outputId": "88890af7-182d-4356-8d33-fa9ab3b06489"
      },
      "execution_count": 87,
      "outputs": [
        {
          "output_type": "stream",
          "name": "stdout",
          "text": [
            "[30 10  6  5  3  2  1]\n"
          ]
        }
      ]
    }
  ]
}